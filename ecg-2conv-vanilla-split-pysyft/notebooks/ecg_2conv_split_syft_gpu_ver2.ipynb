{
  "cells": [
    {
      "cell_type": "code",
      "source": [
        "from pathlib import Path\n",
        "import h5py\n",
        "import numpy as np\n",
        "import matplotlib.pyplot as plt\n",
        "from icecream import ic\n",
        "from tqdm import tqdm\n",
        "\n",
        "import torch\n",
        "import torch.nn as nn\n",
        "from torch.utils.data import Dataset, DataLoader\n",
        "from torch.optim import Adam, SGD\n",
        "\n",
        "import syft as sy\n",
        "from syft.core.node.vm.vm import VirtualMachine\n",
        "from syft.core.node.vm.client import VirtualMachineClient\n",
        "from syft.ast.module import Module\n",
        "from syft.core.remote_dataloader import RemoteDataLoader\n",
        "from syft.core.remote_dataloader import RemoteDataset\n",
        "\n",
        "print(f'torch version: {torch.__version__}')\n",
        "print(f'syft version: {sy.__version__}')\n"
      ],
      "outputs": [
        {
          "output_type": "stream",
          "name": "stdout",
          "text": "torch version: 1.8.1+cu102\nsyft version: 0.5.0\n"
        }
      ],
      "execution_count": 1,
      "metadata": {
        "gather": {
          "logged": 1631797265873
        }
      }
    },
    {
      "cell_type": "markdown",
      "source": [
        "## Files and Directories"
      ],
      "metadata": {}
    },
    {
      "cell_type": "code",
      "source": [
        "# paths to files and directories\n",
        "project_path = Path.cwd().parent\n",
        "print(f'project_path: {project_path}')\n",
        "data_dir = 'mitdb'\n",
        "train_name = 'train_ecg.hdf5'\n",
        "test_name = 'test_ecg.hdf5'\n",
        "all_name = 'all_ecg.hdf5'\n",
        "model_dir = 'model'\n",
        "model_name = 'conv2'\n",
        "model_ext = '.pth'\n",
        "csv_dir = 'csv'\n",
        "csv_ext = '.csv'\n",
        "csv_name = 'conv2'\n",
        "csv_accs_name = 'accs_conv2'"
      ],
      "outputs": [
        {
          "output_type": "stream",
          "name": "stdout",
          "text": "project_path: /mnt/batch/tasks/shared/LS_root/mounts/clusters/teslak80-56gbram/code/Users/dkn.work/split-learning-he\n"
        }
      ],
      "execution_count": 2,
      "metadata": {
        "jupyter": {
          "source_hidden": false,
          "outputs_hidden": false
        },
        "nteract": {
          "transient": {
            "deleting": false
          }
        },
        "gather": {
          "logged": 1631797266264
        }
      }
    },
    {
      "cell_type": "markdown",
      "source": [
        "## Construct the client and server"
      ],
      "metadata": {}
    },
    {
      "cell_type": "code",
      "source": [
        "server: VirtualMachine = sy.VirtualMachine(name=\"server\")\n",
        "client: VirtualMachineClient = server.get_root_client()"
      ],
      "outputs": [],
      "execution_count": 3,
      "metadata": {
        "jupyter": {
          "source_hidden": false,
          "outputs_hidden": false
        },
        "nteract": {
          "transient": {
            "deleting": false
          }
        },
        "gather": {
          "logged": 1631797268954
        }
      }
    },
    {
      "cell_type": "code",
      "source": [
        "remote_torch: Module = client.torch\n",
        "remote_torch"
      ],
      "outputs": [
        {
          "output_type": "execute_result",
          "execution_count": 4,
          "data": {
            "text/plain": "Module:\n\t.Tensor -> <syft.ast.klass.Class object at 0x7fd300880280>\n\t.BFloat16Tensor -> <syft.ast.klass.Class object at 0x7fd3008802e0>\n\t.BoolTensor -> <syft.ast.klass.Class object at 0x7fd300880340>\n\t.ByteTensor -> <syft.ast.klass.Class object at 0x7fd3008803a0>\n\t.CharTensor -> <syft.ast.klass.Class object at 0x7fd300880400>\n\t.DoubleTensor -> <syft.ast.klass.Class object at 0x7fd300880460>\n\t.FloatTensor -> <syft.ast.klass.Class object at 0x7fd3008804c0>\n\t.HalfTensor -> <syft.ast.klass.Class object at 0x7fd300880520>\n\t.IntTensor -> <syft.ast.klass.Class object at 0x7fd300880580>\n\t.LongTensor -> <syft.ast.klass.Class object at 0x7fd3008805e0>\n\t.ShortTensor -> <syft.ast.klass.Class object at 0x7fd300880640>\n\t.nn -> Module:\n\t\t.Parameter -> <syft.ast.klass.Class object at 0x7fd300880760>\n\t\t.Module -> <syft.ast.klass.Class object at 0x7fd3007cdac0>\n\t\t.Conv2d -> <syft.ast.klass.Class object at 0x7fd3007cdfa0>\n\t\t.Dropout2d -> <syft.ast.klass.Class object at 0x7fd3007d4400>\n\t\t.Linear -> <syft.ast.klass.Class object at 0x7fd3007d4760>\n\t\t.functional -> Module:\n\t\t\t.relu -> <syft.ast.callable.Callable object at 0x7fd3007d70a0>\n\t\t\t.gelu -> <syft.ast.callable.Callable object at 0x7fd3007d7100>\n\t\t\t.max_pool2d -> <syft.ast.callable.Callable object at 0x7fd3007d7160>\n\t\t\t.log_softmax -> <syft.ast.callable.Callable object at 0x7fd3007d71c0>\n\t\t\t.cosine_embedding_loss -> <syft.ast.callable.Callable object at 0x7fd3007ddf40>\n\t\t\t.ctc_loss -> <syft.ast.callable.Callable object at 0x7fd3007ddfa0>\n\t\t\t.hinge_embedding_loss -> <syft.ast.callable.Callable object at 0x7fd3007610a0>\n\t\t\t.l1_loss -> <syft.ast.callable.Callable object at 0x7fd300761100>\n\t\t\t.margin_ranking_loss -> <syft.ast.callable.Callable object at 0x7fd3007611c0>\n\t\t\t.mse_loss -> <syft.ast.callable.Callable object at 0x7fd300761220>\n\t\t\t.multi_margin_loss -> <syft.ast.callable.Callable object at 0x7fd3007612e0>\n\t\t\t.multilabel_margin_loss -> <syft.ast.callable.Callable object at 0x7fd3007613a0>\n\t\t\t.multilabel_soft_margin_loss -> <syft.ast.callable.Callable object at 0x7fd300761460>\n\t\t\t.nll_loss -> <syft.ast.callable.Callable object at 0x7fd3007614c0>\n\t\t\t.cross_entropy -> <syft.ast.callable.Callable object at 0x7fd300761580>\n\t\t\t.poisson_nll_loss -> <syft.ast.callable.Callable object at 0x7fd300761640>\n\t\t\t.smooth_l1_loss -> <syft.ast.callable.Callable object at 0x7fd300761700>\n\t\t\t.soft_margin_loss -> <syft.ast.callable.Callable object at 0x7fd3007617c0>\n\t\t\t.triplet_margin_loss -> <syft.ast.callable.Callable object at 0x7fd300761880>\n\n\t\t.Sequential -> <syft.ast.klass.Class object at 0x7fd3007ddb80>\n\t\t.AdaptiveLogSoftmaxWithLoss -> <syft.ast.klass.Class object at 0x7fd300761940>\n\t\t.BCELoss -> <syft.ast.klass.Class object at 0x7fd300761ac0>\n\t\t.BCEWithLogitsLoss -> <syft.ast.klass.Class object at 0x7fd300761b80>\n\t\t.CTCLoss -> <syft.ast.klass.Class object at 0x7fd300761ca0>\n\t\t.CrossEntropyLoss -> <syft.ast.klass.Class object at 0x7fd300761d60>\n\t\t.CosineEmbeddingLoss -> <syft.ast.klass.Class object at 0x7fd300761e80>\n\t\t.HingeEmbeddingLoss -> <syft.ast.klass.Class object at 0x7fd300761fa0>\n\t\t.KLDivLoss -> <syft.ast.klass.Class object at 0x7fd300765100>\n\t\t.L1Loss -> <syft.ast.klass.Class object at 0x7fd3007651c0>\n\t\t.MSELoss -> <syft.ast.klass.Class object at 0x7fd300765280>\n\t\t.MarginRankingLoss -> <syft.ast.klass.Class object at 0x7fd300765340>\n\t\t.MultiLabelMarginLoss -> <syft.ast.klass.Class object at 0x7fd300765460>\n\t\t.MultiLabelSoftMarginLoss -> <syft.ast.klass.Class object at 0x7fd3007655e0>\n\t\t.MultiMarginLoss -> <syft.ast.klass.Class object at 0x7fd300765700>\n\t\t.NLLLoss -> <syft.ast.klass.Class object at 0x7fd300765820>\n\t\t.NLLLoss2d -> <syft.ast.klass.Class object at 0x7fd3007658e0>\n\t\t.PoissonNLLLoss -> <syft.ast.klass.Class object at 0x7fd3007659a0>\n\t\t.SmoothL1Loss -> <syft.ast.klass.Class object at 0x7fd300765ac0>\n\t\t.SoftMarginLoss -> <syft.ast.klass.Class object at 0x7fd300765b80>\n\t\t.TripletMarginLoss -> <syft.ast.klass.Class object at 0x7fd300765ca0>\n\t\t.AdaptiveAvgPool1d -> <syft.ast.klass.Class object at 0x7fd300765dc0>\n\t\t.AdaptiveAvgPool2d -> <syft.ast.klass.Class object at 0x7fd300769460>\n\t\t.AdaptiveAvgPool3d -> <syft.ast.klass.Class object at 0x7fd300769ac0>\n\t\t.AdaptiveMaxPool1d -> <syft.ast.klass.Class object at 0x7fd30076c160>\n\t\t.AdaptiveMaxPool2d -> <syft.ast.klass.Class object at 0x7fd30076c7c0>\n\t\t.AdaptiveMaxPool3d -> <syft.ast.klass.Class object at 0x7fd30076ce20>\n\t\t.AlphaDropout -> <syft.ast.klass.Class object at 0x7fd30076f4c0>\n\t\t.AvgPool1d -> <syft.ast.klass.Class object at 0x7fd30076fa60>\n\t\t.AvgPool2d -> <syft.ast.klass.Class object at 0x7fd30076fee0>\n\t\t.AvgPool3d -> <syft.ast.klass.Class object at 0x7fd3007733a0>\n\t\t.BatchNorm1d -> <syft.ast.klass.Class object at 0x7fd300773820>\n\t\t.BatchNorm2d -> <syft.ast.klass.Class object at 0x7fd300773ca0>\n\t\t.BatchNorm3d -> <syft.ast.klass.Class object at 0x7fd300777160>\n\t\t.Bilinear -> <syft.ast.klass.Class object at 0x7fd3007775e0>\n\t\t.CELU -> <syft.ast.klass.Class object at 0x7fd300777a60>\n\t\t.ConstantPad1d -> <syft.ast.klass.Class object at 0x7fd300777e80>\n\t\t.ConstantPad2d -> <syft.ast.klass.Class object at 0x7fd30077b460>\n\t\t.ConstantPad3d -> <syft.ast.klass.Class object at 0x7fd30077ba00>\n\t\t.Container -> <syft.ast.klass.Class object at 0x7fd30077bfa0>\n\t\t.Conv1d -> <syft.ast.klass.Class object at 0x7fd30077e460>\n\t\t.Conv3d -> <syft.ast.klass.Class object at 0x7fd30077e880>\n\t\t.ConvTranspose1d -> <syft.ast.klass.Class object at 0x7fd30077eca0>\n\t\t.ConvTranspose2d -> <syft.ast.klass.Class object at 0x7fd3007812e0>\n\t\t.ConvTranspose3d -> <syft.ast.klass.Class object at 0x7fd3007818e0>\n\t\t.CosineSimilarity -> <syft.ast.klass.Class object at 0x7fd300781ee0>\n\t\t.CrossMapLRN2d -> <syft.ast.klass.Class object at 0x7fd300786520>\n\t\t.DataParallel -> <syft.ast.klass.Class object at 0x7fd300786ac0>\n\t\t.Dropout -> <syft.ast.klass.Class object at 0x7fd30078a0a0>\n\t\t.Dropout3d -> <syft.ast.klass.Class object at 0x7fd30078a640>\n\t\t.ELU -> <syft.ast.klass.Class object at 0x7fd30078aac0>\n\t\t.Embedding -> <syft.ast.klass.Class object at 0x7fd30078ae80>\n\t\t.EmbeddingBag -> <syft.ast.klass.Class object at 0x7fd30078d340>\n\t\t.FeatureAlphaDropout -> <syft.ast.klass.Class object at 0x7fd30078d8e0>\n\t\t.Flatten -> <syft.ast.klass.Class object at 0x7fd300790040>\n\t\t.Fold -> <syft.ast.klass.Class object at 0x7fd3007904c0>\n\t\t.FractionalMaxPool2d -> <syft.ast.klass.Class object at 0x7fd3007908e0>\n\t\t.FractionalMaxPool3d -> <syft.ast.klass.Class object at 0x7fd300794040>\n\t\t.GELU -> <syft.ast.klass.Class object at 0x7fd300794760>\n\t\t.GLU -> <syft.ast.klass.Class object at 0x7fd300794b80>\n\t\t.GRU -> <syft.ast.klass.Class object at 0x7fd300794f40>\n\t\t.GRUCell -> <syft.ast.klass.Class object at 0x7fd300798340>\n\t\t.GroupNorm -> <syft.ast.klass.Class object at 0x7fd3007987c0>\n\t\t.Hardshrink -> <syft.ast.klass.Class object at 0x7fd300798c40>\n\t\t.Hardsigmoid -> <syft.ast.klass.Class object at 0x7fd30079c100>\n\t\t.Hardswish -> <syft.ast.klass.Class object at 0x7fd30079c4c0>\n\t\t.Hardtanh -> <syft.ast.klass.Class object at 0x7fd30079c880>\n\t\t.Identity -> <syft.ast.klass.Class object at 0x7fd30079cd00>\n\t\t.InstanceNorm1d -> <syft.ast.klass.Class object at 0x7fd30079f1c0>\n\t\t.InstanceNorm2d -> <syft.ast.klass.Class object at 0x7fd30079f7c0>\n\t\t.InstanceNorm3d -> <syft.ast.klass.Class object at 0x7fd30079fdc0>\n\t\t.LPPool1d -> <syft.ast.klass.Class object at 0x7fd300724400>\n\t\t.LPPool2d -> <syft.ast.klass.Class object at 0x7fd300724880>\n\t\t.LSTM -> <syft.ast.klass.Class object at 0x7fd300724d00>\n\t\t.LSTMCell -> <syft.ast.klass.Class object at 0x7fd300728160>\n\t\t.LayerNorm -> <syft.ast.klass.Class object at 0x7fd3007285e0>\n\t\t.LeakyReLU -> <syft.ast.klass.Class object at 0x7fd300728a60>\n\t\t.LocalResponseNorm -> <syft.ast.klass.Class object at 0x7fd300728ee0>\n\t\t.LogSigmoid -> <syft.ast.klass.Class object at 0x7fd30072c580>\n\t\t.LogSoftmax -> <syft.ast.klass.Class object at 0x7fd30072ca00>\n\t\t.MaxPool1d -> <syft.ast.klass.Class object at 0x7fd30072ce80>\n\t\t.MaxPool2d -> <syft.ast.klass.Class object at 0x7fd30072f340>\n\t\t.MaxPool3d -> <syft.ast.klass.Class object at 0x7fd30072f7c0>\n\t\t.MaxUnpool1d -> <syft.ast.klass.Class object at 0x7fd30072fbe0>\n\t\t.MaxUnpool2d -> <syft.ast.klass.Class object at 0x7fd3007340a0>\n\t\t.MaxUnpool3d -> <syft.ast.klass.Class object at 0x7fd300734520>\n\t\t.ModuleDict -> <syft.ast.klass.Class object at 0x7fd3007349a0>\n\t\t.ModuleList -> <syft.ast.klass.Class object at 0x7fd300734e20>\n\t\t.MultiheadAttention -> <syft.ast.klass.Class object at 0x7fd3007383a0>\n\t\t.PReLU -> <syft.ast.klass.Class object at 0x7fd300738a60>\n\t\t.PairwiseDistance -> <syft.ast.klass.Class object at 0x7fd300738e80>\n\t\t.PixelShuffle -> <syft.ast.klass.Class object at 0x7fd30073b4c0>\n\t\t.RNN -> <syft.ast.klass.Class object at 0x7fd30073ba60>\n\t\t.RNNBase -> <syft.ast.klass.Class object at 0x7fd30073be20>\n\t\t.RNNCell -> <syft.ast.klass.Class object at 0x7fd3007402e0>\n\t\t.RNNCellBase -> <syft.ast.klass.Class object at 0x7fd300740760>\n\t\t.RReLU -> <syft.ast.klass.Class object at 0x7fd300740be0>\n\t\t.ReLU -> <syft.ast.klass.Class object at 0x7fd300743040>\n\t\t.ReLU6 -> <syft.ast.klass.Class object at 0x7fd300743460>\n\t\t.ReflectionPad1d -> <syft.ast.klass.Class object at 0x7fd300743880>\n\t\t.ReflectionPad2d -> <syft.ast.klass.Class object at 0x7fd300743e80>\n\t\t.ReplicationPad1d -> <syft.ast.klass.Class object at 0x7fd3007474c0>\n\t\t.ReplicationPad2d -> <syft.ast.klass.Class object at 0x7fd300747ac0>\n\t\t.ReplicationPad3d -> <syft.ast.klass.Class object at 0x7fd30074b100>\n\t\t.SELU -> <syft.ast.klass.Class object at 0x7fd30074b700>\n\t\t.Sigmoid -> <syft.ast.klass.Class object at 0x7fd30074bca0>\n\t\t.Softmax -> <syft.ast.klass.Class object at 0x7fd30074e160>\n\t\t.Softmax2d -> <syft.ast.klass.Class object at 0x7fd30074e5e0>\n\t\t.Softmin -> <syft.ast.klass.Class object at 0x7fd30074ea60>\n\t\t.Softplus -> <syft.ast.klass.Class object at 0x7fd30074eee0>\n\t\t.Softshrink -> <syft.ast.klass.Class object at 0x7fd3007513a0>\n\t\t.Softsign -> <syft.ast.klass.Class object at 0x7fd300751820>\n\t\t.SyncBatchNorm -> <syft.ast.klass.Class object at 0x7fd300751ca0>\n\t\t.Tanh -> <syft.ast.klass.Class object at 0x7fd300756280>\n\t\t.Tanhshrink -> <syft.ast.klass.Class object at 0x7fd3007566a0>\n\t\t.Threshold -> <syft.ast.klass.Class object at 0x7fd300756b20>\n\t\t.Transformer -> <syft.ast.klass.Class object at 0x7fd300756fa0>\n\t\t.TransformerDecoder -> <syft.ast.klass.Class object at 0x7fd30075b460>\n\t\t.TransformerDecoderLayer -> <syft.ast.klass.Class object at 0x7fd30075bb80>\n\t\t.TransformerEncoder -> <syft.ast.klass.Class object at 0x7fd30075d220>\n\t\t.TransformerEncoderLayer -> <syft.ast.klass.Class object at 0x7fd30075d940>\n\t\t.Unfold -> <syft.ast.klass.Class object at 0x7fd30075dfa0>\n\t\t.Upsample -> <syft.ast.klass.Class object at 0x7fd3006e1400>\n\t\t.UpsamplingBilinear2d -> <syft.ast.klass.Class object at 0x7fd3006e1880>\n\t\t.UpsamplingNearest2d -> <syft.ast.klass.Class object at 0x7fd3006e1f40>\n\t\t.ZeroPad2d -> <syft.ast.klass.Class object at 0x7fd3006e46a0>\n\n\t.return_types -> Module:\n\t\t.cummax -> <syft.ast.klass.Class object at 0x7fd3008514c0>\n\t\t.cummin -> <syft.ast.klass.Class object at 0x7fd300851520>\n\t\t.eig -> <syft.ast.klass.Class object at 0x7fd300851580>\n\t\t.kthvalue -> <syft.ast.klass.Class object at 0x7fd3008515e0>\n\t\t.lstsq -> <syft.ast.klass.Class object at 0x7fd300851640>\n\t\t.slogdet -> <syft.ast.klass.Class object at 0x7fd3008516a0>\n\t\t.qr -> <syft.ast.klass.Class object at 0x7fd300851700>\n\t\t.mode -> <syft.ast.klass.Class object at 0x7fd300851760>\n\t\t.solve -> <syft.ast.klass.Class object at 0x7fd3008517c0>\n\t\t.sort -> <syft.ast.klass.Class object at 0x7fd300851820>\n\t\t.symeig -> <syft.ast.klass.Class object at 0x7fd300851880>\n\t\t.topk -> <syft.ast.klass.Class object at 0x7fd3008518e0>\n\t\t.triangular_solve -> <syft.ast.klass.Class object at 0x7fd3008519a0>\n\t\t.svd -> <syft.ast.klass.Class object at 0x7fd300851a00>\n\t\t.geqrf -> <syft.ast.klass.Class object at 0x7fd300851a60>\n\t\t.median -> <syft.ast.klass.Class object at 0x7fd300851ac0>\n\t\t.max -> <syft.ast.klass.Class object at 0x7fd300851b20>\n\t\t.min -> <syft.ast.klass.Class object at 0x7fd300851b80>\n\n\t.Size -> <syft.ast.klass.Class object at 0x7fd3007aabe0>\n\t.set_grad_enabled -> <syft.ast.klass.Class object at 0x7fd3007aaee0>\n\t.zeros -> <syft.ast.callable.Callable object at 0x7fd3007aaf40>\n\t.randn -> <syft.ast.callable.Callable object at 0x7fd3007aafa0>\n\t.ones_like -> <syft.ast.callable.Callable object at 0x7fd3007af040>\n\t.arange -> <syft.ast.callable.Callable object at 0x7fd3007af160>\n\t.abs_ -> <syft.ast.callable.Callable object at 0x7fd3007af1c0>\n\t.abs -> <syft.ast.callable.Callable object at 0x7fd3007af220>\n\t.acos_ -> <syft.ast.callable.Callable object at 0x7fd3007af280>\n\t.acos -> <syft.ast.callable.Callable object at 0x7fd3007af2e0>\n\t.add -> <syft.ast.callable.Callable object at 0x7fd3007af340>\n\t.addbmm -> <syft.ast.callable.Callable object at 0x7fd3007af3a0>\n\t.addcdiv -> <syft.ast.callable.Callable object at 0x7fd3007af400>\n\t.addcmul -> <syft.ast.callable.Callable object at 0x7fd3007af460>\n\t.addmm -> <syft.ast.callable.Callable object at 0x7fd3007af4c0>\n\t.addmv_ -> <syft.ast.callable.Callable object at 0x7fd3007af520>\n\t.addmv -> <syft.ast.callable.Callable object at 0x7fd3007af580>\n\t.addr -> <syft.ast.callable.Callable object at 0x7fd3007af5e0>\n\t.all -> <syft.ast.callable.Callable object at 0x7fd3007af640>\n\t.allclose -> <syft.ast.callable.Callable object at 0x7fd3007af6a0>\n\t.angle -> <syft.ast.callable.Callable object at 0x7fd3007af700>\n\t.any -> <syft.ast.callable.Callable object at 0x7fd3007af760>\n\t.argmax -> <syft.ast.callable.Callable object at 0x7fd3007af7c0>\n\t.argmin -> <syft.ast.callable.Callable object at 0x7fd3007af820>\n\t.argsort -> <syft.ast.callable.Callable object at 0x7fd3007af880>\n\t.as_strided_ -> <syft.ast.callable.Callable object at 0x7fd3007af8e0>\n\t.as_strided -> <syft.ast.callable.Callable object at 0x7fd3007af940>\n\t.asin_ -> <syft.ast.callable.Callable object at 0x7fd3007af9a0>\n\t.asin -> <syft.ast.callable.Callable object at 0x7fd3007afa00>\n\t.atan_ -> <syft.ast.callable.Callable object at 0x7fd3007afa60>\n\t.atan -> <syft.ast.callable.Callable object at 0x7fd3007afac0>\n\t.atan2 -> <syft.ast.callable.Callable object at 0x7fd3007afb20>\n\t.baddbmm -> <syft.ast.callable.Callable object at 0x7fd3007afb80>\n\t.bernoulli -> <syft.ast.callable.Callable object at 0x7fd3007afbe0>\n\t.bitwise_and -> <syft.ast.callable.Callable object at 0x7fd3007afc40>\n\t.bitwise_not -> <syft.ast.callable.Callable object at 0x7fd3007afca0>\n\t.bitwise_or -> <syft.ast.callable.Callable object at 0x7fd3007afd00>\n\t.bitwise_xor -> <syft.ast.callable.Callable object at 0x7fd3007afd60>\n\t.bmm -> <syft.ast.callable.Callable object at 0x7fd3007afdc0>\n\t.cat -> <syft.ast.callable.Callable object at 0x7fd3007afe20>\n\t.ceil_ -> <syft.ast.callable.Callable object at 0x7fd3007afe80>\n\t.ceil -> <syft.ast.callable.Callable object at 0x7fd3007afee0>\n\t.cholesky_inverse -> <syft.ast.callable.Callable object at 0x7fd3007aff40>\n\t.cholesky_solve -> <syft.ast.callable.Callable object at 0x7fd3007affa0>\n\t.cholesky -> <syft.ast.callable.Callable object at 0x7fd3007b3040>\n\t.chunk -> <syft.ast.callable.Callable object at 0x7fd3007b30a0>\n\t.clamp_ -> <syft.ast.callable.Callable object at 0x7fd3007b3100>\n\t.clamp_max_ -> <syft.ast.callable.Callable object at 0x7fd3007b3160>\n\t.clamp_max -> <syft.ast.callable.Callable object at 0x7fd3007b31c0>\n\t.clamp_min_ -> <syft.ast.callable.Callable object at 0x7fd3007b3220>\n\t.clamp_min -> <syft.ast.callable.Callable object at 0x7fd3007b3280>\n\t.clamp -> <syft.ast.callable.Callable object at 0x7fd3007b32e0>\n\t.clone -> <syft.ast.callable.Callable object at 0x7fd3007b3340>\n\t.conj -> <syft.ast.callable.Callable object at 0x7fd3007b33a0>\n\t.cos_ -> <syft.ast.callable.Callable object at 0x7fd3007b3400>\n\t.cos -> <syft.ast.callable.Callable object at 0x7fd3007b3460>\n\t.cosh_ -> <syft.ast.callable.Callable object at 0x7fd3007b34c0>\n\t.cosh -> <syft.ast.callable.Callable object at 0x7fd3007b3520>\n\t.cross -> <syft.ast.callable.Callable object at 0x7fd3007b3580>\n\t.cummax -> <syft.ast.callable.Callable object at 0x7fd3007b35e0>\n\t.cummin -> <syft.ast.callable.Callable object at 0x7fd3007b3640>\n\t.cumprod -> <syft.ast.callable.Callable object at 0x7fd3007b36a0>\n\t.cumsum -> <syft.ast.callable.Callable object at 0x7fd3007b3700>\n\t.dequantize -> <syft.ast.callable.Callable object at 0x7fd3007b3760>\n\t.det -> <syft.ast.callable.Callable object at 0x7fd3007b37c0>\n\t.detach -> <syft.ast.callable.Callable object at 0x7fd3007b3820>\n\t.diag_embed -> <syft.ast.callable.Callable object at 0x7fd3007b3880>\n\t.diag -> <syft.ast.callable.Callable object at 0x7fd3007b38e0>\n\t.diagflat -> <syft.ast.callable.Callable object at 0x7fd3007b3940>\n\t.diagonal -> <syft.ast.callable.Callable object at 0x7fd3007b39a0>\n\t.digamma -> <syft.ast.callable.Callable object at 0x7fd3007b3a00>\n\t.dist -> <syft.ast.callable.Callable object at 0x7fd3007b3a60>\n\t.div -> <syft.ast.callable.Callable object at 0x7fd3007b3ac0>\n\t.dot -> <syft.ast.callable.Callable object at 0x7fd3007b3b20>\n\t.eig -> <syft.ast.callable.Callable object at 0x7fd3007b3b80>\n\t.eq -> <syft.ast.callable.Callable object at 0x7fd3007b3be0>\n\t.equal -> <syft.ast.callable.Callable object at 0x7fd3007b3c40>\n\t.erf_ -> <syft.ast.callable.Callable object at 0x7fd3007b3ca0>\n\t.erf -> <syft.ast.callable.Callable object at 0x7fd3007b3d00>\n\t.erfc_ -> <syft.ast.callable.Callable object at 0x7fd3007b3d60>\n\t.erfc -> <syft.ast.callable.Callable object at 0x7fd3007b3dc0>\n\t.erfinv -> <syft.ast.callable.Callable object at 0x7fd3007b3e20>\n\t.exp_ -> <syft.ast.callable.Callable object at 0x7fd3007b3e80>\n\t.exp -> <syft.ast.callable.Callable object at 0x7fd3007b3ee0>\n\t.expm1_ -> <syft.ast.callable.Callable object at 0x7fd3007b3f40>\n\t.expm1 -> <syft.ast.callable.Callable object at 0x7fd3007b3fa0>\n\t.fft -> Module:\n\n\t.fill_ -> <syft.ast.callable.Callable object at 0x7fd3007b70a0>\n\t.flatten -> <syft.ast.callable.Callable object at 0x7fd3007b7100>\n\t.flip -> <syft.ast.callable.Callable object at 0x7fd3007b7160>\n\t.floor_ -> <syft.ast.callable.Callable object at 0x7fd3007b71c0>\n\t.floor_divide -> <syft.ast.callable.Callable object at 0x7fd3007b7220>\n\t.floor -> <syft.ast.callable.Callable object at 0x7fd3007b7280>\n\t.fmod -> <syft.ast.callable.Callable object at 0x7fd3007b72e0>\n\t.frac_ -> <syft.ast.callable.Callable object at 0x7fd3007b7340>\n\t.frac -> <syft.ast.callable.Callable object at 0x7fd3007b73a0>\n\t.from_numpy -> <syft.ast.callable.Callable object at 0x7fd3007b7400>\n\t.gather -> <syft.ast.callable.Callable object at 0x7fd3007b7460>\n\t.ge -> <syft.ast.callable.Callable object at 0x7fd3007b74c0>\n\t.geqrf -> <syft.ast.callable.Callable object at 0x7fd3007b7520>\n\t.ger -> <syft.ast.callable.Callable object at 0x7fd3007b7580>\n\t.get_device -> <syft.ast.callable.Callable object at 0x7fd3007b75e0>\n\t.gt -> <syft.ast.callable.Callable object at 0x7fd3007b7640>\n\t.hardshrink -> <syft.ast.callable.Callable object at 0x7fd3007b76a0>\n\t.histc -> <syft.ast.callable.Callable object at 0x7fd3007b7700>\n\t.index_add -> <syft.ast.callable.Callable object at 0x7fd3007b7760>\n\t.index_copy -> <syft.ast.callable.Callable object at 0x7fd3007b77c0>\n\t.index_fill -> <syft.ast.callable.Callable object at 0x7fd3007b7820>\n\t.index_put_ -> <syft.ast.callable.Callable object at 0x7fd3007b7880>\n\t.index_put -> <syft.ast.callable.Callable object at 0x7fd3007b78e0>\n\t.index_select -> <syft.ast.callable.Callable object at 0x7fd3007b7940>\n\t.int_repr -> <syft.ast.callable.Callable object at 0x7fd3007b79a0>\n\t.inverse -> <syft.ast.callable.Callable object at 0x7fd3007b7a00>\n\t.is_complex -> <syft.ast.callable.Callable object at 0x7fd3007b7a60>\n\t.is_distributed -> <syft.ast.callable.Callable object at 0x7fd3007b7ac0>\n\t.is_floating_point -> <syft.ast.callable.Callable object at 0x7fd3007b7b20>\n\t.is_nonzero -> <syft.ast.callable.Callable object at 0x7fd3007b7b80>\n\t.is_same_size -> <syft.ast.callable.Callable object at 0x7fd3007b7be0>\n\t.is_signed -> <syft.ast.callable.Callable object at 0x7fd3007b7c40>\n\t.isclose -> <syft.ast.callable.Callable object at 0x7fd3007b7ca0>\n\t.kthvalue -> <syft.ast.callable.Callable object at 0x7fd3007b7d00>\n\t.le -> <syft.ast.callable.Callable object at 0x7fd3007b7d60>\n\t.lerp -> <syft.ast.callable.Callable object at 0x7fd3007b7dc0>\n\t.lgamma -> <syft.ast.callable.Callable object at 0x7fd3007b7e20>\n\t.log_ -> <syft.ast.callable.Callable object at 0x7fd3007b7e80>\n\t.log_softmax -> <syft.ast.callable.Callable object at 0x7fd3007b7ee0>\n\t.log -> <syft.ast.callable.Callable object at 0x7fd3007b7f40>\n\t.log10_ -> <syft.ast.callable.Callable object at 0x7fd3007b7fa0>\n\t.log10 -> <syft.ast.callable.Callable object at 0x7fd3007bb040>\n\t.log1p_ -> <syft.ast.callable.Callable object at 0x7fd3007bb0a0>\n\t.log1p -> <syft.ast.callable.Callable object at 0x7fd3007bb100>\n\t.log2_ -> <syft.ast.callable.Callable object at 0x7fd3007bb160>\n\t.log2 -> <syft.ast.callable.Callable object at 0x7fd3007bb1c0>\n\t.logdet -> <syft.ast.callable.Callable object at 0x7fd3007bb220>\n\t.logical_and -> <syft.ast.callable.Callable object at 0x7fd3007bb280>\n\t.logical_not -> <syft.ast.callable.Callable object at 0x7fd3007bb2e0>\n\t.logical_or -> <syft.ast.callable.Callable object at 0x7fd3007bb340>\n\t.logical_xor -> <syft.ast.callable.Callable object at 0x7fd3007bb3a0>\n\t.logsumexp -> <syft.ast.callable.Callable object at 0x7fd3007bb400>\n\t.lstsq -> <syft.ast.callable.Callable object at 0x7fd3007bb460>\n\t.lt -> <syft.ast.callable.Callable object at 0x7fd3007bb4c0>\n\t.lu_solve -> <syft.ast.callable.Callable object at 0x7fd3007bb520>\n\t.lu -> <syft.ast.callable.Callable object at 0x7fd3007bb580>\n\t.masked_fill -> <syft.ast.callable.Callable object at 0x7fd3007bb5e0>\n\t.masked_scatter -> <syft.ast.callable.Callable object at 0x7fd3007bb640>\n\t.masked_select -> <syft.ast.callable.Callable object at 0x7fd3007bb6a0>\n\t.matmul -> <syft.ast.callable.Callable object at 0x7fd3007bb700>\n\t.matrix_power -> <syft.ast.callable.Callable object at 0x7fd3007bb760>\n\t.mean -> <syft.ast.callable.Callable object at 0x7fd3007bb7c0>\n\t.mm -> <syft.ast.callable.Callable object at 0x7fd3007bb820>\n\t.mode -> <syft.ast.callable.Callable object at 0x7fd3007bb880>\n\t.mul -> <syft.ast.callable.Callable object at 0x7fd3007bb8e0>\n\t.multinomial -> <syft.ast.callable.Callable object at 0x7fd3007bb940>\n\t.mv -> <syft.ast.callable.Callable object at 0x7fd3007bb9a0>\n\t.mvlgamma -> <syft.ast.callable.Callable object at 0x7fd3007bba00>\n\t.narrow -> <syft.ast.callable.Callable object at 0x7fd3007bba60>\n\t.ne -> <syft.ast.callable.Callable object at 0x7fd3007bbac0>\n\t.neg_ -> <syft.ast.callable.Callable object at 0x7fd3007bbb20>\n\t.neg -> <syft.ast.callable.Callable object at 0x7fd3007bbb80>\n\t.nonzero -> <syft.ast.callable.Callable object at 0x7fd3007bbbe0>\n\t.norm -> <syft.ast.callable.Callable object at 0x7fd3007bbc40>\n\t.orgqr -> <syft.ast.callable.Callable object at 0x7fd3007bbca0>\n\t.ormqr -> <syft.ast.callable.Callable object at 0x7fd3007bbd00>\n\t.pinverse -> <syft.ast.callable.Callable object at 0x7fd3007bbd60>\n\t.polygamma -> <syft.ast.callable.Callable object at 0x7fd3007bbdc0>\n\t.pow -> <syft.ast.callable.Callable object at 0x7fd3007bbe20>\n\t.prelu -> <syft.ast.callable.Callable object at 0x7fd3007bbe80>\n\t.q_per_channel_axis -> <syft.ast.callable.Callable object at 0x7fd3007bbee0>\n\t.q_per_channel_scales -> <syft.ast.callable.Callable object at 0x7fd3007bbf40>\n\t.q_per_channel_zero_points -> <syft.ast.callable.Callable object at 0x7fd3007bbfa0>\n\t.q_scale -> <syft.ast.callable.Callable object at 0x7fd3007c0040>\n\t.q_zero_point -> <syft.ast.callable.Callable object at 0x7fd3007c00a0>\n\t.qr -> <syft.ast.callable.Callable object at 0x7fd3007c0100>\n\t.reciprocal_ -> <syft.ast.callable.Callable object at 0x7fd3007c0160>\n\t.reciprocal -> <syft.ast.callable.Callable object at 0x7fd3007c01c0>\n\t.relu_ -> <syft.ast.callable.Callable object at 0x7fd3007c0220>\n\t.relu -> <syft.ast.callable.Callable object at 0x7fd3007c0280>\n\t.remainder -> <syft.ast.callable.Callable object at 0x7fd3007c02e0>\n\t.renorm -> <syft.ast.callable.Callable object at 0x7fd3007c0340>\n\t.repeat_interleave -> <syft.ast.callable.Callable object at 0x7fd3007c03a0>\n\t.reshape -> <syft.ast.callable.Callable object at 0x7fd3007c0400>\n\t.resize_as_ -> <syft.ast.callable.Callable object at 0x7fd3007c0460>\n\t.roll -> <syft.ast.callable.Callable object at 0x7fd3007c04c0>\n\t.rot90 -> <syft.ast.callable.Callable object at 0x7fd3007c0520>\n\t.round_ -> <syft.ast.callable.Callable object at 0x7fd3007c0580>\n\t.round -> <syft.ast.callable.Callable object at 0x7fd3007c05e0>\n\t.rsqrt_ -> <syft.ast.callable.Callable object at 0x7fd3007c0640>\n\t.rsqrt -> <syft.ast.callable.Callable object at 0x7fd3007c06a0>\n\t.scatter_add -> <syft.ast.callable.Callable object at 0x7fd3007c0700>\n\t.scatter -> <syft.ast.callable.Callable object at 0x7fd3007c0760>\n\t.select -> <syft.ast.callable.Callable object at 0x7fd3007c07c0>\n\t.sigmoid_ -> <syft.ast.callable.Callable object at 0x7fd3007c0820>\n\t.sigmoid -> <syft.ast.callable.Callable object at 0x7fd3007c0880>\n\t.sign -> <syft.ast.callable.Callable object at 0x7fd3007c08e0>\n\t.sin_ -> <syft.ast.callable.Callable object at 0x7fd3007c0940>\n\t.sin -> <syft.ast.callable.Callable object at 0x7fd3007c09a0>\n\t.sinh_ -> <syft.ast.callable.Callable object at 0x7fd3007c0a00>\n\t.sinh -> <syft.ast.callable.Callable object at 0x7fd3007c0a60>\n\t.slogdet -> <syft.ast.callable.Callable object at 0x7fd3007c0ac0>\n\t.softmax -> <syft.ast.callable.Callable object at 0x7fd3007c0b20>\n\t.solve -> <syft.ast.callable.Callable object at 0x7fd3007c0b80>\n\t.sort -> <syft.ast.callable.Callable object at 0x7fd3007c0be0>\n\t.split_with_sizes -> <syft.ast.callable.Callable object at 0x7fd3007c0c40>\n\t.split -> <syft.ast.callable.Callable object at 0x7fd3007c0ca0>\n\t.sqrt_ -> <syft.ast.callable.Callable object at 0x7fd3007c0d00>\n\t.sqrt -> <syft.ast.callable.Callable object at 0x7fd3007c0d60>\n\t.square_ -> <syft.ast.callable.Callable object at 0x7fd3007c0dc0>\n\t.square -> <syft.ast.callable.Callable object at 0x7fd3007c0e20>\n\t.squeeze -> <syft.ast.callable.Callable object at 0x7fd3007c0e80>\n\t.stack -> <syft.ast.callable.Callable object at 0x7fd3007c0ee0>\n\t.std -> <syft.ast.callable.Callable object at 0x7fd3007c0f40>\n\t.stft -> <syft.ast.callable.Callable object at 0x7fd3007c0fa0>\n\t.sub -> <syft.ast.callable.Callable object at 0x7fd3007c4040>\n\t.sum -> <syft.ast.callable.Callable object at 0x7fd3007c40a0>\n\t.svd -> <syft.ast.callable.Callable object at 0x7fd3007c4100>\n\t.symeig -> <syft.ast.callable.Callable object at 0x7fd3007c4160>\n\t.t -> <syft.ast.callable.Callable object at 0x7fd3007c41c0>\n\t.take -> <syft.ast.callable.Callable object at 0x7fd3007c4220>\n\t.tan_ -> <syft.ast.callable.Callable object at 0x7fd3007c4280>\n\t.tan -> <syft.ast.callable.Callable object at 0x7fd3007c42e0>\n\t.tanh_ -> <syft.ast.callable.Callable object at 0x7fd3007c4340>\n\t.tanh -> <syft.ast.callable.Callable object at 0x7fd3007c43a0>\n\t.topk -> <syft.ast.callable.Callable object at 0x7fd3007c4400>\n\t.trace -> <syft.ast.callable.Callable object at 0x7fd3007c4460>\n\t.transpose -> <syft.ast.callable.Callable object at 0x7fd3007c44c0>\n\t.triangular_solve -> <syft.ast.callable.Callable object at 0x7fd3007c4520>\n\t.tril -> <syft.ast.callable.Callable object at 0x7fd3007c4580>\n\t.triu -> <syft.ast.callable.Callable object at 0x7fd3007c45e0>\n\t.true_divide -> <syft.ast.callable.Callable object at 0x7fd3007c4640>\n\t.trunc_ -> <syft.ast.callable.Callable object at 0x7fd3007c46a0>\n\t.trunc -> <syft.ast.callable.Callable object at 0x7fd3007c4700>\n\t.unique_consecutive -> <syft.ast.callable.Callable object at 0x7fd3007c4760>\n\t.unique -> <syft.ast.callable.Callable object at 0x7fd3007c47c0>\n\t.unsqueeze -> <syft.ast.callable.Callable object at 0x7fd3007c4820>\n\t.var -> <syft.ast.callable.Callable object at 0x7fd3007c4880>\n\t.unsafe_chunk -> <syft.ast.callable.Callable object at 0x7fd3007c48e0>\n\t.absolute -> <syft.ast.callable.Callable object at 0x7fd3007c4940>\n\t.acosh_ -> <syft.ast.callable.Callable object at 0x7fd3007c49a0>\n\t.acosh -> <syft.ast.callable.Callable object at 0x7fd3007c4a00>\n\t.asinh_ -> <syft.ast.callable.Callable object at 0x7fd3007c4a60>\n\t.asinh -> <syft.ast.callable.Callable object at 0x7fd3007c4ac0>\n\t.atanh_ -> <syft.ast.callable.Callable object at 0x7fd3007c4b20>\n\t.atanh -> <syft.ast.callable.Callable object at 0x7fd3007c4b80>\n\t.deg2rad_ -> <syft.ast.callable.Callable object at 0x7fd3007c4be0>\n\t.deg2rad -> <syft.ast.callable.Callable object at 0x7fd3007c4c40>\n\t.fliplr -> <syft.ast.callable.Callable object at 0x7fd3007c4ca0>\n\t.flipud -> <syft.ast.callable.Callable object at 0x7fd3007c4d00>\n\t.isfinite -> <syft.ast.callable.Callable object at 0x7fd3007c4d60>\n\t.isinf -> <syft.ast.callable.Callable object at 0x7fd3007c4dc0>\n\t.isnan -> <syft.ast.callable.Callable object at 0x7fd3007c4e20>\n\t.logaddexp -> <syft.ast.callable.Callable object at 0x7fd3007c4e80>\n\t.logaddexp2 -> <syft.ast.callable.Callable object at 0x7fd3007c4ee0>\n\t.logcumsumexp -> <syft.ast.callable.Callable object at 0x7fd3007c4f40>\n\t.rad2deg_ -> <syft.ast.callable.Callable object at 0x7fd3007c4fa0>\n\t.rad2deg -> <syft.ast.callable.Callable object at 0x7fd3007c9040>\n\t.istft -> <syft.ast.callable.Callable object at 0x7fd3007c90a0>\n\t.amax -> <syft.ast.callable.Callable object at 0x7fd3007c9100>\n\t.amin -> <syft.ast.callable.Callable object at 0x7fd3007c9160>\n\t.arccos -> <syft.ast.callable.Callable object at 0x7fd3007c91c0>\n\t.arccos_ -> <syft.ast.callable.Callable object at 0x7fd3007c9220>\n\t.arccosh -> <syft.ast.callable.Callable object at 0x7fd3007c9280>\n\t.arccosh_ -> <syft.ast.callable.Callable object at 0x7fd3007c92e0>\n\t.arcsin -> <syft.ast.callable.Callable object at 0x7fd3007c9340>\n\t.arcsin_ -> <syft.ast.callable.Callable object at 0x7fd3007c93a0>\n\t.arcsinh -> <syft.ast.callable.Callable object at 0x7fd3007c9400>\n\t.arcsinh_ -> <syft.ast.callable.Callable object at 0x7fd3007c9460>\n\t.arctan -> <syft.ast.callable.Callable object at 0x7fd3007c94c0>\n\t.arctan_ -> <syft.ast.callable.Callable object at 0x7fd3007c9520>\n\t.arctanh -> <syft.ast.callable.Callable object at 0x7fd3007c9580>\n\t.arctanh_ -> <syft.ast.callable.Callable object at 0x7fd3007c95e0>\n\t.clip -> <syft.ast.callable.Callable object at 0x7fd3007c9640>\n\t.clip_ -> <syft.ast.callable.Callable object at 0x7fd3007c96a0>\n\t.count_nonzero -> <syft.ast.callable.Callable object at 0x7fd3007c9700>\n\t.divide -> <syft.ast.callable.Callable object at 0x7fd3007c9760>\n\t.exp2 -> <syft.ast.callable.Callable object at 0x7fd3007c97c0>\n\t.exp2_ -> <syft.ast.callable.Callable object at 0x7fd3007c9820>\n\t.fix -> <syft.ast.callable.Callable object at 0x7fd3007c9880>\n\t.fix_ -> <syft.ast.callable.Callable object at 0x7fd3007c98e0>\n\t.gcd -> <syft.ast.callable.Callable object at 0x7fd3007c9940>\n\t.gcd_ -> <syft.ast.callable.Callable object at 0x7fd3007c99a0>\n\t.greater -> <syft.ast.callable.Callable object at 0x7fd3007c9a00>\n\t.greater_equal -> <syft.ast.callable.Callable object at 0x7fd3007c9a60>\n\t.heaviside -> <syft.ast.callable.Callable object at 0x7fd3007c9ac0>\n\t.hypot -> <syft.ast.callable.Callable object at 0x7fd3007c9b20>\n\t.i0 -> <syft.ast.callable.Callable object at 0x7fd3007c9b80>\n\t.i0_ -> <syft.ast.callable.Callable object at 0x7fd3007c9be0>\n\t.isneginf -> <syft.ast.callable.Callable object at 0x7fd3007c9c40>\n\t.isposinf -> <syft.ast.callable.Callable object at 0x7fd3007c9ca0>\n\t.isreal -> <syft.ast.callable.Callable object at 0x7fd3007c9d00>\n\t.lcm -> <syft.ast.callable.Callable object at 0x7fd3007c9d60>\n\t.lcm_ -> <syft.ast.callable.Callable object at 0x7fd3007c9dc0>\n\t.less -> <syft.ast.callable.Callable object at 0x7fd3007c9e20>\n\t.less_equal -> <syft.ast.callable.Callable object at 0x7fd3007c9e80>\n\t.logit -> <syft.ast.callable.Callable object at 0x7fd3007c9ee0>\n\t.logit_ -> <syft.ast.callable.Callable object at 0x7fd3007c9f40>\n\t.maximum -> <syft.ast.callable.Callable object at 0x7fd3007c9fa0>\n\t.minimum -> <syft.ast.callable.Callable object at 0x7fd3007cd040>\n\t.matrix_exp -> <syft.ast.callable.Callable object at 0x7fd3007cd0a0>\n\t.multiply -> <syft.ast.callable.Callable object at 0x7fd3007cd100>\n\t.nanquantile -> <syft.ast.callable.Callable object at 0x7fd3007cd160>\n\t.nansum -> <syft.ast.callable.Callable object at 0x7fd3008bc5e0>\n\t.negative -> <syft.ast.callable.Callable object at 0x7fd3008bc580>\n\t.negative_ -> <syft.ast.callable.Callable object at 0x7fd3007cd1c0>\n\t.nextafter -> <syft.ast.callable.Callable object at 0x7fd3007cd220>\n\t.outer -> <syft.ast.callable.Callable object at 0x7fd3007cd280>\n\t.quantile -> <syft.ast.callable.Callable object at 0x7fd3007cd2e0>\n\t.sgn -> <syft.ast.callable.Callable object at 0x7fd3007cd340>\n\t.signbit -> <syft.ast.callable.Callable object at 0x7fd3007cd3a0>\n\t.subtract -> <syft.ast.callable.Callable object at 0x7fd3007cd400>\n\t.unsafe_split -> <syft.ast.callable.Callable object at 0x7fd3007cd460>\n\t.vdot -> <syft.ast.callable.Callable object at 0x7fd3007cd4c0>\n\t.movedim -> <syft.ast.callable.Callable object at 0x7fd3007cd520>\n\t.unsafe_split_with_sizes -> <syft.ast.callable.Callable object at 0x7fd3007cd580>\n\t.cuda -> Module:\n\t\t.is_available -> <syft.ast.callable.Callable object at 0x7fd3007cd640>\n\n\t.device -> <syft.ast.klass.Class object at 0x7fd3007cd6a0>\n\t.random -> Module:\n\t\t.initial_seed -> <syft.ast.callable.Callable object at 0x7fd3007cd820>\n\n\t.zeros_like -> <syft.ast.callable.Callable object at 0x7fd3007cd880>\n\t.manual_seed -> <syft.ast.callable.Callable object at 0x7fd3007cd8e0>\n\t.Generator -> <syft.ast.klass.Class object at 0x7fd3007cd940>\n\t.utils -> Module:\n\t\t.data -> Module:\n\t\t\t.DataLoader -> <syft.ast.klass.Class object at 0x7fd3007d4c40>\n\t\t\t.dataloader -> Module:\n\t\t\t\t._SingleProcessDataLoaderIter -> <syft.ast.klass.Class object at 0x7fd3007d4e80>\n\n\n\n\t.optim -> Module:\n\t\t.ASGD -> <syft.ast.klass.Class object at 0x7fd3007d7280>\n\t\t.Adadelta -> <syft.ast.klass.Class object at 0x7fd3007d7400>\n\t\t.Adagrad -> <syft.ast.klass.Class object at 0x7fd3007d7580>\n\t\t.Adam -> <syft.ast.klass.Class object at 0x7fd3007d7700>\n\t\t.AdamW -> <syft.ast.klass.Class object at 0x7fd3007d7880>\n\t\t.Adamax -> <syft.ast.klass.Class object at 0x7fd3007d7a00>\n\t\t.LBFGS -> <syft.ast.klass.Class object at 0x7fd3007d7b80>\n\t\t.Optimizer -> <syft.ast.klass.Class object at 0x7fd3007d7d00>\n\t\t.RMSprop -> <syft.ast.klass.Class object at 0x7fd3007d7ee0>\n\t\t.Rprop -> <syft.ast.klass.Class object at 0x7fd3007dd0a0>\n\t\t.SGD -> <syft.ast.klass.Class object at 0x7fd3007dd220>\n\t\t.SparseAdam -> <syft.ast.klass.Class object at 0x7fd3007dd3a0>\n\t\t.lr_scheduler -> Module:\n\t\t\t.StepLR -> <syft.ast.klass.Class object at 0x7fd3007dd640>\n\n\n\t.no_grad -> <syft.ast.klass.Class object at 0x7fd3007dd820>\n\t.autograd -> Module:\n\t\t.grad_mode -> Module:\n\t\t\t.no_grad -> <syft.ast.klass.Class object at 0x7fd3007dd9a0>\n\n\n\t.distributions -> Module:\n\t\t.Categorical -> <syft.ast.klass.Class object at 0x7fd3006e4b80>\n\n\t.kron -> <syft.ast.callable.Callable object at 0x7fd3006e8160>\n\t.msort -> <syft.ast.callable.Callable object at 0x7fd3006e8280>\n\t.row_stack -> <syft.ast.callable.Callable object at 0x7fd3006e82e0>\n\t.moveaxis -> <syft.ast.callable.Callable object at 0x7fd3006e85e0>\n\t.tensor_split -> <syft.ast.callable.Callable object at 0x7fd3006e8700>\n\t.tile -> <syft.ast.callable.Callable object at 0x7fd3006e8820>\n\t.fmin -> <syft.ast.callable.Callable object at 0x7fd3006e8a00>\n\t.ldexp -> <syft.ast.callable.Callable object at 0x7fd3006e8a60>\n\t.igamma -> <syft.ast.callable.Callable object at 0x7fd3006e8b80>\n\t.float_power -> <syft.ast.callable.Callable object at 0x7fd3006ed0a0>\n\t.xlogy -> <syft.ast.callable.Callable object at 0x7fd3006ed1c0>\n\t.copysign -> <syft.ast.callable.Callable object at 0x7fd3006ed220>\n\t.nanmedian -> <syft.ast.callable.Callable object at 0x7fd3006ed280>\n\t.igammac -> <syft.ast.callable.Callable object at 0x7fd3006ed2e0>\n\t.diff -> <syft.ast.callable.Callable object at 0x7fd3006ed400>\n\t.sinc -> <syft.ast.callable.Callable object at 0x7fd3006ed520>\n\t.column_stack -> <syft.ast.callable.Callable object at 0x7fd3006ed700>\n\t.pixel_unshuffle -> <syft.ast.callable.Callable object at 0x7fd3006ed820>\n\t.swapaxes -> <syft.ast.callable.Callable object at 0x7fd3006edac0>\n\t.nan_to_num -> <syft.ast.callable.Callable object at 0x7fd3006edb20>\n\t.inner -> <syft.ast.callable.Callable object at 0x7fd3006edb80>\n\t.fmax -> <syft.ast.callable.Callable object at 0x7fd3006edbe0>\n\t.ravel -> <syft.ast.callable.Callable object at 0x7fd3006edf40>\n\t.broadcast_to -> <syft.ast.callable.Callable object at 0x7fd3006edfa0>\n\t.swapdims -> <syft.ast.callable.Callable object at 0x7fd3006f11c0>"
          },
          "metadata": {}
        }
      ],
      "execution_count": 4,
      "metadata": {
        "gather": {
          "logged": 1631797274561
        },
        "jupyter": {
          "outputs_hidden": false
        }
      }
    },
    {
      "cell_type": "markdown",
      "source": [
        "## Client: loading and exploring the dataset"
      ],
      "metadata": {}
    },
    {
      "cell_type": "code",
      "source": [
        "client_cuda = False\n",
        "client_cuda_ptr = remote_torch.cuda.is_available()\n",
        "client_cuda = bool(client_cuda_ptr.get(\n",
        "    request_block=True,\n",
        "    reason=\"To run test and inference locally\",\n",
        "    timeout_secs=5,  # change to something slower\n",
        "))\n",
        "print(f'client has cuda? {client_cuda}')\n",
        "\n",
        "client_device_ptr = remote_torch.device(\"cuda\" if client_cuda else \"cpu\")\n",
        "print(f\"client device is {client_device_ptr.get_copy()}\")"
      ],
      "outputs": [
        {
          "output_type": "stream",
          "name": "stdout",
          "text": "client has cuda? True\nclient device is cuda\n"
        }
      ],
      "execution_count": 5,
      "metadata": {
        "jupyter": {
          "source_hidden": false,
          "outputs_hidden": false
        },
        "nteract": {
          "transient": {
            "deleting": false
          }
        },
        "gather": {
          "logged": 1631797277373
        }
      }
    },
    {
      "cell_type": "code",
      "source": [
        "class ECG(Dataset):\n",
        "    # The class used to load the ECG dataset\n",
        "    def __init__(self, mode='train', client_device_ptr=None):\n",
        "        if mode == 'train':\n",
        "            with h5py.File(project_path/data_dir/train_name, 'r') as hdf:\n",
        "                self.x = torch.tensor(hdf['x_train'][:], dtype=torch.float)\n",
        "                self.y = torch.tensor(hdf['y_train'][:])                \n",
        "        elif mode == 'test':\n",
        "            with h5py.File(project_path/data_dir/test_name, 'r') as hdf:\n",
        "                self.x = torch.tensor(hdf['x_test'][:], dtype=torch.float)\n",
        "                self.y = torch.tensor(hdf['y_test'][:])\n",
        "        else:\n",
        "            raise ValueError('Argument of mode should be train or test')\n",
        "\n",
        "        if client_device_ptr is not None:\n",
        "            self.x = self.x.to(client_device_ptr.get_copy())\n",
        "            # self.y = self.y.to(client_device_ptr.get_copy())\n",
        "\n",
        "    def __len__(self):\n",
        "        return len(self.x)\n",
        "    \n",
        "    def __getitem__(self, idx):\n",
        "        return self.x[idx], self.y[idx]"
      ],
      "outputs": [],
      "execution_count": 6,
      "metadata": {
        "jupyter": {
          "source_hidden": false,
          "outputs_hidden": false
        },
        "nteract": {
          "transient": {
            "deleting": false
          }
        },
        "gather": {
          "logged": 1631797280445
        }
      }
    },
    {
      "cell_type": "code",
      "source": [
        "train_dataset = ECG(mode='train', client_device_ptr=client_device_ptr)\n",
        "test_dataset = ECG(mode='test', client_device_ptr=client_device_ptr)"
      ],
      "outputs": [],
      "execution_count": 7,
      "metadata": {
        "jupyter": {
          "source_hidden": false,
          "outputs_hidden": false
        },
        "nteract": {
          "transient": {
            "deleting": false
          }
        },
        "gather": {
          "logged": 1631797286402
        }
      }
    },
    {
      "cell_type": "markdown",
      "source": [
        "Let's first get everything in the dataset and see how many examples we have, and how each\n",
        "of them look like"
      ],
      "metadata": {
        "nteract": {
          "transient": {
            "deleting": false
          }
        }
      }
    },
    {
      "cell_type": "code",
      "source": [
        "train_loader = DataLoader(train_dataset, batch_size=len(train_dataset))\n",
        "test_loader = DataLoader(test_dataset, batch_size=len(test_dataset))\n",
        "x_train, y_train = next(iter(train_loader))\n",
        "x_test, y_test = next(iter(test_loader))\n",
        "ic(type(x_train), x_train.shape, x_train.device)\n",
        "ic(type(y_train), y_train.shape, y_train.device)\n",
        "ic(type(x_test), x_test.shape, x_test.device)\n",
        "ic(type(y_test), y_test.shape, y_test.device)"
      ],
      "outputs": [
        {
          "output_type": "stream",
          "name": "stderr",
          "text": "ic| type(x_train): <class 'torch.Tensor'>\n    x_train.shape: torch.Size([13245, 1, 128])\n    x_train.device: device(type='cuda', index=0)\nic| type(y_train): <class 'torch.Tensor'>\n    y_train.shape: torch.Size([13245])\n    y_train.device: device(type='cpu')\nic| type(x_test): <class 'torch.Tensor'>\n    x_test.shape: torch.Size([13245, 1, 128])\n    x_test.device: device(type='cuda', index=0)\nic| type(y_test): <class 'torch.Tensor'>\n    y_test.shape: torch.Size([13245])\n    y_test.device: device(type='cpu')\n"
        },
        {
          "output_type": "execute_result",
          "execution_count": 8,
          "data": {
            "text/plain": "(torch.Tensor, torch.Size([13245]), device(type='cpu'))"
          },
          "metadata": {}
        }
      ],
      "execution_count": 8,
      "metadata": {
        "gather": {
          "logged": 1631797287420
        }
      }
    },
    {
      "cell_type": "code",
      "source": [
        "x0 = x_train[0, :, :]\n",
        "print(f'x_0: {x0.shape}')\n",
        "x0_unroll = x0.view(-1)\n",
        "print(f'unrolling: {x0_unroll.shape}')\n",
        "indx = np.arange(0, 128)\n",
        "\n",
        "# plt.figure(figsize=(3,3))\n",
        "plt.style.use('dark_background')\n",
        "plt.plot(indx, x0_unroll.cpu())\n",
        "plt.show()"
      ],
      "outputs": [
        {
          "output_type": "stream",
          "name": "stdout",
          "text": "x_0: torch.Size([1, 128])\nunrolling: torch.Size([128])\n"
        },
        {
          "output_type": "display_data",
          "data": {
            "text/plain": "<Figure size 432x288 with 1 Axes>",
            "image/png": "[encoded data removed]"
          },
          "metadata": {}
        }
      ],
      "execution_count": 9,
      "metadata": {
        "gather": {
          "logged": 1631797289523
        }
      }
    },
    {
      "cell_type": "markdown",
      "source": [
        "The client creates the Dataset object and save it in a `.pt` file. \n",
        "If using `duet`, he can send the string path to the server using \n",
        "`sy.lib.python.String(string_path).send(duet, pointable=True, tags=[\"data\"])`"
      ],
      "metadata": {
        "nteract": {
          "transient": {
            "deleting": false
          }
        }
      }
    },
    {
      "cell_type": "code",
      "source": [
        "torch.save(train_dataset, \"train_dataset_cuda.pt\")\n",
        "torch.save(test_dataset, \"test_dataset_cuda.pt\")"
      ],
      "outputs": [],
      "execution_count": 10,
      "metadata": {
        "jupyter": {
          "source_hidden": false,
          "outputs_hidden": false
        },
        "nteract": {
          "transient": {
            "deleting": false
          }
        },
        "gather": {
          "logged": 1631797295190
        }
      }
    },
    {
      "cell_type": "markdown",
      "source": [
        "## Server: creating remote dataset and dataloader"
      ],
      "metadata": {}
    },
    {
      "cell_type": "code",
      "source": [
        "train_rds = RemoteDataset(path='train_dataset_cuda.pt', data_type=\"torch_tensor\")\n",
        "train_rds\n",
        "train_rdl = RemoteDataLoader(remote_dataset=train_rds, batch_size=32)\n",
        "train_rdl_ptr = train_rdl.send(client)\n",
        "ic(train_rdl, train_rdl_ptr)\n",
        "# call create_dataset to create the real Dataset object on remote side\n",
        "train_rdl_ptr.load_dataset()\n",
        "# call create_dataloader to create the real DataLoader object on remote side\n",
        "train_rdl_ptr.create_dataloader()"
      ],
      "outputs": [
        {
          "output_type": "stream",
          "name": "stderr",
          "text": "ic| train_rdl: <syft.core.remote_dataloader.remote_dataloader.RemoteDataLoader object at 0x7fd3005701f0>\n    train_rdl_ptr: <syft.proxy.syft.core.remote_dataloader.RemoteDataLoaderPointer object at 0x7fd2fd8d0a30>\n"
        },
        {
          "output_type": "execute_result",
          "execution_count": 11,
          "data": {
            "text/plain": "<syft.proxy.syft.lib.python._SyNonePointer at 0x7fd2fd8ef520>"
          },
          "metadata": {}
        }
      ],
      "execution_count": 11,
      "metadata": {
        "jupyter": {
          "source_hidden": false,
          "outputs_hidden": false
        },
        "nteract": {
          "transient": {
            "deleting": false
          }
        },
        "gather": {
          "logged": 1631797298528
        }
      }
    },
    {
      "cell_type": "markdown",
      "source": [
        "Testing the remote training data loader"
      ],
      "metadata": {
        "nteract": {
          "transient": {
            "deleting": false
          }
        }
      }
    },
    {
      "cell_type": "code",
      "source": [
        "for i, b in enumerate(train_rdl_ptr):\n",
        "    if i<2:\n",
        "        X, y = b[0], b[1]\n",
        "        ic(X, y)\n",
        "        try:\n",
        "            ic(X.get_copy(), y.get_copy())\n",
        "        except TypeError as e:\n",
        "            ic(e)"
      ],
      "outputs": [
        {
          "output_type": "stream",
          "name": "stderr",
          "text": "ic| X: <syft.proxy.syft.lib.python.AnyPointer object at 0x7fd3003faa60>\n    y: <syft.proxy.syft.lib.python.AnyPointer object at 0x7fd3005117c0>\nic| e: TypeError(\"can't convert cuda:0 device type tensor to numpy. Use Tensor.cpu() to copy the tensor to host memory first.\")\nic| X: <syft.proxy.syft.lib.python.AnyPointer object at 0x7fd2fd9c3940>\n    y: <syft.proxy.syft.lib.python.AnyPointer object at 0x7fd3003fa430>\nic| e: TypeError(\"can't convert cuda:0 device type tensor to numpy. Use Tensor.cpu() to copy the tensor to host memory first.\")\n"
        }
      ],
      "execution_count": 12,
      "metadata": {
        "jupyter": {
          "source_hidden": false,
          "outputs_hidden": false
        },
        "nteract": {
          "transient": {
            "deleting": false
          }
        },
        "gather": {
          "logged": 1631797302557
        }
      }
    },
    {
      "cell_type": "markdown",
      "source": [
        "Similarly, for the test dataset"
      ],
      "metadata": {
        "nteract": {
          "transient": {
            "deleting": false
          }
        }
      }
    },
    {
      "cell_type": "code",
      "source": [
        "test_rds = RemoteDataset(path='test_dataset_cuda.pt', data_type=\"torch_tensor\")\n",
        "test_rdl = RemoteDataLoader(remote_dataset=test_rds, batch_size=32)\n",
        "test_rdl_ptr = test_rdl.send(client)\n",
        "ic(test_rds, test_rdl, test_rdl_ptr)\n",
        "# call create_dataset to create the real Dataset object on remote side\n",
        "test_rdl_ptr.load_dataset()\n",
        "# call create_dataloader to create the real DataLoader object on remote side\n",
        "test_rdl_ptr.create_dataloader()"
      ],
      "outputs": [
        {
          "output_type": "stream",
          "name": "stderr",
          "text": "ic| test_rds: <class 'syft.core.remote_dataloader.remote_dataloader.RemoteDataset'>: torch_tensor\n    test_rdl: <syft.core.remote_dataloader.remote_dataloader.RemoteDataLoader object at 0x7fd300511d60>\n    test_rdl_ptr: <syft.proxy.syft.core.remote_dataloader.RemoteDataLoaderPointer object at 0x7fd2fdad3ca0>\n"
        },
        {
          "output_type": "execute_result",
          "execution_count": 13,
          "data": {
            "text/plain": "<syft.proxy.syft.lib.python._SyNonePointer at 0x7fd2fdae3430>"
          },
          "metadata": {}
        }
      ],
      "execution_count": 13,
      "metadata": {
        "jupyter": {
          "source_hidden": false,
          "outputs_hidden": false
        },
        "nteract": {
          "transient": {
            "deleting": false
          }
        },
        "gather": {
          "logged": 1631797306688
        }
      }
    },
    {
      "cell_type": "code",
      "source": [
        "for i, b in enumerate(test_rdl_ptr):\n",
        "    if i<2:\n",
        "        X, y = b[0], b[1]\n",
        "        ic(X, y)\n",
        "        try:\n",
        "            ic(X.get_copy(), y.get_copy())\n",
        "        except TypeError as e:\n",
        "            ic(e)"
      ],
      "outputs": [
        {
          "output_type": "stream",
          "name": "stderr",
          "text": "ic| X: <syft.proxy.syft.lib.python.AnyPointer object at 0x7fd3023c08e0>\n    y: <syft.proxy.syft.lib.python.AnyPointer object at 0x7fd2fd8d0b20>\nic| e: TypeError(\"can't convert cuda:0 device type tensor to numpy. Use Tensor.cpu() to copy the tensor to host memory first.\")\nic| X: <syft.proxy.syft.lib.python.AnyPointer object at 0x7fd300570a90>\n    y: <syft.proxy.syft.lib.python.AnyPointer object at 0x7fd3003fa250>\nic| e: TypeError(\"can't convert cuda:0 device type tensor to numpy. Use Tensor.cpu() to copy the tensor to host memory first.\")\n"
        }
      ],
      "execution_count": 14,
      "metadata": {
        "jupyter": {
          "source_hidden": false,
          "outputs_hidden": false
        },
        "nteract": {
          "transient": {
            "deleting": false
          }
        },
        "gather": {
          "logged": 1631797307364
        }
      }
    },
    {
      "cell_type": "markdown",
      "source": [
        "## Server: define the spit neural network used to train on the ECG dataset"
      ],
      "metadata": {}
    },
    {
      "cell_type": "markdown",
      "source": [
        "Client's side contains conv layers"
      ],
      "metadata": {
        "nteract": {
          "transient": {
            "deleting": false
          }
        }
      }
    },
    {
      "cell_type": "code",
      "source": [
        "class EcgClient(sy.Module):\n",
        "    # used by the data owners\n",
        "    def __init__(self, torch_ref):\n",
        "        super(EcgClient, self).__init__(torch_ref=torch_ref)\n",
        "        self.conv1 = self.torch_ref.nn.Conv1d(1, 16, 7, padding=3)  # 128 x 16\n",
        "        self.relu1 = self.torch_ref.nn.LeakyReLU()\n",
        "        self.pool1 = self.torch_ref.nn.MaxPool1d(2)  # 64 x 16\n",
        "        self.conv2 = self.torch_ref.nn.Conv1d(16, 16, 5, padding=2)  # 64 x 16\n",
        "        self.relu2 = self.torch_ref.nn.LeakyReLU()\n",
        "        self.pool2 = self.torch_ref.nn.MaxPool1d(2)  # 32 x 16\n",
        "    \n",
        "    def forward(self, x):\n",
        "        x = self.conv1(x)\n",
        "        x = self.relu1(x)\n",
        "        x = self.pool1(x)\n",
        "        x = self.conv2(x)\n",
        "        x = self.relu2(x)\n",
        "        x = self.pool2(x)\n",
        "        x = x.view(-1, 32 * 16)\n",
        "        return x"
      ],
      "outputs": [],
      "execution_count": 15,
      "metadata": {
        "gather": {
          "logged": 1631797307758
        }
      }
    },
    {
      "cell_type": "markdown",
      "source": [
        "Server's side contains fully connected layers"
      ],
      "metadata": {
        "nteract": {
          "transient": {
            "deleting": false
          }
        }
      }
    },
    {
      "cell_type": "code",
      "source": [
        "class EcgServer(sy.Module):\n",
        "    def __init__(self, torch_ref):\n",
        "        super(EcgServer, self).__init__(torch_ref=torch_ref)\n",
        "        self.linear3 = nn.Linear(32 * 16, 128)\n",
        "        self.relu3 = nn.LeakyReLU() \n",
        "        self.linear4 = nn.Linear(128, 5)\n",
        "        self.softmax4 = nn.Softmax(dim=1)\n",
        "        \n",
        "    def forward(self, x):\n",
        "        x = self.linear3(x)\n",
        "        x = self.relu3(x)\n",
        "        x = self.linear4(x)\n",
        "        x = self.softmax4(x)\n",
        "        return x"
      ],
      "outputs": [],
      "execution_count": 16,
      "metadata": {
        "gather": {
          "logged": 1631797308212
        }
      }
    },
    {
      "cell_type": "markdown",
      "source": [
        "## Server: training process"
      ],
      "metadata": {
        "nteract": {
          "transient": {
            "deleting": false
          }
        }
      }
    },
    {
      "cell_type": "code",
      "source": [
        "ecg_client = EcgClient(torch_ref=torch)\n",
        "checkpoint = torch.load(\"init_weight.pth\")\n",
        "ecg_client.conv1.weight.data = checkpoint[\"conv1.weight\"]\n",
        "ecg_client.conv1.bias.data = checkpoint[\"conv1.bias\"]\n",
        "ecg_client.conv2.weight.data = checkpoint[\"conv2.weight\"]\n",
        "ecg_client.conv2.bias.data = checkpoint[\"conv2.bias\"]\n",
        "\n",
        "ecg_server = EcgServer(torch_ref=torch)\n",
        "checkpoint = torch.load(\"init_weight.pth\")\n",
        "ecg_server.linear3.weight.data = checkpoint[\"linear3.weight\"]\n",
        "ecg_server.linear3.bias.data = checkpoint[\"linear3.bias\"]\n",
        "ecg_server.linear4.weight.data = checkpoint[\"linear4.weight\"]\n",
        "ecg_server.linear4.bias.data = checkpoint[\"linear4.bias\"]\n",
        "\n",
        "# Send the client's model to the client\n",
        "ecg_client_ptr = ecg_client.send(client)"
      ],
      "outputs": [],
      "execution_count": 17,
      "metadata": {
        "jupyter": {
          "source_hidden": false,
          "outputs_hidden": false
        },
        "nteract": {
          "transient": {
            "deleting": false
          }
        },
        "gather": {
          "logged": 1631797309420
        }
      }
    },
    {
      "cell_type": "markdown",
      "source": [
        "Putting the models on cuda"
      ],
      "metadata": {
        "nteract": {
          "transient": {
            "deleting": false
          }
        }
      }
    },
    {
      "cell_type": "code",
      "source": [
        "# if the client have CUDA lets send his model to the GPU\n",
        "if client_cuda:\n",
        "    print('putting the client model on cuda')\n",
        "    ecg_client_ptr.cuda(client_device_ptr)\n",
        "else:\n",
        "    ecg_client_ptr.cpu()"
      ],
      "outputs": [
        {
          "output_type": "stream",
          "name": "stdout",
          "text": "putting the client model on cuda\n"
        }
      ],
      "execution_count": 18,
      "metadata": {
        "jupyter": {
          "source_hidden": false,
          "outputs_hidden": false
        },
        "nteract": {
          "transient": {
            "deleting": false
          }
        },
        "gather": {
          "logged": 1631797309972
        }
      }
    },
    {
      "cell_type": "code",
      "source": [
        "# server side\n",
        "server_cuda = torch.cuda.is_available()\n",
        "print(f'server device has CUDA? {server_cuda}')\n",
        "server_device = torch.device('cuda' if torch.cuda.is_available() else 'cpu')\n",
        "print(f\"server's device: {torch.cuda.get_device_name(0)}\")\n",
        "if server_cuda:\n",
        "    print('putting the server model on cuda')\n",
        "    ecg_server.cuda(server_device)\n",
        "else:\n",
        "    ecg_server.cpu()"
      ],
      "outputs": [
        {
          "output_type": "stream",
          "name": "stdout",
          "text": "server device has CUDA? True\nserver's device: Tesla K80\nputting the server model on cuda\n"
        }
      ],
      "execution_count": 19,
      "metadata": {
        "jupyter": {
          "source_hidden": false,
          "outputs_hidden": false
        },
        "nteract": {
          "transient": {
            "deleting": false
          }
        },
        "gather": {
          "logged": 1631797310467
        }
      }
    },
    {
      "cell_type": "markdown",
      "source": [
        "Some hyper-parameters"
      ],
      "metadata": {
        "nteract": {
          "transient": {
            "deleting": false
          }
        }
      }
    },
    {
      "cell_type": "code",
      "source": [
        "total_batch = 414  # 32*414=13248. We have 13245 data samples\n",
        "\n",
        "epoch = 400\n",
        "criterion = nn.CrossEntropyLoss()\n",
        "lr = 0.001\n",
        "\n",
        "optim_client = remote_torch.optim.Adam(params=ecg_client_ptr.parameters(), lr=lr)\n",
        "optim_server = torch.optim.Adam(params=ecg_server.parameters(), lr=lr)\n",
        "\n",
        "seed = 0  # the meaning of life\n",
        "np.random.seed(seed)\n",
        "torch.manual_seed(seed)\n",
        "torch.cuda.manual_seed(seed)\n",
        "torch.cuda.manual_seed_all(seed) # if you are using multi-GPU.\n",
        "torch.backends.cudnn.benchmark = False\n",
        "torch.backends.cudnn.deterministic = True\n",
        "remote_torch.manual_seed(seed)"
      ],
      "outputs": [
        {
          "output_type": "execute_result",
          "execution_count": 20,
          "data": {
            "text/plain": "<syft.proxy.torch.GeneratorPointer at 0x7fd3900aff70>"
          },
          "metadata": {}
        }
      ],
      "execution_count": 20,
      "metadata": {
        "jupyter": {
          "source_hidden": false,
          "outputs_hidden": false
        },
        "nteract": {
          "transient": {
            "deleting": false
          }
        },
        "gather": {
          "logged": 1631797311712
        }
      }
    },
    {
      "cell_type": "markdown",
      "source": [
        "Training (with CUDA)"
      ],
      "metadata": {
        "nteract": {
          "transient": {
            "deleting": false
          }
        }
      }
    },
    {
      "cell_type": "code",
      "source": [
        "train_losses = list()\n",
        "train_accs = list()\n",
        "test_losses = list()\n",
        "test_accs = list()\n",
        "best_test_acc = 0  # best test accuracy\n",
        "for e in range(epoch):\n",
        "    print(f\"Epoch {e+1} - train \", end='')\n",
        "    \n",
        "    train_loss = 0.0\n",
        "    correct, total = 0, 0\n",
        "    for i, batch in enumerate(tqdm(train_rdl_ptr)):\n",
        "        # if i == 10: break\n",
        "        x_ptr, y_gt_ptr = batch[0], batch[1]\n",
        "        # initialize all gradients to zero\n",
        "        optim_server.zero_grad()\n",
        "        optim_client.zero_grad()\n",
        "        # compute and get the activation signals from the client model\n",
        "        activs_ptr = ecg_client_ptr(x_ptr)\n",
        "        activs_ptr_cpu = activs_ptr.cpu()\n",
        "        # the server still gets access to plain activation signals\n",
        "        activs = activs_ptr_cpu.clone().get(request_block=True)\n",
        "        # the server continues the forward pass on the activation maps\n",
        "        y_hat = ecg_server(activs.to(server_device))\n",
        "        # the server asks to access ground truths in plain text\n",
        "        y_gt = y_gt_ptr.get_copy().to(server_device)\n",
        "        # calculates cross-entropy loss\n",
        "        loss = criterion(y_hat, y_gt)\n",
        "        train_loss += loss.item()\n",
        "        correct += torch.sum(y_hat.argmax(dim=1) == y_gt).item()\n",
        "        # backward propagation (calculating gradients of the loss w.r.t the weights)\n",
        "        loss.backward()\n",
        "        # send the gradients to the client\n",
        "        client_grad_ptr = activs.grad.clone().send(client)\n",
        "        # update the gradients of the client's model\n",
        "        activs_ptr.backward(client_grad_ptr.cuda())\n",
        "        # update the weights based on the gradients\n",
        "        optim_client.step()\n",
        "        optim_server.step()\n",
        "        total += len(y_gt)\n",
        "\n",
        "    train_losses.append(train_loss / total_batch)\n",
        "    train_accs.append(correct / total)\n",
        "\n",
        "    print(f'loss: {train_losses[-1]: .4f}, accuracy: {train_accs[-1]*100: 2f}')\n",
        "\n",
        "    # testing\n",
        "    with torch.no_grad():  \n",
        "        test_loss = 0.0\n",
        "        correct, total = 0, 0\n",
        "        for i, batch in enumerate(tqdm(test_rdl_ptr)):\n",
        "            # if i == 10: break\n",
        "            x_ptr, y_gt_ptr = batch[0], batch[1]\n",
        "            # forward pass\n",
        "            activs_ptr = ecg_client_ptr(x_ptr)\n",
        "            activs_ptr_cpu = activs_ptr.cpu()\n",
        "            activs = activs_ptr_cpu.clone().get(request_block=True)\n",
        "            y_hat = ecg_server(activs.to(server_device))\n",
        "            # the server asks to access ground truths in plain text\n",
        "            y_gt = y_gt_ptr.get_copy().to(server_device)\n",
        "            # calculate test loss\n",
        "            loss = criterion(y_hat, y_gt)\n",
        "            test_loss += loss.item()\n",
        "            correct += torch.sum(y_hat.argmax(dim=1) == y_gt).item()\n",
        "            total += len(y_gt)\n",
        "\n",
        "        test_losses.append(test_loss / total_batch)\n",
        "        test_accs.append(correct / total)\n",
        "        print(f'test_loss: {test_losses[-1]: .4f}, test_acc: {test_accs[-1]*100: 2f}')\n",
        "        \n",
        "    if test_accs[-1] > best_test_acc:\n",
        "        best_test_acc = test_accs[-1]"
      ],
      "outputs": [
        {
          "output_type": "stream",
          "name": "stdout",
          "text": "Epoch 1 - train loss:  1.0772, accuracy:  83.873160\ntest_loss:  1.0587, test_acc:  85.330313\nEpoch 2 - train loss:  1.0502, accuracy:  85.881465\ntest_loss:  1.0339, test_acc:  87.436769\nEpoch 3 - train loss:  1.0407, accuracy:  86.674217\ntest_loss:  1.0279, test_acc:  88.055870\nEpoch 4 - train loss:  1.0361, accuracy:  87.051718\ntest_loss:  1.0236, test_acc:  88.252171\nEpoch 5 - train loss:  1.0308, accuracy:  87.602869\ntest_loss:  1.0354, test_acc:  87.240468\nEpoch 6 - train loss:  1.0316, accuracy:  87.421669\ntest_loss:  1.0199, test_acc:  88.576821\nEpoch 7 - train loss:  1.0273, accuracy:  87.791619\ntest_loss:  1.0215, test_acc:  88.440921\nEpoch 8 - train loss:  1.0247, accuracy:  88.048320\ntest_loss:  1.0191, test_acc:  88.546621\nEpoch 9 - train loss:  1.0221, accuracy:  88.229521\ntest_loss:  1.0142, test_acc:  89.022273\nEpoch 10 - train loss:  1.0220, accuracy:  88.274821\ntest_loss:  1.0174, test_acc:  88.780672\nEpoch 11 - train loss:  1.0201, accuracy:  88.365421\ntest_loss:  1.0138, test_acc:  89.014723\nEpoch 12 - train loss:  1.0177, accuracy:  88.652322\ntest_loss:  1.0136, test_acc:  89.143073\nEpoch 13 - train loss:  1.0167, accuracy:  88.810872\ntest_loss:  1.0112, test_acc:  89.324273\nEpoch 14 - train loss:  1.0167, accuracy:  88.674972\ntest_loss:  1.0095, test_acc:  89.286523\nEpoch 15 - train loss:  1.0155, accuracy:  88.841072\ntest_loss:  1.0085, test_acc:  89.550774\nEpoch 16 - train loss:  1.0162, accuracy:  88.720272\ntest_loss:  1.0086, test_acc:  89.626274\nEpoch 17 - train loss:  1.0132, accuracy:  89.060023\ntest_loss:  1.0076, test_acc:  89.565874\nEpoch 18 - train loss:  1.0107, accuracy:  89.278973\ntest_loss:  1.0059, test_acc:  89.716874\nEpoch 19 - train loss:  1.0121, accuracy:  89.165723\ntest_loss:  1.0096, test_acc:  89.505474\nEpoch 20 - train loss:  1.0102, accuracy:  89.377123\ntest_loss:  1.0062, test_acc:  89.694224\nEpoch 21 - train loss:  1.0102, accuracy:  89.271423\ntest_loss:  1.0056, test_acc:  89.731974\nEpoch 22 - train loss:  1.0084, accuracy:  89.528124\ntest_loss:  1.0030, test_acc:  89.958475\nEpoch 23 - train loss:  1.0095, accuracy:  89.407324\ntest_loss:  1.0047, test_acc:  89.815025\nEpoch 24 - train loss:  1.0092, accuracy:  89.392223\ntest_loss:  1.0041, test_acc:  89.860325\nEpoch 25 - train loss:  1.0069, accuracy:  89.633824\ntest_loss:  1.0047, test_acc:  89.822575\nEpoch 26 - train loss:  1.0066, accuracy:  89.656474\ntest_loss:  1.0045, test_acc:  89.913175\nEpoch 27 - train loss:  1.0065, accuracy:  89.686674\ntest_loss:  1.0030, test_acc:  90.018875\nEpoch 28 - train loss:  1.0078, accuracy:  89.497924\ntest_loss:  1.0038, test_acc:  89.988675\nEpoch 29 - train loss:  1.0054, accuracy:  89.807475\ntest_loss:  1.0035, test_acc:  90.041525\nEpoch 30 - train loss:  1.0057, accuracy:  89.686674\ntest_loss:  1.0018, test_acc:  90.124575\nEpoch 31 - train loss:  1.0043, accuracy:  89.890525\ntest_loss:  1.0008, test_acc:  90.147225\nEpoch 32 - train loss:  1.0048, accuracy:  89.830125\ntest_loss:  1.0018, test_acc:  90.094375\nEpoch 33 - train loss:  1.0048, accuracy:  89.769724\ntest_loss:  1.0042, test_acc:  89.867875\nEpoch 34 - train loss:  1.0042, accuracy:  89.837675\ntest_loss:  1.0001, test_acc:  90.215176\nEpoch 35 - train loss:  1.0050, accuracy:  89.784824\ntest_loss:  0.9994, test_acc:  90.268026\nEpoch 36 - train loss:  1.0032, accuracy:  89.943375\ntest_loss:  0.9988, test_acc:  90.351076\nEpoch 37 - train loss:  1.0028, accuracy:  89.973575\ntest_loss:  1.0000, test_acc:  90.245376\nEpoch 38 - train loss:  1.0028, accuracy:  90.018875\ntest_loss:  0.9978, test_acc:  90.479426\nEpoch 39 - train loss:  1.0019, accuracy:  90.094375\ntest_loss:  1.0025, test_acc:  90.041525\nEpoch 40 - train loss:  1.0021, accuracy:  90.018875\ntest_loss:  0.9976, test_acc:  90.479426\nEpoch 41 - train loss:  1.0019, accuracy:  90.079275\ntest_loss:  1.0001, test_acc:  90.192525\nEpoch 42 - train loss:  1.0019, accuracy:  90.079275\ntest_loss:  0.9980, test_acc:  90.396376\nEpoch 43 - train loss:  1.0018, accuracy:  90.041525\ntest_loss:  0.9988, test_acc:  90.426576\nEpoch 44 - train loss:  1.0008, accuracy:  90.132125\ntest_loss:  0.9986, test_acc:  90.366176\nEpoch 45 - train loss:  0.9999, accuracy:  90.222726\ntest_loss:  0.9975, test_acc:  90.419026\nEpoch 46 - train loss:  1.0020, accuracy:  90.018875\ntest_loss:  1.0019, test_acc:  90.086825\nEpoch 47 - train loss:  1.0006, accuracy:  90.192525\ntest_loss:  0.9970, test_acc:  90.502076\nEpoch 48 - train loss:  0.9999, accuracy:  90.222726\ntest_loss:  0.9968, test_acc:  90.554926\nEpoch 49 - train loss:  0.9998, accuracy:  90.222726\ntest_loss:  0.9968, test_acc:  90.479426\nEpoch 50 - train loss:  0.9992, accuracy:  90.283126\ntest_loss:  0.9980, test_acc:  90.403926\nEpoch 51 - train "
        },
        {
          "output_type": "stream",
          "name": "stderr",
          "text": "100%|██████████| 414/414 [01:10<00:00,  5.89it/s]\n100%|██████████| 414/414 [01:03<00:00,  6.51it/s]\n100%|██████████| 414/414 [01:10<00:00,  5.89it/s]\n100%|██████████| 414/414 [01:03<00:00,  6.49it/s]\n100%|██████████| 414/414 [01:10<00:00,  5.86it/s]\n100%|██████████| 414/414 [01:04<00:00,  6.41it/s]\n100%|██████████| 414/414 [01:10<00:00,  5.85it/s]\n100%|██████████| 414/414 [01:04<00:00,  6.41it/s]\n100%|██████████| 414/414 [01:11<00:00,  5.80it/s]\n100%|██████████| 414/414 [01:04<00:00,  6.37it/s]\n100%|██████████| 414/414 [01:11<00:00,  5.81it/s]\n100%|██████████| 414/414 [01:04<00:00,  6.39it/s]\n100%|██████████| 414/414 [01:11<00:00,  5.75it/s]\n100%|██████████| 414/414 [01:04<00:00,  6.37it/s]\n100%|██████████| 414/414 [01:10<00:00,  5.84it/s]\n100%|██████████| 414/414 [01:04<00:00,  6.47it/s]\n100%|██████████| 414/414 [01:10<00:00,  5.87it/s]\n100%|██████████| 414/414 [01:03<00:00,  6.47it/s]\n100%|██████████| 414/414 [01:10<00:00,  5.84it/s]\n100%|██████████| 414/414 [01:04<00:00,  6.45it/s]\n100%|██████████| 414/414 [01:10<00:00,  5.85it/s]\n100%|██████████| 414/414 [01:04<00:00,  6.45it/s]\n100%|██████████| 414/414 [01:10<00:00,  5.85it/s]\n100%|██████████| 414/414 [01:04<00:00,  6.44it/s]\n100%|██████████| 414/414 [01:11<00:00,  5.82it/s]\n100%|██████████| 414/414 [01:04<00:00,  6.43it/s]\n100%|██████████| 414/414 [01:10<00:00,  5.84it/s]\n100%|██████████| 414/414 [01:04<00:00,  6.47it/s]\n100%|██████████| 414/414 [01:10<00:00,  5.86it/s]\n100%|██████████| 414/414 [01:04<00:00,  6.47it/s]\n100%|██████████| 414/414 [01:10<00:00,  5.86it/s]\n100%|██████████| 414/414 [01:03<00:00,  6.48it/s]\n100%|██████████| 414/414 [01:10<00:00,  5.86it/s]\n100%|██████████| 414/414 [01:04<00:00,  6.46it/s]\n100%|██████████| 414/414 [01:10<00:00,  5.88it/s]\n100%|██████████| 414/414 [01:04<00:00,  6.46it/s]\n100%|██████████| 414/414 [01:10<00:00,  5.85it/s]\n100%|██████████| 414/414 [01:03<00:00,  6.48it/s]\n100%|██████████| 414/414 [01:10<00:00,  5.87it/s]\n100%|██████████| 414/414 [01:03<00:00,  6.49it/s]\n100%|██████████| 414/414 [01:10<00:00,  5.86it/s]\n100%|██████████| 414/414 [01:04<00:00,  6.46it/s]\n100%|██████████| 414/414 [01:10<00:00,  5.86it/s]\n100%|██████████| 414/414 [01:04<00:00,  6.45it/s]\n100%|██████████| 414/414 [01:10<00:00,  5.86it/s]\n100%|██████████| 414/414 [01:04<00:00,  6.46it/s]\n100%|██████████| 414/414 [01:10<00:00,  5.86it/s]\n100%|██████████| 414/414 [01:04<00:00,  6.45it/s]\n100%|██████████| 414/414 [01:13<00:00,  5.66it/s]\n100%|██████████| 414/414 [01:04<00:00,  6.43it/s]\n100%|██████████| 414/414 [01:11<00:00,  5.81it/s]\n100%|██████████| 414/414 [01:04<00:00,  6.42it/s]\n100%|██████████| 414/414 [01:10<00:00,  5.84it/s]\n100%|██████████| 414/414 [01:03<00:00,  6.48it/s]\n100%|██████████| 414/414 [01:10<00:00,  5.86it/s]\n100%|██████████| 414/414 [01:04<00:00,  6.45it/s]\n100%|██████████| 414/414 [01:10<00:00,  5.85it/s]\n100%|██████████| 414/414 [01:04<00:00,  6.46it/s]\n100%|██████████| 414/414 [01:10<00:00,  5.88it/s]\n100%|██████████| 414/414 [01:04<00:00,  6.46it/s]\n100%|██████████| 414/414 [01:10<00:00,  5.86it/s]\n100%|██████████| 414/414 [01:03<00:00,  6.47it/s]\n100%|██████████| 414/414 [01:10<00:00,  5.86it/s]\n100%|██████████| 414/414 [01:03<00:00,  6.48it/s]\n100%|██████████| 414/414 [01:10<00:00,  5.85it/s]\n100%|██████████| 414/414 [01:03<00:00,  6.47it/s]\n100%|██████████| 414/414 [01:10<00:00,  5.86it/s]\n100%|██████████| 414/414 [01:04<00:00,  6.44it/s]\n100%|██████████| 414/414 [01:10<00:00,  5.86it/s]\n100%|██████████| 414/414 [01:04<00:00,  6.47it/s]\n100%|██████████| 414/414 [01:10<00:00,  5.87it/s]\n100%|██████████| 414/414 [01:04<00:00,  6.46it/s]\n100%|██████████| 414/414 [01:10<00:00,  5.87it/s]\n100%|██████████| 414/414 [01:04<00:00,  6.46it/s]\n100%|██████████| 414/414 [01:10<00:00,  5.87it/s]\n100%|██████████| 414/414 [01:04<00:00,  6.47it/s]\n100%|██████████| 414/414 [01:10<00:00,  5.86it/s]\n100%|██████████| 414/414 [01:04<00:00,  6.46it/s]\n100%|██████████| 414/414 [01:10<00:00,  5.87it/s]\n100%|██████████| 414/414 [01:04<00:00,  6.47it/s]\n100%|██████████| 414/414 [01:10<00:00,  5.86it/s]\n100%|██████████| 414/414 [01:04<00:00,  6.46it/s]\n100%|██████████| 414/414 [01:10<00:00,  5.86it/s]\n100%|██████████| 414/414 [01:04<00:00,  6.46it/s]\n100%|██████████| 414/414 [01:10<00:00,  5.87it/s]\n100%|██████████| 414/414 [01:04<00:00,  6.47it/s]\n100%|██████████| 414/414 [01:10<00:00,  5.87it/s]\n100%|██████████| 414/414 [01:04<00:00,  6.47it/s]\n100%|██████████| 414/414 [01:10<00:00,  5.88it/s]\n100%|██████████| 414/414 [01:04<00:00,  6.45it/s]\n100%|██████████| 414/414 [01:10<00:00,  5.87it/s]\n100%|██████████| 414/414 [01:03<00:00,  6.47it/s]\n100%|██████████| 414/414 [01:10<00:00,  5.84it/s]\n100%|██████████| 414/414 [01:04<00:00,  6.45it/s]\n100%|██████████| 414/414 [01:10<00:00,  5.84it/s]\n100%|██████████| 414/414 [01:04<00:00,  6.44it/s]\n100%|██████████| 414/414 [01:11<00:00,  5.83it/s]\n100%|██████████| 414/414 [01:04<00:00,  6.44it/s]\n100%|██████████| 414/414 [01:10<00:00,  5.85it/s]\n100%|██████████| 414/414 [01:03<00:00,  6.48it/s]\n  2%|▏         | 7/414 [00:01<01:10,  5.76it/s]"
        }
      ],
      "execution_count": 24,
      "metadata": {
        "jupyter": {
          "source_hidden": false,
          "outputs_hidden": false
        },
        "nteract": {
          "transient": {
            "deleting": false
          }
        },
        "gather": {
          "logged": 1631784675283
        }
      }
    },
    {
      "cell_type": "code",
      "source": [],
      "outputs": [],
      "execution_count": null,
      "metadata": {
        "jupyter": {
          "source_hidden": false,
          "outputs_hidden": false
        },
        "nteract": {
          "transient": {
            "deleting": false
          }
        }
      }
    }
  ],
  "metadata": {
    "kernelspec": {
      "name": "syftenv",
      "language": "python",
      "display_name": "syft"
    },
    "kernel_info": {
      "name": "syftenv"
    },
    "nteract": {
      "version": "nteract-front-end@1.0.0"
    },
    "microsoft": {
      "host": {
        "AzureML": {
          "notebookHasBeenCompleted": true
        }
      }
    },
    "language_info": {
      "name": "python",
      "version": "3.9.6",
      "mimetype": "text/x-python",
      "codemirror_mode": {
        "name": "ipython",
        "version": 3
      },
      "pygments_lexer": "ipython3",
      "nbconvert_exporter": "python",
      "file_extension": ".py"
    },
    "interpreter": {
      "hash": "870a257bdc5888c6c86cab99e489c6f2724cdfe1684d5990b9d7489b2d46bf07"
    }
  },
  "nbformat": 4,
  "nbformat_minor": 2
}