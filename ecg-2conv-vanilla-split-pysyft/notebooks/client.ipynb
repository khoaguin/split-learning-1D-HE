{
  "cells": [
    {
      "cell_type": "markdown",
      "source": [
        "# ECG Split 1D-CNN using PySyft (Client Side)"
      ],
      "metadata": {}
    },
    {
      "cell_type": "markdown",
      "source": [
        "This code is the client part of ECG split 1D-CNN model for **single** client and a server."
      ],
      "metadata": {}
    },
    {
      "cell_type": "markdown",
      "source": [
        "## Import required packages"
      ],
      "metadata": {}
    },
    {
      "cell_type": "code",
      "source": [
        "from pathlib import Path\n",
        "import h5py\n",
        "import numpy as np\n",
        "\n",
        "import torch\n",
        "import torch.nn as nn\n",
        "from torch.utils.data import Dataset, DataLoader\n",
        "from torch.optim import Adam, SGD\n",
        "# torch.set_default_tensor_type('torch.cuda.FloatTensor')\n",
        "\n",
        "import syft as sy\n",
        "\n",
        "print(torch.__version__)\n",
        "print(sy.__version__)"
      ],
      "outputs": [
        {
          "output_type": "stream",
          "name": "stdout",
          "text": "1.8.1+cu102\n0.5.0\n"
        }
      ],
      "execution_count": 1,
      "metadata": {
        "gather": {
          "logged": 1630658663600
        }
      }
    },
    {
      "cell_type": "code",
      "source": [
        "project_path = Path.cwd().parent\n",
        "project_path"
      ],
      "outputs": [
        {
          "output_type": "execute_result",
          "execution_count": 2,
          "data": {
            "text/plain": "PosixPath('/mnt/batch/tasks/shared/LS_root/mounts/clusters/splitlearningcomputer/code/Users/dkn.work/split-learning-1D-HE')"
          },
          "metadata": {}
        }
      ],
      "execution_count": 2,
      "metadata": {
        "gather": {
          "logged": 1630658663915
        }
      }
    },
    {
      "cell_type": "code",
      "source": [
        "data_dir = 'mitdb'\n",
        "train_name = 'train_ecg.hdf5'\n",
        "test_name = 'test_ecg.hdf5'\n",
        "all_name = 'all_ecg.hdf5'\n",
        "\n",
        "model_dir = 'model'\n",
        "model_name = 'conv2'\n",
        "model_ext = '.pth'\n",
        "\n",
        "csv_dir = 'csv'\n",
        "csv_ext = '.csv'\n",
        "\n",
        "csv_name = 'conv2'\n",
        "csv_accs_name = 'accs_conv2'"
      ],
      "outputs": [],
      "execution_count": 3,
      "metadata": {
        "gather": {
          "logged": 1630658664134
        }
      }
    },
    {
      "cell_type": "markdown",
      "source": [
        "## Define ECG dataset class"
      ],
      "metadata": {}
    },
    {
      "cell_type": "code",
      "source": [
        "class ECG(Dataset):\n",
        "    def __init__(self, mode='train'):\n",
        "        if mode == 'train':\n",
        "            with h5py.File(project_path/data_dir/train_name, 'r') as hdf:\n",
        "                self.x = hdf['x_train'][:]\n",
        "                self.y = hdf['y_train'][:]\n",
        "        elif mode == 'test':\n",
        "            with h5py.File(project_path/data_dir/test_name, 'r') as hdf:\n",
        "                self.x = hdf['x_test'][:]\n",
        "                self.y = hdf['y_test'][:]\n",
        "        else:\n",
        "            raise ValueError('Argument of mode should be train or test')\n",
        "    \n",
        "    def __len__(self):\n",
        "        return len(self.x)\n",
        "    \n",
        "    def __getitem__(self, idx):\n",
        "        return torch.tensor(self.x[idx], dtype=torch.float), torch.tensor(self.y[idx])"
      ],
      "outputs": [],
      "execution_count": 4,
      "metadata": {
        "gather": {
          "logged": 1630658664324
        }
      }
    },
    {
      "cell_type": "markdown",
      "source": [
        "## Make train and test dataset batch generator"
      ],
      "metadata": {}
    },
    {
      "cell_type": "code",
      "source": [
        "train_dataset = ECG(mode='train')\n",
        "test_dataset = ECG(mode='test')"
      ],
      "outputs": [],
      "execution_count": 5,
      "metadata": {
        "gather": {
          "logged": 1630658664672
        }
      }
    },
    {
      "cell_type": "code",
      "source": [
        "train_loader = DataLoader(train_dataset, batch_size=len(train_dataset))\n",
        "test_loader = DataLoader(test_dataset, batch_size=len(test_dataset))\n",
        "print(f'type of train_loader: {type(train_loader)}')\n",
        "print(f'type of test_loader: {type(test_loader)}')"
      ],
      "outputs": [
        {
          "output_type": "stream",
          "name": "stdout",
          "text": "type of train_loader: <class 'torch.utils.data.dataloader.DataLoader'>\ntype of test_loader: <class 'torch.utils.data.dataloader.DataLoader'>\n"
        }
      ],
      "execution_count": 6,
      "metadata": {
        "collapsed": true,
        "jupyter": {
          "source_hidden": false,
          "outputs_hidden": false
        },
        "nteract": {
          "transient": {
            "deleting": false
          }
        },
        "gather": {
          "logged": 1630658664883
        }
      }
    },
    {
      "cell_type": "markdown",
      "source": [
        "Use `batch_size=len(train_dataset)` to get the whole dataset"
      ],
      "metadata": {
        "nteract": {
          "transient": {
            "deleting": false
          }
        }
      }
    },
    {
      "cell_type": "code",
      "source": [
        "x_train, y_train = next(iter(train_loader))\n",
        "x_test, y_test = next(iter(test_loader))\n",
        "print(f'x_train: {type(x_train)}, {x_train.size()}')\n",
        "print(f'y_train: {type(y_train)}, {y_train.size()}')\n",
        "print(f'x_test: {type(x_test)}, {x_test.size()}')\n",
        "print(f'y_test: {type(y_test)}, {y_test.size()}')"
      ],
      "outputs": [
        {
          "output_type": "stream",
          "name": "stdout",
          "text": "x_train: <class 'torch.Tensor'>, torch.Size([13245, 1, 128])\ny_train: <class 'torch.Tensor'>, torch.Size([13245])\nx_test: <class 'torch.Tensor'>, torch.Size([13245, 1, 128])\ny_test: <class 'torch.Tensor'>, torch.Size([13245])\n"
        }
      ],
      "execution_count": 7,
      "metadata": {
        "collapsed": true,
        "jupyter": {
          "source_hidden": false,
          "outputs_hidden": false
        },
        "nteract": {
          "transient": {
            "deleting": false
          }
        },
        "gather": {
          "logged": 1630658665358
        }
      }
    },
    {
      "cell_type": "code",
      "source": [
        "x_train.device"
      ],
      "outputs": [
        {
          "output_type": "execute_result",
          "execution_count": 8,
          "data": {
            "text/plain": "device(type='cpu')"
          },
          "metadata": {}
        }
      ],
      "execution_count": 8,
      "metadata": {
        "collapsed": true,
        "jupyter": {
          "source_hidden": false,
          "outputs_hidden": false
        },
        "nteract": {
          "transient": {
            "deleting": false
          }
        },
        "gather": {
          "logged": 1630658665585
        }
      }
    },
    {
      "cell_type": "markdown",
      "source": [
        "## Upload the pointers of the dataset to duet so that the server can search, but cannot view or retrieve the data without the client's permission"
      ],
      "metadata": {
        "nteract": {
          "transient": {
            "deleting": false
          }
        }
      }
    },
    {
      "cell_type": "code",
      "source": [
        "# duet = sy.duet(loopback=True)\n",
        "duet = sy.duet()"
      ],
      "outputs": [
        {
          "output_type": "stream",
          "name": "stdout",
          "text": "🎤  🎸  ♪♪♪ Starting Duet ♫♫♫  🎻  🎹\n\n♫♫♫ >\u001b[93m DISCLAIMER\u001b[0m: \u001b[1mDuet is an experimental feature currently in beta.\n♫♫♫ > Use at your own risk.\n\u001b[0m\n\u001b[1m\n    > ❤️ \u001b[91mLove\u001b[0m \u001b[92mDuet\u001b[0m? \u001b[93mPlease\u001b[0m \u001b[94mconsider\u001b[0m \u001b[95msupporting\u001b[0m \u001b[91mour\u001b[0m \u001b[93mcommunity!\u001b[0m\n    > https://github.com/sponsors/OpenMined\u001b[1m\n\n♫♫♫ > Punching through firewall to OpenGrid Network Node at:\n♫♫♫ > http://ec2-18-218-7-180.us-east-2.compute.amazonaws.com:5000\n♫♫♫ >\n♫♫♫ > ...waiting for response from OpenGrid Network... \n♫♫♫ > \u001b[92mDONE!\u001b[0m\n♫♫♫ > Duet Server ID: \u001b[1m332b215d80ccbd33aeedfc2ce640ba00\u001b[0m\n\n♫♫♫ > \u001b[95mSTEP 1:\u001b[0m Send the following code to your Duet Partner!\n\nimport syft as sy\nduet = sy.duet(\"\u001b[1m332b215d80ccbd33aeedfc2ce640ba00\u001b[0m\")\n\n♫♫♫ > \u001b[95mSTEP 2:\u001b[0m Ask your partner for their Client ID and enter it below!\n\n♫♫♫ > Connecting...\n\n♫♫♫ > \u001b[92mCONNECTED!\u001b[0m\n\n♫♫♫ > DUET LIVE STATUS  *  Objects: 25  \u001b[91mRequests:\u001b[0m\u001b[1m>\u001b[0m1\u001b[1m<\u001b[0m  Messages: 306  Request Handlers: 1                                \r♫♫♫ > DUET LIVE STATUS  -  Objects: 23  Requests: 0   Messages: 439  Request Handlers: 1                                \r"
        }
      ],
      "execution_count": 9,
      "metadata": {
        "collapsed": true,
        "jupyter": {
          "source_hidden": false,
          "outputs_hidden": false
        },
        "nteract": {
          "transient": {
            "deleting": false
          }
        },
        "gather": {
          "logged": 1630658703835
        }
      }
    },
    {
      "cell_type": "code",
      "source": [
        "x_train.send(duet, pointable=True, tags=[\"x_train\"],\n",
        "                                    description=\"training input data\")\n",
        "y_train.send(duet, pointable=True, tags=[\"y_train\"],\n",
        "                                    description=\"training output data\")\n",
        "x_test.send(duet, pointable=True, tags=[\"x_test\"],\n",
        "                                    description=\"testing input data\")\n",
        "y_test.send(duet, pointable=True, tags=[\"y_test\"],\n",
        "                                    description=\"testing output data\")"
      ],
      "outputs": [
        {
          "output_type": "execute_result",
          "execution_count": 10,
          "data": {
            "text/plain": "<syft.proxy.torch.TensorPointer at 0x7f8c7cc1bdf0>"
          },
          "metadata": {}
        },
        {
          "output_type": "stream",
          "name": "stderr",
          "text": "[2021-09-03T08:45:21.343534+0000][CRITICAL][logger]][13006] You do not have permission to .get() Object with ID: <UID: 8d5ca6451cfd44f28d08d509da157840>Please submit a request.\n[2021-09-03T08:45:21.344111+0000][CRITICAL][logger]][13006] You do not have permission to .get() Object with ID: <UID: 8d5ca6451cfd44f28d08d509da157840>Please submit a request.\n"
        }
      ],
      "execution_count": 10,
      "metadata": {
        "collapsed": true,
        "jupyter": {
          "source_hidden": false,
          "outputs_hidden": false
        },
        "nteract": {
          "transient": {
            "deleting": false
          }
        },
        "gather": {
          "logged": 1630658708658
        }
      }
    },
    {
      "cell_type": "markdown",
      "source": [
        "Add `action=\"accept\"` handler for convenience. \n",
        "The server should only ask to access the activation signals and the ground truth labels"
      ],
      "metadata": {
        "nteract": {
          "transient": {
            "deleting": false
          }
        }
      }
    },
    {
      "cell_type": "code",
      "source": [
        "duet.requests.add_handler(action=\"accept\")"
      ],
      "outputs": [
        {
          "output_type": "stream",
          "name": "stderr",
          "text": "[2021-09-03T08:47:12.623166+0000][CRITICAL][logger]][13006] Input type (torch.FloatTensor) and weight type (torch.cuda.FloatTensor) should be the same\n[2021-09-03T08:47:12.623777+0000][CRITICAL][logger]][13006] Input type (torch.FloatTensor) and weight type (torch.cuda.FloatTensor) should be the same\nException in callback AsyncIOEventEmitter._emit_run.<locals>._callback(<Task finishe...be the same')>) at /anaconda/envs/SyftEnv2/lib/python3.9/site-packages/pyee/_asyncio.py:57\nhandle: <Handle AsyncIOEventEmitter._emit_run.<locals>._callback(<Task finishe...be the same')>) at /anaconda/envs/SyftEnv2/lib/python3.9/site-packages/pyee/_asyncio.py:57>\nTraceback (most recent call last):\n  File \"/anaconda/envs/SyftEnv2/lib/python3.9/asyncio/events.py\", line 80, in _run\n    self._context.run(self._callback, *self._args)\n  File \"/anaconda/envs/SyftEnv2/lib/python3.9/site-packages/pyee/_asyncio.py\", line 64, in _callback\n    self.emit(\"error\", exc)\n  File \"/anaconda/envs/SyftEnv2/lib/python3.9/site-packages/pyee/_base.py\", line 118, in emit\n    self._emit_handle_potential_error(event, args[0] if args else None)\n  File \"/anaconda/envs/SyftEnv2/lib/python3.9/site-packages/pyee/_base.py\", line 88, in _emit_handle_potential_error\n    raise error\n  File \"/anaconda/envs/SyftEnv2/lib/python3.9/asyncio/tasks.py\", line 256, in __step\n    result = coro.send(None)\n  File \"/anaconda/envs/SyftEnv2/lib/python3.9/site-packages/syft/grid/connections/webrtc.py\", line 233, in on_message\n    await self.consumer(msg=message)\n  File \"/anaconda/envs/SyftEnv2/lib/python3.9/site-packages/syft/grid/connections/webrtc.py\", line 449, in consumer\n    traceback_and_raise(e)\n  File \"/anaconda/envs/SyftEnv2/lib/python3.9/site-packages/syft/logger.py\", line 61, in traceback_and_raise\n    raise e\n  File \"/anaconda/envs/SyftEnv2/lib/python3.9/site-packages/syft/grid/connections/webrtc.py\", line 434, in consumer\n    self.recv_immediate_msg_without_reply(msg=_msg)\n  File \"/anaconda/envs/SyftEnv2/lib/python3.9/site-packages/syft/grid/connections/webrtc.py\", line 490, in recv_immediate_msg_without_reply\n    traceback_and_raise(e)\n  File \"/anaconda/envs/SyftEnv2/lib/python3.9/site-packages/syft/logger.py\", line 61, in traceback_and_raise\n    raise e\n  File \"/anaconda/envs/SyftEnv2/lib/python3.9/site-packages/syft/grid/connections/webrtc.py\", line 485, in recv_immediate_msg_without_reply\n    self.node.recv_immediate_msg_without_reply(msg=msg)\n  File \"/anaconda/envs/SyftEnv2/lib/python3.9/site-packages/syft/core/node/common/node.py\", line 399, in recv_immediate_msg_without_reply\n    self.process_message(msg=msg, router=self.immediate_msg_without_reply_router)\n  File \"/anaconda/envs/SyftEnv2/lib/python3.9/site-packages/syft/core/node/common/node.py\", line 481, in process_message\n    result = service.process(\n  File \"/anaconda/envs/SyftEnv2/lib/python3.9/site-packages/syft/core/node/common/service/obj_action_service.py\", line 27, in process\n    msg.execute_action(node=node, verify_key=verify_key)\n  File \"/anaconda/envs/SyftEnv2/lib/python3.9/site-packages/syft/core/node/common/action/run_class_method_action.py\", line 194, in execute_action\n    result = method(*upcasted_args, **upcasted_kwargs)\n  File \"/anaconda/envs/SyftEnv2/lib/python3.9/site-packages/torch/nn/modules/module.py\", line 889, in _call_impl\n    result = self.forward(*input, **kwargs)\n  File \"/anaconda/envs/SyftEnv2/lib/python3.9/site-packages/torch/nn/modules/conv.py\", line 263, in forward\n    return self._conv_forward(input, self.weight, self.bias)\n  File \"/anaconda/envs/SyftEnv2/lib/python3.9/site-packages/torch/nn/modules/conv.py\", line 259, in _conv_forward\n    return F.conv1d(input, weight, bias, self.stride,\nRuntimeError: Input type (torch.FloatTensor) and weight type (torch.cuda.FloatTensor) should be the same\n[2021-09-03T08:47:12.627855+0000][CRITICAL][logger]][13006] <class 'syft.core.store.store_memory.MemoryStore'> __getitem__ error <UID: fce811e5e92f4a10b85eb7b4796dd92a> <UID: fce811e5e92f4a10b85eb7b4796dd92a>\n[2021-09-03T08:47:12.628302+0000][CRITICAL][logger]][13006] <UID: fce811e5e92f4a10b85eb7b4796dd92a>\n[2021-09-03T08:47:12.628751+0000][CRITICAL][logger]][13006] <UID: fce811e5e92f4a10b85eb7b4796dd92a>\n[2021-09-03T08:47:12.629203+0000][CRITICAL][logger]][13006] <UID: fce811e5e92f4a10b85eb7b4796dd92a>\nException in callback AsyncIOEventEmitter._emit_run.<locals>._callback(<Task finishe...7b4796dd92a>)>) at /anaconda/envs/SyftEnv2/lib/python3.9/site-packages/pyee/_asyncio.py:57\nhandle: <Handle AsyncIOEventEmitter._emit_run.<locals>._callback(<Task finishe...7b4796dd92a>)>) at /anaconda/envs/SyftEnv2/lib/python3.9/site-packages/pyee/_asyncio.py:57>\nTraceback (most recent call last):\n  File \"/anaconda/envs/SyftEnv2/lib/python3.9/asyncio/events.py\", line 80, in _run\n    self._context.run(self._callback, *self._args)\n  File \"/anaconda/envs/SyftEnv2/lib/python3.9/site-packages/pyee/_asyncio.py\", line 64, in _callback\n    self.emit(\"error\", exc)\n  File \"/anaconda/envs/SyftEnv2/lib/python3.9/site-packages/pyee/_base.py\", line 118, in emit\n    self._emit_handle_potential_error(event, args[0] if args else None)\n  File \"/anaconda/envs/SyftEnv2/lib/python3.9/site-packages/pyee/_base.py\", line 88, in _emit_handle_potential_error\n    raise error\n  File \"/anaconda/envs/SyftEnv2/lib/python3.9/asyncio/tasks.py\", line 256, in __step\n    result = coro.send(None)\n  File \"/anaconda/envs/SyftEnv2/lib/python3.9/site-packages/syft/grid/connections/webrtc.py\", line 233, in on_message\n    await self.consumer(msg=message)\n  File \"/anaconda/envs/SyftEnv2/lib/python3.9/site-packages/syft/grid/connections/webrtc.py\", line 449, in consumer\n    traceback_and_raise(e)\n  File \"/anaconda/envs/SyftEnv2/lib/python3.9/site-packages/syft/logger.py\", line 61, in traceback_and_raise\n    raise e\n  File \"/anaconda/envs/SyftEnv2/lib/python3.9/site-packages/syft/grid/connections/webrtc.py\", line 434, in consumer\n    self.recv_immediate_msg_without_reply(msg=_msg)\n  File \"/anaconda/envs/SyftEnv2/lib/python3.9/site-packages/syft/grid/connections/webrtc.py\", line 490, in recv_immediate_msg_without_reply\n    traceback_and_raise(e)\n  File \"/anaconda/envs/SyftEnv2/lib/python3.9/site-packages/syft/logger.py\", line 61, in traceback_and_raise\n    raise e\n  File \"/anaconda/envs/SyftEnv2/lib/python3.9/site-packages/syft/grid/connections/webrtc.py\", line 485, in recv_immediate_msg_without_reply\n    self.node.recv_immediate_msg_without_reply(msg=msg)\n  File \"/anaconda/envs/SyftEnv2/lib/python3.9/site-packages/syft/core/node/common/node.py\", line 399, in recv_immediate_msg_without_reply\n    self.process_message(msg=msg, router=self.immediate_msg_without_reply_router)\n  File \"/anaconda/envs/SyftEnv2/lib/python3.9/site-packages/syft/core/node/common/node.py\", line 481, in process_message\n    result = service.process(\n  File \"/anaconda/envs/SyftEnv2/lib/python3.9/site-packages/syft/core/node/common/service/obj_action_service.py\", line 27, in process\n    msg.execute_action(node=node, verify_key=verify_key)\n  File \"/anaconda/envs/SyftEnv2/lib/python3.9/site-packages/syft/core/node/common/action/run_class_method_action.py\", line 126, in execute_action\n    r_arg = node.store[arg.id_at_location]\n  File \"/anaconda/envs/SyftEnv2/lib/python3.9/site-packages/syft/core/store/store_memory.py\", line 66, in __getitem__\n    traceback_and_raise(e)\n  File \"/anaconda/envs/SyftEnv2/lib/python3.9/site-packages/syft/logger.py\", line 61, in traceback_and_raise\n    raise e\n  File \"/anaconda/envs/SyftEnv2/lib/python3.9/site-packages/syft/core/store/store_memory.py\", line 63, in __getitem__\n    return self._objects[key]\nKeyError: <UID: fce811e5e92f4a10b85eb7b4796dd92a>\n[2021-09-03T08:47:12.631873+0000][CRITICAL][logger]][13006] <class 'syft.core.store.store_memory.MemoryStore'> __delitem__ error <UID: fce811e5e92f4a10b85eb7b4796dd92a>.\n[2021-09-03T08:47:12.633746+0000][CRITICAL][logger]][13006] <class 'syft.core.store.store_memory.MemoryStore'> __getitem__ error <UID: 7e6c98fd96014dc9b4c72fb79b804426> <UID: 7e6c98fd96014dc9b4c72fb79b804426>\n[2021-09-03T08:47:12.634337+0000][CRITICAL][logger]][13006] <UID: 7e6c98fd96014dc9b4c72fb79b804426>\n[2021-09-03T08:47:12.634814+0000][CRITICAL][logger]][13006] <UID: 7e6c98fd96014dc9b4c72fb79b804426>\n[2021-09-03T08:47:12.635470+0000][CRITICAL][logger]][13006] <UID: 7e6c98fd96014dc9b4c72fb79b804426>\nException in callback AsyncIOEventEmitter._emit_run.<locals>._callback(<Task finishe...fb79b804426>)>) at /anaconda/envs/SyftEnv2/lib/python3.9/site-packages/pyee/_asyncio.py:57\nhandle: <Handle AsyncIOEventEmitter._emit_run.<locals>._callback(<Task finishe...fb79b804426>)>) at /anaconda/envs/SyftEnv2/lib/python3.9/site-packages/pyee/_asyncio.py:57>\nTraceback (most recent call last):\n  File \"/anaconda/envs/SyftEnv2/lib/python3.9/asyncio/events.py\", line 80, in _run\n    self._context.run(self._callback, *self._args)\n  File \"/anaconda/envs/SyftEnv2/lib/python3.9/site-packages/pyee/_asyncio.py\", line 64, in _callback\n    self.emit(\"error\", exc)\n  File \"/anaconda/envs/SyftEnv2/lib/python3.9/site-packages/pyee/_base.py\", line 118, in emit\n    self._emit_handle_potential_error(event, args[0] if args else None)\n  File \"/anaconda/envs/SyftEnv2/lib/python3.9/site-packages/pyee/_base.py\", line 88, in _emit_handle_potential_error\n    raise error\n  File \"/anaconda/envs/SyftEnv2/lib/python3.9/asyncio/tasks.py\", line 256, in __step\n    result = coro.send(None)\n  File \"/anaconda/envs/SyftEnv2/lib/python3.9/site-packages/syft/grid/connections/webrtc.py\", line 233, in on_message\n    await self.consumer(msg=message)\n  File \"/anaconda/envs/SyftEnv2/lib/python3.9/site-packages/syft/grid/connections/webrtc.py\", line 449, in consumer\n    traceback_and_raise(e)\n  File \"/anaconda/envs/SyftEnv2/lib/python3.9/site-packages/syft/logger.py\", line 61, in traceback_and_raise\n    raise e\n  File \"/anaconda/envs/SyftEnv2/lib/python3.9/site-packages/syft/grid/connections/webrtc.py\", line 434, in consumer\n    self.recv_immediate_msg_without_reply(msg=_msg)\n  File \"/anaconda/envs/SyftEnv2/lib/python3.9/site-packages/syft/grid/connections/webrtc.py\", line 490, in recv_immediate_msg_without_reply\n    traceback_and_raise(e)\n  File \"/anaconda/envs/SyftEnv2/lib/python3.9/site-packages/syft/logger.py\", line 61, in traceback_and_raise\n    raise e\n  File \"/anaconda/envs/SyftEnv2/lib/python3.9/site-packages/syft/grid/connections/webrtc.py\", line 485, in recv_immediate_msg_without_reply\n    self.node.recv_immediate_msg_without_reply(msg=msg)\n  File \"/anaconda/envs/SyftEnv2/lib/python3.9/site-packages/syft/core/node/common/node.py\", line 399, in recv_immediate_msg_without_reply\n    self.process_message(msg=msg, router=self.immediate_msg_without_reply_router)\n  File \"/anaconda/envs/SyftEnv2/lib/python3.9/site-packages/syft/core/node/common/node.py\", line 481, in process_message\n    result = service.process(\n  File \"/anaconda/envs/SyftEnv2/lib/python3.9/site-packages/syft/core/node/common/service/obj_action_service.py\", line 27, in process\n    msg.execute_action(node=node, verify_key=verify_key)\n  File \"/anaconda/envs/SyftEnv2/lib/python3.9/site-packages/syft/core/node/common/action/run_class_method_action.py\", line 126, in execute_action\n    r_arg = node.store[arg.id_at_location]\n  File \"/anaconda/envs/SyftEnv2/lib/python3.9/site-packages/syft/core/store/store_memory.py\", line 66, in __getitem__\n    traceback_and_raise(e)\n  File \"/anaconda/envs/SyftEnv2/lib/python3.9/site-packages/syft/logger.py\", line 61, in traceback_and_raise\n    raise e\n  File \"/anaconda/envs/SyftEnv2/lib/python3.9/site-packages/syft/core/store/store_memory.py\", line 63, in __getitem__\n    return self._objects[key]\nKeyError: <UID: 7e6c98fd96014dc9b4c72fb79b804426>\n[2021-09-03T08:47:12.638072+0000][CRITICAL][logger]][13006] <class 'syft.core.store.store_memory.MemoryStore'> __delitem__ error <UID: 7e6c98fd96014dc9b4c72fb79b804426>.\n[2021-09-03T08:47:12.639880+0000][CRITICAL][logger]][13006] <class 'syft.core.store.store_memory.MemoryStore'> __getitem__ error <UID: 8f6772958459459b9b620e942b9aacfe> <UID: 8f6772958459459b9b620e942b9aacfe>\n[2021-09-03T08:47:12.640326+0000][CRITICAL][logger]][13006] <UID: 8f6772958459459b9b620e942b9aacfe>\n[2021-09-03T08:47:12.640754+0000][CRITICAL][logger]][13006] <UID: 8f6772958459459b9b620e942b9aacfe>\n[2021-09-03T08:47:12.641219+0000][CRITICAL][logger]][13006] <UID: 8f6772958459459b9b620e942b9aacfe>\nException in callback AsyncIOEventEmitter._emit_run.<locals>._callback(<Task finishe...e942b9aacfe>)>) at /anaconda/envs/SyftEnv2/lib/python3.9/site-packages/pyee/_asyncio.py:57\nhandle: <Handle AsyncIOEventEmitter._emit_run.<locals>._callback(<Task finishe...e942b9aacfe>)>) at /anaconda/envs/SyftEnv2/lib/python3.9/site-packages/pyee/_asyncio.py:57>\nTraceback (most recent call last):\n  File \"/anaconda/envs/SyftEnv2/lib/python3.9/asyncio/events.py\", line 80, in _run\n    self._context.run(self._callback, *self._args)\n  File \"/anaconda/envs/SyftEnv2/lib/python3.9/site-packages/pyee/_asyncio.py\", line 64, in _callback\n    self.emit(\"error\", exc)\n  File \"/anaconda/envs/SyftEnv2/lib/python3.9/site-packages/pyee/_base.py\", line 118, in emit\n    self._emit_handle_potential_error(event, args[0] if args else None)\n  File \"/anaconda/envs/SyftEnv2/lib/python3.9/site-packages/pyee/_base.py\", line 88, in _emit_handle_potential_error\n    raise error\n  File \"/anaconda/envs/SyftEnv2/lib/python3.9/asyncio/tasks.py\", line 256, in __step\n    result = coro.send(None)\n  File \"/anaconda/envs/SyftEnv2/lib/python3.9/site-packages/syft/grid/connections/webrtc.py\", line 233, in on_message\n    await self.consumer(msg=message)\n  File \"/anaconda/envs/SyftEnv2/lib/python3.9/site-packages/syft/grid/connections/webrtc.py\", line 449, in consumer\n    traceback_and_raise(e)\n  File \"/anaconda/envs/SyftEnv2/lib/python3.9/site-packages/syft/logger.py\", line 61, in traceback_and_raise\n    raise e\n  File \"/anaconda/envs/SyftEnv2/lib/python3.9/site-packages/syft/grid/connections/webrtc.py\", line 434, in consumer\n    self.recv_immediate_msg_without_reply(msg=_msg)\n  File \"/anaconda/envs/SyftEnv2/lib/python3.9/site-packages/syft/grid/connections/webrtc.py\", line 490, in recv_immediate_msg_without_reply\n    traceback_and_raise(e)\n  File \"/anaconda/envs/SyftEnv2/lib/python3.9/site-packages/syft/logger.py\", line 61, in traceback_and_raise\n    raise e\n  File \"/anaconda/envs/SyftEnv2/lib/python3.9/site-packages/syft/grid/connections/webrtc.py\", line 485, in recv_immediate_msg_without_reply\n    self.node.recv_immediate_msg_without_reply(msg=msg)\n  File \"/anaconda/envs/SyftEnv2/lib/python3.9/site-packages/syft/core/node/common/node.py\", line 399, in recv_immediate_msg_without_reply\n    self.process_message(msg=msg, router=self.immediate_msg_without_reply_router)\n  File \"/anaconda/envs/SyftEnv2/lib/python3.9/site-packages/syft/core/node/common/node.py\", line 481, in process_message\n    result = service.process(\n  File \"/anaconda/envs/SyftEnv2/lib/python3.9/site-packages/syft/core/node/common/service/obj_action_service.py\", line 27, in process\n    msg.execute_action(node=node, verify_key=verify_key)\n  File \"/anaconda/envs/SyftEnv2/lib/python3.9/site-packages/syft/core/node/common/action/run_class_method_action.py\", line 126, in execute_action\n    r_arg = node.store[arg.id_at_location]\n  File \"/anaconda/envs/SyftEnv2/lib/python3.9/site-packages/syft/core/store/store_memory.py\", line 66, in __getitem__\n    traceback_and_raise(e)\n  File \"/anaconda/envs/SyftEnv2/lib/python3.9/site-packages/syft/logger.py\", line 61, in traceback_and_raise\n    raise e\n  File \"/anaconda/envs/SyftEnv2/lib/python3.9/site-packages/syft/core/store/store_memory.py\", line 63, in __getitem__\n    return self._objects[key]\nKeyError: <UID: 8f6772958459459b9b620e942b9aacfe>\n[2021-09-03T08:47:12.643896+0000][CRITICAL][logger]][13006] <class 'syft.core.store.store_memory.MemoryStore'> __delitem__ error <UID: 8f6772958459459b9b620e942b9aacfe>.\n[2021-09-03T08:47:12.645805+0000][CRITICAL][logger]][13006] <class 'syft.core.store.store_memory.MemoryStore'> __getitem__ error <UID: 55b0c46feb624c4dac3908fd2c207b8a> <UID: 55b0c46feb624c4dac3908fd2c207b8a>\n[2021-09-03T08:47:12.646257+0000][CRITICAL][logger]][13006] <UID: 55b0c46feb624c4dac3908fd2c207b8a>\n[2021-09-03T08:47:12.646723+0000][CRITICAL][logger]][13006] <UID: 55b0c46feb624c4dac3908fd2c207b8a>\n[2021-09-03T08:47:12.647191+0000][CRITICAL][logger]][13006] <UID: 55b0c46feb624c4dac3908fd2c207b8a>\nException in callback AsyncIOEventEmitter._emit_run.<locals>._callback(<Task finishe...8fd2c207b8a>)>) at /anaconda/envs/SyftEnv2/lib/python3.9/site-packages/pyee/_asyncio.py:57\nhandle: <Handle AsyncIOEventEmitter._emit_run.<locals>._callback(<Task finishe...8fd2c207b8a>)>) at /anaconda/envs/SyftEnv2/lib/python3.9/site-packages/pyee/_asyncio.py:57>\nTraceback (most recent call last):\n  File \"/anaconda/envs/SyftEnv2/lib/python3.9/asyncio/events.py\", line 80, in _run\n    self._context.run(self._callback, *self._args)\n  File \"/anaconda/envs/SyftEnv2/lib/python3.9/site-packages/pyee/_asyncio.py\", line 64, in _callback\n    self.emit(\"error\", exc)\n  File \"/anaconda/envs/SyftEnv2/lib/python3.9/site-packages/pyee/_base.py\", line 118, in emit\n    self._emit_handle_potential_error(event, args[0] if args else None)\n  File \"/anaconda/envs/SyftEnv2/lib/python3.9/site-packages/pyee/_base.py\", line 88, in _emit_handle_potential_error\n    raise error\n  File \"/anaconda/envs/SyftEnv2/lib/python3.9/asyncio/tasks.py\", line 256, in __step\n    result = coro.send(None)\n  File \"/anaconda/envs/SyftEnv2/lib/python3.9/site-packages/syft/grid/connections/webrtc.py\", line 233, in on_message\n    await self.consumer(msg=message)\n  File \"/anaconda/envs/SyftEnv2/lib/python3.9/site-packages/syft/grid/connections/webrtc.py\", line 449, in consumer\n    traceback_and_raise(e)\n  File \"/anaconda/envs/SyftEnv2/lib/python3.9/site-packages/syft/logger.py\", line 61, in traceback_and_raise\n    raise e\n  File \"/anaconda/envs/SyftEnv2/lib/python3.9/site-packages/syft/grid/connections/webrtc.py\", line 434, in consumer\n    self.recv_immediate_msg_without_reply(msg=_msg)\n  File \"/anaconda/envs/SyftEnv2/lib/python3.9/site-packages/syft/grid/connections/webrtc.py\", line 490, in recv_immediate_msg_without_reply\n    traceback_and_raise(e)\n  File \"/anaconda/envs/SyftEnv2/lib/python3.9/site-packages/syft/logger.py\", line 61, in traceback_and_raise\n    raise e\n  File \"/anaconda/envs/SyftEnv2/lib/python3.9/site-packages/syft/grid/connections/webrtc.py\", line 485, in recv_immediate_msg_without_reply\n    self.node.recv_immediate_msg_without_reply(msg=msg)\n  File \"/anaconda/envs/SyftEnv2/lib/python3.9/site-packages/syft/core/node/common/node.py\", line 399, in recv_immediate_msg_without_reply\n    self.process_message(msg=msg, router=self.immediate_msg_without_reply_router)\n  File \"/anaconda/envs/SyftEnv2/lib/python3.9/site-packages/syft/core/node/common/node.py\", line 481, in process_message\n    result = service.process(\n  File \"/anaconda/envs/SyftEnv2/lib/python3.9/site-packages/syft/core/node/common/service/obj_action_service.py\", line 27, in process\n    msg.execute_action(node=node, verify_key=verify_key)\n  File \"/anaconda/envs/SyftEnv2/lib/python3.9/site-packages/syft/core/node/common/action/run_class_method_action.py\", line 126, in execute_action\n    r_arg = node.store[arg.id_at_location]\n  File \"/anaconda/envs/SyftEnv2/lib/python3.9/site-packages/syft/core/store/store_memory.py\", line 66, in __getitem__\n    traceback_and_raise(e)\n  File \"/anaconda/envs/SyftEnv2/lib/python3.9/site-packages/syft/logger.py\", line 61, in traceback_and_raise\n    raise e\n  File \"/anaconda/envs/SyftEnv2/lib/python3.9/site-packages/syft/core/store/store_memory.py\", line 63, in __getitem__\n    return self._objects[key]\nKeyError: <UID: 55b0c46feb624c4dac3908fd2c207b8a>\n[2021-09-03T08:47:12.649877+0000][CRITICAL][logger]][13006] <class 'syft.core.store.store_memory.MemoryStore'> __delitem__ error <UID: 55b0c46feb624c4dac3908fd2c207b8a>.\n[2021-09-03T08:47:12.651657+0000][CRITICAL][logger]][13006] <class 'syft.core.store.store_memory.MemoryStore'> __getitem__ error <UID: e6c3610a195f4cceb26ec7b08e25c3c7> <UID: e6c3610a195f4cceb26ec7b08e25c3c7>\n[2021-09-03T08:47:12.652114+0000][CRITICAL][logger]][13006] <UID: e6c3610a195f4cceb26ec7b08e25c3c7>\n[2021-09-03T08:47:12.652573+0000][CRITICAL][logger]][13006] <UID: e6c3610a195f4cceb26ec7b08e25c3c7>\n[2021-09-03T08:47:12.653010+0000][CRITICAL][logger]][13006] <UID: e6c3610a195f4cceb26ec7b08e25c3c7>\nException in callback AsyncIOEventEmitter._emit_run.<locals>._callback(<Task finishe...7b08e25c3c7>)>) at /anaconda/envs/SyftEnv2/lib/python3.9/site-packages/pyee/_asyncio.py:57\nhandle: <Handle AsyncIOEventEmitter._emit_run.<locals>._callback(<Task finishe...7b08e25c3c7>)>) at /anaconda/envs/SyftEnv2/lib/python3.9/site-packages/pyee/_asyncio.py:57>\nTraceback (most recent call last):\n  File \"/anaconda/envs/SyftEnv2/lib/python3.9/asyncio/events.py\", line 80, in _run\n    self._context.run(self._callback, *self._args)\n  File \"/anaconda/envs/SyftEnv2/lib/python3.9/site-packages/pyee/_asyncio.py\", line 64, in _callback\n    self.emit(\"error\", exc)\n  File \"/anaconda/envs/SyftEnv2/lib/python3.9/site-packages/pyee/_base.py\", line 118, in emit\n    self._emit_handle_potential_error(event, args[0] if args else None)\n  File \"/anaconda/envs/SyftEnv2/lib/python3.9/site-packages/pyee/_base.py\", line 88, in _emit_handle_potential_error\n    raise error\n  File \"/anaconda/envs/SyftEnv2/lib/python3.9/asyncio/tasks.py\", line 256, in __step\n    result = coro.send(None)\n  File \"/anaconda/envs/SyftEnv2/lib/python3.9/site-packages/syft/grid/connections/webrtc.py\", line 233, in on_message\n    await self.consumer(msg=message)\n  File \"/anaconda/envs/SyftEnv2/lib/python3.9/site-packages/syft/grid/connections/webrtc.py\", line 449, in consumer\n    traceback_and_raise(e)\n  File \"/anaconda/envs/SyftEnv2/lib/python3.9/site-packages/syft/logger.py\", line 61, in traceback_and_raise\n    raise e\n  File \"/anaconda/envs/SyftEnv2/lib/python3.9/site-packages/syft/grid/connections/webrtc.py\", line 434, in consumer\n    self.recv_immediate_msg_without_reply(msg=_msg)\n  File \"/anaconda/envs/SyftEnv2/lib/python3.9/site-packages/syft/grid/connections/webrtc.py\", line 490, in recv_immediate_msg_without_reply\n    traceback_and_raise(e)\n  File \"/anaconda/envs/SyftEnv2/lib/python3.9/site-packages/syft/logger.py\", line 61, in traceback_and_raise\n    raise e\n  File \"/anaconda/envs/SyftEnv2/lib/python3.9/site-packages/syft/grid/connections/webrtc.py\", line 485, in recv_immediate_msg_without_reply\n    self.node.recv_immediate_msg_without_reply(msg=msg)\n  File \"/anaconda/envs/SyftEnv2/lib/python3.9/site-packages/syft/core/node/common/node.py\", line 399, in recv_immediate_msg_without_reply\n    self.process_message(msg=msg, router=self.immediate_msg_without_reply_router)\n  File \"/anaconda/envs/SyftEnv2/lib/python3.9/site-packages/syft/core/node/common/node.py\", line 481, in process_message\n    result = service.process(\n  File \"/anaconda/envs/SyftEnv2/lib/python3.9/site-packages/syft/core/node/common/service/obj_action_service.py\", line 27, in process\n    msg.execute_action(node=node, verify_key=verify_key)\n  File \"/anaconda/envs/SyftEnv2/lib/python3.9/site-packages/syft/core/node/common/action/run_class_method_action.py\", line 126, in execute_action\n    r_arg = node.store[arg.id_at_location]\n  File \"/anaconda/envs/SyftEnv2/lib/python3.9/site-packages/syft/core/store/store_memory.py\", line 66, in __getitem__\n    traceback_and_raise(e)\n  File \"/anaconda/envs/SyftEnv2/lib/python3.9/site-packages/syft/logger.py\", line 61, in traceback_and_raise\n    raise e\n  File \"/anaconda/envs/SyftEnv2/lib/python3.9/site-packages/syft/core/store/store_memory.py\", line 63, in __getitem__\n    return self._objects[key]\nKeyError: <UID: e6c3610a195f4cceb26ec7b08e25c3c7>\n[2021-09-03T08:47:12.656176+0000][CRITICAL][logger]][13006] <class 'syft.core.store.store_memory.MemoryStore'> __delitem__ error <UID: e6c3610a195f4cceb26ec7b08e25c3c7>.\n[2021-09-03T08:47:12.660129+0000][CRITICAL][logger]][13006] execute_action on torch.Tensor.view failed due to missing object at: <UID: 4f81327b03da48cdb6845e36924c92b1>\n[2021-09-03T08:47:12.663360+0000][CRITICAL][logger]][13006] <class 'syft.core.store.store_memory.MemoryStore'> __delitem__ error <UID: 4f81327b03da48cdb6845e36924c92b1>.\n[2021-09-03T08:47:12.665047+0000][CRITICAL][logger]][13006] execute_action on torch.Tensor.clone failed due to missing object at: <UID: 7c29d63c78af459bb7bf47f0cd44f2f6>\n[2021-09-03T08:47:12.666790+0000][CRITICAL][logger]][13006] <class 'syft.core.store.store_memory.MemoryStore'> __getitem__ error <UID: 398fbd305aa845cfb64e9f8fd6d1e4af> <UID: 398fbd305aa845cfb64e9f8fd6d1e4af>\n[2021-09-03T08:47:12.667392+0000][CRITICAL][logger]][13006] <UID: 398fbd305aa845cfb64e9f8fd6d1e4af>\n[2021-09-03T08:47:12.667853+0000][CRITICAL][logger]][13006] <UID: 398fbd305aa845cfb64e9f8fd6d1e4af>\n[2021-09-03T08:47:12.668305+0000][CRITICAL][logger]][13006] <UID: 398fbd305aa845cfb64e9f8fd6d1e4af>\nException in callback AsyncIOEventEmitter._emit_run.<locals>._callback(<Task finishe...f8fd6d1e4af>)>) at /anaconda/envs/SyftEnv2/lib/python3.9/site-packages/pyee/_asyncio.py:57\nhandle: <Handle AsyncIOEventEmitter._emit_run.<locals>._callback(<Task finishe...f8fd6d1e4af>)>) at /anaconda/envs/SyftEnv2/lib/python3.9/site-packages/pyee/_asyncio.py:57>\nTraceback (most recent call last):\n  File \"/anaconda/envs/SyftEnv2/lib/python3.9/asyncio/events.py\", line 80, in _run\n    self._context.run(self._callback, *self._args)\n  File \"/anaconda/envs/SyftEnv2/lib/python3.9/site-packages/pyee/_asyncio.py\", line 64, in _callback\n    self.emit(\"error\", exc)\n  File \"/anaconda/envs/SyftEnv2/lib/python3.9/site-packages/pyee/_base.py\", line 118, in emit\n    self._emit_handle_potential_error(event, args[0] if args else None)\n  File \"/anaconda/envs/SyftEnv2/lib/python3.9/site-packages/pyee/_base.py\", line 88, in _emit_handle_potential_error\n    raise error\n  File \"/anaconda/envs/SyftEnv2/lib/python3.9/asyncio/tasks.py\", line 256, in __step\n    result = coro.send(None)\n  File \"/anaconda/envs/SyftEnv2/lib/python3.9/site-packages/syft/grid/connections/webrtc.py\", line 233, in on_message\n    await self.consumer(msg=message)\n  File \"/anaconda/envs/SyftEnv2/lib/python3.9/site-packages/syft/grid/connections/webrtc.py\", line 449, in consumer\n    traceback_and_raise(e)\n  File \"/anaconda/envs/SyftEnv2/lib/python3.9/site-packages/syft/logger.py\", line 61, in traceback_and_raise\n    raise e\n  File \"/anaconda/envs/SyftEnv2/lib/python3.9/site-packages/syft/grid/connections/webrtc.py\", line 434, in consumer\n    self.recv_immediate_msg_without_reply(msg=_msg)\n  File \"/anaconda/envs/SyftEnv2/lib/python3.9/site-packages/syft/grid/connections/webrtc.py\", line 490, in recv_immediate_msg_without_reply\n    traceback_and_raise(e)\n  File \"/anaconda/envs/SyftEnv2/lib/python3.9/site-packages/syft/logger.py\", line 61, in traceback_and_raise\n    raise e\n  File \"/anaconda/envs/SyftEnv2/lib/python3.9/site-packages/syft/grid/connections/webrtc.py\", line 485, in recv_immediate_msg_without_reply\n    self.node.recv_immediate_msg_without_reply(msg=msg)\n  File \"/anaconda/envs/SyftEnv2/lib/python3.9/site-packages/syft/core/node/common/node.py\", line 399, in recv_immediate_msg_without_reply\n    self.process_message(msg=msg, router=self.immediate_msg_without_reply_router)\n  File \"/anaconda/envs/SyftEnv2/lib/python3.9/site-packages/syft/core/node/common/node.py\", line 481, in process_message\n    result = service.process(\n  File \"/anaconda/envs/SyftEnv2/lib/python3.9/site-packages/syft/core/node/domain/service/request_message.py\", line 222, in process\n    msg.object_tags.extend(node.store[msg.object_id]._tags)\n  File \"/anaconda/envs/SyftEnv2/lib/python3.9/site-packages/syft/core/store/store_memory.py\", line 66, in __getitem__\n    traceback_and_raise(e)\n  File \"/anaconda/envs/SyftEnv2/lib/python3.9/site-packages/syft/logger.py\", line 61, in traceback_and_raise\n    raise e\n  File \"/anaconda/envs/SyftEnv2/lib/python3.9/site-packages/syft/core/store/store_memory.py\", line 63, in __getitem__\n    return self._objects[key]\nKeyError: <UID: 398fbd305aa845cfb64e9f8fd6d1e4af>\n[2021-09-03T08:47:12.880120+0000][CRITICAL][logger]][13006] <class 'syft.core.store.store_memory.MemoryStore'> __delitem__ error <UID: 398fbd305aa845cfb64e9f8fd6d1e4af>.\n[2021-09-03T08:47:40.618720+0000][CRITICAL][logger]][13006] Input type (torch.FloatTensor) and weight type (torch.cuda.FloatTensor) should be the same\n[2021-09-03T08:47:40.619389+0000][CRITICAL][logger]][13006] Input type (torch.FloatTensor) and weight type (torch.cuda.FloatTensor) should be the same\nException in callback AsyncIOEventEmitter._emit_run.<locals>._callback(<Task finishe...be the same')>) at /anaconda/envs/SyftEnv2/lib/python3.9/site-packages/pyee/_asyncio.py:57\nhandle: <Handle AsyncIOEventEmitter._emit_run.<locals>._callback(<Task finishe...be the same')>) at /anaconda/envs/SyftEnv2/lib/python3.9/site-packages/pyee/_asyncio.py:57>\nTraceback (most recent call last):\n  File \"/anaconda/envs/SyftEnv2/lib/python3.9/asyncio/events.py\", line 80, in _run\n    self._context.run(self._callback, *self._args)\n  File \"/anaconda/envs/SyftEnv2/lib/python3.9/site-packages/pyee/_asyncio.py\", line 64, in _callback\n    self.emit(\"error\", exc)\n  File \"/anaconda/envs/SyftEnv2/lib/python3.9/site-packages/pyee/_base.py\", line 118, in emit\n    self._emit_handle_potential_error(event, args[0] if args else None)\n  File \"/anaconda/envs/SyftEnv2/lib/python3.9/site-packages/pyee/_base.py\", line 88, in _emit_handle_potential_error\n    raise error\n  File \"/anaconda/envs/SyftEnv2/lib/python3.9/asyncio/tasks.py\", line 256, in __step\n    result = coro.send(None)\n  File \"/anaconda/envs/SyftEnv2/lib/python3.9/site-packages/syft/grid/connections/webrtc.py\", line 233, in on_message\n    await self.consumer(msg=message)\n  File \"/anaconda/envs/SyftEnv2/lib/python3.9/site-packages/syft/grid/connections/webrtc.py\", line 449, in consumer\n    traceback_and_raise(e)\n  File \"/anaconda/envs/SyftEnv2/lib/python3.9/site-packages/syft/logger.py\", line 61, in traceback_and_raise\n    raise e\n  File \"/anaconda/envs/SyftEnv2/lib/python3.9/site-packages/syft/grid/connections/webrtc.py\", line 434, in consumer\n    self.recv_immediate_msg_without_reply(msg=_msg)\n  File \"/anaconda/envs/SyftEnv2/lib/python3.9/site-packages/syft/grid/connections/webrtc.py\", line 490, in recv_immediate_msg_without_reply\n    traceback_and_raise(e)\n  File \"/anaconda/envs/SyftEnv2/lib/python3.9/site-packages/syft/logger.py\", line 61, in traceback_and_raise\n    raise e\n  File \"/anaconda/envs/SyftEnv2/lib/python3.9/site-packages/syft/grid/connections/webrtc.py\", line 485, in recv_immediate_msg_without_reply\n    self.node.recv_immediate_msg_without_reply(msg=msg)\n  File \"/anaconda/envs/SyftEnv2/lib/python3.9/site-packages/syft/core/node/common/node.py\", line 399, in recv_immediate_msg_without_reply\n    self.process_message(msg=msg, router=self.immediate_msg_without_reply_router)\n  File \"/anaconda/envs/SyftEnv2/lib/python3.9/site-packages/syft/core/node/common/node.py\", line 481, in process_message\n    result = service.process(\n  File \"/anaconda/envs/SyftEnv2/lib/python3.9/site-packages/syft/core/node/common/service/obj_action_service.py\", line 27, in process\n    msg.execute_action(node=node, verify_key=verify_key)\n  File \"/anaconda/envs/SyftEnv2/lib/python3.9/site-packages/syft/core/node/common/action/run_class_method_action.py\", line 194, in execute_action\n    result = method(*upcasted_args, **upcasted_kwargs)\n  File \"/anaconda/envs/SyftEnv2/lib/python3.9/site-packages/torch/nn/modules/module.py\", line 889, in _call_impl\n    result = self.forward(*input, **kwargs)\n  File \"/anaconda/envs/SyftEnv2/lib/python3.9/site-packages/torch/nn/modules/conv.py\", line 263, in forward\n    return self._conv_forward(input, self.weight, self.bias)\n  File \"/anaconda/envs/SyftEnv2/lib/python3.9/site-packages/torch/nn/modules/conv.py\", line 259, in _conv_forward\n    return F.conv1d(input, weight, bias, self.stride,\nRuntimeError: Input type (torch.FloatTensor) and weight type (torch.cuda.FloatTensor) should be the same\n[2021-09-03T08:47:40.622505+0000][CRITICAL][logger]][13006] <class 'syft.core.store.store_memory.MemoryStore'> __getitem__ error <UID: 2f5cc4bf10044803b016c274b473b144> <UID: 2f5cc4bf10044803b016c274b473b144>\n[2021-09-03T08:47:40.622966+0000][CRITICAL][logger]][13006] <UID: 2f5cc4bf10044803b016c274b473b144>\n[2021-09-03T08:47:40.623448+0000][CRITICAL][logger]][13006] <UID: 2f5cc4bf10044803b016c274b473b144>\n[2021-09-03T08:47:40.623913+0000][CRITICAL][logger]][13006] <UID: 2f5cc4bf10044803b016c274b473b144>\nException in callback AsyncIOEventEmitter._emit_run.<locals>._callback(<Task finishe...274b473b144>)>) at /anaconda/envs/SyftEnv2/lib/python3.9/site-packages/pyee/_asyncio.py:57\nhandle: <Handle AsyncIOEventEmitter._emit_run.<locals>._callback(<Task finishe...274b473b144>)>) at /anaconda/envs/SyftEnv2/lib/python3.9/site-packages/pyee/_asyncio.py:57>\nTraceback (most recent call last):\n  File \"/anaconda/envs/SyftEnv2/lib/python3.9/asyncio/events.py\", line 80, in _run\n    self._context.run(self._callback, *self._args)\n  File \"/anaconda/envs/SyftEnv2/lib/python3.9/site-packages/pyee/_asyncio.py\", line 64, in _callback\n    self.emit(\"error\", exc)\n  File \"/anaconda/envs/SyftEnv2/lib/python3.9/site-packages/pyee/_base.py\", line 118, in emit\n    self._emit_handle_potential_error(event, args[0] if args else None)\n  File \"/anaconda/envs/SyftEnv2/lib/python3.9/site-packages/pyee/_base.py\", line 88, in _emit_handle_potential_error\n    raise error\n  File \"/anaconda/envs/SyftEnv2/lib/python3.9/asyncio/tasks.py\", line 256, in __step\n    result = coro.send(None)\n  File \"/anaconda/envs/SyftEnv2/lib/python3.9/site-packages/syft/grid/connections/webrtc.py\", line 233, in on_message\n    await self.consumer(msg=message)\n  File \"/anaconda/envs/SyftEnv2/lib/python3.9/site-packages/syft/grid/connections/webrtc.py\", line 449, in consumer\n    traceback_and_raise(e)\n  File \"/anaconda/envs/SyftEnv2/lib/python3.9/site-packages/syft/logger.py\", line 61, in traceback_and_raise\n    raise e\n  File \"/anaconda/envs/SyftEnv2/lib/python3.9/site-packages/syft/grid/connections/webrtc.py\", line 434, in consumer\n    self.recv_immediate_msg_without_reply(msg=_msg)\n  File \"/anaconda/envs/SyftEnv2/lib/python3.9/site-packages/syft/grid/connections/webrtc.py\", line 490, in recv_immediate_msg_without_reply\n    traceback_and_raise(e)\n  File \"/anaconda/envs/SyftEnv2/lib/python3.9/site-packages/syft/logger.py\", line 61, in traceback_and_raise\n    raise e\n  File \"/anaconda/envs/SyftEnv2/lib/python3.9/site-packages/syft/grid/connections/webrtc.py\", line 485, in recv_immediate_msg_without_reply\n    self.node.recv_immediate_msg_without_reply(msg=msg)\n  File \"/anaconda/envs/SyftEnv2/lib/python3.9/site-packages/syft/core/node/common/node.py\", line 399, in recv_immediate_msg_without_reply\n    self.process_message(msg=msg, router=self.immediate_msg_without_reply_router)\n  File \"/anaconda/envs/SyftEnv2/lib/python3.9/site-packages/syft/core/node/common/node.py\", line 481, in process_message\n    result = service.process(\n  File \"/anaconda/envs/SyftEnv2/lib/python3.9/site-packages/syft/core/node/common/service/obj_action_service.py\", line 27, in process\n    msg.execute_action(node=node, verify_key=verify_key)\n  File \"/anaconda/envs/SyftEnv2/lib/python3.9/site-packages/syft/core/node/common/action/run_class_method_action.py\", line 126, in execute_action\n    r_arg = node.store[arg.id_at_location]\n  File \"/anaconda/envs/SyftEnv2/lib/python3.9/site-packages/syft/core/store/store_memory.py\", line 66, in __getitem__\n    traceback_and_raise(e)\n  File \"/anaconda/envs/SyftEnv2/lib/python3.9/site-packages/syft/logger.py\", line 61, in traceback_and_raise\n    raise e\n  File \"/anaconda/envs/SyftEnv2/lib/python3.9/site-packages/syft/core/store/store_memory.py\", line 63, in __getitem__\n    return self._objects[key]\nKeyError: <UID: 2f5cc4bf10044803b016c274b473b144>\n[2021-09-03T08:47:40.626954+0000][CRITICAL][logger]][13006] <class 'syft.core.store.store_memory.MemoryStore'> __delitem__ error <UID: 2f5cc4bf10044803b016c274b473b144>.\n[2021-09-03T08:47:40.628855+0000][CRITICAL][logger]][13006] <class 'syft.core.store.store_memory.MemoryStore'> __getitem__ error <UID: 42443afae990497399cd2da0a030efdc> <UID: 42443afae990497399cd2da0a030efdc>\n[2021-09-03T08:47:40.629310+0000][CRITICAL][logger]][13006] <UID: 42443afae990497399cd2da0a030efdc>\n[2021-09-03T08:47:40.629763+0000][CRITICAL][logger]][13006] <UID: 42443afae990497399cd2da0a030efdc>\n[2021-09-03T08:47:40.630234+0000][CRITICAL][logger]][13006] <UID: 42443afae990497399cd2da0a030efdc>\nException in callback AsyncIOEventEmitter._emit_run.<locals>._callback(<Task finishe...da0a030efdc>)>) at /anaconda/envs/SyftEnv2/lib/python3.9/site-packages/pyee/_asyncio.py:57\nhandle: <Handle AsyncIOEventEmitter._emit_run.<locals>._callback(<Task finishe...da0a030efdc>)>) at /anaconda/envs/SyftEnv2/lib/python3.9/site-packages/pyee/_asyncio.py:57>\nTraceback (most recent call last):\n  File \"/anaconda/envs/SyftEnv2/lib/python3.9/asyncio/events.py\", line 80, in _run\n    self._context.run(self._callback, *self._args)\n  File \"/anaconda/envs/SyftEnv2/lib/python3.9/site-packages/pyee/_asyncio.py\", line 64, in _callback\n    self.emit(\"error\", exc)\n  File \"/anaconda/envs/SyftEnv2/lib/python3.9/site-packages/pyee/_base.py\", line 118, in emit\n    self._emit_handle_potential_error(event, args[0] if args else None)\n  File \"/anaconda/envs/SyftEnv2/lib/python3.9/site-packages/pyee/_base.py\", line 88, in _emit_handle_potential_error\n    raise error\n  File \"/anaconda/envs/SyftEnv2/lib/python3.9/asyncio/tasks.py\", line 256, in __step\n    result = coro.send(None)\n  File \"/anaconda/envs/SyftEnv2/lib/python3.9/site-packages/syft/grid/connections/webrtc.py\", line 233, in on_message\n    await self.consumer(msg=message)\n  File \"/anaconda/envs/SyftEnv2/lib/python3.9/site-packages/syft/grid/connections/webrtc.py\", line 449, in consumer\n    traceback_and_raise(e)\n  File \"/anaconda/envs/SyftEnv2/lib/python3.9/site-packages/syft/logger.py\", line 61, in traceback_and_raise\n    raise e\n  File \"/anaconda/envs/SyftEnv2/lib/python3.9/site-packages/syft/grid/connections/webrtc.py\", line 434, in consumer\n    self.recv_immediate_msg_without_reply(msg=_msg)\n  File \"/anaconda/envs/SyftEnv2/lib/python3.9/site-packages/syft/grid/connections/webrtc.py\", line 490, in recv_immediate_msg_without_reply\n    traceback_and_raise(e)\n  File \"/anaconda/envs/SyftEnv2/lib/python3.9/site-packages/syft/logger.py\", line 61, in traceback_and_raise\n    raise e\n  File \"/anaconda/envs/SyftEnv2/lib/python3.9/site-packages/syft/grid/connections/webrtc.py\", line 485, in recv_immediate_msg_without_reply\n    self.node.recv_immediate_msg_without_reply(msg=msg)\n  File \"/anaconda/envs/SyftEnv2/lib/python3.9/site-packages/syft/core/node/common/node.py\", line 399, in recv_immediate_msg_without_reply\n    self.process_message(msg=msg, router=self.immediate_msg_without_reply_router)\n  File \"/anaconda/envs/SyftEnv2/lib/python3.9/site-packages/syft/core/node/common/node.py\", line 481, in process_message\n    result = service.process(\n  File \"/anaconda/envs/SyftEnv2/lib/python3.9/site-packages/syft/core/node/common/service/obj_action_service.py\", line 27, in process\n    msg.execute_action(node=node, verify_key=verify_key)\n  File \"/anaconda/envs/SyftEnv2/lib/python3.9/site-packages/syft/core/node/common/action/run_class_method_action.py\", line 126, in execute_action\n    r_arg = node.store[arg.id_at_location]\n  File \"/anaconda/envs/SyftEnv2/lib/python3.9/site-packages/syft/core/store/store_memory.py\", line 66, in __getitem__\n    traceback_and_raise(e)\n  File \"/anaconda/envs/SyftEnv2/lib/python3.9/site-packages/syft/logger.py\", line 61, in traceback_and_raise\n    raise e\n  File \"/anaconda/envs/SyftEnv2/lib/python3.9/site-packages/syft/core/store/store_memory.py\", line 63, in __getitem__\n    return self._objects[key]\nKeyError: <UID: 42443afae990497399cd2da0a030efdc>\n[2021-09-03T08:47:40.633021+0000][CRITICAL][logger]][13006] <class 'syft.core.store.store_memory.MemoryStore'> __delitem__ error <UID: 42443afae990497399cd2da0a030efdc>.\n[2021-09-03T08:47:40.634870+0000][CRITICAL][logger]][13006] <class 'syft.core.store.store_memory.MemoryStore'> __getitem__ error <UID: 34030babb8b54b0ebfec708802acb8ce> <UID: 34030babb8b54b0ebfec708802acb8ce>\n[2021-09-03T08:47:40.635343+0000][CRITICAL][logger]][13006] <UID: 34030babb8b54b0ebfec708802acb8ce>\n[2021-09-03T08:47:40.635825+0000][CRITICAL][logger]][13006] <UID: 34030babb8b54b0ebfec708802acb8ce>\n[2021-09-03T08:47:40.636687+0000][CRITICAL][logger]][13006] <UID: 34030babb8b54b0ebfec708802acb8ce>\nException in callback AsyncIOEventEmitter._emit_run.<locals>._callback(<Task finishe...08802acb8ce>)>) at /anaconda/envs/SyftEnv2/lib/python3.9/site-packages/pyee/_asyncio.py:57\nhandle: <Handle AsyncIOEventEmitter._emit_run.<locals>._callback(<Task finishe...08802acb8ce>)>) at /anaconda/envs/SyftEnv2/lib/python3.9/site-packages/pyee/_asyncio.py:57>\nTraceback (most recent call last):\n  File \"/anaconda/envs/SyftEnv2/lib/python3.9/asyncio/events.py\", line 80, in _run\n    self._context.run(self._callback, *self._args)\n  File \"/anaconda/envs/SyftEnv2/lib/python3.9/site-packages/pyee/_asyncio.py\", line 64, in _callback\n    self.emit(\"error\", exc)\n  File \"/anaconda/envs/SyftEnv2/lib/python3.9/site-packages/pyee/_base.py\", line 118, in emit\n    self._emit_handle_potential_error(event, args[0] if args else None)\n  File \"/anaconda/envs/SyftEnv2/lib/python3.9/site-packages/pyee/_base.py\", line 88, in _emit_handle_potential_error\n    raise error\n  File \"/anaconda/envs/SyftEnv2/lib/python3.9/asyncio/tasks.py\", line 256, in __step\n    result = coro.send(None)\n  File \"/anaconda/envs/SyftEnv2/lib/python3.9/site-packages/syft/grid/connections/webrtc.py\", line 233, in on_message\n    await self.consumer(msg=message)\n  File \"/anaconda/envs/SyftEnv2/lib/python3.9/site-packages/syft/grid/connections/webrtc.py\", line 449, in consumer\n    traceback_and_raise(e)\n  File \"/anaconda/envs/SyftEnv2/lib/python3.9/site-packages/syft/logger.py\", line 61, in traceback_and_raise\n    raise e\n  File \"/anaconda/envs/SyftEnv2/lib/python3.9/site-packages/syft/grid/connections/webrtc.py\", line 434, in consumer\n    self.recv_immediate_msg_without_reply(msg=_msg)\n  File \"/anaconda/envs/SyftEnv2/lib/python3.9/site-packages/syft/grid/connections/webrtc.py\", line 490, in recv_immediate_msg_without_reply\n    traceback_and_raise(e)\n  File \"/anaconda/envs/SyftEnv2/lib/python3.9/site-packages/syft/logger.py\", line 61, in traceback_and_raise\n    raise e\n  File \"/anaconda/envs/SyftEnv2/lib/python3.9/site-packages/syft/grid/connections/webrtc.py\", line 485, in recv_immediate_msg_without_reply\n    self.node.recv_immediate_msg_without_reply(msg=msg)\n  File \"/anaconda/envs/SyftEnv2/lib/python3.9/site-packages/syft/core/node/common/node.py\", line 399, in recv_immediate_msg_without_reply\n    self.process_message(msg=msg, router=self.immediate_msg_without_reply_router)\n  File \"/anaconda/envs/SyftEnv2/lib/python3.9/site-packages/syft/core/node/common/node.py\", line 481, in process_message\n    result = service.process(\n  File \"/anaconda/envs/SyftEnv2/lib/python3.9/site-packages/syft/core/node/common/service/obj_action_service.py\", line 27, in process\n    msg.execute_action(node=node, verify_key=verify_key)\n  File \"/anaconda/envs/SyftEnv2/lib/python3.9/site-packages/syft/core/node/common/action/run_class_method_action.py\", line 126, in execute_action\n    r_arg = node.store[arg.id_at_location]\n  File \"/anaconda/envs/SyftEnv2/lib/python3.9/site-packages/syft/core/store/store_memory.py\", line 66, in __getitem__\n    traceback_and_raise(e)\n  File \"/anaconda/envs/SyftEnv2/lib/python3.9/site-packages/syft/logger.py\", line 61, in traceback_and_raise\n    raise e\n  File \"/anaconda/envs/SyftEnv2/lib/python3.9/site-packages/syft/core/store/store_memory.py\", line 63, in __getitem__\n    return self._objects[key]\nKeyError: <UID: 34030babb8b54b0ebfec708802acb8ce>\n[2021-09-03T08:47:40.638976+0000][CRITICAL][logger]][13006] <class 'syft.core.store.store_memory.MemoryStore'> __delitem__ error <UID: 34030babb8b54b0ebfec708802acb8ce>.\n[2021-09-03T08:47:40.640787+0000][CRITICAL][logger]][13006] <class 'syft.core.store.store_memory.MemoryStore'> __getitem__ error <UID: 6f99f46c85a4457f9e9213f38925ccc3> <UID: 6f99f46c85a4457f9e9213f38925ccc3>\n[2021-09-03T08:47:40.641293+0000][CRITICAL][logger]][13006] <UID: 6f99f46c85a4457f9e9213f38925ccc3>\n[2021-09-03T08:47:40.641800+0000][CRITICAL][logger]][13006] <UID: 6f99f46c85a4457f9e9213f38925ccc3>\n[2021-09-03T08:47:40.642251+0000][CRITICAL][logger]][13006] <UID: 6f99f46c85a4457f9e9213f38925ccc3>\nException in callback AsyncIOEventEmitter._emit_run.<locals>._callback(<Task finishe...3f38925ccc3>)>) at /anaconda/envs/SyftEnv2/lib/python3.9/site-packages/pyee/_asyncio.py:57\nhandle: <Handle AsyncIOEventEmitter._emit_run.<locals>._callback(<Task finishe...3f38925ccc3>)>) at /anaconda/envs/SyftEnv2/lib/python3.9/site-packages/pyee/_asyncio.py:57>\nTraceback (most recent call last):\n  File \"/anaconda/envs/SyftEnv2/lib/python3.9/asyncio/events.py\", line 80, in _run\n    self._context.run(self._callback, *self._args)\n  File \"/anaconda/envs/SyftEnv2/lib/python3.9/site-packages/pyee/_asyncio.py\", line 64, in _callback\n    self.emit(\"error\", exc)\n  File \"/anaconda/envs/SyftEnv2/lib/python3.9/site-packages/pyee/_base.py\", line 118, in emit\n    self._emit_handle_potential_error(event, args[0] if args else None)\n  File \"/anaconda/envs/SyftEnv2/lib/python3.9/site-packages/pyee/_base.py\", line 88, in _emit_handle_potential_error\n    raise error\n  File \"/anaconda/envs/SyftEnv2/lib/python3.9/asyncio/tasks.py\", line 256, in __step\n    result = coro.send(None)\n  File \"/anaconda/envs/SyftEnv2/lib/python3.9/site-packages/syft/grid/connections/webrtc.py\", line 233, in on_message\n    await self.consumer(msg=message)\n  File \"/anaconda/envs/SyftEnv2/lib/python3.9/site-packages/syft/grid/connections/webrtc.py\", line 449, in consumer\n    traceback_and_raise(e)\n  File \"/anaconda/envs/SyftEnv2/lib/python3.9/site-packages/syft/logger.py\", line 61, in traceback_and_raise\n    raise e\n  File \"/anaconda/envs/SyftEnv2/lib/python3.9/site-packages/syft/grid/connections/webrtc.py\", line 434, in consumer\n    self.recv_immediate_msg_without_reply(msg=_msg)\n  File \"/anaconda/envs/SyftEnv2/lib/python3.9/site-packages/syft/grid/connections/webrtc.py\", line 490, in recv_immediate_msg_without_reply\n    traceback_and_raise(e)\n  File \"/anaconda/envs/SyftEnv2/lib/python3.9/site-packages/syft/logger.py\", line 61, in traceback_and_raise\n    raise e\n  File \"/anaconda/envs/SyftEnv2/lib/python3.9/site-packages/syft/grid/connections/webrtc.py\", line 485, in recv_immediate_msg_without_reply\n    self.node.recv_immediate_msg_without_reply(msg=msg)\n  File \"/anaconda/envs/SyftEnv2/lib/python3.9/site-packages/syft/core/node/common/node.py\", line 399, in recv_immediate_msg_without_reply\n    self.process_message(msg=msg, router=self.immediate_msg_without_reply_router)\n  File \"/anaconda/envs/SyftEnv2/lib/python3.9/site-packages/syft/core/node/common/node.py\", line 481, in process_message\n    result = service.process(\n  File \"/anaconda/envs/SyftEnv2/lib/python3.9/site-packages/syft/core/node/common/service/obj_action_service.py\", line 27, in process\n    msg.execute_action(node=node, verify_key=verify_key)\n  File \"/anaconda/envs/SyftEnv2/lib/python3.9/site-packages/syft/core/node/common/action/run_class_method_action.py\", line 126, in execute_action\n    r_arg = node.store[arg.id_at_location]\n  File \"/anaconda/envs/SyftEnv2/lib/python3.9/site-packages/syft/core/store/store_memory.py\", line 66, in __getitem__\n    traceback_and_raise(e)\n  File \"/anaconda/envs/SyftEnv2/lib/python3.9/site-packages/syft/logger.py\", line 61, in traceback_and_raise\n    raise e\n  File \"/anaconda/envs/SyftEnv2/lib/python3.9/site-packages/syft/core/store/store_memory.py\", line 63, in __getitem__\n    return self._objects[key]\nKeyError: <UID: 6f99f46c85a4457f9e9213f38925ccc3>\n[2021-09-03T08:47:40.644963+0000][CRITICAL][logger]][13006] <class 'syft.core.store.store_memory.MemoryStore'> __delitem__ error <UID: 6f99f46c85a4457f9e9213f38925ccc3>.\n[2021-09-03T08:47:40.646847+0000][CRITICAL][logger]][13006] <class 'syft.core.store.store_memory.MemoryStore'> __getitem__ error <UID: dec960d5bacf4ed9b46c27226d96c945> <UID: dec960d5bacf4ed9b46c27226d96c945>\n[2021-09-03T08:47:40.647302+0000][CRITICAL][logger]][13006] <UID: dec960d5bacf4ed9b46c27226d96c945>\n[2021-09-03T08:47:40.647763+0000][CRITICAL][logger]][13006] <UID: dec960d5bacf4ed9b46c27226d96c945>\n[2021-09-03T08:47:40.648192+0000][CRITICAL][logger]][13006] <UID: dec960d5bacf4ed9b46c27226d96c945>\nException in callback AsyncIOEventEmitter._emit_run.<locals>._callback(<Task finishe...7226d96c945>)>) at /anaconda/envs/SyftEnv2/lib/python3.9/site-packages/pyee/_asyncio.py:57\nhandle: <Handle AsyncIOEventEmitter._emit_run.<locals>._callback(<Task finishe...7226d96c945>)>) at /anaconda/envs/SyftEnv2/lib/python3.9/site-packages/pyee/_asyncio.py:57>\nTraceback (most recent call last):\n  File \"/anaconda/envs/SyftEnv2/lib/python3.9/asyncio/events.py\", line 80, in _run\n    self._context.run(self._callback, *self._args)\n  File \"/anaconda/envs/SyftEnv2/lib/python3.9/site-packages/pyee/_asyncio.py\", line 64, in _callback\n    self.emit(\"error\", exc)\n  File \"/anaconda/envs/SyftEnv2/lib/python3.9/site-packages/pyee/_base.py\", line 118, in emit\n    self._emit_handle_potential_error(event, args[0] if args else None)\n  File \"/anaconda/envs/SyftEnv2/lib/python3.9/site-packages/pyee/_base.py\", line 88, in _emit_handle_potential_error\n    raise error\n  File \"/anaconda/envs/SyftEnv2/lib/python3.9/asyncio/tasks.py\", line 256, in __step\n    result = coro.send(None)\n  File \"/anaconda/envs/SyftEnv2/lib/python3.9/site-packages/syft/grid/connections/webrtc.py\", line 233, in on_message\n    await self.consumer(msg=message)\n  File \"/anaconda/envs/SyftEnv2/lib/python3.9/site-packages/syft/grid/connections/webrtc.py\", line 449, in consumer\n    traceback_and_raise(e)\n  File \"/anaconda/envs/SyftEnv2/lib/python3.9/site-packages/syft/logger.py\", line 61, in traceback_and_raise\n    raise e\n  File \"/anaconda/envs/SyftEnv2/lib/python3.9/site-packages/syft/grid/connections/webrtc.py\", line 434, in consumer\n    self.recv_immediate_msg_without_reply(msg=_msg)\n  File \"/anaconda/envs/SyftEnv2/lib/python3.9/site-packages/syft/grid/connections/webrtc.py\", line 490, in recv_immediate_msg_without_reply\n    traceback_and_raise(e)\n  File \"/anaconda/envs/SyftEnv2/lib/python3.9/site-packages/syft/logger.py\", line 61, in traceback_and_raise\n    raise e\n  File \"/anaconda/envs/SyftEnv2/lib/python3.9/site-packages/syft/grid/connections/webrtc.py\", line 485, in recv_immediate_msg_without_reply\n    self.node.recv_immediate_msg_without_reply(msg=msg)\n  File \"/anaconda/envs/SyftEnv2/lib/python3.9/site-packages/syft/core/node/common/node.py\", line 399, in recv_immediate_msg_without_reply\n    self.process_message(msg=msg, router=self.immediate_msg_without_reply_router)\n  File \"/anaconda/envs/SyftEnv2/lib/python3.9/site-packages/syft/core/node/common/node.py\", line 481, in process_message\n    result = service.process(\n  File \"/anaconda/envs/SyftEnv2/lib/python3.9/site-packages/syft/core/node/common/service/obj_action_service.py\", line 27, in process\n    msg.execute_action(node=node, verify_key=verify_key)\n  File \"/anaconda/envs/SyftEnv2/lib/python3.9/site-packages/syft/core/node/common/action/run_class_method_action.py\", line 126, in execute_action\n    r_arg = node.store[arg.id_at_location]\n  File \"/anaconda/envs/SyftEnv2/lib/python3.9/site-packages/syft/core/store/store_memory.py\", line 66, in __getitem__\n    traceback_and_raise(e)\n  File \"/anaconda/envs/SyftEnv2/lib/python3.9/site-packages/syft/logger.py\", line 61, in traceback_and_raise\n    raise e\n  File \"/anaconda/envs/SyftEnv2/lib/python3.9/site-packages/syft/core/store/store_memory.py\", line 63, in __getitem__\n    return self._objects[key]\nKeyError: <UID: dec960d5bacf4ed9b46c27226d96c945>\n[2021-09-03T08:47:40.651022+0000][CRITICAL][logger]][13006] <class 'syft.core.store.store_memory.MemoryStore'> __delitem__ error <UID: dec960d5bacf4ed9b46c27226d96c945>.\n[2021-09-03T08:47:40.655219+0000][CRITICAL][logger]][13006] execute_action on torch.Tensor.view failed due to missing object at: <UID: 74af8e1bee2d43da9e983bb46ef382db>\n[2021-09-03T08:47:40.658476+0000][CRITICAL][logger]][13006] <class 'syft.core.store.store_memory.MemoryStore'> __delitem__ error <UID: 74af8e1bee2d43da9e983bb46ef382db>.\n[2021-09-03T08:47:40.660168+0000][CRITICAL][logger]][13006] execute_action on torch.Tensor.clone failed due to missing object at: <UID: bc06c6efe5414795aec52f16961cea62>\n[2021-09-03T08:47:40.661841+0000][CRITICAL][logger]][13006] <class 'syft.core.store.store_memory.MemoryStore'> __getitem__ error <UID: 34a8987059c541aea8b74c60deefce55> <UID: 34a8987059c541aea8b74c60deefce55>\n[2021-09-03T08:47:40.662326+0000][CRITICAL][logger]][13006] <UID: 34a8987059c541aea8b74c60deefce55>\n[2021-09-03T08:47:40.662820+0000][CRITICAL][logger]][13006] <UID: 34a8987059c541aea8b74c60deefce55>\n[2021-09-03T08:47:40.663681+0000][CRITICAL][logger]][13006] <UID: 34a8987059c541aea8b74c60deefce55>\nException in callback AsyncIOEventEmitter._emit_run.<locals>._callback(<Task finishe...c60deefce55>)>) at /anaconda/envs/SyftEnv2/lib/python3.9/site-packages/pyee/_asyncio.py:57\nhandle: <Handle AsyncIOEventEmitter._emit_run.<locals>._callback(<Task finishe...c60deefce55>)>) at /anaconda/envs/SyftEnv2/lib/python3.9/site-packages/pyee/_asyncio.py:57>\nTraceback (most recent call last):\n  File \"/anaconda/envs/SyftEnv2/lib/python3.9/asyncio/events.py\", line 80, in _run\n    self._context.run(self._callback, *self._args)\n  File \"/anaconda/envs/SyftEnv2/lib/python3.9/site-packages/pyee/_asyncio.py\", line 64, in _callback\n    self.emit(\"error\", exc)\n  File \"/anaconda/envs/SyftEnv2/lib/python3.9/site-packages/pyee/_base.py\", line 118, in emit\n    self._emit_handle_potential_error(event, args[0] if args else None)\n  File \"/anaconda/envs/SyftEnv2/lib/python3.9/site-packages/pyee/_base.py\", line 88, in _emit_handle_potential_error\n    raise error\n  File \"/anaconda/envs/SyftEnv2/lib/python3.9/asyncio/tasks.py\", line 256, in __step\n    result = coro.send(None)\n  File \"/anaconda/envs/SyftEnv2/lib/python3.9/site-packages/syft/grid/connections/webrtc.py\", line 233, in on_message\n    await self.consumer(msg=message)\n  File \"/anaconda/envs/SyftEnv2/lib/python3.9/site-packages/syft/grid/connections/webrtc.py\", line 449, in consumer\n    traceback_and_raise(e)\n  File \"/anaconda/envs/SyftEnv2/lib/python3.9/site-packages/syft/logger.py\", line 61, in traceback_and_raise\n    raise e\n  File \"/anaconda/envs/SyftEnv2/lib/python3.9/site-packages/syft/grid/connections/webrtc.py\", line 434, in consumer\n    self.recv_immediate_msg_without_reply(msg=_msg)\n  File \"/anaconda/envs/SyftEnv2/lib/python3.9/site-packages/syft/grid/connections/webrtc.py\", line 490, in recv_immediate_msg_without_reply\n    traceback_and_raise(e)\n  File \"/anaconda/envs/SyftEnv2/lib/python3.9/site-packages/syft/logger.py\", line 61, in traceback_and_raise\n    raise e\n  File \"/anaconda/envs/SyftEnv2/lib/python3.9/site-packages/syft/grid/connections/webrtc.py\", line 485, in recv_immediate_msg_without_reply\n    self.node.recv_immediate_msg_without_reply(msg=msg)\n  File \"/anaconda/envs/SyftEnv2/lib/python3.9/site-packages/syft/core/node/common/node.py\", line 399, in recv_immediate_msg_without_reply\n    self.process_message(msg=msg, router=self.immediate_msg_without_reply_router)\n  File \"/anaconda/envs/SyftEnv2/lib/python3.9/site-packages/syft/core/node/common/node.py\", line 481, in process_message\n    result = service.process(\n  File \"/anaconda/envs/SyftEnv2/lib/python3.9/site-packages/syft/core/node/domain/service/request_message.py\", line 222, in process\n    msg.object_tags.extend(node.store[msg.object_id]._tags)\n  File \"/anaconda/envs/SyftEnv2/lib/python3.9/site-packages/syft/core/store/store_memory.py\", line 66, in __getitem__\n    traceback_and_raise(e)\n  File \"/anaconda/envs/SyftEnv2/lib/python3.9/site-packages/syft/logger.py\", line 61, in traceback_and_raise\n    raise e\n  File \"/anaconda/envs/SyftEnv2/lib/python3.9/site-packages/syft/core/store/store_memory.py\", line 63, in __getitem__\n    return self._objects[key]\nKeyError: <UID: 34a8987059c541aea8b74c60deefce55>\n[2021-09-03T08:47:40.693805+0000][CRITICAL][logger]][13006] <class 'syft.core.store.store_memory.MemoryStore'> __delitem__ error <UID: 34a8987059c541aea8b74c60deefce55>.\n[2021-09-03T08:48:21.505655+0000][CRITICAL][logger]][13006] 'DataLoader' object has no attribute '_object2proto'\n[2021-09-03T08:48:21.506210+0000][CRITICAL][logger]][13006] 'DataLoader' object has no attribute '_object2proto'\nException in callback AsyncIOEventEmitter._emit_run.<locals>._callback(<Task finishe...ject2proto'\")>) at /anaconda/envs/SyftEnv2/lib/python3.9/site-packages/pyee/_asyncio.py:57\nhandle: <Handle AsyncIOEventEmitter._emit_run.<locals>._callback(<Task finishe...ject2proto'\")>) at /anaconda/envs/SyftEnv2/lib/python3.9/site-packages/pyee/_asyncio.py:57>\nTraceback (most recent call last):\n  File \"/anaconda/envs/SyftEnv2/lib/python3.9/asyncio/events.py\", line 80, in _run\n    self._context.run(self._callback, *self._args)\n  File \"/anaconda/envs/SyftEnv2/lib/python3.9/site-packages/pyee/_asyncio.py\", line 64, in _callback\n    self.emit(\"error\", exc)\n  File \"/anaconda/envs/SyftEnv2/lib/python3.9/site-packages/pyee/_base.py\", line 118, in emit\n    self._emit_handle_potential_error(event, args[0] if args else None)\n  File \"/anaconda/envs/SyftEnv2/lib/python3.9/site-packages/pyee/_base.py\", line 88, in _emit_handle_potential_error\n    raise error\n  File \"/anaconda/envs/SyftEnv2/lib/python3.9/asyncio/tasks.py\", line 256, in __step\n    result = coro.send(None)\n  File \"/anaconda/envs/SyftEnv2/lib/python3.9/site-packages/syft/grid/connections/webrtc.py\", line 233, in on_message\n    await self.consumer(msg=message)\n  File \"/anaconda/envs/SyftEnv2/lib/python3.9/site-packages/syft/grid/connections/webrtc.py\", line 449, in consumer\n    traceback_and_raise(e)\n  File \"/anaconda/envs/SyftEnv2/lib/python3.9/site-packages/syft/logger.py\", line 61, in traceback_and_raise\n    raise e\n  File \"/anaconda/envs/SyftEnv2/lib/python3.9/site-packages/syft/grid/connections/webrtc.py\", line 429, in consumer\n    reply = self.recv_immediate_msg_with_reply(msg=_msg)\n  File \"/anaconda/envs/SyftEnv2/lib/python3.9/site-packages/syft/grid/connections/webrtc.py\", line 472, in recv_immediate_msg_with_reply\n    traceback_and_raise(e)\n  File \"/anaconda/envs/SyftEnv2/lib/python3.9/site-packages/syft/logger.py\", line 61, in traceback_and_raise\n    raise e\n  File \"/anaconda/envs/SyftEnv2/lib/python3.9/site-packages/syft/grid/connections/webrtc.py\", line 466, in recv_immediate_msg_with_reply\n    reply = self.node.recv_immediate_msg_with_reply(msg=msg)\n  File \"/anaconda/envs/SyftEnv2/lib/python3.9/site-packages/syft/core/node/common/node.py\", line 384, in recv_immediate_msg_with_reply\n    res_msg = response.sign(signing_key=self.signing_key)  # type: ignore\n  File \"/anaconda/envs/SyftEnv2/lib/python3.9/site-packages/syft/core/common/message.py\", line 91, in sign\n    signed_message = signing_key.sign(serialize(self, to_bytes=True))\n  File \"/anaconda/envs/SyftEnv2/lib/python3.9/site-packages/syft/core/common/serde/serialize.py\", line 65, in _serialize\n    serialized_data = is_serializable._object2proto().SerializeToString()\n  File \"/anaconda/envs/SyftEnv2/lib/python3.9/site-packages/syft/core/node/common/action/get_object_action.py\", line 64, in _object2proto\n    ser = serialize(self.obj)\n  File \"/anaconda/envs/SyftEnv2/lib/python3.9/site-packages/syft/core/common/serde/serialize.py\", line 72, in _serialize\n    return validate_type(is_serializable._object2proto(), Message)\n  File \"/anaconda/envs/SyftEnv2/lib/python3.9/site-packages/syft/core/store/storeable_object.py\", line 133, in _object2proto\n    data = self._data._object2proto()\nAttributeError: 'DataLoader' object has no attribute '_object2proto'\n[2021-09-03T09:04:04.772309+0000][CRITICAL][logger]][13006] <class 'syft.core.store.store_memory.MemoryStore'> __delitem__ error <UID: 7c29d63c78af459bb7bf47f0cd44f2f6>.\n"
        }
      ],
      "execution_count": 11,
      "metadata": {
        "collapsed": true,
        "jupyter": {
          "source_hidden": false,
          "outputs_hidden": false
        },
        "nteract": {
          "transient": {
            "deleting": false
          }
        },
        "gather": {
          "logged": 1630658725706
        }
      }
    },
    {
      "cell_type": "code",
      "source": [],
      "outputs": [],
      "execution_count": null,
      "metadata": {
        "collapsed": true,
        "jupyter": {
          "source_hidden": false,
          "outputs_hidden": false
        },
        "nteract": {
          "transient": {
            "deleting": false
          }
        }
      }
    }
  ],
  "metadata": {
    "pygments_lexer": "ipython3",
    "name": "python",
    "microsoft": {
      "host": {
        "AzureML": {
          "notebookHasBeenCompleted": true
        }
      }
    },
    "mimetype": "text/x-python",
    "npconvert_exporter": "python",
    "kernel_info": {
      "name": "syftenv2"
    },
    "language_info": {
      "name": "python",
      "version": "3.9.6",
      "mimetype": "text/x-python",
      "codemirror_mode": {
        "name": "ipython",
        "version": 3
      },
      "pygments_lexer": "ipython3",
      "nbconvert_exporter": "python",
      "file_extension": ".py"
    },
    "version": 3,
    "kernelspec": {
      "name": "syftenv2",
      "language": "python",
      "display_name": "SyftEnv2"
    },
    "interpreter": {
      "hash": "870a257bdc5888c6c86cab99e489c6f2724cdfe1684d5990b9d7489b2d46bf07"
    },
    "file_extension": ".py",
    "nteract": {
      "version": "nteract-front-end@1.0.0"
    }
  },
  "nbformat": 4,
  "nbformat_minor": 2
}