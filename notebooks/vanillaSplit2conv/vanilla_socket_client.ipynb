{
 "cells": [
  {
   "cell_type": "markdown",
   "source": [
    "# ECG Split 1D-CNN Client Side"
   ],
   "metadata": {}
  },
  {
   "cell_type": "markdown",
   "source": [
    "This code is the server part of ECG split 1D-CNN model for **single** client and a server."
   ],
   "metadata": {}
  },
  {
   "cell_type": "markdown",
   "source": [
    "## Import required packages"
   ],
   "metadata": {}
  },
  {
   "cell_type": "code",
   "execution_count": 1,
   "source": [
    "import os\n",
    "import struct\n",
    "import socket\n",
    "import pickle\n",
    "import time\n",
    "from pathlib import Path\n",
    "from icecream import ic\n",
    "\n",
    "import h5py\n",
    "import numpy as np\n",
    "\n",
    "import torch\n",
    "import torch.nn as nn\n",
    "from torch.utils.data import Dataset, DataLoader\n",
    "from torch.optim import Adam, SGD\n",
    "\n",
    "print(f'torch version: {torch.__version__}')"
   ],
   "outputs": [
    {
     "output_type": "stream",
     "name": "stdout",
     "text": [
      "torch version: 1.8.1+cu102\n"
     ]
    }
   ],
   "metadata": {}
  },
  {
   "cell_type": "markdown",
   "source": [
    "## Define ECG dataset class"
   ],
   "metadata": {}
  },
  {
   "cell_type": "code",
   "execution_count": 2,
   "source": [
    "project_path = Path.cwd().parent.parent\n",
    "print(f'project_path: {project_path}')"
   ],
   "outputs": [
    {
     "output_type": "stream",
     "name": "stdout",
     "text": [
      "project_path: /home/dk/Desktop/split-learning-1D-HE\n"
     ]
    }
   ],
   "metadata": {}
  },
  {
   "cell_type": "code",
   "execution_count": 3,
   "source": [
    "# paths to files and directories\n",
    "data_dir = 'data'  # used to be 'mitdb'\n",
    "train_name = 'train_ecg.hdf5'\n",
    "test_name = 'test_ecg.hdf5'\n",
    "dry_run = True  # load less data (50 examples)"
   ],
   "outputs": [],
   "metadata": {}
  },
  {
   "cell_type": "code",
   "execution_count": 4,
   "source": [
    "class ECG(Dataset):\n",
    "    def __init__(self, train=True):\n",
    "        if train:\n",
    "            with h5py.File(project_path/data_dir/train_name, 'r') as hdf:\n",
    "                self.x = hdf['x_train'][:]\n",
    "                self.y = hdf['y_train'][:]\n",
    "        else:\n",
    "            with h5py.File(project_path/data_dir/test_name, 'r') as hdf:\n",
    "                self.x = hdf['x_test'][:]\n",
    "                self.y = hdf['y_test'][:]\n",
    "    \n",
    "    def __len__(self):\n",
    "        return len(self.x)\n",
    "    \n",
    "    def __getitem__(self, idx):\n",
    "        return torch.tensor(self.x[idx], dtype=torch.float), torch.tensor(self.y[idx])"
   ],
   "outputs": [],
   "metadata": {}
  },
  {
   "cell_type": "markdown",
   "source": [
    "### Set batch size"
   ],
   "metadata": {}
  },
  {
   "cell_type": "code",
   "execution_count": 5,
   "source": [
    "batch_size = 32"
   ],
   "outputs": [],
   "metadata": {}
  },
  {
   "cell_type": "markdown",
   "source": [
    "## Make train and test dataset batch generator"
   ],
   "metadata": {}
  },
  {
   "cell_type": "code",
   "execution_count": 6,
   "source": [
    "train_dataset = ECG(train=True)\n",
    "test_dataset = ECG(train=False)\n",
    "train_loader = DataLoader(train_dataset, batch_size=batch_size)\n",
    "test_loader = DataLoader(test_dataset, batch_size=batch_size)"
   ],
   "outputs": [],
   "metadata": {}
  },
  {
   "cell_type": "code",
   "execution_count": 7,
   "source": [
    "for i, b in enumerate(train_loader):\n",
    "    x, label = b\n",
    "    ic(x.shape, label)\n",
    "    if i == 1: break"
   ],
   "outputs": [
    {
     "output_type": "stream",
     "name": "stderr",
     "text": [
      "ic| x.shape: torch.Size([32, 1, 128])\n",
      "    label: tensor([2, 4, 2, 4, 2, 1, 1, 1, 2, 1, 0, 0, 2, 4, 3, 1, 2, 4, 1, 0, 1, 0, 4, 2,\n",
      "                   4, 3, 0, 1, 2, 4, 4, 2])\n",
      "ic| x.shape: torch.Size([32, 1, 128])\n",
      "    label: tensor([0, 4, 3, 4, 2, 0, 1, 4, 1, 0, 3, 4, 2, 4, 1, 0, 2, 0, 0, 2, 0, 1, 1, 0,\n",
      "                   2, 4, 4, 2, 4, 4, 1, 4])\n"
     ]
    }
   ],
   "metadata": {}
  },
  {
   "cell_type": "markdown",
   "source": [
    "### Total number of batches"
   ],
   "metadata": {}
  },
  {
   "cell_type": "code",
   "execution_count": 8,
   "source": [
    "total_batch = len(train_loader)\n",
    "print(total_batch)"
   ],
   "outputs": [
    {
     "output_type": "stream",
     "name": "stdout",
     "text": [
      "414\n"
     ]
    }
   ],
   "metadata": {}
  },
  {
   "cell_type": "markdown",
   "source": [
    "## Define ECG client model\n",
    "Client side has only **2 convolutional layers**."
   ],
   "metadata": {}
  },
  {
   "cell_type": "code",
   "execution_count": 9,
   "source": [
    "class EcgClient(nn.Module):\n",
    "    def __init__(self):\n",
    "        super(EcgClient, self).__init__()\n",
    "        self.conv1 = nn.Conv1d(1, 16, 7, padding=3)  # 128 x 16\n",
    "        self.relu1 = nn.LeakyReLU()\n",
    "        self.pool1 = nn.MaxPool1d(2)  # 64 x 16\n",
    "        self.conv2 = nn.Conv1d(16, 16, 5, padding=2)  # 64 x 16\n",
    "        self.relu2 = nn.LeakyReLU()\n",
    "        self.pool2 = nn.MaxPool1d(2)  # 32 x 16\n",
    "    \n",
    "    def forward(self, x):\n",
    "        x = self.conv1(x)\n",
    "        x = self.relu1(x)\n",
    "        x = self.pool1(x)\n",
    "        x = self.conv2(x)\n",
    "        x = self.relu2(x)\n",
    "        x = self.pool2(x)\n",
    "        x = x.view(-1, 32 * 16)\n",
    "        return x"
   ],
   "outputs": [],
   "metadata": {}
  },
  {
   "cell_type": "code",
   "execution_count": 10,
   "source": [
    "device = torch.device('cuda:0' if torch.cuda.is_available() else 'cpu')\n",
    "torch.cuda.get_device_name(0)"
   ],
   "outputs": [
    {
     "output_type": "execute_result",
     "data": {
      "text/plain": [
       "'NVIDIA GeForce GTX 1070 Ti'"
      ]
     },
     "metadata": {},
     "execution_count": 10
    }
   ],
   "metadata": {}
  },
  {
   "cell_type": "markdown",
   "source": [
    "### Set random seed"
   ],
   "metadata": {}
  },
  {
   "cell_type": "code",
   "execution_count": 11,
   "source": [
    "seed = 0\n",
    "np.random.seed(seed)\n",
    "torch.manual_seed(seed)\n",
    "torch.cuda.manual_seed(seed)\n",
    "torch.cuda.manual_seed_all(seed)\n",
    "torch.backends.cudnn.benchmark = False\n",
    "torch.backends.cudnn.deterministic = True"
   ],
   "outputs": [],
   "metadata": {}
  },
  {
   "cell_type": "markdown",
   "source": [
    "### Assign intial weight as same as non-split model"
   ],
   "metadata": {}
  },
  {
   "cell_type": "code",
   "execution_count": 12,
   "source": [
    "ecg_client = EcgClient()\n",
    "checkpoint = torch.load(\"init_weight.pth\")\n",
    "ecg_client.conv1.weight.data = checkpoint[\"conv1.weight\"]\n",
    "ecg_client.conv1.bias.data = checkpoint[\"conv1.bias\"]\n",
    "ecg_client.conv2.weight.data = checkpoint[\"conv2.weight\"]\n",
    "ecg_client.conv2.bias.data = checkpoint[\"conv2.bias\"]\n",
    "ecg_client.to(device)"
   ],
   "outputs": [
    {
     "output_type": "execute_result",
     "data": {
      "text/plain": [
       "EcgClient(\n",
       "  (conv1): Conv1d(1, 16, kernel_size=(7,), stride=(1,), padding=(3,))\n",
       "  (relu1): LeakyReLU(negative_slope=0.01)\n",
       "  (pool1): MaxPool1d(kernel_size=2, stride=2, padding=0, dilation=1, ceil_mode=False)\n",
       "  (conv2): Conv1d(16, 16, kernel_size=(5,), stride=(1,), padding=(2,))\n",
       "  (relu2): LeakyReLU(negative_slope=0.01)\n",
       "  (pool2): MaxPool1d(kernel_size=2, stride=2, padding=0, dilation=1, ceil_mode=False)\n",
       ")"
      ]
     },
     "metadata": {},
     "execution_count": 12
    }
   ],
   "metadata": {}
  },
  {
   "cell_type": "markdown",
   "source": [
    "### Set other hyperparameters in the model\n",
    "Hyperparameters here should be same with the server side."
   ],
   "metadata": {}
  },
  {
   "cell_type": "code",
   "execution_count": 13,
   "source": [
    "epoch = 400\n",
    "criterion = nn.CrossEntropyLoss()\n",
    "lr = 0.001\n",
    "optimizer = Adam(ecg_client.parameters(), lr=lr)"
   ],
   "outputs": [],
   "metadata": {}
  },
  {
   "cell_type": "markdown",
   "source": [
    "## Socket initialization"
   ],
   "metadata": {}
  },
  {
   "cell_type": "markdown",
   "source": [
    "### Required socket functions"
   ],
   "metadata": {}
  },
  {
   "cell_type": "code",
   "execution_count": 14,
   "source": [
    "def send_msg(sock, msg):\n",
    "    # prefix each message with a 4-byte length in network byte order\n",
    "    msg = struct.pack('>I', len(msg)) + msg\n",
    "    sock.sendall(msg)\n",
    "\n",
    "def recv_msg(sock):\n",
    "    # read message length and unpack it into an integer\n",
    "    raw_msglen = recvall(sock, 4)\n",
    "    if not raw_msglen:\n",
    "        return None\n",
    "    msglen = struct.unpack('>I', raw_msglen)[0]\n",
    "    # read the message data\n",
    "    return recvall(sock, msglen)\n",
    "\n",
    "def recvall(sock, n):\n",
    "    # helper function to receive n bytes or return None if EOF is hit\n",
    "    data = b''\n",
    "    while len(data) < n:\n",
    "        packet = sock.recv(n - len(data))\n",
    "        if not packet:\n",
    "            return None\n",
    "        data += packet\n",
    "    return data"
   ],
   "outputs": [],
   "metadata": {}
  },
  {
   "cell_type": "markdown",
   "source": [
    "### Set host address and port number"
   ],
   "metadata": {}
  },
  {
   "cell_type": "code",
   "execution_count": 15,
   "source": [
    "host = 'localhost'\n",
    "port = 10080\n",
    "max_recv = 4096"
   ],
   "outputs": [],
   "metadata": {}
  },
  {
   "cell_type": "markdown",
   "source": [
    "### Open the client socket"
   ],
   "metadata": {}
  },
  {
   "cell_type": "code",
   "execution_count": 16,
   "source": [
    "s = socket.socket()\n",
    "s.connect((host, port))"
   ],
   "outputs": [],
   "metadata": {}
  },
  {
   "cell_type": "markdown",
   "source": [
    "## Real training process"
   ],
   "metadata": {}
  },
  {
   "cell_type": "code",
   "execution_count": 17,
   "source": [
    "for e in range(epoch):\n",
    "    print(\"Epoch {} - \".format(e+1), end='')\n",
    "    \n",
    "    for _, batch in enumerate(train_loader):\n",
    "        x, label = batch\n",
    "        x, label = x.to(device), label.to(device)\n",
    "        optimizer.zero_grad()\n",
    "        output = ecg_client(x)\n",
    "        client_output = output.clone().detach().requires_grad_(True)\n",
    "        msg = {\n",
    "            'client_output': client_output,\n",
    "            'label': label\n",
    "        }\n",
    "        msg = pickle.dumps(msg)\n",
    "        send_msg(s, msg)\n",
    "        msg = recv_msg(s)\n",
    "        client_grad = pickle.loads(msg)\n",
    "        output.backward(client_grad)\n",
    "        optimizer.step()\n",
    "            \n",
    "    with torch.no_grad():  # calculate test accuracy\n",
    "        for _, batch in enumerate(test_loader):\n",
    "            x, label = batch\n",
    "            x, label = x.to(device), label.to(device)\n",
    "            client_output = ecg_client(x)\n",
    "            msg = {\n",
    "                'client_output': client_output,\n",
    "                'label': label\n",
    "            }\n",
    "            msg = pickle.dumps(msg)\n",
    "            send_msg(s, msg)\n",
    "    \n",
    "    msg = recv_msg(s)\n",
    "    train_test_status = pickle.loads(msg)\n",
    "    print(train_test_status)"
   ],
   "outputs": [
    {
     "output_type": "stream",
     "name": "stdout",
     "text": [
      "Epoch 1 - loss: 1.3244, acc: 59.06% / test_loss: 1.1545, test_acc: 77.38%\n",
      "Epoch 2 - loss: 1.0868, acc: 83.05% / test_loss: 1.0626, test_acc: 85.08%\n",
      "Epoch 3 - loss: 1.0519, acc: 85.80% / test_loss: 1.0368, test_acc: 86.90%\n",
      "Epoch 4 - loss: 1.0411, acc: 86.67% / test_loss: 1.0310, test_acc: 87.67%\n",
      "Epoch 5 - loss: 1.0351, acc: 87.17% / test_loss: 1.0232, test_acc: 88.29%\n",
      "Epoch 6 - loss: 1.0326, acc: 87.41% / test_loss: 1.0288, test_acc: 87.70%\n",
      "Epoch 7 - loss: 1.0279, acc: 87.82% / test_loss: 1.0219, test_acc: 88.40%\n",
      "Epoch 8 - loss: 1.0250, acc: 88.11% / test_loss: 1.0199, test_acc: 88.53%\n",
      "Epoch 9 - loss: 1.0253, acc: 87.97% / test_loss: 1.0260, test_acc: 88.04%\n",
      "Epoch 10 - loss: 1.0234, acc: 88.16% / test_loss: 1.0166, test_acc: 88.80%\n",
      "Epoch 11 - loss: 1.0207, acc: 88.42% / test_loss: 1.0143, test_acc: 88.97%\n",
      "Epoch 12 - loss: 1.0202, acc: 88.37% / test_loss: 1.0117, test_acc: 89.26%\n",
      "Epoch 13 - loss: 1.0194, acc: 88.40% / test_loss: 1.0116, test_acc: 89.25%\n",
      "Epoch 14 - loss: 1.0170, acc: 88.67% / test_loss: 1.0116, test_acc: 89.25%\n",
      "Epoch 15 - loss: 1.0156, acc: 88.79% / test_loss: 1.0084, test_acc: 89.52%\n",
      "Epoch 16 - loss: 1.0159, acc: 88.83% / test_loss: 1.0088, test_acc: 89.45%\n",
      "Epoch 17 - loss: 1.0130, acc: 89.00% / test_loss: 1.0081, test_acc: 89.58%\n",
      "Epoch 18 - loss: 1.0136, acc: 88.99% / test_loss: 1.0081, test_acc: 89.60%\n",
      "Epoch 19 - loss: 1.0120, acc: 89.10% / test_loss: 1.0074, test_acc: 89.57%\n",
      "Epoch 20 - loss: 1.0122, acc: 89.08% / test_loss: 1.0128, test_acc: 89.08%\n",
      "Epoch 21 - loss: 1.0117, acc: 89.18% / test_loss: 1.0095, test_acc: 89.43%\n",
      "Epoch 22 - loss: 1.0102, acc: 89.33% / test_loss: 1.0083, test_acc: 89.54%\n",
      "Epoch 23 - loss: 1.0093, acc: 89.41% / test_loss: 1.0042, test_acc: 89.86%\n",
      "Epoch 24 - loss: 1.0092, acc: 89.41% / test_loss: 1.0062, test_acc: 89.76%\n",
      "Epoch 25 - loss: 1.0078, acc: 89.59% / test_loss: 1.0041, test_acc: 89.90%\n",
      "Epoch 26 - loss: 1.0077, acc: 89.56% / test_loss: 1.0026, test_acc: 90.01%\n",
      "Epoch 27 - loss: 1.0070, acc: 89.63% / test_loss: 1.0053, test_acc: 89.87%\n",
      "Epoch 28 - loss: 1.0067, acc: 89.67% / test_loss: 1.0029, test_acc: 90.02%\n",
      "Epoch 29 - loss: 1.0047, acc: 89.82% / test_loss: 1.0022, test_acc: 90.07%\n",
      "Epoch 30 - loss: 1.0056, acc: 89.76% / test_loss: 1.0034, test_acc: 89.97%\n",
      "Epoch 31 - loss: 1.0055, acc: 89.78% / test_loss: 1.0030, test_acc: 89.98%\n",
      "Epoch 32 - loss: 1.0057, acc: 89.71% / test_loss: 1.0037, test_acc: 89.94%\n",
      "Epoch 33 - loss: 1.0057, acc: 89.73% / test_loss: 1.0025, test_acc: 90.02%\n",
      "Epoch 34 - loss: 1.0047, acc: 89.80% / test_loss: 1.0004, test_acc: 90.22%\n",
      "Epoch 35 - loss: 1.0040, acc: 89.83% / test_loss: 1.0014, test_acc: 90.17%\n",
      "Epoch 36 - loss: 1.0041, acc: 89.85% / test_loss: 1.0010, test_acc: 90.16%\n",
      "Epoch 37 - loss: 1.0034, acc: 89.93% / test_loss: 1.0007, test_acc: 90.22%\n",
      "Epoch 38 - loss: 1.0024, acc: 90.00% / test_loss: 0.9989, test_acc: 90.37%\n",
      "Epoch 39 - loss: 1.0026, acc: 89.97% / test_loss: 0.9999, test_acc: 90.28%\n",
      "Epoch 40 - loss: 1.0021, acc: 90.02% / test_loss: 1.0008, test_acc: 90.19%\n",
      "Epoch 41 - loss: 1.0026, acc: 90.00% / test_loss: 1.0025, test_acc: 90.02%\n",
      "Epoch 42 - loss: 1.0008, acc: 90.13% / test_loss: 1.0004, test_acc: 90.15%\n",
      "Epoch 43 - loss: 1.0020, acc: 90.05% / test_loss: 0.9975, test_acc: 90.42%\n",
      "Epoch 44 - loss: 1.0010, acc: 90.13% / test_loss: 0.9996, test_acc: 90.28%\n",
      "Epoch 45 - loss: 0.9999, acc: 90.23% / test_loss: 0.9976, test_acc: 90.41%\n",
      "Epoch 46 - loss: 1.0008, acc: 90.15% / test_loss: 0.9989, test_acc: 90.37%\n",
      "Epoch 47 - loss: 0.9999, acc: 90.22% / test_loss: 0.9974, test_acc: 90.43%\n",
      "Epoch 48 - loss: 1.0004, acc: 90.18% / test_loss: 0.9978, test_acc: 90.39%\n",
      "Epoch 49 - loss: 1.0004, acc: 90.20% / test_loss: 0.9979, test_acc: 90.42%\n",
      "Epoch 50 - loss: 0.9982, acc: 90.37% / test_loss: 1.0010, test_acc: 90.06%\n",
      "Epoch 51 - loss: 1.0006, acc: 90.15% / test_loss: 0.9972, test_acc: 90.45%\n",
      "Epoch 52 - loss: 1.0002, acc: 90.22% / test_loss: 0.9982, test_acc: 90.39%\n",
      "Epoch 53 - loss: 0.9982, acc: 90.36% / test_loss: 0.9971, test_acc: 90.44%\n",
      "Epoch 54 - loss: 0.9989, acc: 90.28% / test_loss: 0.9964, test_acc: 90.52%\n",
      "Epoch 55 - loss: 0.9996, acc: 90.25% / test_loss: 0.9970, test_acc: 90.50%\n",
      "Epoch 56 - loss: 0.9988, acc: 90.31% / test_loss: 0.9960, test_acc: 90.59%\n",
      "Epoch 57 - loss: 0.9984, acc: 90.36% / test_loss: 0.9966, test_acc: 90.52%\n",
      "Epoch 58 - loss: 0.9987, acc: 90.33% / test_loss: 0.9968, test_acc: 90.45%\n",
      "Epoch 59 - loss: 0.9977, acc: 90.42% / test_loss: 0.9956, test_acc: 90.60%\n",
      "Epoch 60 - loss: 0.9990, acc: 90.28% / test_loss: 0.9996, test_acc: 90.21%\n",
      "Epoch 61 - loss: 0.9982, acc: 90.34% / test_loss: 0.9971, test_acc: 90.46%\n",
      "Epoch 62 - loss: 0.9998, acc: 90.23% / test_loss: 0.9968, test_acc: 90.47%\n",
      "Epoch 63 - loss: 0.9993, acc: 90.28% / test_loss: 0.9950, test_acc: 90.67%\n",
      "Epoch 64 - loss: 0.9981, acc: 90.36% / test_loss: 0.9972, test_acc: 90.53%\n",
      "Epoch 65 - loss: 0.9970, acc: 90.49% / test_loss: 0.9954, test_acc: 90.57%\n",
      "Epoch 66 - loss: 0.9966, acc: 90.51% / test_loss: 0.9938, test_acc: 90.78%\n",
      "Epoch 67 - loss: 0.9964, acc: 90.52% / test_loss: 0.9942, test_acc: 90.75%\n",
      "Epoch 68 - loss: 0.9963, acc: 90.53% / test_loss: 0.9931, test_acc: 90.83%\n",
      "Epoch 69 - loss: 0.9953, acc: 90.65% / test_loss: 0.9937, test_acc: 90.81%\n",
      "Epoch 70 - loss: 0.9892, acc: 91.22% / test_loss: 0.9858, test_acc: 91.66%\n",
      "Epoch 71 - loss: 0.9838, acc: 91.81% / test_loss: 0.9833, test_acc: 91.90%\n",
      "Epoch 72 - loss: 0.9809, acc: 92.10% / test_loss: 0.9853, test_acc: 91.63%\n",
      "Epoch 73 - loss: 0.9808, acc: 92.06% / test_loss: 0.9809, test_acc: 92.06%\n",
      "Epoch 74 - loss: 0.9783, acc: 92.37% / test_loss: 0.9814, test_acc: 92.08%\n",
      "Epoch 75 - loss: 0.9772, acc: 92.50% / test_loss: 0.9814, test_acc: 92.13%\n",
      "Epoch 76 - loss: 0.9777, acc: 92.43% / test_loss: 0.9802, test_acc: 92.21%\n",
      "Epoch 77 - loss: 0.9767, acc: 92.54% / test_loss: 0.9791, test_acc: 92.31%\n",
      "Epoch 78 - loss: 0.9764, acc: 92.58% / test_loss: 0.9812, test_acc: 92.13%\n",
      "Epoch 79 - loss: 0.9757, acc: 92.63% / test_loss: 0.9795, test_acc: 92.18%\n",
      "Epoch 80 - loss: 0.9754, acc: 92.65% / test_loss: 0.9802, test_acc: 92.17%\n",
      "Epoch 81 - loss: 0.9770, acc: 92.50% / test_loss: 0.9777, test_acc: 92.36%\n",
      "Epoch 82 - loss: 0.9763, acc: 92.51% / test_loss: 0.9779, test_acc: 92.41%\n",
      "Epoch 83 - loss: 0.9755, acc: 92.62% / test_loss: 0.9772, test_acc: 92.42%\n",
      "Epoch 84 - loss: 0.9739, acc: 92.80% / test_loss: 0.9773, test_acc: 92.42%\n",
      "Epoch 85 - loss: 0.9738, acc: 92.80% / test_loss: 0.9787, test_acc: 92.33%\n",
      "Epoch 86 - loss: 0.9758, acc: 92.57% / test_loss: 0.9779, test_acc: 92.35%\n",
      "Epoch 87 - loss: 0.9745, acc: 92.71% / test_loss: 0.9776, test_acc: 92.39%\n",
      "Epoch 88 - loss: 0.9738, acc: 92.79% / test_loss: 0.9814, test_acc: 91.99%\n",
      "Epoch 89 - loss: 0.9744, acc: 92.77% / test_loss: 0.9773, test_acc: 92.43%\n",
      "Epoch 90 - loss: 0.9745, acc: 92.72% / test_loss: 0.9774, test_acc: 92.40%\n",
      "Epoch 91 - loss: 0.9743, acc: 92.74% / test_loss: 0.9797, test_acc: 92.16%\n",
      "Epoch 92 - loss: 0.9752, acc: 92.65% / test_loss: 0.9775, test_acc: 92.42%\n",
      "Epoch 93 - loss: 0.9733, acc: 92.80% / test_loss: 0.9759, test_acc: 92.57%\n",
      "Epoch 94 - loss: 0.9747, acc: 92.71% / test_loss: 0.9782, test_acc: 92.33%\n",
      "Epoch 95 - loss: 0.9742, acc: 92.74% / test_loss: 0.9773, test_acc: 92.41%\n",
      "Epoch 96 - loss: 0.9726, acc: 92.88% / test_loss: 0.9767, test_acc: 92.47%\n",
      "Epoch 97 - loss: 0.9722, acc: 92.90% / test_loss: 0.9761, test_acc: 92.50%\n",
      "Epoch 98 - loss: 0.9733, acc: 92.84% / test_loss: 0.9823, test_acc: 91.96%\n",
      "Epoch 99 - loss: 0.9743, acc: 92.75% / test_loss: 0.9750, test_acc: 92.62%\n",
      "Epoch 100 - loss: 0.9716, acc: 93.00% / test_loss: 0.9798, test_acc: 92.16%\n",
      "Epoch 101 - loss: 0.9729, acc: 92.90% / test_loss: 0.9771, test_acc: 92.45%\n",
      "Epoch 102 - loss: 0.9721, acc: 92.93% / test_loss: 0.9745, test_acc: 92.70%\n",
      "Epoch 103 - loss: 0.9712, acc: 93.04% / test_loss: 0.9769, test_acc: 92.48%\n",
      "Epoch 104 - loss: 0.9726, acc: 92.93% / test_loss: 0.9789, test_acc: 92.27%\n",
      "Epoch 105 - loss: 0.9719, acc: 92.97% / test_loss: 0.9748, test_acc: 92.68%\n",
      "Epoch 106 - loss: 0.9702, acc: 93.13% / test_loss: 0.9740, test_acc: 92.77%\n",
      "Epoch 107 - loss: 0.9703, acc: 93.11% / test_loss: 0.9754, test_acc: 92.62%\n",
      "Epoch 108 - loss: 0.9715, acc: 93.02% / test_loss: 0.9758, test_acc: 92.55%\n",
      "Epoch 109 - loss: 0.9704, acc: 93.14% / test_loss: 0.9794, test_acc: 92.16%\n",
      "Epoch 110 - loss: 0.9722, acc: 92.93% / test_loss: 0.9732, test_acc: 92.80%\n",
      "Epoch 111 - loss: 0.9702, acc: 93.14% / test_loss: 0.9732, test_acc: 92.80%\n",
      "Epoch 112 - loss: 0.9692, acc: 93.24% / test_loss: 0.9761, test_acc: 92.48%\n",
      "Epoch 113 - loss: 0.9692, acc: 93.24% / test_loss: 0.9733, test_acc: 92.84%\n",
      "Epoch 114 - loss: 0.9698, acc: 93.15% / test_loss: 0.9792, test_acc: 92.25%\n",
      "Epoch 115 - loss: 0.9694, acc: 93.24% / test_loss: 0.9740, test_acc: 92.77%\n",
      "Epoch 116 - loss: 0.9705, acc: 93.09% / test_loss: 0.9796, test_acc: 92.11%\n",
      "Epoch 117 - loss: 0.9702, acc: 93.14% / test_loss: 0.9733, test_acc: 92.78%\n",
      "Epoch 118 - loss: 0.9685, acc: 93.30% / test_loss: 0.9738, test_acc: 92.77%\n",
      "Epoch 119 - loss: 0.9699, acc: 93.17% / test_loss: 0.9805, test_acc: 92.04%\n",
      "Epoch 120 - loss: 0.9690, acc: 93.26% / test_loss: 0.9729, test_acc: 92.84%\n",
      "Epoch 121 - loss: 0.9702, acc: 93.13% / test_loss: 0.9731, test_acc: 92.81%\n",
      "Epoch 122 - loss: 0.9683, acc: 93.33% / test_loss: 0.9741, test_acc: 92.79%\n",
      "Epoch 123 - loss: 0.9687, acc: 93.28% / test_loss: 0.9723, test_acc: 92.89%\n",
      "Epoch 124 - loss: 0.9678, acc: 93.34% / test_loss: 0.9723, test_acc: 92.89%\n",
      "Epoch 125 - loss: 0.9676, acc: 93.36% / test_loss: 0.9717, test_acc: 92.96%\n",
      "Epoch 126 - loss: 0.9673, acc: 93.43% / test_loss: 0.9722, test_acc: 92.92%\n",
      "Epoch 127 - loss: 0.9673, acc: 93.41% / test_loss: 0.9709, test_acc: 93.04%\n",
      "Epoch 128 - loss: 0.9686, acc: 93.30% / test_loss: 0.9781, test_acc: 92.39%\n",
      "Epoch 129 - loss: 0.9680, acc: 93.33% / test_loss: 0.9751, test_acc: 92.64%\n",
      "Epoch 130 - loss: 0.9675, acc: 93.38% / test_loss: 0.9714, test_acc: 92.99%\n",
      "Epoch 131 - loss: 0.9675, acc: 93.37% / test_loss: 0.9708, test_acc: 93.08%\n",
      "Epoch 132 - loss: 0.9677, acc: 93.36% / test_loss: 0.9721, test_acc: 92.96%\n",
      "Epoch 133 - loss: 0.9674, acc: 93.39% / test_loss: 0.9718, test_acc: 92.95%\n",
      "Epoch 134 - loss: 0.9697, acc: 93.15% / test_loss: 0.9736, test_acc: 92.77%\n",
      "Epoch 135 - loss: 0.9665, acc: 93.48% / test_loss: 0.9719, test_acc: 92.96%\n",
      "Epoch 136 - loss: 0.9686, acc: 93.31% / test_loss: 0.9721, test_acc: 92.90%\n",
      "Epoch 137 - loss: 0.9664, acc: 93.48% / test_loss: 0.9815, test_acc: 91.97%\n",
      "Epoch 138 - loss: 0.9666, acc: 93.45% / test_loss: 0.9729, test_acc: 92.84%\n",
      "Epoch 139 - loss: 0.9675, acc: 93.37% / test_loss: 0.9702, test_acc: 93.09%\n",
      "Epoch 140 - loss: 0.9662, acc: 93.51% / test_loss: 0.9796, test_acc: 92.16%\n",
      "Epoch 141 - loss: 0.9666, acc: 93.50% / test_loss: 0.9744, test_acc: 92.71%\n",
      "Epoch 142 - loss: 0.9661, acc: 93.52% / test_loss: 0.9698, test_acc: 93.12%\n",
      "Epoch 143 - loss: 0.9666, acc: 93.48% / test_loss: 0.9729, test_acc: 92.83%\n",
      "Epoch 144 - loss: 0.9662, acc: 93.51% / test_loss: 0.9731, test_acc: 92.81%\n",
      "Epoch 145 - loss: 0.9677, acc: 93.36% / test_loss: 0.9728, test_acc: 92.82%\n",
      "Epoch 146 - loss: 0.9669, acc: 93.43% / test_loss: 0.9709, test_acc: 92.99%\n",
      "Epoch 147 - loss: 0.9660, acc: 93.53% / test_loss: 0.9728, test_acc: 92.90%\n",
      "Epoch 148 - loss: 0.9664, acc: 93.51% / test_loss: 0.9712, test_acc: 92.99%\n",
      "Epoch 149 - loss: 0.9656, acc: 93.59% / test_loss: 0.9715, test_acc: 92.96%\n",
      "Epoch 150 - loss: 0.9654, acc: 93.61% / test_loss: 0.9702, test_acc: 93.08%\n",
      "Epoch 151 - loss: 0.9650, acc: 93.64% / test_loss: 0.9710, test_acc: 93.05%\n",
      "Epoch 152 - loss: 0.9639, acc: 93.76% / test_loss: 0.9696, test_acc: 93.16%\n",
      "Epoch 153 - loss: 0.9652, acc: 93.57% / test_loss: 0.9725, test_acc: 92.86%\n",
      "Epoch 154 - loss: 0.9658, acc: 93.57% / test_loss: 0.9692, test_acc: 93.19%\n",
      "Epoch 155 - loss: 0.9654, acc: 93.57% / test_loss: 0.9706, test_acc: 93.02%\n",
      "Epoch 156 - loss: 0.9650, acc: 93.63% / test_loss: 0.9700, test_acc: 93.12%\n",
      "Epoch 157 - loss: 0.9650, acc: 93.62% / test_loss: 0.9727, test_acc: 92.87%\n",
      "Epoch 158 - loss: 0.9648, acc: 93.64% / test_loss: 0.9697, test_acc: 93.14%\n",
      "Epoch 159 - loss: 0.9639, acc: 93.73% / test_loss: 0.9688, test_acc: 93.26%\n",
      "Epoch 160 - loss: 0.9640, acc: 93.73% / test_loss: 0.9695, test_acc: 93.14%\n",
      "Epoch 161 - loss: 0.9643, acc: 93.69% / test_loss: 0.9743, test_acc: 92.67%\n",
      "Epoch 162 - loss: 0.9646, acc: 93.66% / test_loss: 0.9704, test_acc: 93.09%\n",
      "Epoch 163 - loss: 0.9648, acc: 93.61% / test_loss: 0.9688, test_acc: 93.21%\n",
      "Epoch 164 - loss: 0.9658, acc: 93.55% / test_loss: 0.9690, test_acc: 93.22%\n",
      "Epoch 165 - loss: 0.9391, acc: 96.46% / test_loss: 0.9280, test_acc: 97.69%\n",
      "Epoch 166 - loss: 0.9217, acc: 98.31% / test_loss: 0.9295, test_acc: 97.46%\n",
      "Epoch 167 - loss: 0.9206, acc: 98.49% / test_loss: 0.9291, test_acc: 97.56%\n",
      "Epoch 168 - loss: 0.9202, acc: 98.50% / test_loss: 0.9294, test_acc: 97.51%\n",
      "Epoch 169 - loss: 0.9219, acc: 98.32% / test_loss: 0.9288, test_acc: 97.60%\n",
      "Epoch 170 - loss: 0.9210, acc: 98.42% / test_loss: 0.9325, test_acc: 97.30%\n",
      "Epoch 171 - loss: 0.9213, acc: 98.38% / test_loss: 0.9253, test_acc: 97.96%\n",
      "Epoch 172 - loss: 0.9200, acc: 98.50% / test_loss: 0.9265, test_acc: 97.86%\n",
      "Epoch 173 - loss: 0.9179, acc: 98.71% / test_loss: 0.9256, test_acc: 97.88%\n",
      "Epoch 174 - loss: 0.9178, acc: 98.74% / test_loss: 0.9251, test_acc: 97.96%\n",
      "Epoch 175 - loss: 0.9160, acc: 98.91% / test_loss: 0.9236, test_acc: 98.12%\n",
      "Epoch 176 - loss: 0.9165, acc: 98.86% / test_loss: 0.9252, test_acc: 97.96%\n",
      "Epoch 177 - loss: 0.9162, acc: 98.87% / test_loss: 0.9232, test_acc: 98.15%\n",
      "Epoch 178 - loss: 0.9163, acc: 98.88% / test_loss: 0.9235, test_acc: 98.14%\n",
      "Epoch 179 - loss: 0.9168, acc: 98.82% / test_loss: 0.9257, test_acc: 97.94%\n",
      "Epoch 180 - loss: 0.9158, acc: 98.94% / test_loss: 0.9235, test_acc: 98.15%\n",
      "Epoch 181 - loss: 0.9157, acc: 98.94% / test_loss: 0.9299, test_acc: 97.47%\n",
      "Epoch 182 - loss: 0.9162, acc: 98.91% / test_loss: 0.9256, test_acc: 97.92%\n",
      "Epoch 183 - loss: 0.9148, acc: 99.02% / test_loss: 0.9238, test_acc: 98.08%\n",
      "Epoch 184 - loss: 0.9153, acc: 98.99% / test_loss: 0.9246, test_acc: 98.03%\n",
      "Epoch 185 - loss: 0.9158, acc: 98.92% / test_loss: 0.9224, test_acc: 98.23%\n",
      "Epoch 186 - loss: 0.9144, acc: 99.05% / test_loss: 0.9246, test_acc: 98.01%\n",
      "Epoch 187 - loss: 0.9171, acc: 98.78% / test_loss: 0.9246, test_acc: 97.98%\n",
      "Epoch 188 - loss: 0.9142, acc: 99.09% / test_loss: 0.9237, test_acc: 98.09%\n",
      "Epoch 189 - loss: 0.9153, acc: 98.99% / test_loss: 0.9267, test_acc: 97.86%\n",
      "Epoch 190 - loss: 0.9152, acc: 98.97% / test_loss: 0.9248, test_acc: 98.00%\n",
      "Epoch 191 - loss: 0.9151, acc: 99.01% / test_loss: 0.9250, test_acc: 97.99%\n",
      "Epoch 192 - loss: 0.9148, acc: 99.04% / test_loss: 0.9293, test_acc: 97.49%\n",
      "Epoch 193 - loss: 0.9158, acc: 98.92% / test_loss: 0.9228, test_acc: 98.22%\n",
      "Epoch 194 - loss: 0.9158, acc: 98.90% / test_loss: 0.9228, test_acc: 98.20%\n",
      "Epoch 195 - loss: 0.9143, acc: 99.07% / test_loss: 0.9249, test_acc: 98.01%\n",
      "Epoch 196 - loss: 0.9158, acc: 98.92% / test_loss: 0.9236, test_acc: 98.14%\n",
      "Epoch 197 - loss: 0.9148, acc: 99.00% / test_loss: 0.9270, test_acc: 97.76%\n",
      "Epoch 198 - loss: 0.9162, acc: 98.88% / test_loss: 0.9290, test_acc: 97.56%\n",
      "Epoch 199 - loss: 0.9145, acc: 99.04% / test_loss: 0.9240, test_acc: 98.07%\n",
      "Epoch 200 - loss: 0.9134, acc: 99.15% / test_loss: 0.9231, test_acc: 98.20%\n",
      "Epoch 201 - loss: 0.9145, acc: 99.03% / test_loss: 0.9273, test_acc: 97.71%\n",
      "Epoch 202 - loss: 0.9177, acc: 98.72% / test_loss: 0.9230, test_acc: 98.16%\n",
      "Epoch 203 - loss: 0.9163, acc: 98.88% / test_loss: 0.9279, test_acc: 97.69%\n",
      "Epoch 204 - loss: 0.9155, acc: 98.94% / test_loss: 0.9237, test_acc: 98.07%\n",
      "Epoch 205 - loss: 0.9134, acc: 99.15% / test_loss: 0.9244, test_acc: 98.04%\n",
      "Epoch 206 - loss: 0.9134, acc: 99.15% / test_loss: 0.9230, test_acc: 98.20%\n",
      "Epoch 207 - loss: 0.9133, acc: 99.18% / test_loss: 0.9238, test_acc: 98.08%\n",
      "Epoch 208 - loss: 0.9135, acc: 99.15% / test_loss: 0.9226, test_acc: 98.21%\n",
      "Epoch 209 - loss: 0.9152, acc: 98.97% / test_loss: 0.9274, test_acc: 97.75%\n",
      "Epoch 210 - loss: 0.9141, acc: 99.09% / test_loss: 0.9218, test_acc: 98.32%\n",
      "Epoch 211 - loss: 0.9135, acc: 99.14% / test_loss: 0.9229, test_acc: 98.19%\n",
      "Epoch 212 - loss: 0.9151, acc: 98.98% / test_loss: 0.9220, test_acc: 98.29%\n",
      "Epoch 213 - loss: 0.9149, acc: 98.99% / test_loss: 0.9248, test_acc: 98.00%\n",
      "Epoch 214 - loss: 0.9157, acc: 98.92% / test_loss: 0.9238, test_acc: 98.07%\n",
      "Epoch 215 - loss: 0.9132, acc: 99.18% / test_loss: 0.9223, test_acc: 98.27%\n",
      "Epoch 216 - loss: 0.9128, acc: 99.22% / test_loss: 0.9235, test_acc: 98.10%\n",
      "Epoch 217 - loss: 0.9138, acc: 99.10% / test_loss: 0.9227, test_acc: 98.22%\n",
      "Epoch 218 - loss: 0.9155, acc: 98.94% / test_loss: 0.9239, test_acc: 98.09%\n",
      "Epoch 219 - loss: 0.9160, acc: 98.88% / test_loss: 0.9234, test_acc: 98.13%\n",
      "Epoch 220 - loss: 0.9140, acc: 99.09% / test_loss: 0.9230, test_acc: 98.17%\n",
      "Epoch 221 - loss: 0.9140, acc: 99.08% / test_loss: 0.9230, test_acc: 98.22%\n",
      "Epoch 222 - loss: 0.9149, acc: 99.01% / test_loss: 0.9234, test_acc: 98.14%\n",
      "Epoch 223 - loss: 0.9137, acc: 99.12% / test_loss: 0.9261, test_acc: 97.85%\n",
      "Epoch 224 - loss: 0.9132, acc: 99.18% / test_loss: 0.9227, test_acc: 98.20%\n",
      "Epoch 225 - loss: 0.9165, acc: 98.84% / test_loss: 0.9259, test_acc: 97.91%\n",
      "Epoch 226 - loss: 0.9141, acc: 99.08% / test_loss: 0.9225, test_acc: 98.26%\n",
      "Epoch 227 - loss: 0.9134, acc: 99.15% / test_loss: 0.9237, test_acc: 98.12%\n",
      "Epoch 228 - loss: 0.9149, acc: 99.03% / test_loss: 0.9232, test_acc: 98.15%\n",
      "Epoch 229 - loss: 0.9155, acc: 98.94% / test_loss: 0.9224, test_acc: 98.26%\n",
      "Epoch 230 - loss: 0.9147, acc: 98.99% / test_loss: 0.9232, test_acc: 98.17%\n",
      "Epoch 231 - loss: 0.9168, acc: 98.80% / test_loss: 0.9237, test_acc: 98.11%\n",
      "Epoch 232 - loss: 0.9139, acc: 99.10% / test_loss: 0.9222, test_acc: 98.29%\n",
      "Epoch 233 - loss: 0.9129, acc: 99.21% / test_loss: 0.9220, test_acc: 98.28%\n",
      "Epoch 234 - loss: 0.9130, acc: 99.18% / test_loss: 0.9220, test_acc: 98.28%\n",
      "Epoch 235 - loss: 0.9136, acc: 99.12% / test_loss: 0.9271, test_acc: 97.77%\n",
      "Epoch 236 - loss: 0.9161, acc: 98.89% / test_loss: 0.9262, test_acc: 97.85%\n",
      "Epoch 237 - loss: 0.9131, acc: 99.17% / test_loss: 0.9224, test_acc: 98.23%\n",
      "Epoch 238 - loss: 0.9132, acc: 99.18% / test_loss: 0.9234, test_acc: 98.14%\n",
      "Epoch 239 - loss: 0.9138, acc: 99.11% / test_loss: 0.9227, test_acc: 98.20%\n",
      "Epoch 240 - loss: 0.9131, acc: 99.20% / test_loss: 0.9228, test_acc: 98.18%\n",
      "Epoch 241 - loss: 0.9137, acc: 99.14% / test_loss: 0.9245, test_acc: 98.02%\n",
      "Epoch 242 - loss: 0.9157, acc: 98.91% / test_loss: 0.9245, test_acc: 98.01%\n",
      "Epoch 243 - loss: 0.9133, acc: 99.16% / test_loss: 0.9225, test_acc: 98.26%\n",
      "Epoch 244 - loss: 0.9129, acc: 99.20% / test_loss: 0.9242, test_acc: 98.01%\n",
      "Epoch 245 - loss: 0.9148, acc: 99.01% / test_loss: 0.9247, test_acc: 98.00%\n",
      "Epoch 246 - loss: 0.9138, acc: 99.14% / test_loss: 0.9230, test_acc: 98.17%\n",
      "Epoch 247 - loss: 0.9138, acc: 99.09% / test_loss: 0.9212, test_acc: 98.36%\n",
      "Epoch 248 - loss: 0.9139, acc: 99.09% / test_loss: 0.9221, test_acc: 98.26%\n",
      "Epoch 249 - loss: 0.9135, acc: 99.12% / test_loss: 0.9257, test_acc: 97.88%\n",
      "Epoch 250 - loss: 0.9137, acc: 99.11% / test_loss: 0.9250, test_acc: 97.98%\n",
      "Epoch 251 - loss: 0.9145, acc: 99.04% / test_loss: 0.9241, test_acc: 98.06%\n",
      "Epoch 252 - loss: 0.9146, acc: 99.06% / test_loss: 0.9257, test_acc: 97.89%\n",
      "Epoch 253 - loss: 0.9138, acc: 99.10% / test_loss: 0.9237, test_acc: 98.11%\n",
      "Epoch 254 - loss: 0.9133, acc: 99.15% / test_loss: 0.9219, test_acc: 98.29%\n",
      "Epoch 255 - loss: 0.9132, acc: 99.17% / test_loss: 0.9224, test_acc: 98.23%\n",
      "Epoch 256 - loss: 0.9129, acc: 99.18% / test_loss: 0.9215, test_acc: 98.34%\n",
      "Epoch 257 - loss: 0.9132, acc: 99.16% / test_loss: 0.9226, test_acc: 98.20%\n",
      "Epoch 258 - loss: 0.9143, acc: 99.06% / test_loss: 0.9223, test_acc: 98.26%\n",
      "Epoch 259 - loss: 0.9147, acc: 99.02% / test_loss: 0.9227, test_acc: 98.20%\n",
      "Epoch 260 - loss: 0.9135, acc: 99.15% / test_loss: 0.9222, test_acc: 98.24%\n",
      "Epoch 261 - loss: 0.9138, acc: 99.08% / test_loss: 0.9260, test_acc: 97.89%\n",
      "Epoch 262 - loss: 0.9140, acc: 99.08% / test_loss: 0.9231, test_acc: 98.16%\n",
      "Epoch 263 - loss: 0.9126, acc: 99.24% / test_loss: 0.9221, test_acc: 98.25%\n",
      "Epoch 264 - loss: 0.9130, acc: 99.19% / test_loss: 0.9229, test_acc: 98.20%\n",
      "Epoch 265 - loss: 0.9134, acc: 99.15% / test_loss: 0.9222, test_acc: 98.27%\n",
      "Epoch 266 - loss: 0.9141, acc: 99.06% / test_loss: 0.9236, test_acc: 98.11%\n",
      "Epoch 267 - loss: 0.9133, acc: 99.17% / test_loss: 0.9229, test_acc: 98.17%\n",
      "Epoch 268 - loss: 0.9125, acc: 99.24% / test_loss: 0.9218, test_acc: 98.29%\n",
      "Epoch 269 - loss: 0.9130, acc: 99.18% / test_loss: 0.9230, test_acc: 98.17%\n",
      "Epoch 270 - loss: 0.9128, acc: 99.20% / test_loss: 0.9253, test_acc: 97.94%\n",
      "Epoch 271 - loss: 0.9170, acc: 98.78% / test_loss: 0.9225, test_acc: 98.25%\n",
      "Epoch 272 - loss: 0.9138, acc: 99.12% / test_loss: 0.9221, test_acc: 98.26%\n",
      "Epoch 273 - loss: 0.9129, acc: 99.21% / test_loss: 0.9227, test_acc: 98.17%\n",
      "Epoch 274 - loss: 0.9132, acc: 99.18% / test_loss: 0.9241, test_acc: 98.10%\n",
      "Epoch 275 - loss: 0.9130, acc: 99.20% / test_loss: 0.9213, test_acc: 98.35%\n",
      "Epoch 276 - loss: 0.9121, acc: 99.28% / test_loss: 0.9219, test_acc: 98.27%\n",
      "Epoch 277 - loss: 0.9126, acc: 99.22% / test_loss: 0.9217, test_acc: 98.31%\n",
      "Epoch 278 - loss: 0.9135, acc: 99.14% / test_loss: 0.9259, test_acc: 97.86%\n",
      "Epoch 279 - loss: 0.9138, acc: 99.12% / test_loss: 0.9225, test_acc: 98.19%\n",
      "Epoch 280 - loss: 0.9126, acc: 99.22% / test_loss: 0.9233, test_acc: 98.17%\n",
      "Epoch 281 - loss: 0.9144, acc: 99.06% / test_loss: 0.9274, test_acc: 97.74%\n",
      "Epoch 282 - loss: 0.9140, acc: 99.11% / test_loss: 0.9213, test_acc: 98.36%\n",
      "Epoch 283 - loss: 0.9131, acc: 99.18% / test_loss: 0.9224, test_acc: 98.25%\n",
      "Epoch 284 - loss: 0.9138, acc: 99.09% / test_loss: 0.9253, test_acc: 97.95%\n",
      "Epoch 285 - loss: 0.9139, acc: 99.09% / test_loss: 0.9241, test_acc: 98.04%\n",
      "Epoch 286 - loss: 0.9139, acc: 99.10% / test_loss: 0.9216, test_acc: 98.32%\n",
      "Epoch 287 - loss: 0.9126, acc: 99.23% / test_loss: 0.9217, test_acc: 98.32%\n",
      "Epoch 288 - loss: 0.9130, acc: 99.18% / test_loss: 0.9234, test_acc: 98.14%\n",
      "Epoch 289 - loss: 0.9123, acc: 99.26% / test_loss: 0.9220, test_acc: 98.26%\n",
      "Epoch 290 - loss: 0.9139, acc: 99.08% / test_loss: 0.9220, test_acc: 98.31%\n",
      "Epoch 291 - loss: 0.9134, acc: 99.15% / test_loss: 0.9235, test_acc: 98.11%\n",
      "Epoch 292 - loss: 0.9132, acc: 99.15% / test_loss: 0.9232, test_acc: 98.16%\n",
      "Epoch 293 - loss: 0.9129, acc: 99.20% / test_loss: 0.9233, test_acc: 98.14%\n",
      "Epoch 294 - loss: 0.9135, acc: 99.14% / test_loss: 0.9291, test_acc: 97.58%\n",
      "Epoch 295 - loss: 0.9143, acc: 99.06% / test_loss: 0.9217, test_acc: 98.31%\n",
      "Epoch 296 - loss: 0.9134, acc: 99.12% / test_loss: 0.9227, test_acc: 98.20%\n",
      "Epoch 297 - loss: 0.9122, acc: 99.28% / test_loss: 0.9227, test_acc: 98.20%\n",
      "Epoch 298 - loss: 0.9126, acc: 99.21% / test_loss: 0.9230, test_acc: 98.17%\n",
      "Epoch 299 - loss: 0.9154, acc: 98.94% / test_loss: 0.9239, test_acc: 98.08%\n",
      "Epoch 300 - loss: 0.9133, acc: 99.15% / test_loss: 0.9225, test_acc: 98.21%\n",
      "Epoch 301 - loss: 0.9124, acc: 99.24% / test_loss: 0.9231, test_acc: 98.17%\n",
      "Epoch 302 - loss: 0.9129, acc: 99.18% / test_loss: 0.9280, test_acc: 97.64%\n",
      "Epoch 303 - loss: 0.9130, acc: 99.20% / test_loss: 0.9244, test_acc: 98.04%\n",
      "Epoch 304 - loss: 0.9146, acc: 99.02% / test_loss: 0.9252, test_acc: 97.96%\n",
      "Epoch 305 - loss: 0.9143, acc: 99.05% / test_loss: 0.9223, test_acc: 98.26%\n",
      "Epoch 306 - loss: 0.9146, acc: 99.00% / test_loss: 0.9262, test_acc: 97.84%\n",
      "Epoch 307 - loss: 0.9137, acc: 99.09% / test_loss: 0.9245, test_acc: 98.01%\n",
      "Epoch 308 - loss: 0.9121, acc: 99.28% / test_loss: 0.9226, test_acc: 98.20%\n",
      "Epoch 309 - loss: 0.9123, acc: 99.27% / test_loss: 0.9215, test_acc: 98.35%\n",
      "Epoch 310 - loss: 0.9136, acc: 99.12% / test_loss: 0.9223, test_acc: 98.23%\n",
      "Epoch 311 - loss: 0.9135, acc: 99.13% / test_loss: 0.9255, test_acc: 97.96%\n",
      "Epoch 312 - loss: 0.9143, acc: 99.05% / test_loss: 0.9229, test_acc: 98.22%\n",
      "Epoch 313 - loss: 0.9124, acc: 99.24% / test_loss: 0.9229, test_acc: 98.17%\n",
      "Epoch 314 - loss: 0.9128, acc: 99.21% / test_loss: 0.9211, test_acc: 98.40%\n",
      "Epoch 315 - loss: 0.9127, acc: 99.21% / test_loss: 0.9221, test_acc: 98.26%\n",
      "Epoch 316 - loss: 0.9127, acc: 99.20% / test_loss: 0.9219, test_acc: 98.28%\n",
      "Epoch 317 - loss: 0.9123, acc: 99.25% / test_loss: 0.9214, test_acc: 98.33%\n",
      "Epoch 318 - loss: 0.9121, acc: 99.27% / test_loss: 0.9224, test_acc: 98.23%\n",
      "Epoch 319 - loss: 0.9120, acc: 99.28% / test_loss: 0.9216, test_acc: 98.31%\n",
      "Epoch 320 - loss: 0.9137, acc: 99.11% / test_loss: 0.9346, test_acc: 97.01%\n",
      "Epoch 321 - loss: 0.9154, acc: 98.94% / test_loss: 0.9209, test_acc: 98.39%\n",
      "Epoch 322 - loss: 0.9124, acc: 99.25% / test_loss: 0.9225, test_acc: 98.21%\n",
      "Epoch 323 - loss: 0.9129, acc: 99.21% / test_loss: 0.9213, test_acc: 98.35%\n",
      "Epoch 324 - loss: 0.9126, acc: 99.23% / test_loss: 0.9203, test_acc: 98.46%\n",
      "Epoch 325 - loss: 0.9120, acc: 99.28% / test_loss: 0.9204, test_acc: 98.47%\n",
      "Epoch 326 - loss: 0.9124, acc: 99.24% / test_loss: 0.9273, test_acc: 97.76%\n",
      "Epoch 327 - loss: 0.9131, acc: 99.17% / test_loss: 0.9221, test_acc: 98.29%\n",
      "Epoch 328 - loss: 0.9127, acc: 99.22% / test_loss: 0.9233, test_acc: 98.16%\n",
      "Epoch 329 - loss: 0.9124, acc: 99.24% / test_loss: 0.9257, test_acc: 97.91%\n",
      "Epoch 330 - loss: 0.9146, acc: 99.03% / test_loss: 0.9226, test_acc: 98.21%\n",
      "Epoch 331 - loss: 0.9129, acc: 99.20% / test_loss: 0.9211, test_acc: 98.39%\n",
      "Epoch 332 - loss: 0.9130, acc: 99.19% / test_loss: 0.9219, test_acc: 98.28%\n",
      "Epoch 333 - loss: 0.9124, acc: 99.24% / test_loss: 0.9214, test_acc: 98.32%\n",
      "Epoch 334 - loss: 0.9123, acc: 99.26% / test_loss: 0.9223, test_acc: 98.26%\n",
      "Epoch 335 - loss: 0.9125, acc: 99.22% / test_loss: 0.9212, test_acc: 98.34%\n",
      "Epoch 336 - loss: 0.9121, acc: 99.27% / test_loss: 0.9248, test_acc: 98.00%\n",
      "Epoch 337 - loss: 0.9137, acc: 99.11% / test_loss: 0.9222, test_acc: 98.26%\n",
      "Epoch 338 - loss: 0.9134, acc: 99.15% / test_loss: 0.9232, test_acc: 98.12%\n",
      "Epoch 339 - loss: 0.9133, acc: 99.15% / test_loss: 0.9219, test_acc: 98.32%\n",
      "Epoch 340 - loss: 0.9127, acc: 99.22% / test_loss: 0.9221, test_acc: 98.30%\n",
      "Epoch 341 - loss: 0.9126, acc: 99.23% / test_loss: 0.9211, test_acc: 98.36%\n",
      "Epoch 342 - loss: 0.9122, acc: 99.27% / test_loss: 0.9210, test_acc: 98.38%\n",
      "Epoch 343 - loss: 0.9125, acc: 99.24% / test_loss: 0.9209, test_acc: 98.38%\n",
      "Epoch 344 - loss: 0.9120, acc: 99.28% / test_loss: 0.9209, test_acc: 98.41%\n",
      "Epoch 345 - loss: 0.9122, acc: 99.27% / test_loss: 0.9226, test_acc: 98.21%\n",
      "Epoch 346 - loss: 0.9136, acc: 99.12% / test_loss: 0.9261, test_acc: 97.86%\n",
      "Epoch 347 - loss: 0.9129, acc: 99.21% / test_loss: 0.9219, test_acc: 98.28%\n",
      "Epoch 348 - loss: 0.9120, acc: 99.28% / test_loss: 0.9211, test_acc: 98.35%\n",
      "Epoch 349 - loss: 0.9145, acc: 99.05% / test_loss: 0.9218, test_acc: 98.29%\n",
      "Epoch 350 - loss: 0.9133, acc: 99.18% / test_loss: 0.9300, test_acc: 97.45%\n",
      "Epoch 351 - loss: 0.9134, acc: 99.14% / test_loss: 0.9241, test_acc: 98.07%\n",
      "Epoch 352 - loss: 0.9133, acc: 99.16% / test_loss: 0.9207, test_acc: 98.41%\n",
      "Epoch 353 - loss: 0.9122, acc: 99.27% / test_loss: 0.9202, test_acc: 98.46%\n",
      "Epoch 354 - loss: 0.9122, acc: 99.27% / test_loss: 0.9232, test_acc: 98.17%\n",
      "Epoch 355 - loss: 0.9121, acc: 99.28% / test_loss: 0.9224, test_acc: 98.22%\n",
      "Epoch 356 - loss: 0.9144, acc: 99.06% / test_loss: 0.9226, test_acc: 98.23%\n",
      "Epoch 357 - loss: 0.9127, acc: 99.21% / test_loss: 0.9237, test_acc: 98.11%\n",
      "Epoch 358 - loss: 0.9128, acc: 99.21% / test_loss: 0.9226, test_acc: 98.21%\n",
      "Epoch 359 - loss: 0.9118, acc: 99.31% / test_loss: 0.9228, test_acc: 98.20%\n",
      "Epoch 360 - loss: 0.9129, acc: 99.21% / test_loss: 0.9221, test_acc: 98.27%\n",
      "Epoch 361 - loss: 0.9141, acc: 99.06% / test_loss: 0.9221, test_acc: 98.26%\n",
      "Epoch 362 - loss: 0.9119, acc: 99.29% / test_loss: 0.9224, test_acc: 98.25%\n",
      "Epoch 363 - loss: 0.9123, acc: 99.25% / test_loss: 0.9226, test_acc: 98.21%\n",
      "Epoch 364 - loss: 0.9128, acc: 99.21% / test_loss: 0.9266, test_acc: 97.77%\n",
      "Epoch 365 - loss: 0.9127, acc: 99.21% / test_loss: 0.9213, test_acc: 98.34%\n",
      "Epoch 366 - loss: 0.9142, acc: 99.08% / test_loss: 0.9243, test_acc: 98.02%\n",
      "Epoch 367 - loss: 0.9144, acc: 99.07% / test_loss: 0.9230, test_acc: 98.16%\n",
      "Epoch 368 - loss: 0.9120, acc: 99.27% / test_loss: 0.9242, test_acc: 98.09%\n",
      "Epoch 369 - loss: 0.9122, acc: 99.26% / test_loss: 0.9218, test_acc: 98.32%\n",
      "Epoch 370 - loss: 0.9128, acc: 99.20% / test_loss: 0.9227, test_acc: 98.22%\n",
      "Epoch 371 - loss: 0.9132, acc: 99.15% / test_loss: 0.9212, test_acc: 98.35%\n",
      "Epoch 372 - loss: 0.9129, acc: 99.20% / test_loss: 0.9208, test_acc: 98.39%\n",
      "Epoch 373 - loss: 0.9120, acc: 99.28% / test_loss: 0.9212, test_acc: 98.36%\n",
      "Epoch 374 - loss: 0.9124, acc: 99.24% / test_loss: 0.9217, test_acc: 98.32%\n",
      "Epoch 375 - loss: 0.9125, acc: 99.23% / test_loss: 0.9216, test_acc: 98.32%\n",
      "Epoch 376 - loss: 0.9122, acc: 99.28% / test_loss: 0.9224, test_acc: 98.22%\n",
      "Epoch 377 - loss: 0.9117, acc: 99.32% / test_loss: 0.9219, test_acc: 98.28%\n",
      "Epoch 378 - loss: 0.9115, acc: 99.34% / test_loss: 0.9220, test_acc: 98.26%\n",
      "Epoch 379 - loss: 0.9117, acc: 99.31% / test_loss: 0.9209, test_acc: 98.36%\n",
      "Epoch 380 - loss: 0.9132, acc: 99.16% / test_loss: 0.9220, test_acc: 98.27%\n",
      "Epoch 381 - loss: 0.9134, acc: 99.14% / test_loss: 0.9228, test_acc: 98.21%\n",
      "Epoch 382 - loss: 0.9131, acc: 99.18% / test_loss: 0.9207, test_acc: 98.40%\n",
      "Epoch 383 - loss: 0.9125, acc: 99.23% / test_loss: 0.9211, test_acc: 98.38%\n",
      "Epoch 384 - loss: 0.9133, acc: 99.15% / test_loss: 0.9232, test_acc: 98.16%\n",
      "Epoch 385 - loss: 0.9130, acc: 99.18% / test_loss: 0.9224, test_acc: 98.25%\n",
      "Epoch 386 - loss: 0.9123, acc: 99.25% / test_loss: 0.9215, test_acc: 98.33%\n",
      "Epoch 387 - loss: 0.9126, acc: 99.22% / test_loss: 0.9203, test_acc: 98.43%\n",
      "Epoch 388 - loss: 0.9117, acc: 99.32% / test_loss: 0.9204, test_acc: 98.44%\n",
      "Epoch 389 - loss: 0.9118, acc: 99.30% / test_loss: 0.9199, test_acc: 98.49%\n",
      "Epoch 390 - loss: 0.9119, acc: 99.29% / test_loss: 0.9212, test_acc: 98.35%\n",
      "Epoch 391 - loss: 0.9138, acc: 99.09% / test_loss: 0.9261, test_acc: 97.83%\n",
      "Epoch 392 - loss: 0.9135, acc: 99.12% / test_loss: 0.9253, test_acc: 97.95%\n",
      "Epoch 393 - loss: 0.9144, acc: 99.06% / test_loss: 0.9219, test_acc: 98.30%\n",
      "Epoch 394 - loss: 0.9127, acc: 99.21% / test_loss: 0.9211, test_acc: 98.37%\n",
      "Epoch 395 - loss: 0.9119, acc: 99.30% / test_loss: 0.9219, test_acc: 98.30%\n",
      "Epoch 396 - loss: 0.9125, acc: 99.24% / test_loss: 0.9220, test_acc: 98.28%\n",
      "Epoch 397 - loss: 0.9118, acc: 99.31% / test_loss: 0.9215, test_acc: 98.33%\n",
      "Epoch 398 - loss: 0.9119, acc: 99.31% / test_loss: 0.9213, test_acc: 98.36%\n",
      "Epoch 399 - loss: 0.9123, acc: 99.24% / test_loss: 0.9211, test_acc: 98.38%\n",
      "Epoch 400 - loss: 0.9133, acc: 99.15% / test_loss: 0.9218, test_acc: 98.29%\n"
     ]
    }
   ],
   "metadata": {}
  },
  {
   "cell_type": "code",
   "execution_count": 18,
   "source": [
    "print('Finished Training!')\n",
    "print('Result is on the server side.')"
   ],
   "outputs": [
    {
     "output_type": "stream",
     "name": "stdout",
     "text": [
      "Finished Training!\n",
      "Result is on the server side.\n"
     ]
    }
   ],
   "metadata": {}
  },
  {
   "cell_type": "code",
   "execution_count": null,
   "source": [],
   "outputs": [],
   "metadata": {}
  }
 ],
 "metadata": {
  "file_extension": ".py",
  "kernelspec": {
   "name": "python3",
   "display_name": "Python 3.9.7 64-bit ('privsecai': conda)"
  },
  "language_info": {
   "codemirror_mode": {
    "name": "ipython",
    "version": 3
   },
   "file_extension": ".py",
   "mimetype": "text/x-python",
   "name": "python",
   "nbconvert_exporter": "python",
   "pygments_lexer": "ipython3",
   "version": "3.9.7"
  },
  "mimetype": "text/x-python",
  "name": "python",
  "npconvert_exporter": "python",
  "pygments_lexer": "ipython3",
  "version": 3,
  "interpreter": {
   "hash": "9a6a5787b9bb005a7f5e8899bec1bce39ba8d948a4a7b9b2f0130e20a30245b7"
  }
 },
 "nbformat": 4,
 "nbformat_minor": 2
}