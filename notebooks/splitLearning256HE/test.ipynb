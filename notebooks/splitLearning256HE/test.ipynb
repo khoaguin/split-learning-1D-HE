{
 "cells": [
  {
   "cell_type": "code",
   "execution_count": 7,
   "metadata": {},
   "outputs": [],
   "source": [
    "import torch\n",
    "a = torch.load('weights/trained_client_256.pth')\n",
    "b = torch.load('weights/trained_sever_256.pth')"
   ]
  },
  {
   "cell_type": "code",
   "execution_count": 25,
   "metadata": {},
   "outputs": [
    {
     "name": "stdout",
     "output_type": "stream",
     "text": [
      "odict_keys(['conv1.weight', 'conv1.bias', 'conv2.weight', 'conv2.bias'])\n"
     ]
    }
   ],
   "source": [
    "print(a.keys())"
   ]
  },
  {
   "cell_type": "code",
   "execution_count": 21,
   "metadata": {},
   "outputs": [
    {
     "data": {
      "text/plain": [
       "{'W': tensor([[ 0.0623, -0.0370,  0.0624,  ...,  0.0431,  0.0494,  0.0091],\n",
       "         [-0.0049, -0.0198, -0.0032,  ..., -0.0249, -0.0188,  0.0523],\n",
       "         [-0.0168, -0.0434,  0.0424,  ..., -0.0433,  0.0240,  0.0563],\n",
       "         [-0.0109,  0.0496,  0.0010,  ...,  0.0301,  0.0216, -0.0018],\n",
       "         [ 0.0093,  0.0003, -0.0454,  ..., -0.0214, -0.0063, -0.0012]]),\n",
       " 'b': tensor([ 0.0534,  0.0559, -0.0479,  0.0228,  0.0242])}"
      ]
     },
     "execution_count": 21,
     "metadata": {},
     "output_type": "execute_result"
    }
   ],
   "source": [
    "b"
   ]
  },
  {
   "cell_type": "code",
   "execution_count": null,
   "metadata": {},
   "outputs": [],
   "source": []
  }
 ],
 "metadata": {
  "interpreter": {
   "hash": "4fb056718432581df00ec0ea1d8474ad391dc3f52021963853b762465b19daea"
  },
  "kernelspec": {
   "display_name": "Python 3.9.7 64-bit ('privsecai': conda)",
   "name": "python3"
  },
  "language_info": {
   "codemirror_mode": {
    "name": "ipython",
    "version": 3
   },
   "file_extension": ".py",
   "mimetype": "text/x-python",
   "name": "python",
   "nbconvert_exporter": "python",
   "pygments_lexer": "ipython3",
   "version": "3.9.7"
  },
  "orig_nbformat": 4
 },
 "nbformat": 4,
 "nbformat_minor": 2
}
