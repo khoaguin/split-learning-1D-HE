{
 "cells": [
  {
   "cell_type": "markdown",
   "metadata": {},
   "source": [
    "# Client"
   ]
  },
  {
   "cell_type": "code",
   "execution_count": 1,
   "metadata": {},
   "outputs": [
    {
     "name": "stdout",
     "output_type": "stream",
     "text": [
      "torch version: 1.8.1+cu102\n",
      "tenseal version: 0.3.5\n"
     ]
    }
   ],
   "source": [
    "import os\n",
    "import pickle\n",
    "import socket\n",
    "import struct\n",
    "import time\n",
    "from pathlib import Path\n",
    "from typing import List, Union, Tuple\n",
    "import math\n",
    "\n",
    "import h5py\n",
    "import numpy as np\n",
    "import tenseal as ts\n",
    "import torch\n",
    "from torch.autograd import grad\n",
    "import torch.nn as nn\n",
    "import torch.nn.functional as F\n",
    "from torch import Tensor\n",
    "from icecream import ic\n",
    "ic.configureOutput(includeContext=True)\n",
    "from tenseal.enc_context import Context\n",
    "from tenseal.tensors.ckkstensor import CKKSTensor\n",
    "from tenseal.tensors.ckksvector import CKKSVector\n",
    "from tenseal.tensors.plaintensor import PlainTensor\n",
    "from torch.optim import SGD, Adam\n",
    "from torch.utils.data import DataLoader, Dataset\n",
    "\n",
    "print(f'torch version: {torch.__version__}')\n",
    "print(f'tenseal version: {ts.__version__}')"
   ]
  },
  {
   "cell_type": "markdown",
   "metadata": {},
   "source": [
    "## Establish the connection with the server"
   ]
  },
  {
   "cell_type": "code",
   "execution_count": 2,
   "metadata": {},
   "outputs": [],
   "source": [
    "host = 'localhost'  \n",
    "port = 10080\n",
    "max_recv = 4096"
   ]
  },
  {
   "cell_type": "code",
   "execution_count": 3,
   "metadata": {},
   "outputs": [
    {
     "data": {
      "text/plain": [
       "<socket.socket fd=55, family=AddressFamily.AF_INET, type=SocketKind.SOCK_STREAM, proto=0, laddr=('127.0.0.1', 35358), raddr=('127.0.0.1', 10080)>"
      ]
     },
     "execution_count": 3,
     "metadata": {},
     "output_type": "execute_result"
    }
   ],
   "source": [
    "def init_socket(host, port) -> None:\n",
    "    \"\"\"[summary]\n",
    "\n",
    "    Args:\n",
    "        host ([str]): [description]\n",
    "        port ([int]): [description]\n",
    "    \"\"\"\n",
    "    sock = socket.socket()\n",
    "    sock.connect((host, port))\n",
    "    return sock\n",
    "\n",
    "sock = init_socket(host, port)\n",
    "sock"
   ]
  },
  {
   "cell_type": "markdown",
   "metadata": {},
   "source": [
    "Functions needed to communicate with the server via socket"
   ]
  },
  {
   "cell_type": "code",
   "execution_count": 4,
   "metadata": {},
   "outputs": [],
   "source": [
    "def send_msg(sock, msg) -> None:\n",
    "    \"\"\"Function used to send the message via socket\n",
    "    \"\"\"\n",
    "    # prefix each message with a 4-byte length in network byte order\n",
    "    msg = struct.pack('>I', len(msg)) + msg\n",
    "    sock.sendall(msg)\n",
    "\n",
    "def recvall(sock, n):\n",
    "    # helper function to receive n bytes or return None if EOF is hit\n",
    "    data = b''\n",
    "    while len(data) < n:\n",
    "        packet = sock.recv(n - len(data))\n",
    "        if not packet:\n",
    "            return None\n",
    "        data += packet\n",
    "    return data\n",
    "\n",
    "def recv_msg(sock):\n",
    "    # read message length and unpack it into an integer\n",
    "    raw_msglen = recvall(sock, 4)\n",
    "    if not raw_msglen:\n",
    "        return None\n",
    "    msglen = struct.unpack('>I', raw_msglen)[0]\n",
    "    # read the message data\n",
    "    return recvall(sock, msglen)"
   ]
  },
  {
   "cell_type": "code",
   "execution_count": null,
   "metadata": {},
   "outputs": [],
   "source": [
    "dry_run = 0\n",
    "if dry_run:\n",
    "    batch_size = 2\n",
    "    epoch = 2\n",
    "    total_batch = 2\n",
    "else:\n",
    "    batch_size = 4\n",
    "    epoch = 400\n",
    "    total_batch = 414\n",
    "    # total_batch = 10\n",
    "lr = 0.001\n",
    "seed = 0\n",
    "\n",
    "hyperparams = {\n",
    "    'dry_run': dry_run,\n",
    "    'batch_size': batch_size,\n",
    "    'total_batch': total_batch,\n",
    "    'epoch': epoch,\n",
    "    'lr': lr,\n",
    "    'seed': seed\n",
    "}"
   ]
  },
  {
   "cell_type": "code",
   "execution_count": null,
   "metadata": {},
   "outputs": [],
   "source": [
    "print(\"\\U0001F601 Sending hyperparams to the server\")\n",
    "send_msg(sock, msg=pickle.dumps(hyperparams))"
   ]
  }
 ],
 "metadata": {
  "interpreter": {
   "hash": "4fb056718432581df00ec0ea1d8474ad391dc3f52021963853b762465b19daea"
  },
  "kernelspec": {
   "display_name": "Python 3.9.7 64-bit ('privsecai': conda)",
   "name": "python3"
  },
  "language_info": {
   "codemirror_mode": {
    "name": "ipython",
    "version": 3
   },
   "file_extension": ".py",
   "mimetype": "text/x-python",
   "name": "python",
   "nbconvert_exporter": "python",
   "pygments_lexer": "ipython3",
   "version": "3.9.7"
  },
  "orig_nbformat": 4
 },
 "nbformat": 4,
 "nbformat_minor": 2
}
