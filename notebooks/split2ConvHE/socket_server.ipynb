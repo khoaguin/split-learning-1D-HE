{
 "cells": [
  {
   "cell_type": "markdown",
   "source": [
    "# ECG Split 1D-CNN Server Side\n",
    "This code is the server part of ECG split 1D-CNN model for a **single** client and a server."
   ],
   "metadata": {}
  },
  {
   "cell_type": "markdown",
   "source": [
    "## Import required packages"
   ],
   "metadata": {}
  },
  {
   "cell_type": "code",
   "execution_count": 1,
   "source": [
    "import os\n",
    "import socket\n",
    "import struct\n",
    "import pickle\n",
    "import time\n",
    "from pathlib import Path\n",
    "\n",
    "import numpy as np\n",
    "import pandas as pd\n",
    "import h5py\n",
    "import matplotlib.pyplot as plt\n",
    "plt.style.use('dark_background')\n",
    "\n",
    "import torch\n",
    "import torch.nn as nn\n",
    "from torch.utils.data import Dataset, DataLoader\n",
    "from torch.optim import Adam, SGD\n",
    "\n",
    "import tenseal as ts\n",
    "from tenseal.enc_context import Context\n",
    "from tenseal.tensors.ckksvector import CKKSVector\n",
    "from tenseal.tensors.ckkstensor import CKKSTensor\n",
    "from tenseal.tensors.plaintensor import PlainTensor"
   ],
   "outputs": [],
   "metadata": {}
  },
  {
   "cell_type": "code",
   "execution_count": 2,
   "source": [
    "project_path = Path.cwd().parent.parent\n",
    "print(f'project_path: {project_path}')"
   ],
   "outputs": [
    {
     "output_type": "stream",
     "name": "stdout",
     "text": [
      "project_path: /home/dk/Desktop/split-learning-1D-HE\n"
     ]
    }
   ],
   "metadata": {}
  },
  {
   "cell_type": "markdown",
   "source": [
    "## Socket initialization"
   ],
   "metadata": {}
  },
  {
   "cell_type": "code",
   "execution_count": 3,
   "source": [
    "# Set host address and port number\n",
    "host = 'localhost'\n",
    "port = 10080\n",
    "max_recv = 4096\n",
    "\n",
    "# Open the server socket\n",
    "s = socket.socket()\n",
    "s.bind((host, port))\n",
    "s.listen(5)\n",
    "\n",
    "# Wait for Client\n",
    "conn, addr = s.accept()\n",
    "print('Conntected with', addr)"
   ],
   "outputs": [
    {
     "output_type": "stream",
     "name": "stdout",
     "text": [
      "Conntected with ('127.0.0.1', 51382)\n"
     ]
    }
   ],
   "metadata": {}
  },
  {
   "cell_type": "markdown",
   "source": [
    "Required socket functions for training"
   ],
   "metadata": {}
  },
  {
   "cell_type": "code",
   "execution_count": 4,
   "source": [
    "def send_msg(sock, msg):\n",
    "    # prefix each message with a 4-byte length in network byte order\n",
    "    msg = struct.pack('>I', len(msg)) + msg\n",
    "    sock.sendall(msg)\n",
    "\n",
    "def recv_msg(sock):\n",
    "    # read message length and unpack it into an integer\n",
    "    raw_msglen = recvall(sock, 4)\n",
    "    if not raw_msglen:\n",
    "        return None\n",
    "    msglen = struct.unpack('>I', raw_msglen)[0]\n",
    "    # read the message data\n",
    "    return recvall(sock, msglen)\n",
    "\n",
    "def recvall(sock, n):\n",
    "    # helper function to receive n bytes or return None if EOF is hit\n",
    "    data = b''\n",
    "    while len(data) < n:\n",
    "        packet = sock.recv(n - len(data))\n",
    "        if not packet:\n",
    "            return None\n",
    "        data += packet\n",
    "    return data"
   ],
   "outputs": [],
   "metadata": {}
  },
  {
   "cell_type": "markdown",
   "source": [
    "## Define ECG server model\n",
    "Server side has **2 fully connected layers**.\n"
   ],
   "metadata": {}
  },
  {
   "cell_type": "code",
   "execution_count": 5,
   "source": [
    "class EcgServer(nn.Module):\n",
    "    def __init__(self):\n",
    "        super(EcgServer, self).__init__()\n",
    "        checkpoint = torch.load(\"init_weight.pth\")\n",
    "        self.linear3_weight: torch.Tensor = checkpoint[\"linear3.weight\"]  # [128, 512]\n",
    "        self.linear3_bias: torch.Tensor = checkpoint[\"linear3.bias\"]  # [128]\n",
    "        self.linear4_weight: torch.Tensor = checkpoint[\"linear4.weight\"]  # [5, 128]\n",
    "        self.linear4_bias: torch.Tensor = checkpoint[\"linear4.bias\"]  # [5]\n",
    "\n",
    "    def enc_linear(self, \n",
    "                    enc_x: CKKSTensor, \n",
    "                    W: torch.Tensor, \n",
    "                    b: torch.Tensor) -> CKKSTensor:\n",
    "        \"\"\"\n",
    "        The linear layer on homomorphic encrypted data\n",
    "        Based on https://pytorch.org/docs/stable/generated/torch.nn.Linear.html\n",
    "        \"\"\"\n",
    "        Wt = torch.transpose(W, 0, 1)\n",
    "        return enc_x.mm(Wt) + b\n",
    "\n",
    "    @staticmethod\n",
    "    def approx_leaky_relu(enc_x: CKKSTensor):\n",
    "        # 2.30556314780491e-19*x**5 - 0.000250098672095587*x**4 - \n",
    "        # 2.83384427035571e-17*x**3 + 0.0654264479654812*x**2 + \n",
    "        # 0.505000000000001*x + 0.854102848838318\n",
    "        return enc_x.polyval([0.854102848838318, 0.505000000000001, 0.0654264479654812])\n",
    "\n",
    "    def forward(self, enc_x: CKKSTensor) -> CKKSTensor:\n",
    "        x = self.enc_linear(enc_x, self.linear3_weight, self.linear3_bias)  # [batch_size, 128]\n",
    "        x = EcgServer.approx_leaky_relu(x)\n",
    "        x = self.enc_linear(x, self.linear4_weight, self.linear4_bias)  # [batch_size, 5]\n",
    "        return x\n",
    "\n",
    "    def backward(self):\n",
    "        \"\"\" \n",
    "        Calculates the gradients\n",
    "        \"\"\"\n",
    "        raise NotImplementedError\n",
    "\n",
    "    def update_params(self):\n",
    "        \"\"\"\n",
    "        Update the parameters based on the gradients calculated in backward()\n",
    "        \"\"\"\n",
    "        raise NotImplementedError"
   ],
   "outputs": [],
   "metadata": {}
  },
  {
   "cell_type": "code",
   "execution_count": 6,
   "source": [
    "device = torch.device('cuda:0' if torch.cuda.is_available() else 'cpu')\n",
    "torch.cuda.get_device_name(0)\n",
    "ecg_server = EcgServer()\n",
    "ecg_server.to(device)"
   ],
   "outputs": [
    {
     "output_type": "execute_result",
     "data": {
      "text/plain": [
       "EcgServer()"
      ]
     },
     "metadata": {},
     "execution_count": 6
    }
   ],
   "metadata": {}
  },
  {
   "cell_type": "markdown",
   "source": [
    "### Set random seed"
   ],
   "metadata": {}
  },
  {
   "cell_type": "code",
   "execution_count": 7,
   "source": [
    "seed = 0\n",
    "np.random.seed(seed)\n",
    "torch.manual_seed(seed)\n",
    "torch.cuda.manual_seed(seed)\n",
    "torch.cuda.manual_seed_all(seed) # if you are using multi-GPU.\n",
    "torch.backends.cudnn.benchmark = False\n",
    "torch.backends.cudnn.deterministic = True"
   ],
   "outputs": [],
   "metadata": {}
  },
  {
   "cell_type": "markdown",
   "source": [
    "## Training process"
   ],
   "metadata": {}
  },
  {
   "cell_type": "markdown",
   "source": [
    "### Set other hyperparameters in the model\n",
    "Hyperparameters here should be same with the client side."
   ],
   "metadata": {}
  },
  {
   "cell_type": "code",
   "execution_count": 19,
   "source": [
    "msg = recv_msg(conn)  # receive client message from socket\n",
    "msg = pickle.loads(msg)  # deserialize\n",
    "msg"
   ],
   "outputs": [
    {
     "output_type": "execute_result",
     "data": {
      "text/plain": [
       "{'batch_size': 2, 'total_batch': 6623, 'epoch': 400}"
      ]
     },
     "metadata": {},
     "execution_count": 19
    }
   ],
   "metadata": {}
  },
  {
   "cell_type": "code",
   "execution_count": 20,
   "source": [
    "batch_size = msg['batch_size']\n",
    "total_batch = msg['total_batch']\n",
    "epoch = msg['epoch']"
   ],
   "outputs": [],
   "metadata": {}
  },
  {
   "cell_type": "code",
   "execution_count": 22,
   "source": [
    "criterion = nn.CrossEntropyLoss()\n",
    "lr = 0.001\n",
    "# we will define our own upadte_params() function\n",
    "# optimizer = Adam(ecg_server.parameters(), lr=lr)"
   ],
   "outputs": [],
   "metadata": {}
  },
  {
   "cell_type": "markdown",
   "source": [
    "### Training and testing loop"
   ],
   "metadata": {}
  },
  {
   "cell_type": "code",
   "execution_count": 23,
   "source": [
    "train_losses = list()\n",
    "train_accs = list()\n",
    "test_losses = list()\n",
    "test_accs = list()\n",
    "best_test_acc = 0  # best test accuracy\n",
    "\n",
    "for e in range(epoch):\n",
    "    print(\"Epoch {} - \".format(e+1), end='')\n",
    "    \n",
    "    train_loss = 0.0\n",
    "    correct, total = 0, 0\n",
    "    for i in range(total_batch):\n",
    "        msg = recv_msg(conn)  # receive client message from socket\n",
    "        print(msg)"
   ],
   "outputs": [
    {
     "output_type": "stream",
     "name": "stdout",
     "text": [
      "Epoch 1 - "
     ]
    }
   ],
   "metadata": {
    "scrolled": false
   }
  },
  {
   "cell_type": "code",
   "execution_count": 12,
   "source": [
    "best_test_acc_epoch = np.array(test_accs).argmax() + 1\n",
    "print('Best test accuracy {:.2f}% in epoch {}.'.format(best_test_acc*100, best_test_acc_epoch))"
   ],
   "outputs": [
    {
     "output_type": "stream",
     "name": "stdout",
     "text": [
      "Best test accuracy 98.44% in epoch 314.\n"
     ]
    }
   ],
   "metadata": {}
  },
  {
   "cell_type": "code",
   "execution_count": 13,
   "source": [
    "df = pd.DataFrame({  # save model training process into csv file\n",
    "        'loss': train_losses,\n",
    "        'test_loss': test_losses,\n",
    "        'acc': train_accs,\n",
    "        'test_acc': test_accs\n",
    "    })\n",
    "df.to_csv(os.path.join('csv', 'loss_and_acc.csv'))"
   ],
   "outputs": [],
   "metadata": {}
  },
  {
   "cell_type": "code",
   "execution_count": 12,
   "source": [
    "df = pd.read_csv(os.path.join('csv', 'loss_and_acc.csv'))\n",
    "test_accs = df['test_acc']\n",
    "train_accs = df['acc']\n",
    "test_losses = df['test_loss']\n",
    "train_losses = df['loss']\n",
    "\n",
    "fig, ax = plt.subplots(1, 2, figsize=(15, 4))\n",
    "\n",
    "ax[0].plot(train_losses, color='red')\n",
    "ax[0].plot(test_losses, color='green')\n",
    "ax[0].set_xticks([0, 100, 200, 300, 400])\n",
    "ax[0].set_xlabel('Epoch', size=16)\n",
    "ax[0].set_ylabel('Loss', size=16)\n",
    "ax[0].set_ylim(0.9, 1.1)\n",
    "ax[0].set_yticks([0.9, 1.0, 1.1, 1.2])\n",
    "ax[0].grid(alpha=0.5)\n",
    "ax[0].tick_params(labelsize=16)\n",
    "ax[0].legend(['Train', 'Test'], loc='right', fontsize=16)\n",
    "\n",
    "\n",
    "ax[1].set_ylim(0.7, 1.0)\n",
    "ax[1].set_yticks([0.7, 0.8, 0.9, 1.0])\n",
    "ax[1].plot(train_accs, color='red')\n",
    "ax[1].plot(test_accs, color='green')\n",
    "yt = ax[1].get_yticks()\n",
    "ax[1].set_yticklabels(['{:,.0%}'.format(x) for x in yt])\n",
    "ax[1].set_xticks([0, 100, 200, 300, 400])\n",
    "ax[1].set_xlabel('Epoch', size=16)\n",
    "ax[1].set_ylabel('Accuracy', size=16, labelpad=-5)\n",
    "ax[1].grid(alpha=0.5)\n",
    "ax[1].tick_params(labelsize=16)\n",
    "ax[1].legend(['Train', 'Test'], loc='right', fontsize=16)\n",
    "\n",
    "fig.savefig('loss_acc_conv2_split_seed.pdf', bbox_inches='tight')"
   ],
   "outputs": [
    {
     "output_type": "display_data",
     "data": {
      "image/png": "[encoded data removed]",
      "text/plain": [
       "<Figure size 1080x288 with 2 Axes>"
      ]
     },
     "metadata": {
      "needs_background": "light"
     }
    }
   ],
   "metadata": {}
  },
  {
   "cell_type": "code",
   "execution_count": null,
   "source": [],
   "outputs": [],
   "metadata": {}
  }
 ],
 "metadata": {
  "file_extension": ".py",
  "kernelspec": {
   "name": "python3",
   "display_name": "Python 3.9.7 64-bit ('privsecai': conda)"
  },
  "language_info": {
   "codemirror_mode": {
    "name": "ipython",
    "version": 3
   },
   "file_extension": ".py",
   "mimetype": "text/x-python",
   "name": "python",
   "nbconvert_exporter": "python",
   "pygments_lexer": "ipython3",
   "version": "3.9.7"
  },
  "mimetype": "text/x-python",
  "name": "python",
  "npconvert_exporter": "python",
  "pygments_lexer": "ipython3",
  "version": 3,
  "interpreter": {
   "hash": "9a6a5787b9bb005a7f5e8899bec1bce39ba8d948a4a7b9b2f0130e20a30245b7"
  }
 },
 "nbformat": 4,
 "nbformat_minor": 2
}