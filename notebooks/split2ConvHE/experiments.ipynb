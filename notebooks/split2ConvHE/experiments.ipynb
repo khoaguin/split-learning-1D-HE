{
 "cells": [
  {
   "cell_type": "code",
   "execution_count": 2,
   "source": [
    "from typing import List\n",
    "\n",
    "from pathlib import Path\n",
    "import h5py\n",
    "import numpy as np\n",
    "import matplotlib.pyplot as plt\n",
    "from icecream import ic\n",
    "from tqdm import tqdm\n",
    "import time\n",
    "\n",
    "import torch\n",
    "import torch.nn as nn\n",
    "from torch.utils.data import Dataset, DataLoader\n",
    "from torch.optim import Adam, SGD\n",
    "\n",
    "import syft as sy\n",
    "from syft.core.node.vm.vm import VirtualMachine\n",
    "from syft.core.node.vm.client import VirtualMachineClient\n",
    "from syft.ast.module import Module\n",
    "from syft.core.remote_dataloader import RemoteDataLoader\n",
    "from syft.core.remote_dataloader import RemoteDataset\n",
    "\n",
    "import tenseal as ts\n",
    "from tenseal.tensors.ckksvector import CKKSVector\n",
    "from tenseal.tensors.ckkstensor import CKKSTensor\n",
    "from tenseal.tensors.plaintensor import PlainTensor\n",
    "from tenseal.enc_context import Context\n",
    "\n",
    "\n",
    "print(f'torch version: {torch.__version__}')\n",
    "print(f'syft version: {sy.__version__}')\n",
    "print(f'tenseal version: {ts.__version__}')\n"
   ],
   "outputs": [
    {
     "output_type": "stream",
     "name": "stdout",
     "text": [
      "torch version: 1.8.1+cu102\n",
      "syft version: 0.5.0\n",
      "tenseal version: 0.3.5\n"
     ]
    }
   ],
   "metadata": {}
  },
  {
   "cell_type": "code",
   "execution_count": null,
   "source": [
    "a = torch."
   ],
   "outputs": [],
   "metadata": {}
  }
 ],
 "metadata": {
  "orig_nbformat": 4,
  "language_info": {
   "name": "python",
   "version": "3.9.7",
   "mimetype": "text/x-python",
   "codemirror_mode": {
    "name": "ipython",
    "version": 3
   },
   "pygments_lexer": "ipython3",
   "nbconvert_exporter": "python",
   "file_extension": ".py"
  },
  "kernelspec": {
   "name": "python3",
   "display_name": "Python 3.9.7 64-bit ('privsecai': conda)"
  },
  "interpreter": {
   "hash": "9a6a5787b9bb005a7f5e8899bec1bce39ba8d948a4a7b9b2f0130e20a30245b7"
  }
 },
 "nbformat": 4,
 "nbformat_minor": 2
}