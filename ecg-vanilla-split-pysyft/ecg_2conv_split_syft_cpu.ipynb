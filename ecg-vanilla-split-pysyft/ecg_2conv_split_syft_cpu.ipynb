{
  "cells": [
    {
      "cell_type": "code",
      "source": [
        "from pathlib import Path\n",
        "import h5py\n",
        "import numpy as np\n",
        "import matplotlib.pyplot as plt\n",
        "from icecream import ic\n",
        "\n",
        "import torch\n",
        "import torch.nn as nn\n",
        "from torch.utils.data import Dataset, DataLoader\n",
        "from torch.optim import Adam, SGD\n",
        "\n",
        "import syft as sy\n",
        "from syft.core.node.vm.vm import VirtualMachine\n",
        "from syft.core.node.vm.client import VirtualMachineClient\n",
        "from syft.ast.module import Module\n",
        "from syft.core.remote_dataloader import RemoteDataLoader\n",
        "from syft.core.remote_dataloader import RemoteDataset\n",
        "\n",
        "print(f'torch version: {torch.__version__}')\n",
        "print(f'syft version: {sy.__version__}')\n"
      ],
      "outputs": [
        {
          "output_type": "stream",
          "name": "stdout",
          "text": "torch version: 1.8.1+cu102\nsyft version: 0.5.0\n"
        }
      ],
      "execution_count": 4,
      "metadata": {
        "gather": {
          "logged": 1631608764608
        }
      }
    },
    {
      "cell_type": "markdown",
      "source": [
        "## Files and Directories"
      ],
      "metadata": {}
    },
    {
      "cell_type": "code",
      "source": [
        "# paths to files and directories\n",
        "project_path = Path.cwd().parent\n",
        "print(f'project_path: {project_path}')\n",
        "data_dir = 'mitdb'\n",
        "train_name = 'train_ecg.hdf5'\n",
        "test_name = 'test_ecg.hdf5'\n",
        "all_name = 'all_ecg.hdf5'\n",
        "model_dir = 'model'\n",
        "model_name = 'conv2'\n",
        "model_ext = '.pth'\n",
        "csv_dir = 'csv'\n",
        "csv_ext = '.csv'\n",
        "csv_name = 'conv2'\n",
        "csv_accs_name = 'accs_conv2'"
      ],
      "outputs": [
        {
          "output_type": "stream",
          "name": "stdout",
          "text": "project_path: /mnt/batch/tasks/shared/LS_root/mounts/clusters/teslak80-56gbram/code/Users/dkn.work/split-learning-he\n"
        }
      ],
      "execution_count": 5,
      "metadata": {
        "jupyter": {
          "source_hidden": false,
          "outputs_hidden": false
        },
        "nteract": {
          "transient": {
            "deleting": false
          }
        },
        "gather": {
          "logged": 1631608775910
        }
      }
    },
    {
      "cell_type": "markdown",
      "source": [
        "## Construct the client and server"
      ],
      "metadata": {}
    },
    {
      "cell_type": "code",
      "source": [
        "server: VirtualMachine = sy.VirtualMachine(name=\"server\")\n",
        "client: VirtualMachineClient = server.get_root_client()"
      ],
      "outputs": [],
      "execution_count": 6,
      "metadata": {
        "jupyter": {
          "source_hidden": false,
          "outputs_hidden": false
        },
        "nteract": {
          "transient": {
            "deleting": false
          }
        },
        "gather": {
          "logged": 1631608777569
        }
      }
    },
    {
      "cell_type": "code",
      "source": [
        "remote_torch: Module = client.torch\n",
        "remote_torch"
      ],
      "outputs": [
        {
          "output_type": "execute_result",
          "execution_count": 7,
          "data": {
            "text/plain": "Module:\n\t.Tensor -> <syft.ast.klass.Class object at 0x7fe85acf3b80>\n\t.BFloat16Tensor -> <syft.ast.klass.Class object at 0x7fe85b85f040>\n\t.BoolTensor -> <syft.ast.klass.Class object at 0x7fe85acf3a60>\n\t.ByteTensor -> <syft.ast.klass.Class object at 0x7fe85acf3be0>\n\t.CharTensor -> <syft.ast.klass.Class object at 0x7fe85acf3c40>\n\t.DoubleTensor -> <syft.ast.klass.Class object at 0x7fe85acf3ca0>\n\t.FloatTensor -> <syft.ast.klass.Class object at 0x7fe85acf3d00>\n\t.HalfTensor -> <syft.ast.klass.Class object at 0x7fe85acf3d60>\n\t.IntTensor -> <syft.ast.klass.Class object at 0x7fe85acf3dc0>\n\t.LongTensor -> <syft.ast.klass.Class object at 0x7fe85acf3e20>\n\t.ShortTensor -> <syft.ast.klass.Class object at 0x7fe85acf3e80>\n\t.nn -> Module:\n\t\t.Parameter -> <syft.ast.klass.Class object at 0x7fe85acf3fa0>\n\t\t.Module -> <syft.ast.klass.Class object at 0x7fe85ac3b4c0>\n\t\t.Conv2d -> <syft.ast.klass.Class object at 0x7fe85ac3b9a0>\n\t\t.Dropout2d -> <syft.ast.klass.Class object at 0x7fe85ac3bdc0>\n\t\t.Linear -> <syft.ast.klass.Class object at 0x7fe85ac5a160>\n\t\t.functional -> Module:\n\t\t\t.relu -> <syft.ast.callable.Callable object at 0x7fe85ac5aa60>\n\t\t\t.gelu -> <syft.ast.callable.Callable object at 0x7fe85ac5aac0>\n\t\t\t.max_pool2d -> <syft.ast.callable.Callable object at 0x7fe85ac5ab20>\n\t\t\t.log_softmax -> <syft.ast.callable.Callable object at 0x7fe85ac5ab80>\n\t\t\t.cosine_embedding_loss -> <syft.ast.callable.Callable object at 0x7fe85b154940>\n\t\t\t.ctc_loss -> <syft.ast.callable.Callable object at 0x7fe85b1549a0>\n\t\t\t.hinge_embedding_loss -> <syft.ast.callable.Callable object at 0x7fe85b154a60>\n\t\t\t.l1_loss -> <syft.ast.callable.Callable object at 0x7fe85b154ac0>\n\t\t\t.margin_ranking_loss -> <syft.ast.callable.Callable object at 0x7fe85b154b80>\n\t\t\t.mse_loss -> <syft.ast.callable.Callable object at 0x7fe85b154be0>\n\t\t\t.multi_margin_loss -> <syft.ast.callable.Callable object at 0x7fe85b154ca0>\n\t\t\t.multilabel_margin_loss -> <syft.ast.callable.Callable object at 0x7fe85b154d60>\n\t\t\t.multilabel_soft_margin_loss -> <syft.ast.callable.Callable object at 0x7fe85b154e20>\n\t\t\t.nll_loss -> <syft.ast.callable.Callable object at 0x7fe85b154e80>\n\t\t\t.cross_entropy -> <syft.ast.callable.Callable object at 0x7fe85b154f40>\n\t\t\t.poisson_nll_loss -> <syft.ast.callable.Callable object at 0x7fe85b174040>\n\t\t\t.smooth_l1_loss -> <syft.ast.callable.Callable object at 0x7fe85b174100>\n\t\t\t.soft_margin_loss -> <syft.ast.callable.Callable object at 0x7fe85b1741c0>\n\t\t\t.triplet_margin_loss -> <syft.ast.callable.Callable object at 0x7fe85b174280>\n\n\t\t.Sequential -> <syft.ast.klass.Class object at 0x7fe85b154580>\n\t\t.AdaptiveLogSoftmaxWithLoss -> <syft.ast.klass.Class object at 0x7fe85b174340>\n\t\t.BCELoss -> <syft.ast.klass.Class object at 0x7fe85b1744c0>\n\t\t.BCEWithLogitsLoss -> <syft.ast.klass.Class object at 0x7fe85b174580>\n\t\t.CTCLoss -> <syft.ast.klass.Class object at 0x7fe85b1746a0>\n\t\t.CrossEntropyLoss -> <syft.ast.klass.Class object at 0x7fe85b174760>\n\t\t.CosineEmbeddingLoss -> <syft.ast.klass.Class object at 0x7fe85b174880>\n\t\t.HingeEmbeddingLoss -> <syft.ast.klass.Class object at 0x7fe85b1749a0>\n\t\t.KLDivLoss -> <syft.ast.klass.Class object at 0x7fe85b174ac0>\n\t\t.L1Loss -> <syft.ast.klass.Class object at 0x7fe85b174b80>\n\t\t.MSELoss -> <syft.ast.klass.Class object at 0x7fe85b174c40>\n\t\t.MarginRankingLoss -> <syft.ast.klass.Class object at 0x7fe85b174d00>\n\t\t.MultiLabelMarginLoss -> <syft.ast.klass.Class object at 0x7fe85b174e20>\n\t\t.MultiLabelSoftMarginLoss -> <syft.ast.klass.Class object at 0x7fe85b174fa0>\n\t\t.MultiMarginLoss -> <syft.ast.klass.Class object at 0x7fe85b175100>\n\t\t.NLLLoss -> <syft.ast.klass.Class object at 0x7fe85b175220>\n\t\t.NLLLoss2d -> <syft.ast.klass.Class object at 0x7fe85b1752e0>\n\t\t.PoissonNLLLoss -> <syft.ast.klass.Class object at 0x7fe85b1753a0>\n\t\t.SmoothL1Loss -> <syft.ast.klass.Class object at 0x7fe85b1754c0>\n\t\t.SoftMarginLoss -> <syft.ast.klass.Class object at 0x7fe85b175580>\n\t\t.TripletMarginLoss -> <syft.ast.klass.Class object at 0x7fe85b1756a0>\n\t\t.AdaptiveAvgPool1d -> <syft.ast.klass.Class object at 0x7fe85b1757c0>\n\t\t.AdaptiveAvgPool2d -> <syft.ast.klass.Class object at 0x7fe85b175e20>\n\t\t.AdaptiveAvgPool3d -> <syft.ast.klass.Class object at 0x7fe85b14b4c0>\n\t\t.AdaptiveMaxPool1d -> <syft.ast.klass.Class object at 0x7fe85b14bb20>\n\t\t.AdaptiveMaxPool2d -> <syft.ast.klass.Class object at 0x7fe85b16d1c0>\n\t\t.AdaptiveMaxPool3d -> <syft.ast.klass.Class object at 0x7fe85b16d820>\n\t\t.AlphaDropout -> <syft.ast.klass.Class object at 0x7fe85b16de80>\n\t\t.AvgPool1d -> <syft.ast.klass.Class object at 0x7fe85b141460>\n\t\t.AvgPool2d -> <syft.ast.klass.Class object at 0x7fe85b1418e0>\n\t\t.AvgPool3d -> <syft.ast.klass.Class object at 0x7fe85b141d60>\n\t\t.BatchNorm1d -> <syft.ast.klass.Class object at 0x7fe85b14f220>\n\t\t.BatchNorm2d -> <syft.ast.klass.Class object at 0x7fe85b14f6a0>\n\t\t.BatchNorm3d -> <syft.ast.klass.Class object at 0x7fe85b14fb20>\n\t\t.Bilinear -> <syft.ast.klass.Class object at 0x7fe85b14ffa0>\n\t\t.CELU -> <syft.ast.klass.Class object at 0x7fe85b13d460>\n\t\t.ConstantPad1d -> <syft.ast.klass.Class object at 0x7fe85b13d880>\n\t\t.ConstantPad2d -> <syft.ast.klass.Class object at 0x7fe85b13de20>\n\t\t.ConstantPad3d -> <syft.ast.klass.Class object at 0x7fe85b138400>\n\t\t.Container -> <syft.ast.klass.Class object at 0x7fe85b1389a0>\n\t\t.Conv1d -> <syft.ast.klass.Class object at 0x7fe85b138e20>\n\t\t.Conv3d -> <syft.ast.klass.Class object at 0x7fe85b16a280>\n\t\t.ConvTranspose1d -> <syft.ast.klass.Class object at 0x7fe85b16a6a0>\n\t\t.ConvTranspose2d -> <syft.ast.klass.Class object at 0x7fe85b16aca0>\n\t\t.ConvTranspose3d -> <syft.ast.klass.Class object at 0x7fe85b15c2e0>\n\t\t.CosineSimilarity -> <syft.ast.klass.Class object at 0x7fe85b15c8e0>\n\t\t.CrossMapLRN2d -> <syft.ast.klass.Class object at 0x7fe85b15cee0>\n\t\t.DataParallel -> <syft.ast.klass.Class object at 0x7fe85b165460>\n\t\t.Dropout -> <syft.ast.klass.Class object at 0x7fe85b165a00>\n\t\t.Dropout3d -> <syft.ast.klass.Class object at 0x7fe85b165fa0>\n\t\t.ELU -> <syft.ast.klass.Class object at 0x7fe85b280460>\n\t\t.Embedding -> <syft.ast.klass.Class object at 0x7fe85b280820>\n\t\t.EmbeddingBag -> <syft.ast.klass.Class object at 0x7fe85b280ca0>\n\t\t.FeatureAlphaDropout -> <syft.ast.klass.Class object at 0x7fe85b298280>\n\t\t.Flatten -> <syft.ast.klass.Class object at 0x7fe85b2989a0>\n\t\t.Fold -> <syft.ast.klass.Class object at 0x7fe85b298e20>\n\t\t.FractionalMaxPool2d -> <syft.ast.klass.Class object at 0x7fe85b29e280>\n\t\t.FractionalMaxPool3d -> <syft.ast.klass.Class object at 0x7fe85b29e9a0>\n\t\t.GELU -> <syft.ast.klass.Class object at 0x7fe85b299100>\n\t\t.GLU -> <syft.ast.klass.Class object at 0x7fe85b299520>\n\t\t.GRU -> <syft.ast.klass.Class object at 0x7fe85b2998e0>\n\t\t.GRUCell -> <syft.ast.klass.Class object at 0x7fe85b299ca0>\n\t\t.GroupNorm -> <syft.ast.klass.Class object at 0x7fe85b288160>\n\t\t.Hardshrink -> <syft.ast.klass.Class object at 0x7fe85b2885e0>\n\t\t.Hardsigmoid -> <syft.ast.klass.Class object at 0x7fe85b288a60>\n\t\t.Hardswish -> <syft.ast.klass.Class object at 0x7fe85b288e20>\n\t\t.Hardtanh -> <syft.ast.klass.Class object at 0x7fe85b2b5220>\n\t\t.Identity -> <syft.ast.klass.Class object at 0x7fe85b2b56a0>\n\t\t.InstanceNorm1d -> <syft.ast.klass.Class object at 0x7fe85b2b5b20>\n\t\t.InstanceNorm2d -> <syft.ast.klass.Class object at 0x7fe85b2b3160>\n\t\t.InstanceNorm3d -> <syft.ast.klass.Class object at 0x7fe85b2b3760>\n\t\t.LPPool1d -> <syft.ast.klass.Class object at 0x7fe85b2b3d60>\n\t\t.LPPool2d -> <syft.ast.klass.Class object at 0x7fe85b2a2220>\n\t\t.LSTM -> <syft.ast.klass.Class object at 0x7fe85b2a26a0>\n\t\t.LSTMCell -> <syft.ast.klass.Class object at 0x7fe85b2a2ac0>\n\t\t.LayerNorm -> <syft.ast.klass.Class object at 0x7fe85b2a2f40>\n\t\t.LeakyReLU -> <syft.ast.klass.Class object at 0x7fe85b2a0400>\n\t\t.LocalResponseNorm -> <syft.ast.klass.Class object at 0x7fe85b2a0880>\n\t\t.LogSigmoid -> <syft.ast.klass.Class object at 0x7fe85b2a0ee0>\n\t\t.LogSoftmax -> <syft.ast.klass.Class object at 0x7fe85b28f3a0>\n\t\t.MaxPool1d -> <syft.ast.klass.Class object at 0x7fe85b28f820>\n\t\t.MaxPool2d -> <syft.ast.klass.Class object at 0x7fe85b28fca0>\n\t\t.MaxPool3d -> <syft.ast.klass.Class object at 0x7fe85b277160>\n\t\t.MaxUnpool1d -> <syft.ast.klass.Class object at 0x7fe85b2775e0>\n\t\t.MaxUnpool2d -> <syft.ast.klass.Class object at 0x7fe85b277a60>\n\t\t.MaxUnpool3d -> <syft.ast.klass.Class object at 0x7fe85b277ee0>\n\t\t.ModuleDict -> <syft.ast.klass.Class object at 0x7fe85b2ae3a0>\n\t\t.ModuleList -> <syft.ast.klass.Class object at 0x7fe85b2ae820>\n\t\t.MultiheadAttention -> <syft.ast.klass.Class object at 0x7fe85b2aed60>\n\t\t.PReLU -> <syft.ast.klass.Class object at 0x7fe85b29a460>\n\t\t.PairwiseDistance -> <syft.ast.klass.Class object at 0x7fe85b29a880>\n\t\t.PixelShuffle -> <syft.ast.klass.Class object at 0x7fe85b29ae80>\n\t\t.RNN -> <syft.ast.klass.Class object at 0x7fe85aeac460>\n\t\t.RNNBase -> <syft.ast.klass.Class object at 0x7fe85aeac820>\n\t\t.RNNCell -> <syft.ast.klass.Class object at 0x7fe85aeacca0>\n\t\t.RNNCellBase -> <syft.ast.klass.Class object at 0x7fe85ae89160>\n\t\t.RReLU -> <syft.ast.klass.Class object at 0x7fe85ae895e0>\n\t\t.ReLU -> <syft.ast.klass.Class object at 0x7fe85ae89a00>\n\t\t.ReLU6 -> <syft.ast.klass.Class object at 0x7fe85ae89e20>\n\t\t.ReflectionPad1d -> <syft.ast.klass.Class object at 0x7fe85aeb2280>\n\t\t.ReflectionPad2d -> <syft.ast.klass.Class object at 0x7fe85aeb2880>\n\t\t.ReplicationPad1d -> <syft.ast.klass.Class object at 0x7fe85aeb2e80>\n\t\t.ReplicationPad2d -> <syft.ast.klass.Class object at 0x7fe85aeb54c0>\n\t\t.ReplicationPad3d -> <syft.ast.klass.Class object at 0x7fe85aeb5ac0>\n\t\t.SELU -> <syft.ast.klass.Class object at 0x7fe85aea2100>\n\t\t.Sigmoid -> <syft.ast.klass.Class object at 0x7fe85aea26a0>\n\t\t.Softmax -> <syft.ast.klass.Class object at 0x7fe85aea2b20>\n\t\t.Softmax2d -> <syft.ast.klass.Class object at 0x7fe85aea2fa0>\n\t\t.Softmin -> <syft.ast.klass.Class object at 0x7fe85ae98460>\n\t\t.Softplus -> <syft.ast.klass.Class object at 0x7fe85ae988e0>\n\t\t.Softshrink -> <syft.ast.klass.Class object at 0x7fe85ae98d60>\n\t\t.Softsign -> <syft.ast.klass.Class object at 0x7fe85ae8f220>\n\t\t.SyncBatchNorm -> <syft.ast.klass.Class object at 0x7fe85ae8f6a0>\n\t\t.Tanh -> <syft.ast.klass.Class object at 0x7fe85ae8fc40>\n\t\t.Tanhshrink -> <syft.ast.klass.Class object at 0x7fe85aea40a0>\n\t\t.Threshold -> <syft.ast.klass.Class object at 0x7fe85aea4520>\n\t\t.Transformer -> <syft.ast.klass.Class object at 0x7fe85aea49a0>\n\t\t.TransformerDecoder -> <syft.ast.klass.Class object at 0x7fe85aea4e20>\n\t\t.TransformerDecoderLayer -> <syft.ast.klass.Class object at 0x7fe85ae8b580>\n\t\t.TransformerEncoder -> <syft.ast.klass.Class object at 0x7fe85ae8bbe0>\n\t\t.TransformerEncoderLayer -> <syft.ast.klass.Class object at 0x7fe85ae81340>\n\t\t.Unfold -> <syft.ast.klass.Class object at 0x7fe85ae819a0>\n\t\t.Upsample -> <syft.ast.klass.Class object at 0x7fe85ae81dc0>\n\t\t.UpsamplingBilinear2d -> <syft.ast.klass.Class object at 0x7fe85ae90280>\n\t\t.UpsamplingNearest2d -> <syft.ast.klass.Class object at 0x7fe85ae90940>\n\t\t.ZeroPad2d -> <syft.ast.klass.Class object at 0x7fe85ae760a0>\n\n\t.return_types -> Module:\n\t\t.cummax -> <syft.ast.klass.Class object at 0x7fe85ac00d00>\n\t\t.cummin -> <syft.ast.klass.Class object at 0x7fe85ac00d60>\n\t\t.eig -> <syft.ast.klass.Class object at 0x7fe85ac00dc0>\n\t\t.kthvalue -> <syft.ast.klass.Class object at 0x7fe85ac00e20>\n\t\t.lstsq -> <syft.ast.klass.Class object at 0x7fe85ac00e80>\n\t\t.slogdet -> <syft.ast.klass.Class object at 0x7fe85ac00ee0>\n\t\t.qr -> <syft.ast.klass.Class object at 0x7fe85ac00f40>\n\t\t.mode -> <syft.ast.klass.Class object at 0x7fe85ac00fa0>\n\t\t.solve -> <syft.ast.klass.Class object at 0x7fe85b254040>\n\t\t.sort -> <syft.ast.klass.Class object at 0x7fe85b2540a0>\n\t\t.symeig -> <syft.ast.klass.Class object at 0x7fe85b254100>\n\t\t.topk -> <syft.ast.klass.Class object at 0x7fe85b254160>\n\t\t.triangular_solve -> <syft.ast.klass.Class object at 0x7fe85b254220>\n\t\t.svd -> <syft.ast.klass.Class object at 0x7fe85b254280>\n\t\t.geqrf -> <syft.ast.klass.Class object at 0x7fe85b2542e0>\n\t\t.median -> <syft.ast.klass.Class object at 0x7fe85b254340>\n\t\t.max -> <syft.ast.klass.Class object at 0x7fe85b2543a0>\n\t\t.min -> <syft.ast.klass.Class object at 0x7fe85b254400>\n\n\t.Size -> <syft.ast.klass.Class object at 0x7fe85ac5e520>\n\t.set_grad_enabled -> <syft.ast.klass.Class object at 0x7fe85ac5e820>\n\t.zeros -> <syft.ast.callable.Callable object at 0x7fe85ac5e880>\n\t.randn -> <syft.ast.callable.Callable object at 0x7fe85ac5e8e0>\n\t.ones_like -> <syft.ast.callable.Callable object at 0x7fe85ac5e940>\n\t.arange -> <syft.ast.callable.Callable object at 0x7fe85ac5ea60>\n\t.abs_ -> <syft.ast.callable.Callable object at 0x7fe85ac5eac0>\n\t.abs -> <syft.ast.callable.Callable object at 0x7fe85ac5eb20>\n\t.acos_ -> <syft.ast.callable.Callable object at 0x7fe85ac5eb80>\n\t.acos -> <syft.ast.callable.Callable object at 0x7fe85ac5ebe0>\n\t.add -> <syft.ast.callable.Callable object at 0x7fe85ac5ec40>\n\t.addbmm -> <syft.ast.callable.Callable object at 0x7fe85ac5eca0>\n\t.addcdiv -> <syft.ast.callable.Callable object at 0x7fe85ac5ed00>\n\t.addcmul -> <syft.ast.callable.Callable object at 0x7fe85ac5ed60>\n\t.addmm -> <syft.ast.callable.Callable object at 0x7fe85ac5edc0>\n\t.addmv_ -> <syft.ast.callable.Callable object at 0x7fe85ac5ee20>\n\t.addmv -> <syft.ast.callable.Callable object at 0x7fe85ac5ee80>\n\t.addr -> <syft.ast.callable.Callable object at 0x7fe85ac5eee0>\n\t.all -> <syft.ast.callable.Callable object at 0x7fe85ac5ef40>\n\t.allclose -> <syft.ast.callable.Callable object at 0x7fe85ac5efa0>\n\t.angle -> <syft.ast.callable.Callable object at 0x7fe85ac60040>\n\t.any -> <syft.ast.callable.Callable object at 0x7fe85ac600a0>\n\t.argmax -> <syft.ast.callable.Callable object at 0x7fe85ac60100>\n\t.argmin -> <syft.ast.callable.Callable object at 0x7fe85ac60160>\n\t.argsort -> <syft.ast.callable.Callable object at 0x7fe85ac601c0>\n\t.as_strided_ -> <syft.ast.callable.Callable object at 0x7fe85ac60220>\n\t.as_strided -> <syft.ast.callable.Callable object at 0x7fe85ac60280>\n\t.asin_ -> <syft.ast.callable.Callable object at 0x7fe85ac602e0>\n\t.asin -> <syft.ast.callable.Callable object at 0x7fe85ac60340>\n\t.atan_ -> <syft.ast.callable.Callable object at 0x7fe85ac603a0>\n\t.atan -> <syft.ast.callable.Callable object at 0x7fe85ac60400>\n\t.atan2 -> <syft.ast.callable.Callable object at 0x7fe85ac60460>\n\t.baddbmm -> <syft.ast.callable.Callable object at 0x7fe85ac604c0>\n\t.bernoulli -> <syft.ast.callable.Callable object at 0x7fe85ac60520>\n\t.bitwise_and -> <syft.ast.callable.Callable object at 0x7fe85ac60580>\n\t.bitwise_not -> <syft.ast.callable.Callable object at 0x7fe85ac605e0>\n\t.bitwise_or -> <syft.ast.callable.Callable object at 0x7fe85ac60640>\n\t.bitwise_xor -> <syft.ast.callable.Callable object at 0x7fe85ac606a0>\n\t.bmm -> <syft.ast.callable.Callable object at 0x7fe85ac60700>\n\t.cat -> <syft.ast.callable.Callable object at 0x7fe85ac60760>\n\t.ceil_ -> <syft.ast.callable.Callable object at 0x7fe85ac607c0>\n\t.ceil -> <syft.ast.callable.Callable object at 0x7fe85ac60820>\n\t.cholesky_inverse -> <syft.ast.callable.Callable object at 0x7fe85ac60880>\n\t.cholesky_solve -> <syft.ast.callable.Callable object at 0x7fe85ac608e0>\n\t.cholesky -> <syft.ast.callable.Callable object at 0x7fe85ac60940>\n\t.chunk -> <syft.ast.callable.Callable object at 0x7fe85ac609a0>\n\t.clamp_ -> <syft.ast.callable.Callable object at 0x7fe85ac60a00>\n\t.clamp_max_ -> <syft.ast.callable.Callable object at 0x7fe85ac60a60>\n\t.clamp_max -> <syft.ast.callable.Callable object at 0x7fe85ac60ac0>\n\t.clamp_min_ -> <syft.ast.callable.Callable object at 0x7fe85ac60b20>\n\t.clamp_min -> <syft.ast.callable.Callable object at 0x7fe85ac60b80>\n\t.clamp -> <syft.ast.callable.Callable object at 0x7fe85ac60be0>\n\t.clone -> <syft.ast.callable.Callable object at 0x7fe85ac60c40>\n\t.conj -> <syft.ast.callable.Callable object at 0x7fe85ac60ca0>\n\t.cos_ -> <syft.ast.callable.Callable object at 0x7fe85ac60d00>\n\t.cos -> <syft.ast.callable.Callable object at 0x7fe85ac60d60>\n\t.cosh_ -> <syft.ast.callable.Callable object at 0x7fe85ac60dc0>\n\t.cosh -> <syft.ast.callable.Callable object at 0x7fe85ac60e20>\n\t.cross -> <syft.ast.callable.Callable object at 0x7fe85ac60e80>\n\t.cummax -> <syft.ast.callable.Callable object at 0x7fe85ac60ee0>\n\t.cummin -> <syft.ast.callable.Callable object at 0x7fe85ac60f40>\n\t.cumprod -> <syft.ast.callable.Callable object at 0x7fe85ac60fa0>\n\t.cumsum -> <syft.ast.callable.Callable object at 0x7fe85ac4f040>\n\t.dequantize -> <syft.ast.callable.Callable object at 0x7fe85ac4f0a0>\n\t.det -> <syft.ast.callable.Callable object at 0x7fe85ac4f100>\n\t.detach -> <syft.ast.callable.Callable object at 0x7fe85ac4f160>\n\t.diag_embed -> <syft.ast.callable.Callable object at 0x7fe85ac4f1c0>\n\t.diag -> <syft.ast.callable.Callable object at 0x7fe85ac4f220>\n\t.diagflat -> <syft.ast.callable.Callable object at 0x7fe85ac4f280>\n\t.diagonal -> <syft.ast.callable.Callable object at 0x7fe85ac4f2e0>\n\t.digamma -> <syft.ast.callable.Callable object at 0x7fe85ac4f340>\n\t.dist -> <syft.ast.callable.Callable object at 0x7fe85ac4f3a0>\n\t.div -> <syft.ast.callable.Callable object at 0x7fe85ac4f400>\n\t.dot -> <syft.ast.callable.Callable object at 0x7fe85ac4f460>\n\t.eig -> <syft.ast.callable.Callable object at 0x7fe85ac4f4c0>\n\t.eq -> <syft.ast.callable.Callable object at 0x7fe85ac4f520>\n\t.equal -> <syft.ast.callable.Callable object at 0x7fe85ac4f580>\n\t.erf_ -> <syft.ast.callable.Callable object at 0x7fe85ac4f5e0>\n\t.erf -> <syft.ast.callable.Callable object at 0x7fe85ac4f640>\n\t.erfc_ -> <syft.ast.callable.Callable object at 0x7fe85ac4f6a0>\n\t.erfc -> <syft.ast.callable.Callable object at 0x7fe85ac4f700>\n\t.erfinv -> <syft.ast.callable.Callable object at 0x7fe85ac4f760>\n\t.exp_ -> <syft.ast.callable.Callable object at 0x7fe85ac4f7c0>\n\t.exp -> <syft.ast.callable.Callable object at 0x7fe85ac4f820>\n\t.expm1_ -> <syft.ast.callable.Callable object at 0x7fe85ac4f880>\n\t.expm1 -> <syft.ast.callable.Callable object at 0x7fe85ac4f8e0>\n\t.fft -> Module:\n\n\t.fill_ -> <syft.ast.callable.Callable object at 0x7fe85ac4f9a0>\n\t.flatten -> <syft.ast.callable.Callable object at 0x7fe85ac4fa00>\n\t.flip -> <syft.ast.callable.Callable object at 0x7fe85ac4fa60>\n\t.floor_ -> <syft.ast.callable.Callable object at 0x7fe85ac4fac0>\n\t.floor_divide -> <syft.ast.callable.Callable object at 0x7fe85ac4fb20>\n\t.floor -> <syft.ast.callable.Callable object at 0x7fe85ac4fb80>\n\t.fmod -> <syft.ast.callable.Callable object at 0x7fe85ac4fbe0>\n\t.frac_ -> <syft.ast.callable.Callable object at 0x7fe85ac4fc40>\n\t.frac -> <syft.ast.callable.Callable object at 0x7fe85ac4fca0>\n\t.from_numpy -> <syft.ast.callable.Callable object at 0x7fe85ac4fd00>\n\t.gather -> <syft.ast.callable.Callable object at 0x7fe85ac4fd60>\n\t.ge -> <syft.ast.callable.Callable object at 0x7fe85ac4fdc0>\n\t.geqrf -> <syft.ast.callable.Callable object at 0x7fe85ac4fe20>\n\t.ger -> <syft.ast.callable.Callable object at 0x7fe85ac4fe80>\n\t.get_device -> <syft.ast.callable.Callable object at 0x7fe85ac4fee0>\n\t.gt -> <syft.ast.callable.Callable object at 0x7fe85ac4ff40>\n\t.hardshrink -> <syft.ast.callable.Callable object at 0x7fe85ac4ffa0>\n\t.histc -> <syft.ast.callable.Callable object at 0x7fe85ac3d040>\n\t.index_add -> <syft.ast.callable.Callable object at 0x7fe85ac3d0a0>\n\t.index_copy -> <syft.ast.callable.Callable object at 0x7fe85ac3d100>\n\t.index_fill -> <syft.ast.callable.Callable object at 0x7fe85ac3d160>\n\t.index_put_ -> <syft.ast.callable.Callable object at 0x7fe85ac3d1c0>\n\t.index_put -> <syft.ast.callable.Callable object at 0x7fe85ac3d220>\n\t.index_select -> <syft.ast.callable.Callable object at 0x7fe85ac3d280>\n\t.int_repr -> <syft.ast.callable.Callable object at 0x7fe85ac3d2e0>\n\t.inverse -> <syft.ast.callable.Callable object at 0x7fe85ac3d340>\n\t.is_complex -> <syft.ast.callable.Callable object at 0x7fe85ac3d3a0>\n\t.is_distributed -> <syft.ast.callable.Callable object at 0x7fe85ac3d400>\n\t.is_floating_point -> <syft.ast.callable.Callable object at 0x7fe85ac3d460>\n\t.is_nonzero -> <syft.ast.callable.Callable object at 0x7fe85ac3d4c0>\n\t.is_same_size -> <syft.ast.callable.Callable object at 0x7fe85ac3d520>\n\t.is_signed -> <syft.ast.callable.Callable object at 0x7fe85ac3d580>\n\t.isclose -> <syft.ast.callable.Callable object at 0x7fe85ac3d5e0>\n\t.kthvalue -> <syft.ast.callable.Callable object at 0x7fe85ac3d640>\n\t.le -> <syft.ast.callable.Callable object at 0x7fe85ac3d6a0>\n\t.lerp -> <syft.ast.callable.Callable object at 0x7fe85ac3d700>\n\t.lgamma -> <syft.ast.callable.Callable object at 0x7fe85ac3d760>\n\t.log_ -> <syft.ast.callable.Callable object at 0x7fe85ac3d7c0>\n\t.log_softmax -> <syft.ast.callable.Callable object at 0x7fe85ac3d820>\n\t.log -> <syft.ast.callable.Callable object at 0x7fe85ac3d880>\n\t.log10_ -> <syft.ast.callable.Callable object at 0x7fe85ac3d8e0>\n\t.log10 -> <syft.ast.callable.Callable object at 0x7fe85ac3d940>\n\t.log1p_ -> <syft.ast.callable.Callable object at 0x7fe85ac3d9a0>\n\t.log1p -> <syft.ast.callable.Callable object at 0x7fe85ac3da00>\n\t.log2_ -> <syft.ast.callable.Callable object at 0x7fe85ac3da60>\n\t.log2 -> <syft.ast.callable.Callable object at 0x7fe85ac3dac0>\n\t.logdet -> <syft.ast.callable.Callable object at 0x7fe85ac3db20>\n\t.logical_and -> <syft.ast.callable.Callable object at 0x7fe85ac3db80>\n\t.logical_not -> <syft.ast.callable.Callable object at 0x7fe85ac3dbe0>\n\t.logical_or -> <syft.ast.callable.Callable object at 0x7fe85ac3dc40>\n\t.logical_xor -> <syft.ast.callable.Callable object at 0x7fe85ac3dca0>\n\t.logsumexp -> <syft.ast.callable.Callable object at 0x7fe85ac3dd00>\n\t.lstsq -> <syft.ast.callable.Callable object at 0x7fe85ac3dd60>\n\t.lt -> <syft.ast.callable.Callable object at 0x7fe85ac3ddc0>\n\t.lu_solve -> <syft.ast.callable.Callable object at 0x7fe85ac3de20>\n\t.lu -> <syft.ast.callable.Callable object at 0x7fe85ac3de80>\n\t.masked_fill -> <syft.ast.callable.Callable object at 0x7fe85ac3dee0>\n\t.masked_scatter -> <syft.ast.callable.Callable object at 0x7fe85ac3df40>\n\t.masked_select -> <syft.ast.callable.Callable object at 0x7fe85ac3dfa0>\n\t.matmul -> <syft.ast.callable.Callable object at 0x7fe85ac36040>\n\t.matrix_power -> <syft.ast.callable.Callable object at 0x7fe85ac360a0>\n\t.mean -> <syft.ast.callable.Callable object at 0x7fe85ac36100>\n\t.mm -> <syft.ast.callable.Callable object at 0x7fe85ac36160>\n\t.mode -> <syft.ast.callable.Callable object at 0x7fe85ac361c0>\n\t.mul -> <syft.ast.callable.Callable object at 0x7fe85ac36220>\n\t.multinomial -> <syft.ast.callable.Callable object at 0x7fe85ac36280>\n\t.mv -> <syft.ast.callable.Callable object at 0x7fe85ac362e0>\n\t.mvlgamma -> <syft.ast.callable.Callable object at 0x7fe85ac36340>\n\t.narrow -> <syft.ast.callable.Callable object at 0x7fe85ac363a0>\n\t.ne -> <syft.ast.callable.Callable object at 0x7fe85ac36400>\n\t.neg_ -> <syft.ast.callable.Callable object at 0x7fe85ac36460>\n\t.neg -> <syft.ast.callable.Callable object at 0x7fe85ac364c0>\n\t.nonzero -> <syft.ast.callable.Callable object at 0x7fe85ac36520>\n\t.norm -> <syft.ast.callable.Callable object at 0x7fe85ac36580>\n\t.orgqr -> <syft.ast.callable.Callable object at 0x7fe85ac365e0>\n\t.ormqr -> <syft.ast.callable.Callable object at 0x7fe85ac36640>\n\t.pinverse -> <syft.ast.callable.Callable object at 0x7fe85ac366a0>\n\t.polygamma -> <syft.ast.callable.Callable object at 0x7fe85ac36700>\n\t.pow -> <syft.ast.callable.Callable object at 0x7fe85ac36760>\n\t.prelu -> <syft.ast.callable.Callable object at 0x7fe85ac367c0>\n\t.q_per_channel_axis -> <syft.ast.callable.Callable object at 0x7fe85ac36820>\n\t.q_per_channel_scales -> <syft.ast.callable.Callable object at 0x7fe85ac36880>\n\t.q_per_channel_zero_points -> <syft.ast.callable.Callable object at 0x7fe85ac368e0>\n\t.q_scale -> <syft.ast.callable.Callable object at 0x7fe85ac36940>\n\t.q_zero_point -> <syft.ast.callable.Callable object at 0x7fe85ac369a0>\n\t.qr -> <syft.ast.callable.Callable object at 0x7fe85ac36a00>\n\t.reciprocal_ -> <syft.ast.callable.Callable object at 0x7fe85ac36a60>\n\t.reciprocal -> <syft.ast.callable.Callable object at 0x7fe85ac36ac0>\n\t.relu_ -> <syft.ast.callable.Callable object at 0x7fe85ac36b20>\n\t.relu -> <syft.ast.callable.Callable object at 0x7fe85ac36b80>\n\t.remainder -> <syft.ast.callable.Callable object at 0x7fe85ac36be0>\n\t.renorm -> <syft.ast.callable.Callable object at 0x7fe85ac36c40>\n\t.repeat_interleave -> <syft.ast.callable.Callable object at 0x7fe85ac36ca0>\n\t.reshape -> <syft.ast.callable.Callable object at 0x7fe85ac36d00>\n\t.resize_as_ -> <syft.ast.callable.Callable object at 0x7fe85ac36d60>\n\t.roll -> <syft.ast.callable.Callable object at 0x7fe85ac36dc0>\n\t.rot90 -> <syft.ast.callable.Callable object at 0x7fe85ac36e20>\n\t.round_ -> <syft.ast.callable.Callable object at 0x7fe85ac36e80>\n\t.round -> <syft.ast.callable.Callable object at 0x7fe85ac36ee0>\n\t.rsqrt_ -> <syft.ast.callable.Callable object at 0x7fe85ac36f40>\n\t.rsqrt -> <syft.ast.callable.Callable object at 0x7fe85ac36fa0>\n\t.scatter_add -> <syft.ast.callable.Callable object at 0x7fe85ac75040>\n\t.scatter -> <syft.ast.callable.Callable object at 0x7fe85ac750a0>\n\t.select -> <syft.ast.callable.Callable object at 0x7fe85ac75100>\n\t.sigmoid_ -> <syft.ast.callable.Callable object at 0x7fe85ac75160>\n\t.sigmoid -> <syft.ast.callable.Callable object at 0x7fe85ac751c0>\n\t.sign -> <syft.ast.callable.Callable object at 0x7fe85ac75220>\n\t.sin_ -> <syft.ast.callable.Callable object at 0x7fe85ac75280>\n\t.sin -> <syft.ast.callable.Callable object at 0x7fe85ac752e0>\n\t.sinh_ -> <syft.ast.callable.Callable object at 0x7fe85ac75340>\n\t.sinh -> <syft.ast.callable.Callable object at 0x7fe85ac753a0>\n\t.slogdet -> <syft.ast.callable.Callable object at 0x7fe85ac75400>\n\t.softmax -> <syft.ast.callable.Callable object at 0x7fe85ac75460>\n\t.solve -> <syft.ast.callable.Callable object at 0x7fe85ac754c0>\n\t.sort -> <syft.ast.callable.Callable object at 0x7fe85ac75520>\n\t.split_with_sizes -> <syft.ast.callable.Callable object at 0x7fe85ac75580>\n\t.split -> <syft.ast.callable.Callable object at 0x7fe85ac755e0>\n\t.sqrt_ -> <syft.ast.callable.Callable object at 0x7fe85ac75640>\n\t.sqrt -> <syft.ast.callable.Callable object at 0x7fe85ac756a0>\n\t.square_ -> <syft.ast.callable.Callable object at 0x7fe85ac75700>\n\t.square -> <syft.ast.callable.Callable object at 0x7fe85ac75760>\n\t.squeeze -> <syft.ast.callable.Callable object at 0x7fe85ac757c0>\n\t.stack -> <syft.ast.callable.Callable object at 0x7fe85ac75820>\n\t.std -> <syft.ast.callable.Callable object at 0x7fe85ac75880>\n\t.stft -> <syft.ast.callable.Callable object at 0x7fe85ac758e0>\n\t.sub -> <syft.ast.callable.Callable object at 0x7fe85ac75940>\n\t.sum -> <syft.ast.callable.Callable object at 0x7fe85ac759a0>\n\t.svd -> <syft.ast.callable.Callable object at 0x7fe85ac75a00>\n\t.symeig -> <syft.ast.callable.Callable object at 0x7fe85ac75a60>\n\t.t -> <syft.ast.callable.Callable object at 0x7fe85ac75ac0>\n\t.take -> <syft.ast.callable.Callable object at 0x7fe85ac75b20>\n\t.tan_ -> <syft.ast.callable.Callable object at 0x7fe85ac75b80>\n\t.tan -> <syft.ast.callable.Callable object at 0x7fe85ac75be0>\n\t.tanh_ -> <syft.ast.callable.Callable object at 0x7fe85ac75c40>\n\t.tanh -> <syft.ast.callable.Callable object at 0x7fe85ac75ca0>\n\t.topk -> <syft.ast.callable.Callable object at 0x7fe85ac75d00>\n\t.trace -> <syft.ast.callable.Callable object at 0x7fe85ac75d60>\n\t.transpose -> <syft.ast.callable.Callable object at 0x7fe85ac75dc0>\n\t.triangular_solve -> <syft.ast.callable.Callable object at 0x7fe85ac75e20>\n\t.tril -> <syft.ast.callable.Callable object at 0x7fe85ac75e80>\n\t.triu -> <syft.ast.callable.Callable object at 0x7fe85ac75ee0>\n\t.true_divide -> <syft.ast.callable.Callable object at 0x7fe85ac75f40>\n\t.trunc_ -> <syft.ast.callable.Callable object at 0x7fe85ac75fa0>\n\t.trunc -> <syft.ast.callable.Callable object at 0x7fe85ac48040>\n\t.unique_consecutive -> <syft.ast.callable.Callable object at 0x7fe85ac480a0>\n\t.unique -> <syft.ast.callable.Callable object at 0x7fe85ac48100>\n\t.unsqueeze -> <syft.ast.callable.Callable object at 0x7fe85ac48160>\n\t.var -> <syft.ast.callable.Callable object at 0x7fe85ac481c0>\n\t.unsafe_chunk -> <syft.ast.callable.Callable object at 0x7fe85ac48220>\n\t.absolute -> <syft.ast.callable.Callable object at 0x7fe85ac48280>\n\t.acosh_ -> <syft.ast.callable.Callable object at 0x7fe85ac482e0>\n\t.acosh -> <syft.ast.callable.Callable object at 0x7fe85ac48340>\n\t.asinh_ -> <syft.ast.callable.Callable object at 0x7fe85ac483a0>\n\t.asinh -> <syft.ast.callable.Callable object at 0x7fe85ac48400>\n\t.atanh_ -> <syft.ast.callable.Callable object at 0x7fe85ac48460>\n\t.atanh -> <syft.ast.callable.Callable object at 0x7fe85ac484c0>\n\t.deg2rad_ -> <syft.ast.callable.Callable object at 0x7fe85ac48520>\n\t.deg2rad -> <syft.ast.callable.Callable object at 0x7fe85ac48580>\n\t.fliplr -> <syft.ast.callable.Callable object at 0x7fe85ac485e0>\n\t.flipud -> <syft.ast.callable.Callable object at 0x7fe85ac48640>\n\t.isfinite -> <syft.ast.callable.Callable object at 0x7fe85ac486a0>\n\t.isinf -> <syft.ast.callable.Callable object at 0x7fe85ac48700>\n\t.isnan -> <syft.ast.callable.Callable object at 0x7fe85ac48760>\n\t.logaddexp -> <syft.ast.callable.Callable object at 0x7fe85ac487c0>\n\t.logaddexp2 -> <syft.ast.callable.Callable object at 0x7fe85ac48820>\n\t.logcumsumexp -> <syft.ast.callable.Callable object at 0x7fe85ac48880>\n\t.rad2deg_ -> <syft.ast.callable.Callable object at 0x7fe85ac488e0>\n\t.rad2deg -> <syft.ast.callable.Callable object at 0x7fe85ac48940>\n\t.istft -> <syft.ast.callable.Callable object at 0x7fe85ac489a0>\n\t.amax -> <syft.ast.callable.Callable object at 0x7fe85ac48a00>\n\t.amin -> <syft.ast.callable.Callable object at 0x7fe85ac48a60>\n\t.arccos -> <syft.ast.callable.Callable object at 0x7fe85ac48ac0>\n\t.arccos_ -> <syft.ast.callable.Callable object at 0x7fe85ac48b20>\n\t.arccosh -> <syft.ast.callable.Callable object at 0x7fe85ac48b80>\n\t.arccosh_ -> <syft.ast.callable.Callable object at 0x7fe85ac48be0>\n\t.arcsin -> <syft.ast.callable.Callable object at 0x7fe85ac48c40>\n\t.arcsin_ -> <syft.ast.callable.Callable object at 0x7fe85ac48ca0>\n\t.arcsinh -> <syft.ast.callable.Callable object at 0x7fe85ac48d00>\n\t.arcsinh_ -> <syft.ast.callable.Callable object at 0x7fe85ac48d60>\n\t.arctan -> <syft.ast.callable.Callable object at 0x7fe85ac48dc0>\n\t.arctan_ -> <syft.ast.callable.Callable object at 0x7fe85ac48e20>\n\t.arctanh -> <syft.ast.callable.Callable object at 0x7fe85ac48e80>\n\t.arctanh_ -> <syft.ast.callable.Callable object at 0x7fe85ac48ee0>\n\t.clip -> <syft.ast.callable.Callable object at 0x7fe85ac48f40>\n\t.clip_ -> <syft.ast.callable.Callable object at 0x7fe85ac48fa0>\n\t.count_nonzero -> <syft.ast.callable.Callable object at 0x7fe85ac68040>\n\t.divide -> <syft.ast.callable.Callable object at 0x7fe85ac680a0>\n\t.exp2 -> <syft.ast.callable.Callable object at 0x7fe85ac68100>\n\t.exp2_ -> <syft.ast.callable.Callable object at 0x7fe85ac68160>\n\t.fix -> <syft.ast.callable.Callable object at 0x7fe85ac681c0>\n\t.fix_ -> <syft.ast.callable.Callable object at 0x7fe85ac68220>\n\t.gcd -> <syft.ast.callable.Callable object at 0x7fe85ac68280>\n\t.gcd_ -> <syft.ast.callable.Callable object at 0x7fe85ac682e0>\n\t.greater -> <syft.ast.callable.Callable object at 0x7fe85ac68340>\n\t.greater_equal -> <syft.ast.callable.Callable object at 0x7fe85ac683a0>\n\t.heaviside -> <syft.ast.callable.Callable object at 0x7fe85ac68400>\n\t.hypot -> <syft.ast.callable.Callable object at 0x7fe85ac68460>\n\t.i0 -> <syft.ast.callable.Callable object at 0x7fe85ac684c0>\n\t.i0_ -> <syft.ast.callable.Callable object at 0x7fe85ac68520>\n\t.isneginf -> <syft.ast.callable.Callable object at 0x7fe85ac68580>\n\t.isposinf -> <syft.ast.callable.Callable object at 0x7fe85ac685e0>\n\t.isreal -> <syft.ast.callable.Callable object at 0x7fe85ac68640>\n\t.lcm -> <syft.ast.callable.Callable object at 0x7fe85ac686a0>\n\t.lcm_ -> <syft.ast.callable.Callable object at 0x7fe85ac68700>\n\t.less -> <syft.ast.callable.Callable object at 0x7fe85ac68760>\n\t.less_equal -> <syft.ast.callable.Callable object at 0x7fe85ac687c0>\n\t.logit -> <syft.ast.callable.Callable object at 0x7fe85ac68820>\n\t.logit_ -> <syft.ast.callable.Callable object at 0x7fe85ac68880>\n\t.maximum -> <syft.ast.callable.Callable object at 0x7fe85ac688e0>\n\t.minimum -> <syft.ast.callable.Callable object at 0x7fe85ac68940>\n\t.matrix_exp -> <syft.ast.callable.Callable object at 0x7fe85ac689a0>\n\t.multiply -> <syft.ast.callable.Callable object at 0x7fe85ac68a00>\n\t.nanquantile -> <syft.ast.callable.Callable object at 0x7fe85ac68a60>\n\t.nansum -> <syft.ast.callable.Callable object at 0x7fe85ac68ac0>\n\t.negative -> <syft.ast.callable.Callable object at 0x7fe85ac68b20>\n\t.negative_ -> <syft.ast.callable.Callable object at 0x7fe85ac68b80>\n\t.nextafter -> <syft.ast.callable.Callable object at 0x7fe85ac68be0>\n\t.outer -> <syft.ast.callable.Callable object at 0x7fe85ac68c40>\n\t.quantile -> <syft.ast.callable.Callable object at 0x7fe85ac68ca0>\n\t.sgn -> <syft.ast.callable.Callable object at 0x7fe85ac68d00>\n\t.signbit -> <syft.ast.callable.Callable object at 0x7fe85ac68d60>\n\t.subtract -> <syft.ast.callable.Callable object at 0x7fe85ac68dc0>\n\t.unsafe_split -> <syft.ast.callable.Callable object at 0x7fe85ac68e20>\n\t.vdot -> <syft.ast.callable.Callable object at 0x7fe85ac68e80>\n\t.movedim -> <syft.ast.callable.Callable object at 0x7fe85ac68ee0>\n\t.unsafe_split_with_sizes -> <syft.ast.callable.Callable object at 0x7fe85ac68f40>\n\t.cuda -> Module:\n\t\t.is_available -> <syft.ast.callable.Callable object at 0x7fe85ac3b040>\n\n\t.device -> <syft.ast.klass.Class object at 0x7fe85ac3b0a0>\n\t.random -> Module:\n\t\t.initial_seed -> <syft.ast.callable.Callable object at 0x7fe85ac3b220>\n\n\t.zeros_like -> <syft.ast.callable.Callable object at 0x7fe85ac3b280>\n\t.manual_seed -> <syft.ast.callable.Callable object at 0x7fe85ac3b2e0>\n\t.Generator -> <syft.ast.klass.Class object at 0x7fe85ac3b340>\n\t.utils -> Module:\n\t\t.data -> Module:\n\t\t\t.DataLoader -> <syft.ast.klass.Class object at 0x7fe85ac5a640>\n\t\t\t.dataloader -> Module:\n\t\t\t\t._SingleProcessDataLoaderIter -> <syft.ast.klass.Class object at 0x7fe85ac5a880>\n\n\n\n\t.optim -> Module:\n\t\t.ASGD -> <syft.ast.klass.Class object at 0x7fe85ac5ac40>\n\t\t.Adadelta -> <syft.ast.klass.Class object at 0x7fe85ac5adc0>\n\t\t.Adagrad -> <syft.ast.klass.Class object at 0x7fe85ac5af40>\n\t\t.Adam -> <syft.ast.klass.Class object at 0x7fe85b166100>\n\t\t.AdamW -> <syft.ast.klass.Class object at 0x7fe85b166280>\n\t\t.Adamax -> <syft.ast.klass.Class object at 0x7fe85b166400>\n\t\t.LBFGS -> <syft.ast.klass.Class object at 0x7fe85b166580>\n\t\t.Optimizer -> <syft.ast.klass.Class object at 0x7fe85b166700>\n\t\t.RMSprop -> <syft.ast.klass.Class object at 0x7fe85b1668e0>\n\t\t.Rprop -> <syft.ast.klass.Class object at 0x7fe85b166a60>\n\t\t.SGD -> <syft.ast.klass.Class object at 0x7fe85b166be0>\n\t\t.SparseAdam -> <syft.ast.klass.Class object at 0x7fe85b166d60>\n\t\t.lr_scheduler -> Module:\n\t\t\t.StepLR -> <syft.ast.klass.Class object at 0x7fe85b154040>\n\n\n\t.no_grad -> <syft.ast.klass.Class object at 0x7fe85b154220>\n\t.autograd -> Module:\n\t\t.grad_mode -> Module:\n\t\t\t.no_grad -> <syft.ast.klass.Class object at 0x7fe85b1543a0>\n\n\n\t.distributions -> Module:\n\t\t.Categorical -> <syft.ast.klass.Class object at 0x7fe85ae76580>\n\n\t.kron -> <syft.ast.callable.Callable object at 0x7fe85ae76b20>\n\t.msort -> <syft.ast.callable.Callable object at 0x7fe85ae76c40>\n\t.row_stack -> <syft.ast.callable.Callable object at 0x7fe85ae76ca0>\n\t.moveaxis -> <syft.ast.callable.Callable object at 0x7fe85ae76fa0>\n\t.tensor_split -> <syft.ast.callable.Callable object at 0x7fe85ae78100>\n\t.tile -> <syft.ast.callable.Callable object at 0x7fe85ae78220>\n\t.fmin -> <syft.ast.callable.Callable object at 0x7fe85ae78400>\n\t.ldexp -> <syft.ast.callable.Callable object at 0x7fe85ae78460>\n\t.igamma -> <syft.ast.callable.Callable object at 0x7fe85ae78580>\n\t.float_power -> <syft.ast.callable.Callable object at 0x7fe85ae78a60>\n\t.xlogy -> <syft.ast.callable.Callable object at 0x7fe85ae78b80>\n\t.copysign -> <syft.ast.callable.Callable object at 0x7fe85ae78be0>\n\t.nanmedian -> <syft.ast.callable.Callable object at 0x7fe85ae78c40>\n\t.igammac -> <syft.ast.callable.Callable object at 0x7fe85ae78ca0>\n\t.diff -> <syft.ast.callable.Callable object at 0x7fe85ae78dc0>\n\t.sinc -> <syft.ast.callable.Callable object at 0x7fe85ae78ee0>\n\t.column_stack -> <syft.ast.callable.Callable object at 0x7fe85ae91100>\n\t.pixel_unshuffle -> <syft.ast.callable.Callable object at 0x7fe85ae91220>\n\t.swapaxes -> <syft.ast.callable.Callable object at 0x7fe85ae914c0>\n\t.nan_to_num -> <syft.ast.callable.Callable object at 0x7fe85ae91520>\n\t.inner -> <syft.ast.callable.Callable object at 0x7fe85ae91580>\n\t.fmax -> <syft.ast.callable.Callable object at 0x7fe85ae915e0>\n\t.ravel -> <syft.ast.callable.Callable object at 0x7fe85ae91940>\n\t.broadcast_to -> <syft.ast.callable.Callable object at 0x7fe85ae919a0>\n\t.swapdims -> <syft.ast.callable.Callable object at 0x7fe85ae91b80>"
          },
          "metadata": {}
        }
      ],
      "execution_count": 7,
      "metadata": {
        "gather": {
          "logged": 1631608779797
        }
      }
    },
    {
      "cell_type": "markdown",
      "source": [
        "## Client: loading and exploring the dataset"
      ],
      "metadata": {}
    },
    {
      "cell_type": "code",
      "source": [
        "class ECG(Dataset):\n",
        "    # The class used to load the ECG dataset\n",
        "    def __init__(self, mode='train'):\n",
        "        if mode == 'train':\n",
        "            with h5py.File(project_path/data_dir/train_name, 'r') as hdf:\n",
        "                self.x = hdf['x_train'][:]\n",
        "                self.y = hdf['y_train'][:]\n",
        "        elif mode == 'test':\n",
        "            with h5py.File(project_path/data_dir/test_name, 'r') as hdf:\n",
        "                self.x = hdf['x_test'][:]\n",
        "                self.y = hdf['y_test'][:]\n",
        "        else:\n",
        "            raise ValueError('Argument of mode should be train or test')\n",
        "    \n",
        "    def __len__(self):\n",
        "        return len(self.x)\n",
        "    \n",
        "    def __getitem__(self, idx):\n",
        "        return torch.tensor(self.x[idx], dtype=torch.float), torch.tensor(self.y[idx])"
      ],
      "outputs": [],
      "execution_count": 9,
      "metadata": {
        "jupyter": {
          "source_hidden": false,
          "outputs_hidden": false
        },
        "nteract": {
          "transient": {
            "deleting": false
          }
        },
        "gather": {
          "logged": 1631608839999
        }
      }
    },
    {
      "cell_type": "code",
      "source": [
        "train_dataset = ECG(mode='train')\n",
        "test_dataset = ECG(mode='test')"
      ],
      "outputs": [],
      "execution_count": 10,
      "metadata": {
        "gather": {
          "logged": 1631608843167
        }
      }
    },
    {
      "cell_type": "code",
      "source": [
        "train_loader = DataLoader(train_dataset, batch_size=len(train_dataset))\n",
        "test_loader = DataLoader(test_dataset, batch_size=len(test_dataset))\n",
        "x_train, y_train = next(iter(train_loader))\n",
        "x_test, y_test = next(iter(test_loader))\n",
        "print(f'x_train: {type(x_train)}, {x_train.size()}')\n",
        "print(f'y_train: {type(y_train)}, {y_train.size()}')\n",
        "print(f'x_test: {type(x_test)}, {x_test.size()}')\n",
        "print(f'y_test: {type(y_test)}, {y_test.size()}')"
      ],
      "outputs": [
        {
          "output_type": "stream",
          "name": "stdout",
          "text": "x_train: <class 'torch.Tensor'>, torch.Size([13245, 1, 128])\ny_train: <class 'torch.Tensor'>, torch.Size([13245])\nx_test: <class 'torch.Tensor'>, torch.Size([13245, 1, 128])\ny_test: <class 'torch.Tensor'>, torch.Size([13245])\n"
        }
      ],
      "execution_count": 7,
      "metadata": {
        "gather": {
          "logged": 1631557801329
        }
      }
    },
    {
      "cell_type": "code",
      "source": [
        "train_loader = DataLoader(train_dataset, batch_size=32)\n",
        "test_loader = DataLoader(test_dataset, batch_size=32)"
      ],
      "outputs": [],
      "execution_count": 8,
      "metadata": {
        "jupyter": {
          "source_hidden": false,
          "outputs_hidden": false
        },
        "nteract": {
          "transient": {
            "deleting": false
          }
        },
        "gather": {
          "logged": 1631557801590
        }
      }
    },
    {
      "cell_type": "code",
      "source": [
        "x0 = x_train[0, :, :]\n",
        "print(f'x_0: {x0.shape}')\n",
        "x0_unroll = x0.view(-1)\n",
        "print(f'unrolling: {x0_unroll.shape}')\n",
        "indx = np.arange(0, 128)\n",
        "\n",
        "# plt.figure(figsize=(3,3))\n",
        "plt.style.use('dark_background')\n",
        "plt.plot(indx, x0_unroll)\n",
        "plt.show()"
      ],
      "outputs": [
        {
          "output_type": "stream",
          "name": "stdout",
          "text": "x_0: torch.Size([1, 128])\nunrolling: torch.Size([128])\n"
        },
        {
          "output_type": "display_data",
          "data": {
            "text/plain": "<Figure size 640x480 with 1 Axes>",
            "image/png": "[encoded data removed]"
          },
          "metadata": {}
        }
      ],
      "execution_count": 9,
      "metadata": {
        "gather": {
          "logged": 1631557801946
        }
      }
    },
    {
      "cell_type": "markdown",
      "source": [
        "## Server: point to the dataset using `remote_torch`"
      ],
      "metadata": {}
    },
    {
      "cell_type": "code",
      "source": [
        "x_train_ptr = remote_torch.Tensor(x_train)\n",
        "y_train_ptr = remote_torch.LongTensor(y_train)\n",
        "x_test_ptr = remote_torch.Tensor(x_test)\n",
        "y_test_ptr = remote_torch.LongTensor(y_test)"
      ],
      "outputs": [],
      "execution_count": 10,
      "metadata": {
        "gather": {
          "logged": 1631557802276
        }
      }
    },
    {
      "cell_type": "code",
      "source": [
        "x_train_ptr"
      ],
      "outputs": [
        {
          "output_type": "execute_result",
          "execution_count": 11,
          "data": {
            "text/plain": "<syft.proxy.torch.TensorPointer at 0x7f6f60adce20>"
          },
          "metadata": {}
        }
      ],
      "execution_count": 11,
      "metadata": {
        "jupyter": {
          "source_hidden": false,
          "outputs_hidden": false
        },
        "nteract": {
          "transient": {
            "deleting": false
          }
        },
        "gather": {
          "logged": 1631557802623
        }
      }
    },
    {
      "cell_type": "code",
      "source": [
        "remote_torch.utils.data.DataLoader(train_dataset)"
      ],
      "outputs": [
        {
          "output_type": "error",
          "ename": "AttributeError",
          "evalue": "'ECG' object has no attribute 'send'",
          "traceback": [
            "\u001b[0;31m---------------------------------------------------------------------------\u001b[0m",
            "\u001b[0;31mAttributeError\u001b[0m                            Traceback (most recent call last)",
            "\u001b[0;32m/tmp/ipykernel_21302/2735039090.py\u001b[0m in \u001b[0;36m<module>\u001b[0;34m\u001b[0m\n\u001b[0;32m----> 1\u001b[0;31m \u001b[0mic\u001b[0m\u001b[0;34m(\u001b[0m\u001b[0mremote_torch\u001b[0m\u001b[0;34m.\u001b[0m\u001b[0mutils\u001b[0m\u001b[0;34m.\u001b[0m\u001b[0mdata\u001b[0m\u001b[0;34m.\u001b[0m\u001b[0mDataLoader\u001b[0m\u001b[0;34m(\u001b[0m\u001b[0mtrain_dataset\u001b[0m\u001b[0;34m)\u001b[0m\u001b[0;34m)\u001b[0m\u001b[0;34m\u001b[0m\u001b[0;34m\u001b[0m\u001b[0m\n\u001b[0m",
            "\u001b[0;32m/anaconda/envs/SyftEnv/lib/python3.9/site-packages/syft/ast/callable.py\u001b[0m in \u001b[0;36m__call__\u001b[0;34m(self, *args, **kwargs)\u001b[0m\n\u001b[1;32m     90\u001b[0m \u001b[0;34m\u001b[0m\u001b[0m\n\u001b[1;32m     91\u001b[0m             \u001b[0;31m# then we convert anything which isn't a pointer into a pointer\u001b[0m\u001b[0;34m\u001b[0m\u001b[0;34m\u001b[0m\u001b[0;34m\u001b[0m\u001b[0m\n\u001b[0;32m---> 92\u001b[0;31m             pointer_args, pointer_kwargs = ast.klass.pointerize_args_and_kwargs(\n\u001b[0m\u001b[1;32m     93\u001b[0m                 \u001b[0margs\u001b[0m\u001b[0;34m=\u001b[0m\u001b[0mdowncast_args\u001b[0m\u001b[0;34m,\u001b[0m \u001b[0mkwargs\u001b[0m\u001b[0;34m=\u001b[0m\u001b[0mdowncast_kwargs\u001b[0m\u001b[0;34m,\u001b[0m \u001b[0mclient\u001b[0m\u001b[0;34m=\u001b[0m\u001b[0mself\u001b[0m\u001b[0;34m.\u001b[0m\u001b[0mclient\u001b[0m\u001b[0;34m\u001b[0m\u001b[0;34m\u001b[0m\u001b[0m\n\u001b[1;32m     94\u001b[0m             )\n",
            "\u001b[0;32m/anaconda/envs/SyftEnv/lib/python3.9/site-packages/syft/ast/klass.py\u001b[0m in \u001b[0;36mpointerize_args_and_kwargs\u001b[0;34m(args, kwargs, client)\u001b[0m\n\u001b[1;32m    839\u001b[0m         \u001b[0;31m# check if its already a pointer\u001b[0m\u001b[0;34m\u001b[0m\u001b[0;34m\u001b[0m\u001b[0;34m\u001b[0m\u001b[0m\n\u001b[1;32m    840\u001b[0m         \u001b[0;32mif\u001b[0m \u001b[0;32mnot\u001b[0m \u001b[0misinstance\u001b[0m\u001b[0;34m(\u001b[0m\u001b[0marg\u001b[0m\u001b[0;34m,\u001b[0m \u001b[0mPointer\u001b[0m\u001b[0;34m)\u001b[0m\u001b[0;34m:\u001b[0m\u001b[0;34m\u001b[0m\u001b[0;34m\u001b[0m\u001b[0m\n\u001b[0;32m--> 841\u001b[0;31m             \u001b[0marg_ptr\u001b[0m \u001b[0;34m=\u001b[0m \u001b[0marg\u001b[0m\u001b[0;34m.\u001b[0m\u001b[0msend\u001b[0m\u001b[0;34m(\u001b[0m\u001b[0mclient\u001b[0m\u001b[0;34m,\u001b[0m \u001b[0mpointable\u001b[0m\u001b[0;34m=\u001b[0m\u001b[0;32mFalse\u001b[0m\u001b[0;34m)\u001b[0m\u001b[0;34m\u001b[0m\u001b[0;34m\u001b[0m\u001b[0m\n\u001b[0m\u001b[1;32m    842\u001b[0m             \u001b[0mpointer_args\u001b[0m\u001b[0;34m.\u001b[0m\u001b[0mappend\u001b[0m\u001b[0;34m(\u001b[0m\u001b[0marg_ptr\u001b[0m\u001b[0;34m)\u001b[0m\u001b[0;34m\u001b[0m\u001b[0;34m\u001b[0m\u001b[0m\n\u001b[1;32m    843\u001b[0m         \u001b[0;32melse\u001b[0m\u001b[0;34m:\u001b[0m\u001b[0;34m\u001b[0m\u001b[0;34m\u001b[0m\u001b[0m\n",
            "\u001b[0;31mAttributeError\u001b[0m: 'ECG' object has no attribute 'send'"
          ]
        }
      ],
      "execution_count": 12,
      "metadata": {
        "jupyter": {
          "source_hidden": false,
          "outputs_hidden": false
        },
        "nteract": {
          "transient": {
            "deleting": false
          }
        }
      }
    },
    {
      "cell_type": "code",
      "source": [
        "batch_size = 1  # used for training\n",
        "xdl_ptr = remote_torch.utils.data.DataLoader(x_train_ptr, batch_size=batch_size)\n",
        "ydl_ptr = remote_torch.utils.data.DataLoader(y_train_ptr, batch_size=batch_size)\n",
        "xtdl_ptr = remote_torch.utils.data.DataLoader(x_test_ptr, batch_size=batch_size)\n",
        "ytdl_ptr = remote_torch.utils.data.DataLoader(y_test_ptr, batch_size=batch_size)"
      ],
      "outputs": [],
      "execution_count": 12,
      "metadata": {
        "gather": {
          "logged": 1631557802949
        }
      }
    },
    {
      "cell_type": "code",
      "source": [
        "xdl_ptr"
      ],
      "outputs": [
        {
          "output_type": "execute_result",
          "execution_count": 13,
          "data": {
            "text/plain": "<syft.proxy.torch.utils.data.DataLoaderPointer at 0x7f6f60bdf9a0>"
          },
          "metadata": {}
        }
      ],
      "execution_count": 13,
      "metadata": {
        "gather": {
          "logged": 1631557803269
        }
      }
    },
    {
      "cell_type": "code",
      "source": [
        "inputs_ptr = next(iter(xdl_ptr))"
      ],
      "outputs": [],
      "execution_count": 14,
      "metadata": {
        "jupyter": {
          "source_hidden": false,
          "outputs_hidden": false
        },
        "nteract": {
          "transient": {
            "deleting": false
          }
        },
        "gather": {
          "logged": 1631557803498
        }
      }
    },
    {
      "cell_type": "code",
      "source": [
        "ii = inputs_ptr.get_copy()"
      ],
      "outputs": [],
      "execution_count": 15,
      "metadata": {
        "jupyter": {
          "source_hidden": false,
          "outputs_hidden": false
        },
        "nteract": {
          "transient": {
            "deleting": false
          }
        },
        "gather": {
          "logged": 1631557803738
        }
      }
    },
    {
      "cell_type": "code",
      "source": [
        "i3 = next(iter(xdl_ptr))\n",
        "i3 = i3.get_copy()"
      ],
      "outputs": [],
      "execution_count": 16,
      "metadata": {
        "jupyter": {
          "source_hidden": false,
          "outputs_hidden": false
        },
        "nteract": {
          "transient": {
            "deleting": false
          }
        },
        "gather": {
          "logged": 1631557804101
        }
      }
    },
    {
      "cell_type": "markdown",
      "source": [
        "## Server: define the spit neural network used to train on the ECG dataset"
      ],
      "metadata": {}
    },
    {
      "cell_type": "markdown",
      "source": [
        "Client's side contains conv layers"
      ],
      "metadata": {
        "nteract": {
          "transient": {
            "deleting": false
          }
        }
      }
    },
    {
      "cell_type": "code",
      "source": [
        "class EcgClient(sy.Module):\n",
        "    # used by the data owners\n",
        "    def __init__(self, torch_ref):\n",
        "        super(EcgClient, self).__init__(torch_ref=torch_ref)\n",
        "        self.conv1 = self.torch_ref.nn.Conv1d(1, 16, 7, padding=3)  # 128 x 16\n",
        "        self.relu1 = self.torch_ref.nn.LeakyReLU()\n",
        "        self.pool1 = self.torch_ref.nn.MaxPool1d(2)  # 64 x 16\n",
        "        self.conv2 = self.torch_ref.nn.Conv1d(16, 16, 5, padding=2)  # 64 x 16\n",
        "        self.relu2 = self.torch_ref.nn.LeakyReLU()\n",
        "        self.pool2 = self.torch_ref.nn.MaxPool1d(2)  # 32 x 16\n",
        "    \n",
        "    def forward(self, x):\n",
        "        x = self.conv1(x)\n",
        "        x = self.relu1(x)\n",
        "        x = self.pool1(x)\n",
        "        x = self.conv2(x)\n",
        "        x = self.relu2(x)\n",
        "        x = self.pool2(x)\n",
        "        x = x.view(-1, 32 * 16)\n",
        "        return x"
      ],
      "outputs": [],
      "execution_count": 17,
      "metadata": {
        "gather": {
          "logged": 1631557804351
        }
      }
    },
    {
      "cell_type": "markdown",
      "source": [
        "Server's side contains fully connected layers"
      ],
      "metadata": {
        "nteract": {
          "transient": {
            "deleting": false
          }
        }
      }
    },
    {
      "cell_type": "code",
      "source": [
        "class EcgServer(sy.Module):\n",
        "    def __init__(self, torch_ref):\n",
        "        super(EcgServer, self).__init__(torch_ref=torch_ref)\n",
        "        self.linear3 = nn.Linear(32 * 16, 128)\n",
        "        self.relu3 = nn.LeakyReLU() \n",
        "        self.linear4 = nn.Linear(128, 5)\n",
        "        self.softmax4 = nn.Softmax(dim=1)\n",
        "        \n",
        "    def forward(self, x):\n",
        "        x = self.linear3(x)\n",
        "        x = self.relu3(x)\n",
        "        x = self.linear4(x)\n",
        "        x = self.softmax4(x)\n",
        "        return x"
      ],
      "outputs": [],
      "execution_count": 18,
      "metadata": {
        "gather": {
          "logged": 1631557804602
        }
      }
    },
    {
      "cell_type": "markdown",
      "source": [
        "## Server: training process"
      ],
      "metadata": {
        "nteract": {
          "transient": {
            "deleting": false
          }
        }
      }
    },
    {
      "cell_type": "code",
      "source": [
        "ecg_client = EcgClient(torch_ref=torch)\n",
        "checkpoint = torch.load(\"init_weight.pth\")\n",
        "ecg_client.conv1.weight.data = checkpoint[\"conv1.weight\"]\n",
        "ecg_client.conv1.bias.data = checkpoint[\"conv1.bias\"]\n",
        "ecg_client.conv2.weight.data = checkpoint[\"conv2.weight\"]\n",
        "ecg_client.conv2.bias.data = checkpoint[\"conv2.bias\"]\n",
        "\n",
        "ecg_server = EcgServer(torch_ref=torch)\n",
        "checkpoint = torch.load(\"init_weight.pth\")\n",
        "ecg_server.linear3.weight.data = checkpoint[\"linear3.weight\"]\n",
        "ecg_server.linear3.bias.data = checkpoint[\"linear3.bias\"]\n",
        "ecg_server.linear4.weight.data = checkpoint[\"linear4.weight\"]\n",
        "ecg_server.linear4.bias.data = checkpoint[\"linear4.bias\"]\n",
        "\n",
        "# Send the client's model to the client\n",
        "ecg_client_ptr = ecg_client.send(client)"
      ],
      "outputs": [],
      "execution_count": 19,
      "metadata": {
        "jupyter": {
          "source_hidden": false,
          "outputs_hidden": false
        },
        "nteract": {
          "transient": {
            "deleting": false
          }
        },
        "gather": {
          "logged": 1631557804835
        }
      }
    },
    {
      "cell_type": "code",
      "source": [
        "total_batch = 414  # 32*414=13248. We have 13245 data samples\n",
        "\n",
        "epoch = 400\n",
        "criterion = nn.CrossEntropyLoss()\n",
        "lr = 0.001\n",
        "\n",
        "optim_client = remote_torch.optim.Adam(params=ecg_client_ptr.parameters(), lr=lr)\n",
        "optim_server = torch.optim.Adam(params=ecg_server.parameters(), lr=lr)"
      ],
      "outputs": [],
      "execution_count": 20,
      "metadata": {
        "jupyter": {
          "source_hidden": false,
          "outputs_hidden": false
        },
        "nteract": {
          "transient": {
            "deleting": false
          }
        },
        "gather": {
          "logged": 1631557805079
        }
      }
    },
    {
      "cell_type": "markdown",
      "source": [
        "### Training (with CPU)"
      ],
      "metadata": {
        "nteract": {
          "transient": {
            "deleting": false
          }
        }
      }
    },
    {
      "cell_type": "code",
      "source": [
        "ecg_client = EcgClient(torch_ref=torch)\n",
        "checkpoint = torch.load(\"init_weight.pth\")\n",
        "ecg_client.conv1.weight.data = checkpoint[\"conv1.weight\"]\n",
        "ecg_client.conv1.bias.data = checkpoint[\"conv1.bias\"]\n",
        "ecg_client.conv2.weight.data = checkpoint[\"conv2.weight\"]\n",
        "ecg_client.conv2.bias.data = checkpoint[\"conv2.bias\"]\n",
        "\n",
        "ecg_server = EcgServer(torch_ref=torch)\n",
        "checkpoint = torch.load(\"init_weight.pth\")\n",
        "ecg_server.linear3.weight.data = checkpoint[\"linear3.weight\"]\n",
        "ecg_server.linear3.bias.data = checkpoint[\"linear3.bias\"]\n",
        "ecg_server.linear4.weight.data = checkpoint[\"linear4.weight\"]\n",
        "ecg_server.linear4.bias.data = checkpoint[\"linear4.bias\"]\n",
        "\n",
        "# Send the client's model to the client\n",
        "ecg_client_ptr = ecg_client.send(client)"
      ],
      "outputs": [],
      "execution_count": 21,
      "metadata": {
        "jupyter": {
          "source_hidden": false,
          "outputs_hidden": false
        },
        "nteract": {
          "transient": {
            "deleting": false
          }
        },
        "gather": {
          "logged": 1631557805555
        }
      }
    },
    {
      "cell_type": "code",
      "source": [
        "from tqdm import tqdm\n",
        "\n",
        "train_losses = list()\n",
        "train_accs = list()\n",
        "test_losses = list()\n",
        "test_accs = list()\n",
        "best_test_acc = 0  # best test accuracy\n",
        "for e in range(10):\n",
        "    print(f\"Epoch {e+1} - train \", end='')\n",
        "    \n",
        "    train_loss = 0.0\n",
        "    correct, total = 0, 0\n",
        "    for i in tqdm(range(10)):\n",
        "        # get the next batch's data\n",
        "        inputs_ptr = next(iter(xdl_ptr))\n",
        "        gt_ptr = next(iter(ydl_ptr))\n",
        "        print(gt_ptr.get_copy())\n",
        "        # inputs_ptr = to_cuda_client(client_bool_cuda, inputs_ptr)\n",
        "        # initialize all gradients to zero\n",
        "        optim_server.zero_grad()\n",
        "        optim_client.zero_grad()\n",
        "        # compute and get the activation signals from the first half of the network\n",
        "        activs_ptr = ecg_client_ptr(inputs_ptr)\n",
        "        # the server still gets access to plain activation signals\n",
        "        activs = activs_ptr.clone().get(request_block=True)\n",
        "        # print(activs)\n",
        "        # the server continues the forward pass on the activation maps\n",
        "        y_hat = ecg_server(activs)\n",
        "        # the server asks to access ground truths in plain text, then put on GPU\n",
        "        y_gt = gt_ptr.get_copy()\n",
        "        # calculates cross-entropy loss\n",
        "        loss = criterion(y_hat, y_gt)\n",
        "        train_loss += loss.item()\n",
        "        correct += torch.sum(y_hat.argmax(dim=1) == y_gt).item()\n",
        "        # backward propagation (calculating gradients of the loss w.r.t the weights)\n",
        "        loss.backward()\n",
        "        # send the gradients to the client\n",
        "        client_grad_ptr = activs.grad.clone().send(client)\n",
        "        # update the gradients of the client's model\n",
        "        activs_ptr.backward(client_grad_ptr)\n",
        "        # update the weights based on the gradients\n",
        "        optim_client.step()\n",
        "        optim_server.step()\n",
        "        total += len(y_gt)\n",
        "\n",
        "    train_losses.append(train_loss / total_batch)\n",
        "    train_accs.append(correct / total)\n",
        "\n",
        "    print(f'loss: {train_losses[-1]: .4f}, accuracy: {train_accs[-1]*100: 2f}')"
      ],
      "outputs": [
        {
          "output_type": "stream",
          "name": "stdout",
          "text": "Epoch 1 - train tensor([2])\ntensor([2])\ntensor([2])\ntensor([2])\ntensor([2])\ntensor([2])\ntensor([2])\ntensor([2])\ntensor([2])\ntensor([2])\nloss:  0.0390, accuracy:  0.000000\nEpoch 2 - train tensor([2])\ntensor([2])\ntensor([2])\ntensor([2])\ntensor([2])\ntensor([2])\ntensor([2])\ntensor([2])\ntensor([2])\ntensor([2])\nloss:  0.0390, accuracy:  0.000000\nEpoch 3 - train tensor([2])\ntensor([2])\ntensor([2])\ntensor([2])\ntensor([2])\ntensor([2])\ntensor([2])\ntensor([2])\ntensor([2])\ntensor([2])\nloss:  0.0390, accuracy:  0.000000\nEpoch 4 - train tensor([2])\ntensor([2])\ntensor([2])\ntensor([2])\ntensor([2])\ntensor([2])\ntensor([2])\ntensor([2])\ntensor([2])\ntensor([2])\nloss:  0.0390, accuracy:  0.000000\nEpoch 5 - train tensor([2])\ntensor([2])\ntensor([2])\ntensor([2])\ntensor([2])\ntensor([2])\ntensor([2])\n"
        },
        {
          "output_type": "stream",
          "name": "stderr",
          "text": "  0%|          | 0/10 [00:00<?, ?it/s]/anaconda/envs/SyftEnv2/lib/python3.9/site-packages/syft/lib/torch/uppercase_tensor.py:30: UserWarning: The .grad attribute of a Tensor that is not a leaf Tensor is being accessed. Its .grad attribute won't be populated during autograd.backward(). If you indeed want the gradient for a non-leaf Tensor, use .retain_grad() on the non-leaf Tensor. If you access the non-leaf Tensor by mistake, make sure you access the leaf Tensor instead. See github.com/pytorch/pytorch/pull/30531 for more informations.\n  grad = getattr(obj, \"grad\", None)\n100%|██████████| 10/10 [00:03<00:00,  2.72it/s]\n100%|██████████| 10/10 [00:03<00:00,  2.74it/s]\n100%|██████████| 10/10 [00:03<00:00,  2.73it/s]\n100%|██████████| 10/10 [00:03<00:00,  2.73it/s]\n 60%|██████    | 6/10 [00:02<00:01,  2.41it/s]\n"
        },
        {
          "output_type": "error",
          "ename": "KeyboardInterrupt",
          "evalue": "",
          "traceback": [
            "\u001b[0;31m---------------------------------------------------------------------------\u001b[0m",
            "\u001b[0;31mKeyboardInterrupt\u001b[0m                         Traceback (most recent call last)",
            "\u001b[0;32m<ipython-input-22-73c0f9510986>\u001b[0m in \u001b[0;36m<module>\u001b[0;34m\u001b[0m\n\u001b[1;32m     23\u001b[0m         \u001b[0mactivs_ptr\u001b[0m \u001b[0;34m=\u001b[0m \u001b[0mecg_client_ptr\u001b[0m\u001b[0;34m(\u001b[0m\u001b[0minputs_ptr\u001b[0m\u001b[0;34m)\u001b[0m\u001b[0;34m\u001b[0m\u001b[0;34m\u001b[0m\u001b[0m\n\u001b[1;32m     24\u001b[0m         \u001b[0;31m# the server still gets access to plain activation signals\u001b[0m\u001b[0;34m\u001b[0m\u001b[0;34m\u001b[0m\u001b[0;34m\u001b[0m\u001b[0m\n\u001b[0;32m---> 25\u001b[0;31m         \u001b[0mactivs\u001b[0m \u001b[0;34m=\u001b[0m \u001b[0mactivs_ptr\u001b[0m\u001b[0;34m.\u001b[0m\u001b[0mclone\u001b[0m\u001b[0;34m(\u001b[0m\u001b[0;34m)\u001b[0m\u001b[0;34m.\u001b[0m\u001b[0mget\u001b[0m\u001b[0;34m(\u001b[0m\u001b[0mrequest_block\u001b[0m\u001b[0;34m=\u001b[0m\u001b[0;32mTrue\u001b[0m\u001b[0;34m)\u001b[0m\u001b[0;34m\u001b[0m\u001b[0;34m\u001b[0m\u001b[0m\n\u001b[0m\u001b[1;32m     26\u001b[0m         \u001b[0;31m# print(activs)\u001b[0m\u001b[0;34m\u001b[0m\u001b[0;34m\u001b[0m\u001b[0;34m\u001b[0m\u001b[0m\n\u001b[1;32m     27\u001b[0m         \u001b[0;31m# the server continues the forward pass on the activation maps\u001b[0m\u001b[0;34m\u001b[0m\u001b[0;34m\u001b[0m\u001b[0;34m\u001b[0m\u001b[0m\n",
            "\u001b[0;32m/anaconda/envs/SyftEnv2/lib/python3.9/site-packages/syft/core/pointer/pointer.py\u001b[0m in \u001b[0;36mget\u001b[0;34m(self, request_block, timeout_secs, reason, delete_obj, verbose)\u001b[0m\n\u001b[1;32m    269\u001b[0m             \u001b[0mresult\u001b[0m \u001b[0;34m=\u001b[0m \u001b[0mself\u001b[0m\u001b[0;34m.\u001b[0m\u001b[0m_get\u001b[0m\u001b[0;34m(\u001b[0m\u001b[0mdelete_obj\u001b[0m\u001b[0;34m=\u001b[0m\u001b[0mdelete_obj\u001b[0m\u001b[0;34m,\u001b[0m \u001b[0mverbose\u001b[0m\u001b[0;34m=\u001b[0m\u001b[0mverbose\u001b[0m\u001b[0;34m)\u001b[0m\u001b[0;34m\u001b[0m\u001b[0;34m\u001b[0m\u001b[0m\n\u001b[1;32m    270\u001b[0m         \u001b[0;32melse\u001b[0m\u001b[0;34m:\u001b[0m\u001b[0;34m\u001b[0m\u001b[0;34m\u001b[0m\u001b[0m\n\u001b[0;32m--> 271\u001b[0;31m             response_status = self.request(\n\u001b[0m\u001b[1;32m    272\u001b[0m                 \u001b[0mreason\u001b[0m\u001b[0;34m=\u001b[0m\u001b[0mreason\u001b[0m\u001b[0;34m,\u001b[0m\u001b[0;34m\u001b[0m\u001b[0;34m\u001b[0m\u001b[0m\n\u001b[1;32m    273\u001b[0m                 \u001b[0mblock\u001b[0m\u001b[0;34m=\u001b[0m\u001b[0;32mTrue\u001b[0m\u001b[0;34m,\u001b[0m\u001b[0;34m\u001b[0m\u001b[0;34m\u001b[0m\u001b[0m\n",
            "\u001b[0;32m/anaconda/envs/SyftEnv2/lib/python3.9/site-packages/syft/core/pointer/pointer.py\u001b[0m in \u001b[0;36mrequest\u001b[0;34m(self, reason, block, timeout_secs, verbose)\u001b[0m\n\u001b[1;32m    427\u001b[0m \u001b[0;34m\u001b[0m\u001b[0m\n\u001b[1;32m    428\u001b[0m         \u001b[0;31m# wait long enough for it to arrive and trigger a handler\u001b[0m\u001b[0;34m\u001b[0m\u001b[0;34m\u001b[0m\u001b[0;34m\u001b[0m\u001b[0m\n\u001b[0;32m--> 429\u001b[0;31m         \u001b[0mtime\u001b[0m\u001b[0;34m.\u001b[0m\u001b[0msleep\u001b[0m\u001b[0;34m(\u001b[0m\u001b[0;36m0.1\u001b[0m\u001b[0;34m)\u001b[0m\u001b[0;34m\u001b[0m\u001b[0;34m\u001b[0m\u001b[0m\n\u001b[0m\u001b[1;32m    430\u001b[0m \u001b[0;34m\u001b[0m\u001b[0m\n\u001b[1;32m    431\u001b[0m         \u001b[0;32mif\u001b[0m \u001b[0;32mnot\u001b[0m \u001b[0mblock\u001b[0m\u001b[0;34m:\u001b[0m\u001b[0;34m\u001b[0m\u001b[0;34m\u001b[0m\u001b[0m\n",
            "\u001b[0;31mKeyboardInterrupt\u001b[0m: "
          ]
        }
      ],
      "execution_count": 22,
      "metadata": {
        "jupyter": {
          "source_hidden": false,
          "outputs_hidden": false
        },
        "nteract": {
          "transient": {
            "deleting": false
          }
        },
        "gather": {
          "logged": 1631557746815
        }
      }
    },
    {
      "cell_type": "code",
      "source": [],
      "outputs": [],
      "execution_count": null,
      "metadata": {
        "jupyter": {
          "source_hidden": false,
          "outputs_hidden": false
        },
        "nteract": {
          "transient": {
            "deleting": false
          }
        }
      }
    }
  ],
  "metadata": {
    "kernelspec": {
      "name": "syftenv",
      "language": "python",
      "display_name": "syft"
    },
    "kernel_info": {
      "name": "syftenv"
    },
    "nteract": {
      "version": "nteract-front-end@1.0.0"
    },
    "microsoft": {
      "host": {
        "AzureML": {
          "notebookHasBeenCompleted": true
        }
      }
    },
    "language_info": {
      "name": "python",
      "version": "3.9.6",
      "mimetype": "text/x-python",
      "codemirror_mode": {
        "name": "ipython",
        "version": 3
      },
      "pygments_lexer": "ipython3",
      "nbconvert_exporter": "python",
      "file_extension": ".py"
    },
    "interpreter": {
      "hash": "870a257bdc5888c6c86cab99e489c6f2724cdfe1684d5990b9d7489b2d46bf07"
    }
  },
  "nbformat": 4,
  "nbformat_minor": 2
}