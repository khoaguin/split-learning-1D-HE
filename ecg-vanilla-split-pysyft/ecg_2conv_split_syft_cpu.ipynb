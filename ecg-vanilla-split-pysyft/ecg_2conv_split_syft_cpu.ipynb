{
  "cells": [
    {
      "cell_type": "code",
      "source": [
        "from pathlib import Path\n",
        "import h5py\n",
        "import numpy as np\n",
        "import matplotlib.pyplot as plt\n",
        "from icecream import ic\n",
        "\n",
        "import torch\n",
        "import torch.nn as nn\n",
        "from torch.utils.data import Dataset, DataLoader\n",
        "from torch.optim import Adam, SGD\n",
        "\n",
        "import syft as sy\n",
        "from syft.core.node.vm.vm import VirtualMachine\n",
        "from syft.core.node.vm.client import VirtualMachineClient\n",
        "from syft.ast.module import Module\n",
        "from syft.core.remote_dataloader import RemoteDataLoader\n",
        "from syft.core.remote_dataloader import RemoteDataset\n",
        "\n",
        "print(f'torch version: {torch.__version__}')\n",
        "print(f'syft version: {sy.__version__}')\n"
      ],
      "outputs": [
        {
          "output_type": "stream",
          "name": "stdout",
          "text": "torch version: 1.8.1+cu102\nsyft version: 0.5.0\n"
        }
      ],
      "execution_count": 1,
      "metadata": {
        "gather": {
          "logged": 1631694040984
        }
      }
    },
    {
      "cell_type": "markdown",
      "source": [
        "## Files and Directories"
      ],
      "metadata": {}
    },
    {
      "cell_type": "code",
      "source": [
        "# paths to files and directories\n",
        "project_path = Path.cwd().parent\n",
        "print(f'project_path: {project_path}')\n",
        "data_dir = 'mitdb'\n",
        "train_name = 'train_ecg.hdf5'\n",
        "test_name = 'test_ecg.hdf5'\n",
        "all_name = 'all_ecg.hdf5'\n",
        "model_dir = 'model'\n",
        "model_name = 'conv2'\n",
        "model_ext = '.pth'\n",
        "csv_dir = 'csv'\n",
        "csv_ext = '.csv'\n",
        "csv_name = 'conv2'\n",
        "csv_accs_name = 'accs_conv2'"
      ],
      "outputs": [
        {
          "output_type": "stream",
          "name": "stdout",
          "text": "project_path: /mnt/batch/tasks/shared/LS_root/mounts/clusters/teslak80-56gbram/code/Users/dkn.work/split-learning-he\n"
        }
      ],
      "execution_count": 2,
      "metadata": {
        "jupyter": {
          "source_hidden": false,
          "outputs_hidden": false
        },
        "nteract": {
          "transient": {
            "deleting": false
          }
        },
        "gather": {
          "logged": 1631694041466
        }
      }
    },
    {
      "cell_type": "markdown",
      "source": [
        "## Construct the client and server"
      ],
      "metadata": {}
    },
    {
      "cell_type": "code",
      "source": [
        "server: VirtualMachine = sy.VirtualMachine(name=\"server\")\n",
        "client: VirtualMachineClient = server.get_root_client()"
      ],
      "outputs": [],
      "execution_count": 3,
      "metadata": {
        "jupyter": {
          "source_hidden": false,
          "outputs_hidden": false
        },
        "nteract": {
          "transient": {
            "deleting": false
          }
        },
        "gather": {
          "logged": 1631694041835
        }
      }
    },
    {
      "cell_type": "code",
      "source": [
        "remote_torch: Module = client.torch\n",
        "remote_torch"
      ],
      "outputs": [
        {
          "output_type": "execute_result",
          "execution_count": 4,
          "data": {
            "text/plain": "Module:\n\t.Tensor -> <syft.ast.klass.Class object at 0x7f014a7605e0>\n\t.BFloat16Tensor -> <syft.ast.klass.Class object at 0x7f014a760640>\n\t.BoolTensor -> <syft.ast.klass.Class object at 0x7f014a7606a0>\n\t.ByteTensor -> <syft.ast.klass.Class object at 0x7f014a760700>\n\t.CharTensor -> <syft.ast.klass.Class object at 0x7f014a760760>\n\t.DoubleTensor -> <syft.ast.klass.Class object at 0x7f014a7607c0>\n\t.FloatTensor -> <syft.ast.klass.Class object at 0x7f014a760820>\n\t.HalfTensor -> <syft.ast.klass.Class object at 0x7f014a760880>\n\t.IntTensor -> <syft.ast.klass.Class object at 0x7f014a7608e0>\n\t.LongTensor -> <syft.ast.klass.Class object at 0x7f014a760940>\n\t.ShortTensor -> <syft.ast.klass.Class object at 0x7f014a7609a0>\n\t.nn -> Module:\n\t\t.Parameter -> <syft.ast.klass.Class object at 0x7f014a760ac0>\n\t\t.Module -> <syft.ast.klass.Class object at 0x7f014a62df40>\n\t\t.Conv2d -> <syft.ast.klass.Class object at 0x7f014a634460>\n\t\t.Dropout2d -> <syft.ast.klass.Class object at 0x7f014a634880>\n\t\t.Linear -> <syft.ast.klass.Class object at 0x7f014a634be0>\n\t\t.functional -> Module:\n\t\t\t.relu -> <syft.ast.callable.Callable object at 0x7f014a637520>\n\t\t\t.gelu -> <syft.ast.callable.Callable object at 0x7f014a637580>\n\t\t\t.max_pool2d -> <syft.ast.callable.Callable object at 0x7f014a6375e0>\n\t\t\t.log_softmax -> <syft.ast.callable.Callable object at 0x7f014a637640>\n\t\t\t.cosine_embedding_loss -> <syft.ast.callable.Callable object at 0x7f014a642400>\n\t\t\t.ctc_loss -> <syft.ast.callable.Callable object at 0x7f014a642460>\n\t\t\t.hinge_embedding_loss -> <syft.ast.callable.Callable object at 0x7f014a642520>\n\t\t\t.l1_loss -> <syft.ast.callable.Callable object at 0x7f014a642580>\n\t\t\t.margin_ranking_loss -> <syft.ast.callable.Callable object at 0x7f014a642640>\n\t\t\t.mse_loss -> <syft.ast.callable.Callable object at 0x7f014a6426a0>\n\t\t\t.multi_margin_loss -> <syft.ast.callable.Callable object at 0x7f014a642760>\n\t\t\t.multilabel_margin_loss -> <syft.ast.callable.Callable object at 0x7f014a642820>\n\t\t\t.multilabel_soft_margin_loss -> <syft.ast.callable.Callable object at 0x7f014a6428e0>\n\t\t\t.nll_loss -> <syft.ast.callable.Callable object at 0x7f014a642940>\n\t\t\t.cross_entropy -> <syft.ast.callable.Callable object at 0x7f014a642a00>\n\t\t\t.poisson_nll_loss -> <syft.ast.callable.Callable object at 0x7f014a642ac0>\n\t\t\t.smooth_l1_loss -> <syft.ast.callable.Callable object at 0x7f014a642b80>\n\t\t\t.soft_margin_loss -> <syft.ast.callable.Callable object at 0x7f014a642c40>\n\t\t\t.triplet_margin_loss -> <syft.ast.callable.Callable object at 0x7f014a642d00>\n\n\t\t.Sequential -> <syft.ast.klass.Class object at 0x7f014a642040>\n\t\t.AdaptiveLogSoftmaxWithLoss -> <syft.ast.klass.Class object at 0x7f014a642dc0>\n\t\t.BCELoss -> <syft.ast.klass.Class object at 0x7f014a642f40>\n\t\t.BCEWithLogitsLoss -> <syft.ast.klass.Class object at 0x7f014a644040>\n\t\t.CTCLoss -> <syft.ast.klass.Class object at 0x7f014a644160>\n\t\t.CrossEntropyLoss -> <syft.ast.klass.Class object at 0x7f014a644220>\n\t\t.CosineEmbeddingLoss -> <syft.ast.klass.Class object at 0x7f014a644340>\n\t\t.HingeEmbeddingLoss -> <syft.ast.klass.Class object at 0x7f014a644460>\n\t\t.KLDivLoss -> <syft.ast.klass.Class object at 0x7f014a644580>\n\t\t.L1Loss -> <syft.ast.klass.Class object at 0x7f014a644640>\n\t\t.MSELoss -> <syft.ast.klass.Class object at 0x7f014a644700>\n\t\t.MarginRankingLoss -> <syft.ast.klass.Class object at 0x7f014a6447c0>\n\t\t.MultiLabelMarginLoss -> <syft.ast.klass.Class object at 0x7f014a6448e0>\n\t\t.MultiLabelSoftMarginLoss -> <syft.ast.klass.Class object at 0x7f014a644a60>\n\t\t.MultiMarginLoss -> <syft.ast.klass.Class object at 0x7f014a644b80>\n\t\t.NLLLoss -> <syft.ast.klass.Class object at 0x7f014a644ca0>\n\t\t.NLLLoss2d -> <syft.ast.klass.Class object at 0x7f014a644d60>\n\t\t.PoissonNLLLoss -> <syft.ast.klass.Class object at 0x7f014a644e20>\n\t\t.SmoothL1Loss -> <syft.ast.klass.Class object at 0x7f014a644f40>\n\t\t.SoftMarginLoss -> <syft.ast.klass.Class object at 0x7f014a649040>\n\t\t.TripletMarginLoss -> <syft.ast.klass.Class object at 0x7f014a649160>\n\t\t.AdaptiveAvgPool1d -> <syft.ast.klass.Class object at 0x7f014a649280>\n\t\t.AdaptiveAvgPool2d -> <syft.ast.klass.Class object at 0x7f014a6498e0>\n\t\t.AdaptiveAvgPool3d -> <syft.ast.klass.Class object at 0x7f014a649f40>\n\t\t.AdaptiveMaxPool1d -> <syft.ast.klass.Class object at 0x7f014a64e5e0>\n\t\t.AdaptiveMaxPool2d -> <syft.ast.klass.Class object at 0x7f014a64ec40>\n\t\t.AdaptiveMaxPool3d -> <syft.ast.klass.Class object at 0x7f014a6502e0>\n\t\t.AlphaDropout -> <syft.ast.klass.Class object at 0x7f014a650940>\n\t\t.AvgPool1d -> <syft.ast.klass.Class object at 0x7f014a650ee0>\n\t\t.AvgPool2d -> <syft.ast.klass.Class object at 0x7f014a6543a0>\n\t\t.AvgPool3d -> <syft.ast.klass.Class object at 0x7f014a654820>\n\t\t.BatchNorm1d -> <syft.ast.klass.Class object at 0x7f014a654ca0>\n\t\t.BatchNorm2d -> <syft.ast.klass.Class object at 0x7f014a657160>\n\t\t.BatchNorm3d -> <syft.ast.klass.Class object at 0x7f014a6575e0>\n\t\t.Bilinear -> <syft.ast.klass.Class object at 0x7f014a657a60>\n\t\t.CELU -> <syft.ast.klass.Class object at 0x7f014a657ee0>\n\t\t.ConstantPad1d -> <syft.ast.klass.Class object at 0x7f014a65c340>\n\t\t.ConstantPad2d -> <syft.ast.klass.Class object at 0x7f014a65c8e0>\n\t\t.ConstantPad3d -> <syft.ast.klass.Class object at 0x7f014a65ce80>\n\t\t.Container -> <syft.ast.klass.Class object at 0x7f014a65e460>\n\t\t.Conv1d -> <syft.ast.klass.Class object at 0x7f014a65e8e0>\n\t\t.Conv3d -> <syft.ast.klass.Class object at 0x7f014a65ed00>\n\t\t.ConvTranspose1d -> <syft.ast.klass.Class object at 0x7f014a664160>\n\t\t.ConvTranspose2d -> <syft.ast.klass.Class object at 0x7f014a664760>\n\t\t.ConvTranspose3d -> <syft.ast.klass.Class object at 0x7f014a664d60>\n\t\t.CosineSimilarity -> <syft.ast.klass.Class object at 0x7f014a5e73a0>\n\t\t.CrossMapLRN2d -> <syft.ast.klass.Class object at 0x7f014a5e79a0>\n\t\t.DataParallel -> <syft.ast.klass.Class object at 0x7f014a5e7f40>\n\t\t.Dropout -> <syft.ast.klass.Class object at 0x7f014a5ea520>\n\t\t.Dropout3d -> <syft.ast.klass.Class object at 0x7f014a5eaac0>\n\t\t.ELU -> <syft.ast.klass.Class object at 0x7f014a5eaf40>\n\t\t.Embedding -> <syft.ast.klass.Class object at 0x7f014a5ed340>\n\t\t.EmbeddingBag -> <syft.ast.klass.Class object at 0x7f014a5ed7c0>\n\t\t.FeatureAlphaDropout -> <syft.ast.klass.Class object at 0x7f014a5edd60>\n\t\t.Flatten -> <syft.ast.klass.Class object at 0x7f014a5f34c0>\n\t\t.Fold -> <syft.ast.klass.Class object at 0x7f014a5f3940>\n\t\t.FractionalMaxPool2d -> <syft.ast.klass.Class object at 0x7f014a5f3d60>\n\t\t.FractionalMaxPool3d -> <syft.ast.klass.Class object at 0x7f014a5f54c0>\n\t\t.GELU -> <syft.ast.klass.Class object at 0x7f014a5f5be0>\n\t\t.GLU -> <syft.ast.klass.Class object at 0x7f014a5f7040>\n\t\t.GRU -> <syft.ast.klass.Class object at 0x7f014a5f7400>\n\t\t.GRUCell -> <syft.ast.klass.Class object at 0x7f014a5f77c0>\n\t\t.GroupNorm -> <syft.ast.klass.Class object at 0x7f014a5f7c40>\n\t\t.Hardshrink -> <syft.ast.klass.Class object at 0x7f014a5fc100>\n\t\t.Hardsigmoid -> <syft.ast.klass.Class object at 0x7f014a5fc580>\n\t\t.Hardswish -> <syft.ast.klass.Class object at 0x7f014a5fc940>\n\t\t.Hardtanh -> <syft.ast.klass.Class object at 0x7f014a5fcd00>\n\t\t.Identity -> <syft.ast.klass.Class object at 0x7f014a6021c0>\n\t\t.InstanceNorm1d -> <syft.ast.klass.Class object at 0x7f014a602640>\n\t\t.InstanceNorm2d -> <syft.ast.klass.Class object at 0x7f014a602c40>\n\t\t.InstanceNorm3d -> <syft.ast.klass.Class object at 0x7f014a606280>\n\t\t.LPPool1d -> <syft.ast.klass.Class object at 0x7f014a606880>\n\t\t.LPPool2d -> <syft.ast.klass.Class object at 0x7f014a606d00>\n\t\t.LSTM -> <syft.ast.klass.Class object at 0x7f014a6091c0>\n\t\t.LSTMCell -> <syft.ast.klass.Class object at 0x7f014a6095e0>\n\t\t.LayerNorm -> <syft.ast.klass.Class object at 0x7f014a609a60>\n\t\t.LeakyReLU -> <syft.ast.klass.Class object at 0x7f014a609ee0>\n\t\t.LocalResponseNorm -> <syft.ast.klass.Class object at 0x7f014a60c3a0>\n\t\t.LogSigmoid -> <syft.ast.klass.Class object at 0x7f014a60ca00>\n\t\t.LogSoftmax -> <syft.ast.klass.Class object at 0x7f014a60ce80>\n\t\t.MaxPool1d -> <syft.ast.klass.Class object at 0x7f014a611340>\n\t\t.MaxPool2d -> <syft.ast.klass.Class object at 0x7f014a6117c0>\n\t\t.MaxPool3d -> <syft.ast.klass.Class object at 0x7f014a611c40>\n\t\t.MaxUnpool1d -> <syft.ast.klass.Class object at 0x7f014a615100>\n\t\t.MaxUnpool2d -> <syft.ast.klass.Class object at 0x7f014a615580>\n\t\t.MaxUnpool3d -> <syft.ast.klass.Class object at 0x7f014a615a00>\n\t\t.ModuleDict -> <syft.ast.klass.Class object at 0x7f014a615e80>\n\t\t.ModuleList -> <syft.ast.klass.Class object at 0x7f014a618340>\n\t\t.MultiheadAttention -> <syft.ast.klass.Class object at 0x7f014a618880>\n\t\t.PReLU -> <syft.ast.klass.Class object at 0x7f014a618f40>\n\t\t.PairwiseDistance -> <syft.ast.klass.Class object at 0x7f014a61d3a0>\n\t\t.PixelShuffle -> <syft.ast.klass.Class object at 0x7f014a61d9a0>\n\t\t.RNN -> <syft.ast.klass.Class object at 0x7f014a61df40>\n\t\t.RNNBase -> <syft.ast.klass.Class object at 0x7f014a61f340>\n\t\t.RNNCell -> <syft.ast.klass.Class object at 0x7f014a61f7c0>\n\t\t.RNNCellBase -> <syft.ast.klass.Class object at 0x7f014a61fc40>\n\t\t.RReLU -> <syft.ast.klass.Class object at 0x7f014a624100>\n\t\t.ReLU -> <syft.ast.klass.Class object at 0x7f014a624520>\n\t\t.ReLU6 -> <syft.ast.klass.Class object at 0x7f014a624940>\n\t\t.ReflectionPad1d -> <syft.ast.klass.Class object at 0x7f014a624d60>\n\t\t.ReflectionPad2d -> <syft.ast.klass.Class object at 0x7f014a5a93a0>\n\t\t.ReplicationPad1d -> <syft.ast.klass.Class object at 0x7f014a5a99a0>\n\t\t.ReplicationPad2d -> <syft.ast.klass.Class object at 0x7f014a5a9fa0>\n\t\t.ReplicationPad3d -> <syft.ast.klass.Class object at 0x7f014a5ab5e0>\n\t\t.SELU -> <syft.ast.klass.Class object at 0x7f014a5abbe0>\n\t\t.Sigmoid -> <syft.ast.klass.Class object at 0x7f014a5ae1c0>\n\t\t.Softmax -> <syft.ast.klass.Class object at 0x7f014a5ae640>\n\t\t.Softmax2d -> <syft.ast.klass.Class object at 0x7f014a5aeac0>\n\t\t.Softmin -> <syft.ast.klass.Class object at 0x7f014a5aef40>\n\t\t.Softplus -> <syft.ast.klass.Class object at 0x7f014a5b3400>\n\t\t.Softshrink -> <syft.ast.klass.Class object at 0x7f014a5b3880>\n\t\t.Softsign -> <syft.ast.klass.Class object at 0x7f014a5b3d00>\n\t\t.SyncBatchNorm -> <syft.ast.klass.Class object at 0x7f014a5b71c0>\n\t\t.Tanh -> <syft.ast.klass.Class object at 0x7f014a5b7760>\n\t\t.Tanhshrink -> <syft.ast.klass.Class object at 0x7f014a5b7b80>\n\t\t.Threshold -> <syft.ast.klass.Class object at 0x7f014a5ba040>\n\t\t.Transformer -> <syft.ast.klass.Class object at 0x7f014a5ba4c0>\n\t\t.TransformerDecoder -> <syft.ast.klass.Class object at 0x7f014a5ba940>\n\t\t.TransformerDecoderLayer -> <syft.ast.klass.Class object at 0x7f014a5bf0a0>\n\t\t.TransformerEncoder -> <syft.ast.klass.Class object at 0x7f014a5bf700>\n\t\t.TransformerEncoderLayer -> <syft.ast.klass.Class object at 0x7f014a5bfe20>\n\t\t.Unfold -> <syft.ast.klass.Class object at 0x7f014a5c24c0>\n\t\t.Upsample -> <syft.ast.klass.Class object at 0x7f014a5c28e0>\n\t\t.UpsamplingBilinear2d -> <syft.ast.klass.Class object at 0x7f014a5c2d60>\n\t\t.UpsamplingNearest2d -> <syft.ast.klass.Class object at 0x7f014a5c5460>\n\t\t.ZeroPad2d -> <syft.ast.klass.Class object at 0x7f014a5c5b80>\n\n\t.return_types -> Module:\n\t\t.cummax -> <syft.ast.klass.Class object at 0x7f014a6b1820>\n\t\t.cummin -> <syft.ast.klass.Class object at 0x7f014a6b1880>\n\t\t.eig -> <syft.ast.klass.Class object at 0x7f014a6b18e0>\n\t\t.kthvalue -> <syft.ast.klass.Class object at 0x7f014a6b1940>\n\t\t.lstsq -> <syft.ast.klass.Class object at 0x7f014a6b19a0>\n\t\t.slogdet -> <syft.ast.klass.Class object at 0x7f014a6b1a00>\n\t\t.qr -> <syft.ast.klass.Class object at 0x7f014a6b1a60>\n\t\t.mode -> <syft.ast.klass.Class object at 0x7f014a6b1ac0>\n\t\t.solve -> <syft.ast.klass.Class object at 0x7f014a6b1b20>\n\t\t.sort -> <syft.ast.klass.Class object at 0x7f014a6b1b80>\n\t\t.symeig -> <syft.ast.klass.Class object at 0x7f014a6b1be0>\n\t\t.topk -> <syft.ast.klass.Class object at 0x7f014a6b1c40>\n\t\t.triangular_solve -> <syft.ast.klass.Class object at 0x7f014a6b1d00>\n\t\t.svd -> <syft.ast.klass.Class object at 0x7f014a6b1d60>\n\t\t.geqrf -> <syft.ast.klass.Class object at 0x7f014a6b1dc0>\n\t\t.median -> <syft.ast.klass.Class object at 0x7f014a6b1e20>\n\t\t.max -> <syft.ast.klass.Class object at 0x7f014a6b1e80>\n\t\t.min -> <syft.ast.klass.Class object at 0x7f014a6b1ee0>\n\n\t.Size -> <syft.ast.klass.Class object at 0x7f014a690040>\n\t.set_grad_enabled -> <syft.ast.klass.Class object at 0x7f014a690340>\n\t.zeros -> <syft.ast.callable.Callable object at 0x7f014a6903a0>\n\t.randn -> <syft.ast.callable.Callable object at 0x7f014a690400>\n\t.ones_like -> <syft.ast.callable.Callable object at 0x7f014a690460>\n\t.arange -> <syft.ast.callable.Callable object at 0x7f014a690580>\n\t.abs_ -> <syft.ast.callable.Callable object at 0x7f014a6905e0>\n\t.abs -> <syft.ast.callable.Callable object at 0x7f014a690640>\n\t.acos_ -> <syft.ast.callable.Callable object at 0x7f014a6906a0>\n\t.acos -> <syft.ast.callable.Callable object at 0x7f014a690700>\n\t.add -> <syft.ast.callable.Callable object at 0x7f014a690760>\n\t.addbmm -> <syft.ast.callable.Callable object at 0x7f014a6907c0>\n\t.addcdiv -> <syft.ast.callable.Callable object at 0x7f014a690820>\n\t.addcmul -> <syft.ast.callable.Callable object at 0x7f014a690880>\n\t.addmm -> <syft.ast.callable.Callable object at 0x7f014a6908e0>\n\t.addmv_ -> <syft.ast.callable.Callable object at 0x7f014a690940>\n\t.addmv -> <syft.ast.callable.Callable object at 0x7f014a6909a0>\n\t.addr -> <syft.ast.callable.Callable object at 0x7f014a690a00>\n\t.all -> <syft.ast.callable.Callable object at 0x7f014a690a60>\n\t.allclose -> <syft.ast.callable.Callable object at 0x7f014a690ac0>\n\t.angle -> <syft.ast.callable.Callable object at 0x7f014a690b20>\n\t.any -> <syft.ast.callable.Callable object at 0x7f014a690b80>\n\t.argmax -> <syft.ast.callable.Callable object at 0x7f014a690be0>\n\t.argmin -> <syft.ast.callable.Callable object at 0x7f014a690c40>\n\t.argsort -> <syft.ast.callable.Callable object at 0x7f014a690ca0>\n\t.as_strided_ -> <syft.ast.callable.Callable object at 0x7f014a690d00>\n\t.as_strided -> <syft.ast.callable.Callable object at 0x7f014a690d60>\n\t.asin_ -> <syft.ast.callable.Callable object at 0x7f014a690dc0>\n\t.asin -> <syft.ast.callable.Callable object at 0x7f014a690e20>\n\t.atan_ -> <syft.ast.callable.Callable object at 0x7f014a690e80>\n\t.atan -> <syft.ast.callable.Callable object at 0x7f014a690ee0>\n\t.atan2 -> <syft.ast.callable.Callable object at 0x7f014a690f40>\n\t.baddbmm -> <syft.ast.callable.Callable object at 0x7f014a690fa0>\n\t.bernoulli -> <syft.ast.callable.Callable object at 0x7f014a693040>\n\t.bitwise_and -> <syft.ast.callable.Callable object at 0x7f014a6930a0>\n\t.bitwise_not -> <syft.ast.callable.Callable object at 0x7f014a693100>\n\t.bitwise_or -> <syft.ast.callable.Callable object at 0x7f014a693160>\n\t.bitwise_xor -> <syft.ast.callable.Callable object at 0x7f014a6931c0>\n\t.bmm -> <syft.ast.callable.Callable object at 0x7f014a693220>\n\t.cat -> <syft.ast.callable.Callable object at 0x7f014a693280>\n\t.ceil_ -> <syft.ast.callable.Callable object at 0x7f014a6932e0>\n\t.ceil -> <syft.ast.callable.Callable object at 0x7f014a693340>\n\t.cholesky_inverse -> <syft.ast.callable.Callable object at 0x7f014a6933a0>\n\t.cholesky_solve -> <syft.ast.callable.Callable object at 0x7f014a693400>\n\t.cholesky -> <syft.ast.callable.Callable object at 0x7f014a693460>\n\t.chunk -> <syft.ast.callable.Callable object at 0x7f014a6934c0>\n\t.clamp_ -> <syft.ast.callable.Callable object at 0x7f014a693520>\n\t.clamp_max_ -> <syft.ast.callable.Callable object at 0x7f014a693580>\n\t.clamp_max -> <syft.ast.callable.Callable object at 0x7f014a6935e0>\n\t.clamp_min_ -> <syft.ast.callable.Callable object at 0x7f014a693640>\n\t.clamp_min -> <syft.ast.callable.Callable object at 0x7f014a6936a0>\n\t.clamp -> <syft.ast.callable.Callable object at 0x7f014a693700>\n\t.clone -> <syft.ast.callable.Callable object at 0x7f014a693760>\n\t.conj -> <syft.ast.callable.Callable object at 0x7f014a6937c0>\n\t.cos_ -> <syft.ast.callable.Callable object at 0x7f014a693820>\n\t.cos -> <syft.ast.callable.Callable object at 0x7f014a693880>\n\t.cosh_ -> <syft.ast.callable.Callable object at 0x7f014a6938e0>\n\t.cosh -> <syft.ast.callable.Callable object at 0x7f014a693940>\n\t.cross -> <syft.ast.callable.Callable object at 0x7f014a6939a0>\n\t.cummax -> <syft.ast.callable.Callable object at 0x7f014a693a00>\n\t.cummin -> <syft.ast.callable.Callable object at 0x7f014a693a60>\n\t.cumprod -> <syft.ast.callable.Callable object at 0x7f014a693ac0>\n\t.cumsum -> <syft.ast.callable.Callable object at 0x7f014a693b20>\n\t.dequantize -> <syft.ast.callable.Callable object at 0x7f014a693b80>\n\t.det -> <syft.ast.callable.Callable object at 0x7f014a693be0>\n\t.detach -> <syft.ast.callable.Callable object at 0x7f014a693c40>\n\t.diag_embed -> <syft.ast.callable.Callable object at 0x7f014a693ca0>\n\t.diag -> <syft.ast.callable.Callable object at 0x7f014a693d00>\n\t.diagflat -> <syft.ast.callable.Callable object at 0x7f014a693d60>\n\t.diagonal -> <syft.ast.callable.Callable object at 0x7f014a693dc0>\n\t.digamma -> <syft.ast.callable.Callable object at 0x7f014a693e20>\n\t.dist -> <syft.ast.callable.Callable object at 0x7f014a693e80>\n\t.div -> <syft.ast.callable.Callable object at 0x7f014a693ee0>\n\t.dot -> <syft.ast.callable.Callable object at 0x7f014a693f40>\n\t.eig -> <syft.ast.callable.Callable object at 0x7f014a693fa0>\n\t.eq -> <syft.ast.callable.Callable object at 0x7f014a698040>\n\t.equal -> <syft.ast.callable.Callable object at 0x7f014a6980a0>\n\t.erf_ -> <syft.ast.callable.Callable object at 0x7f014a698100>\n\t.erf -> <syft.ast.callable.Callable object at 0x7f014a698160>\n\t.erfc_ -> <syft.ast.callable.Callable object at 0x7f014a6981c0>\n\t.erfc -> <syft.ast.callable.Callable object at 0x7f014a698220>\n\t.erfinv -> <syft.ast.callable.Callable object at 0x7f014a698280>\n\t.exp_ -> <syft.ast.callable.Callable object at 0x7f014a6982e0>\n\t.exp -> <syft.ast.callable.Callable object at 0x7f014a698340>\n\t.expm1_ -> <syft.ast.callable.Callable object at 0x7f014a6983a0>\n\t.expm1 -> <syft.ast.callable.Callable object at 0x7f014a698400>\n\t.fft -> Module:\n\n\t.fill_ -> <syft.ast.callable.Callable object at 0x7f014a6984c0>\n\t.flatten -> <syft.ast.callable.Callable object at 0x7f014a698520>\n\t.flip -> <syft.ast.callable.Callable object at 0x7f014a698580>\n\t.floor_ -> <syft.ast.callable.Callable object at 0x7f014a6985e0>\n\t.floor_divide -> <syft.ast.callable.Callable object at 0x7f014a698640>\n\t.floor -> <syft.ast.callable.Callable object at 0x7f014a6986a0>\n\t.fmod -> <syft.ast.callable.Callable object at 0x7f014a698700>\n\t.frac_ -> <syft.ast.callable.Callable object at 0x7f014a698760>\n\t.frac -> <syft.ast.callable.Callable object at 0x7f014a6987c0>\n\t.from_numpy -> <syft.ast.callable.Callable object at 0x7f014a698820>\n\t.gather -> <syft.ast.callable.Callable object at 0x7f014a698880>\n\t.ge -> <syft.ast.callable.Callable object at 0x7f014a6988e0>\n\t.geqrf -> <syft.ast.callable.Callable object at 0x7f014a698940>\n\t.ger -> <syft.ast.callable.Callable object at 0x7f014a6989a0>\n\t.get_device -> <syft.ast.callable.Callable object at 0x7f014a698a00>\n\t.gt -> <syft.ast.callable.Callable object at 0x7f014a698a60>\n\t.hardshrink -> <syft.ast.callable.Callable object at 0x7f014a698ac0>\n\t.histc -> <syft.ast.callable.Callable object at 0x7f014a698b20>\n\t.index_add -> <syft.ast.callable.Callable object at 0x7f014a698b80>\n\t.index_copy -> <syft.ast.callable.Callable object at 0x7f014a698be0>\n\t.index_fill -> <syft.ast.callable.Callable object at 0x7f014a698c40>\n\t.index_put_ -> <syft.ast.callable.Callable object at 0x7f014a698ca0>\n\t.index_put -> <syft.ast.callable.Callable object at 0x7f014a698d00>\n\t.index_select -> <syft.ast.callable.Callable object at 0x7f014a698d60>\n\t.int_repr -> <syft.ast.callable.Callable object at 0x7f014a698dc0>\n\t.inverse -> <syft.ast.callable.Callable object at 0x7f014a698e20>\n\t.is_complex -> <syft.ast.callable.Callable object at 0x7f014a698e80>\n\t.is_distributed -> <syft.ast.callable.Callable object at 0x7f014a698ee0>\n\t.is_floating_point -> <syft.ast.callable.Callable object at 0x7f014a698f40>\n\t.is_nonzero -> <syft.ast.callable.Callable object at 0x7f014a698fa0>\n\t.is_same_size -> <syft.ast.callable.Callable object at 0x7f014a69c040>\n\t.is_signed -> <syft.ast.callable.Callable object at 0x7f014a69c0a0>\n\t.isclose -> <syft.ast.callable.Callable object at 0x7f014a69c100>\n\t.kthvalue -> <syft.ast.callable.Callable object at 0x7f014a69c160>\n\t.le -> <syft.ast.callable.Callable object at 0x7f014a69c1c0>\n\t.lerp -> <syft.ast.callable.Callable object at 0x7f014a69c220>\n\t.lgamma -> <syft.ast.callable.Callable object at 0x7f014a69c280>\n\t.log_ -> <syft.ast.callable.Callable object at 0x7f014a69c2e0>\n\t.log_softmax -> <syft.ast.callable.Callable object at 0x7f014a69c340>\n\t.log -> <syft.ast.callable.Callable object at 0x7f014a69c3a0>\n\t.log10_ -> <syft.ast.callable.Callable object at 0x7f014a69c400>\n\t.log10 -> <syft.ast.callable.Callable object at 0x7f014a69c460>\n\t.log1p_ -> <syft.ast.callable.Callable object at 0x7f014a69c4c0>\n\t.log1p -> <syft.ast.callable.Callable object at 0x7f014a69c520>\n\t.log2_ -> <syft.ast.callable.Callable object at 0x7f014a69c580>\n\t.log2 -> <syft.ast.callable.Callable object at 0x7f014a69c5e0>\n\t.logdet -> <syft.ast.callable.Callable object at 0x7f014a69c640>\n\t.logical_and -> <syft.ast.callable.Callable object at 0x7f014a69c6a0>\n\t.logical_not -> <syft.ast.callable.Callable object at 0x7f014a69c700>\n\t.logical_or -> <syft.ast.callable.Callable object at 0x7f014a69c760>\n\t.logical_xor -> <syft.ast.callable.Callable object at 0x7f014a69c7c0>\n\t.logsumexp -> <syft.ast.callable.Callable object at 0x7f014a69c820>\n\t.lstsq -> <syft.ast.callable.Callable object at 0x7f014a69c880>\n\t.lt -> <syft.ast.callable.Callable object at 0x7f014a69c8e0>\n\t.lu_solve -> <syft.ast.callable.Callable object at 0x7f014a69c940>\n\t.lu -> <syft.ast.callable.Callable object at 0x7f014a69c9a0>\n\t.masked_fill -> <syft.ast.callable.Callable object at 0x7f014a69ca00>\n\t.masked_scatter -> <syft.ast.callable.Callable object at 0x7f014a69ca60>\n\t.masked_select -> <syft.ast.callable.Callable object at 0x7f014a69cac0>\n\t.matmul -> <syft.ast.callable.Callable object at 0x7f014a69cb20>\n\t.matrix_power -> <syft.ast.callable.Callable object at 0x7f014a69cb80>\n\t.mean -> <syft.ast.callable.Callable object at 0x7f014a69cbe0>\n\t.mm -> <syft.ast.callable.Callable object at 0x7f014a69cc40>\n\t.mode -> <syft.ast.callable.Callable object at 0x7f014a69cca0>\n\t.mul -> <syft.ast.callable.Callable object at 0x7f014a69cd00>\n\t.multinomial -> <syft.ast.callable.Callable object at 0x7f014a69cd60>\n\t.mv -> <syft.ast.callable.Callable object at 0x7f014a69cdc0>\n\t.mvlgamma -> <syft.ast.callable.Callable object at 0x7f014a69ce20>\n\t.narrow -> <syft.ast.callable.Callable object at 0x7f014a69ce80>\n\t.ne -> <syft.ast.callable.Callable object at 0x7f014a69cee0>\n\t.neg_ -> <syft.ast.callable.Callable object at 0x7f014a69cf40>\n\t.neg -> <syft.ast.callable.Callable object at 0x7f014a69cfa0>\n\t.nonzero -> <syft.ast.callable.Callable object at 0x7f014a6a1040>\n\t.norm -> <syft.ast.callable.Callable object at 0x7f014a6a10a0>\n\t.orgqr -> <syft.ast.callable.Callable object at 0x7f014a6a1100>\n\t.ormqr -> <syft.ast.callable.Callable object at 0x7f014a6a1160>\n\t.pinverse -> <syft.ast.callable.Callable object at 0x7f014a6a11c0>\n\t.polygamma -> <syft.ast.callable.Callable object at 0x7f014a6a1220>\n\t.pow -> <syft.ast.callable.Callable object at 0x7f014a6a1280>\n\t.prelu -> <syft.ast.callable.Callable object at 0x7f014a6a12e0>\n\t.q_per_channel_axis -> <syft.ast.callable.Callable object at 0x7f014a6a1340>\n\t.q_per_channel_scales -> <syft.ast.callable.Callable object at 0x7f014a6a13a0>\n\t.q_per_channel_zero_points -> <syft.ast.callable.Callable object at 0x7f014a6a1400>\n\t.q_scale -> <syft.ast.callable.Callable object at 0x7f014a6a1460>\n\t.q_zero_point -> <syft.ast.callable.Callable object at 0x7f014a6a14c0>\n\t.qr -> <syft.ast.callable.Callable object at 0x7f014a6a1520>\n\t.reciprocal_ -> <syft.ast.callable.Callable object at 0x7f014a6a1580>\n\t.reciprocal -> <syft.ast.callable.Callable object at 0x7f014a6a15e0>\n\t.relu_ -> <syft.ast.callable.Callable object at 0x7f014a6a1640>\n\t.relu -> <syft.ast.callable.Callable object at 0x7f014a6a16a0>\n\t.remainder -> <syft.ast.callable.Callable object at 0x7f014a6a1700>\n\t.renorm -> <syft.ast.callable.Callable object at 0x7f014a6a1760>\n\t.repeat_interleave -> <syft.ast.callable.Callable object at 0x7f014a6a17c0>\n\t.reshape -> <syft.ast.callable.Callable object at 0x7f014a6a1820>\n\t.resize_as_ -> <syft.ast.callable.Callable object at 0x7f014a6a1880>\n\t.roll -> <syft.ast.callable.Callable object at 0x7f014a6a18e0>\n\t.rot90 -> <syft.ast.callable.Callable object at 0x7f014a6a1940>\n\t.round_ -> <syft.ast.callable.Callable object at 0x7f014a6a19a0>\n\t.round -> <syft.ast.callable.Callable object at 0x7f014a6a1a00>\n\t.rsqrt_ -> <syft.ast.callable.Callable object at 0x7f014a6a1a60>\n\t.rsqrt -> <syft.ast.callable.Callable object at 0x7f014a6a1ac0>\n\t.scatter_add -> <syft.ast.callable.Callable object at 0x7f014a6a1b20>\n\t.scatter -> <syft.ast.callable.Callable object at 0x7f014a6a1b80>\n\t.select -> <syft.ast.callable.Callable object at 0x7f014a6a1be0>\n\t.sigmoid_ -> <syft.ast.callable.Callable object at 0x7f014a6a1c40>\n\t.sigmoid -> <syft.ast.callable.Callable object at 0x7f014a6a1ca0>\n\t.sign -> <syft.ast.callable.Callable object at 0x7f014a6a1d00>\n\t.sin_ -> <syft.ast.callable.Callable object at 0x7f014a6a1d60>\n\t.sin -> <syft.ast.callable.Callable object at 0x7f014a6a1dc0>\n\t.sinh_ -> <syft.ast.callable.Callable object at 0x7f014a6a1e20>\n\t.sinh -> <syft.ast.callable.Callable object at 0x7f014a6a1e80>\n\t.slogdet -> <syft.ast.callable.Callable object at 0x7f014a6a1ee0>\n\t.softmax -> <syft.ast.callable.Callable object at 0x7f014a6a1f40>\n\t.solve -> <syft.ast.callable.Callable object at 0x7f014a6a1fa0>\n\t.sort -> <syft.ast.callable.Callable object at 0x7f014a6a4040>\n\t.split_with_sizes -> <syft.ast.callable.Callable object at 0x7f014a6a40a0>\n\t.split -> <syft.ast.callable.Callable object at 0x7f014a6a4100>\n\t.sqrt_ -> <syft.ast.callable.Callable object at 0x7f014a6a4160>\n\t.sqrt -> <syft.ast.callable.Callable object at 0x7f014a6a41c0>\n\t.square_ -> <syft.ast.callable.Callable object at 0x7f014a6a4220>\n\t.square -> <syft.ast.callable.Callable object at 0x7f014a6a4280>\n\t.squeeze -> <syft.ast.callable.Callable object at 0x7f014a6a42e0>\n\t.stack -> <syft.ast.callable.Callable object at 0x7f014a6a4340>\n\t.std -> <syft.ast.callable.Callable object at 0x7f014a6a43a0>\n\t.stft -> <syft.ast.callable.Callable object at 0x7f014a6a4400>\n\t.sub -> <syft.ast.callable.Callable object at 0x7f014a6a4460>\n\t.sum -> <syft.ast.callable.Callable object at 0x7f014a6a44c0>\n\t.svd -> <syft.ast.callable.Callable object at 0x7f014a6a4520>\n\t.symeig -> <syft.ast.callable.Callable object at 0x7f014a6a4580>\n\t.t -> <syft.ast.callable.Callable object at 0x7f014a6a45e0>\n\t.take -> <syft.ast.callable.Callable object at 0x7f014a6a4640>\n\t.tan_ -> <syft.ast.callable.Callable object at 0x7f014a6a46a0>\n\t.tan -> <syft.ast.callable.Callable object at 0x7f014a6a4700>\n\t.tanh_ -> <syft.ast.callable.Callable object at 0x7f014a6a4760>\n\t.tanh -> <syft.ast.callable.Callable object at 0x7f014a6a47c0>\n\t.topk -> <syft.ast.callable.Callable object at 0x7f014a6a4820>\n\t.trace -> <syft.ast.callable.Callable object at 0x7f014a6a4880>\n\t.transpose -> <syft.ast.callable.Callable object at 0x7f014a6a48e0>\n\t.triangular_solve -> <syft.ast.callable.Callable object at 0x7f014a6a4940>\n\t.tril -> <syft.ast.callable.Callable object at 0x7f014a6a49a0>\n\t.triu -> <syft.ast.callable.Callable object at 0x7f014a6a4a00>\n\t.true_divide -> <syft.ast.callable.Callable object at 0x7f014a6a4a60>\n\t.trunc_ -> <syft.ast.callable.Callable object at 0x7f014a6a4ac0>\n\t.trunc -> <syft.ast.callable.Callable object at 0x7f014a6a4b20>\n\t.unique_consecutive -> <syft.ast.callable.Callable object at 0x7f014a6a4b80>\n\t.unique -> <syft.ast.callable.Callable object at 0x7f014a6a4be0>\n\t.unsqueeze -> <syft.ast.callable.Callable object at 0x7f014a6a4c40>\n\t.var -> <syft.ast.callable.Callable object at 0x7f014a6a4ca0>\n\t.unsafe_chunk -> <syft.ast.callable.Callable object at 0x7f014a6a4d00>\n\t.absolute -> <syft.ast.callable.Callable object at 0x7f014a6a4d60>\n\t.acosh_ -> <syft.ast.callable.Callable object at 0x7f014a6a4dc0>\n\t.acosh -> <syft.ast.callable.Callable object at 0x7f014a6a4e20>\n\t.asinh_ -> <syft.ast.callable.Callable object at 0x7f014a6a4e80>\n\t.asinh -> <syft.ast.callable.Callable object at 0x7f014a6a4ee0>\n\t.atanh_ -> <syft.ast.callable.Callable object at 0x7f014a6a4f40>\n\t.atanh -> <syft.ast.callable.Callable object at 0x7f014a6a4fa0>\n\t.deg2rad_ -> <syft.ast.callable.Callable object at 0x7f014a629040>\n\t.deg2rad -> <syft.ast.callable.Callable object at 0x7f014a6290a0>\n\t.fliplr -> <syft.ast.callable.Callable object at 0x7f014a629100>\n\t.flipud -> <syft.ast.callable.Callable object at 0x7f014a629160>\n\t.isfinite -> <syft.ast.callable.Callable object at 0x7f014a6291c0>\n\t.isinf -> <syft.ast.callable.Callable object at 0x7f014a629220>\n\t.isnan -> <syft.ast.callable.Callable object at 0x7f014a629280>\n\t.logaddexp -> <syft.ast.callable.Callable object at 0x7f014a6292e0>\n\t.logaddexp2 -> <syft.ast.callable.Callable object at 0x7f014a629340>\n\t.logcumsumexp -> <syft.ast.callable.Callable object at 0x7f014a6293a0>\n\t.rad2deg_ -> <syft.ast.callable.Callable object at 0x7f014a629400>\n\t.rad2deg -> <syft.ast.callable.Callable object at 0x7f014a629460>\n\t.istft -> <syft.ast.callable.Callable object at 0x7f014a6294c0>\n\t.amax -> <syft.ast.callable.Callable object at 0x7f014a629520>\n\t.amin -> <syft.ast.callable.Callable object at 0x7f014a629580>\n\t.arccos -> <syft.ast.callable.Callable object at 0x7f014a6295e0>\n\t.arccos_ -> <syft.ast.callable.Callable object at 0x7f014a629640>\n\t.arccosh -> <syft.ast.callable.Callable object at 0x7f014a6296a0>\n\t.arccosh_ -> <syft.ast.callable.Callable object at 0x7f014a629700>\n\t.arcsin -> <syft.ast.callable.Callable object at 0x7f014a629760>\n\t.arcsin_ -> <syft.ast.callable.Callable object at 0x7f014a6297c0>\n\t.arcsinh -> <syft.ast.callable.Callable object at 0x7f014a797160>\n\t.arcsinh_ -> <syft.ast.callable.Callable object at 0x7f014a629820>\n\t.arctan -> <syft.ast.callable.Callable object at 0x7f014a629880>\n\t.arctan_ -> <syft.ast.callable.Callable object at 0x7f014a6298e0>\n\t.arctanh -> <syft.ast.callable.Callable object at 0x7f014a629940>\n\t.arctanh_ -> <syft.ast.callable.Callable object at 0x7f014a6299a0>\n\t.clip -> <syft.ast.callable.Callable object at 0x7f014a629a00>\n\t.clip_ -> <syft.ast.callable.Callable object at 0x7f014a629a60>\n\t.count_nonzero -> <syft.ast.callable.Callable object at 0x7f014a629ac0>\n\t.divide -> <syft.ast.callable.Callable object at 0x7f014a629b20>\n\t.exp2 -> <syft.ast.callable.Callable object at 0x7f014a629b80>\n\t.exp2_ -> <syft.ast.callable.Callable object at 0x7f014a629be0>\n\t.fix -> <syft.ast.callable.Callable object at 0x7f014a629c40>\n\t.fix_ -> <syft.ast.callable.Callable object at 0x7f014a629ca0>\n\t.gcd -> <syft.ast.callable.Callable object at 0x7f014a629d00>\n\t.gcd_ -> <syft.ast.callable.Callable object at 0x7f014a629d60>\n\t.greater -> <syft.ast.callable.Callable object at 0x7f014a629dc0>\n\t.greater_equal -> <syft.ast.callable.Callable object at 0x7f014a629e20>\n\t.heaviside -> <syft.ast.callable.Callable object at 0x7f014a629e80>\n\t.hypot -> <syft.ast.callable.Callable object at 0x7f014a629ee0>\n\t.i0 -> <syft.ast.callable.Callable object at 0x7f014a629f40>\n\t.i0_ -> <syft.ast.callable.Callable object at 0x7f014a629fa0>\n\t.isneginf -> <syft.ast.callable.Callable object at 0x7f014a62d040>\n\t.isposinf -> <syft.ast.callable.Callable object at 0x7f014a62d0a0>\n\t.isreal -> <syft.ast.callable.Callable object at 0x7f014a62d100>\n\t.lcm -> <syft.ast.callable.Callable object at 0x7f014a62d160>\n\t.lcm_ -> <syft.ast.callable.Callable object at 0x7f014a62d1c0>\n\t.less -> <syft.ast.callable.Callable object at 0x7f014a62d220>\n\t.less_equal -> <syft.ast.callable.Callable object at 0x7f014a62d280>\n\t.logit -> <syft.ast.callable.Callable object at 0x7f014a62d2e0>\n\t.logit_ -> <syft.ast.callable.Callable object at 0x7f014a62d340>\n\t.maximum -> <syft.ast.callable.Callable object at 0x7f014a62d3a0>\n\t.minimum -> <syft.ast.callable.Callable object at 0x7f014a62d400>\n\t.matrix_exp -> <syft.ast.callable.Callable object at 0x7f014a62d460>\n\t.multiply -> <syft.ast.callable.Callable object at 0x7f014a62d4c0>\n\t.nanquantile -> <syft.ast.callable.Callable object at 0x7f014a62d520>\n\t.nansum -> <syft.ast.callable.Callable object at 0x7f014a62d580>\n\t.negative -> <syft.ast.callable.Callable object at 0x7f014a62d5e0>\n\t.negative_ -> <syft.ast.callable.Callable object at 0x7f014a62d640>\n\t.nextafter -> <syft.ast.callable.Callable object at 0x7f014a62d6a0>\n\t.outer -> <syft.ast.callable.Callable object at 0x7f014a62d700>\n\t.quantile -> <syft.ast.callable.Callable object at 0x7f014a62d760>\n\t.sgn -> <syft.ast.callable.Callable object at 0x7f014a62d7c0>\n\t.signbit -> <syft.ast.callable.Callable object at 0x7f014a62d820>\n\t.subtract -> <syft.ast.callable.Callable object at 0x7f014a62d880>\n\t.unsafe_split -> <syft.ast.callable.Callable object at 0x7f014a62d8e0>\n\t.vdot -> <syft.ast.callable.Callable object at 0x7f014a62d940>\n\t.movedim -> <syft.ast.callable.Callable object at 0x7f014a62d9a0>\n\t.unsafe_split_with_sizes -> <syft.ast.callable.Callable object at 0x7f014a62da00>\n\t.cuda -> Module:\n\t\t.is_available -> <syft.ast.callable.Callable object at 0x7f014a62dac0>\n\n\t.device -> <syft.ast.klass.Class object at 0x7f014a62db20>\n\t.random -> Module:\n\t\t.initial_seed -> <syft.ast.callable.Callable object at 0x7f014a62dca0>\n\n\t.zeros_like -> <syft.ast.callable.Callable object at 0x7f014a62dd00>\n\t.manual_seed -> <syft.ast.callable.Callable object at 0x7f014a62dd60>\n\t.Generator -> <syft.ast.klass.Class object at 0x7f014a62ddc0>\n\t.utils -> Module:\n\t\t.data -> Module:\n\t\t\t.DataLoader -> <syft.ast.klass.Class object at 0x7f014a637100>\n\t\t\t.dataloader -> Module:\n\t\t\t\t._SingleProcessDataLoaderIter -> <syft.ast.klass.Class object at 0x7f014a637340>\n\n\n\n\t.optim -> Module:\n\t\t.ASGD -> <syft.ast.klass.Class object at 0x7f014a637700>\n\t\t.Adadelta -> <syft.ast.klass.Class object at 0x7f014a637880>\n\t\t.Adagrad -> <syft.ast.klass.Class object at 0x7f014a637a00>\n\t\t.Adam -> <syft.ast.klass.Class object at 0x7f014a637b80>\n\t\t.AdamW -> <syft.ast.klass.Class object at 0x7f014a637d00>\n\t\t.Adamax -> <syft.ast.klass.Class object at 0x7f014a637e80>\n\t\t.LBFGS -> <syft.ast.klass.Class object at 0x7f014a63d040>\n\t\t.Optimizer -> <syft.ast.klass.Class object at 0x7f014a63d1c0>\n\t\t.RMSprop -> <syft.ast.klass.Class object at 0x7f014a63d3a0>\n\t\t.Rprop -> <syft.ast.klass.Class object at 0x7f014a63d520>\n\t\t.SGD -> <syft.ast.klass.Class object at 0x7f014a63d6a0>\n\t\t.SparseAdam -> <syft.ast.klass.Class object at 0x7f014a63d820>\n\t\t.lr_scheduler -> Module:\n\t\t\t.StepLR -> <syft.ast.klass.Class object at 0x7f014a63dac0>\n\n\n\t.no_grad -> <syft.ast.klass.Class object at 0x7f014a63dca0>\n\t.autograd -> Module:\n\t\t.grad_mode -> Module:\n\t\t\t.no_grad -> <syft.ast.klass.Class object at 0x7f014a63de20>\n\n\n\t.distributions -> Module:\n\t\t.Categorical -> <syft.ast.klass.Class object at 0x7f014a5ca0a0>\n\n\t.kron -> <syft.ast.callable.Callable object at 0x7f014a5ca640>\n\t.msort -> <syft.ast.callable.Callable object at 0x7f014a5ca760>\n\t.row_stack -> <syft.ast.callable.Callable object at 0x7f014a5ca7c0>\n\t.moveaxis -> <syft.ast.callable.Callable object at 0x7f014a5caac0>\n\t.tensor_split -> <syft.ast.callable.Callable object at 0x7f014a5cabe0>\n\t.tile -> <syft.ast.callable.Callable object at 0x7f014a5cad00>\n\t.fmin -> <syft.ast.callable.Callable object at 0x7f014a5caee0>\n\t.ldexp -> <syft.ast.callable.Callable object at 0x7f014a5caf40>\n\t.igamma -> <syft.ast.callable.Callable object at 0x7f014a5ce0a0>\n\t.float_power -> <syft.ast.callable.Callable object at 0x7f014a5ce580>\n\t.xlogy -> <syft.ast.callable.Callable object at 0x7f014a5ce6a0>\n\t.copysign -> <syft.ast.callable.Callable object at 0x7f014a5ce700>\n\t.nanmedian -> <syft.ast.callable.Callable object at 0x7f014a5ce760>\n\t.igammac -> <syft.ast.callable.Callable object at 0x7f014a5ce7c0>\n\t.diff -> <syft.ast.callable.Callable object at 0x7f014a5ce8e0>\n\t.sinc -> <syft.ast.callable.Callable object at 0x7f014a5cea00>\n\t.column_stack -> <syft.ast.callable.Callable object at 0x7f014a5cebe0>\n\t.pixel_unshuffle -> <syft.ast.callable.Callable object at 0x7f014a5ced00>\n\t.swapaxes -> <syft.ast.callable.Callable object at 0x7f014a5cefa0>\n\t.nan_to_num -> <syft.ast.callable.Callable object at 0x7f014a5d3040>\n\t.inner -> <syft.ast.callable.Callable object at 0x7f014a5d30a0>\n\t.fmax -> <syft.ast.callable.Callable object at 0x7f014a5d3100>\n\t.ravel -> <syft.ast.callable.Callable object at 0x7f014a5d3460>\n\t.broadcast_to -> <syft.ast.callable.Callable object at 0x7f014a5d34c0>\n\t.swapdims -> <syft.ast.callable.Callable object at 0x7f014a5d36a0>"
          },
          "metadata": {}
        }
      ],
      "execution_count": 4,
      "metadata": {
        "gather": {
          "logged": 1631694042341
        },
        "jupyter": {
          "outputs_hidden": true
        }
      }
    },
    {
      "cell_type": "markdown",
      "source": [
        "## Client: loading and exploring the dataset"
      ],
      "metadata": {}
    },
    {
      "cell_type": "code",
      "source": [
        "class ECG(Dataset):\n",
        "    # The class used to load the ECG dataset\n",
        "    def __init__(self, mode='train'):\n",
        "        if mode == 'train':\n",
        "            with h5py.File(project_path/data_dir/train_name, 'r') as hdf:\n",
        "                self.x = torch.tensor(hdf['x_train'][:], dtype=torch.float)\n",
        "                self.y = torch.tensor(hdf['y_train'][:])                \n",
        "        elif mode == 'test':\n",
        "            with h5py.File(project_path/data_dir/test_name, 'r') as hdf:\n",
        "                self.x = torch.tensor(hdf['x_test'][:], dtype=torch.float)\n",
        "                self.y = torch.tensor(hdf['y_test'][:])\n",
        "        else:\n",
        "            raise ValueError('Argument of mode should be train or test')\n",
        "    \n",
        "    def __len__(self):\n",
        "        return len(self.x)\n",
        "    \n",
        "    def __getitem__(self, idx):\n",
        "        return self.x[idx], self.y[idx]"
      ],
      "outputs": [],
      "execution_count": 5,
      "metadata": {
        "jupyter": {
          "source_hidden": false,
          "outputs_hidden": false
        },
        "nteract": {
          "transient": {
            "deleting": false
          }
        },
        "gather": {
          "logged": 1631694042672
        }
      }
    },
    {
      "cell_type": "code",
      "source": [
        "train_dataset = ECG(mode='train')\n",
        "test_dataset = ECG(mode='test')"
      ],
      "outputs": [],
      "execution_count": 6,
      "metadata": {
        "jupyter": {
          "source_hidden": false,
          "outputs_hidden": false
        },
        "nteract": {
          "transient": {
            "deleting": false
          }
        },
        "gather": {
          "logged": 1631694043213
        }
      }
    },
    {
      "cell_type": "markdown",
      "source": [
        "Let's first get everything in the dataset and see how many examples we have, and how each\n",
        "of them look like"
      ],
      "metadata": {
        "nteract": {
          "transient": {
            "deleting": false
          }
        }
      }
    },
    {
      "cell_type": "code",
      "source": [
        "train_loader = DataLoader(train_dataset, batch_size=len(train_dataset))\n",
        "test_loader = DataLoader(test_dataset, batch_size=len(test_dataset))\n",
        "x_train, y_train = next(iter(train_loader))\n",
        "x_test, y_test = next(iter(test_loader))\n",
        "print(f'x_train: {type(x_train)}, {x_train.size()}')\n",
        "print(f'y_train: {type(y_train)}, {y_train.size()}')\n",
        "print(f'x_test: {type(x_test)}, {x_test.size()}')\n",
        "print(f'y_test: {type(y_test)}, {y_test.size()}')"
      ],
      "outputs": [
        {
          "output_type": "stream",
          "name": "stdout",
          "text": "x_train: <class 'torch.Tensor'>, torch.Size([13245, 1, 128])\ny_train: <class 'torch.Tensor'>, torch.Size([13245])\nx_test: <class 'torch.Tensor'>, torch.Size([13245, 1, 128])\ny_test: <class 'torch.Tensor'>, torch.Size([13245])\n"
        }
      ],
      "execution_count": 7,
      "metadata": {
        "gather": {
          "logged": 1631694043561
        }
      }
    },
    {
      "cell_type": "code",
      "source": [
        "x0 = x_train[0, :, :]\n",
        "print(f'x_0: {x0.shape}')\n",
        "x0_unroll = x0.view(-1)\n",
        "print(f'unrolling: {x0_unroll.shape}')\n",
        "indx = np.arange(0, 128)\n",
        "\n",
        "# plt.figure(figsize=(3,3))\n",
        "plt.style.use('dark_background')\n",
        "plt.plot(indx, x0_unroll)\n",
        "plt.show()"
      ],
      "outputs": [
        {
          "output_type": "stream",
          "name": "stdout",
          "text": "x_0: torch.Size([1, 128])\nunrolling: torch.Size([128])\n"
        },
        {
          "output_type": "display_data",
          "data": {
            "text/plain": "<Figure size 432x288 with 1 Axes>",
            "image/png": "[encoded data removed]"
          },
          "metadata": {}
        }
      ],
      "execution_count": 8,
      "metadata": {
        "gather": {
          "logged": 1631694044109
        }
      }
    },
    {
      "cell_type": "markdown",
      "source": [
        "The client creates the Dataset object and save it in a `.pt` file. \n",
        "If using `duet`, he can send the string path to the server using \n",
        "`sy.lib.python.String(string_path).send(duet, pointable=True, tags=[\"data\"])`"
      ],
      "metadata": {
        "nteract": {
          "transient": {
            "deleting": false
          }
        }
      }
    },
    {
      "cell_type": "code",
      "source": [
        "torch.save(train_dataset, \"train_dataset.pt\")\n",
        "torch.save(test_dataset, \"test_dataset.pt\")"
      ],
      "outputs": [],
      "execution_count": 9,
      "metadata": {
        "jupyter": {
          "source_hidden": false,
          "outputs_hidden": false
        },
        "nteract": {
          "transient": {
            "deleting": false
          }
        },
        "gather": {
          "logged": 1631694044746
        }
      }
    },
    {
      "cell_type": "markdown",
      "source": [
        "## Server: creating remote dataset and dataloader"
      ],
      "metadata": {}
    },
    {
      "cell_type": "code",
      "source": [
        "train_rds = RemoteDataset(path='train_dataset.pt', data_type=\"torch_tensor\")\n",
        "train_rds"
      ],
      "outputs": [
        {
          "output_type": "execute_result",
          "execution_count": 10,
          "data": {
            "text/plain": "<class 'syft.core.remote_dataloader.remote_dataloader.RemoteDataset'>: torch_tensor"
          },
          "metadata": {}
        }
      ],
      "execution_count": 10,
      "metadata": {
        "jupyter": {
          "source_hidden": false,
          "outputs_hidden": false
        },
        "nteract": {
          "transient": {
            "deleting": false
          }
        },
        "gather": {
          "logged": 1631694045252
        }
      }
    },
    {
      "cell_type": "markdown",
      "source": [
        "From the remote dataset, the server constructs the data loader. Then the server uses `.send`\n",
        "to create a pointer to do remote data loading"
      ],
      "metadata": {
        "nteract": {
          "transient": {
            "deleting": false
          }
        }
      }
    },
    {
      "cell_type": "code",
      "source": [
        "train_rdl = RemoteDataLoader(remote_dataset=train_rds, batch_size=32)\n",
        "train_rdl_ptr = train_rdl.send(client)\n",
        "ic(train_rdl, train_rdl_ptr)\n",
        "# call create_dataset to create the real Dataset object on remote side\n",
        "train_rdl_ptr.load_dataset()\n",
        "# call create_dataloader to create the real DataLoader object on remote side\n",
        "train_rdl_ptr.create_dataloader()"
      ],
      "outputs": [
        {
          "output_type": "stream",
          "name": "stderr",
          "text": "ic| train_rdl: <syft.core.remote_dataloader.remote_dataloader.RemoteDataLoader object at 0x7f014a39b5e0>\n    train_rdl_ptr: <syft.proxy.syft.core.remote_dataloader.RemoteDataLoaderPointer object at 0x7f014a1a0cd0>\n"
        },
        {
          "output_type": "execute_result",
          "execution_count": 11,
          "data": {
            "text/plain": "<syft.proxy.syft.lib.python._SyNonePointer at 0x7f014a19e790>"
          },
          "metadata": {}
        }
      ],
      "execution_count": 11,
      "metadata": {
        "jupyter": {
          "source_hidden": false,
          "outputs_hidden": false
        },
        "nteract": {
          "transient": {
            "deleting": false
          }
        },
        "gather": {
          "logged": 1631694045688
        }
      }
    },
    {
      "cell_type": "code",
      "source": [
        "for i,b in enumerate(train_rdl_ptr):\n",
        "    if i<2:\n",
        "        X, y = b[0], b[1]\n",
        "        ic(X, y)\n",
        "        ic(X.get_copy(), y.get_copy())"
      ],
      "outputs": [
        {
          "output_type": "stream",
          "name": "stderr",
          "text": "ic| X: <syft.proxy.syft.lib.python.AnyPointer object at 0x7f0149effa60>\n    y: <syft.proxy.syft.lib.python.AnyPointer object at 0x7f014a0bb7f0>\nic| X.get_copy(): tensor([[[0.4761, 0.5021, 0.5030,  ..., 0.3667, 0.3652, 0.3637]],\n                  \n                          [[0.4289, 0.4280, 0.4266,  ..., 0.5638, 0.5616, 0.5601]],\n                  \n                          [[0.3616, 0.3616, 0.3616,  ..., 0.4379, 0.4326, 0.4278]],\n                  \n                          ...,\n                  \n                          [[0.4732, 0.4599, 0.4674,  ..., 0.5969, 0.5994, 0.6010]],\n                  \n                          [[0.5071, 0.5071, 0.5072,  ..., 0.6265, 0.6249, 0.6236]],\n                  \n                          [[0.3654, 0.3660, 0.3667,  ..., 0.3375, 0.3387, 0.3395]]])\n    y.get_copy(): tensor([2, 4, 2, 4, 2, 1, 1, 1, 2, 1, 0, 0, 2, 4, 3, 1, 2, 4, 1, 0, 1, 0, 4, 2,\n                          4, 3, 0, 1, 2, 4, 4, 2])\nic| X: <syft.proxy.syft.lib.python.AnyPointer object at 0x7f014a11d370>\n    y: <syft.proxy.syft.lib.python.AnyPointer object at 0x7f014a0bb640>\nic| X.get_copy(): tensor([[[0.5597, 0.5637, 0.5695,  ..., 0.4344, 0.4351, 0.4359]],\n                  \n                          [[0.3872, 0.4312, 0.4242,  ..., 0.1426, 0.1372, 0.1328]],\n                  \n                          [[0.3621, 0.3553, 0.3503,  ..., 0.4690, 0.4744, 0.4790]],\n                  \n                          ...,\n                  \n                          [[0.2475, 0.2479, 0.2483,  ..., 0.2655, 0.2658, 0.2661]],\n                  \n                          [[0.4383, 0.4384, 0.4385,  ..., 0.3680, 0.3686, 0.3693]],\n                  \n                          [[0.4436, 0.4427, 0.4413,  ..., 0.5677, 0.5653, 0.5636]]])\n    y.get_copy(): tensor([0, 4, 3, 4, 2, 0, 1, 4, 1, 0, 3, 4, 2, 4, 1, 0, 2, 0, 0, 2, 0, 1, 1, 0,\n                          2, 4, 4, 2, 4, 4, 1, 4])\n"
        }
      ],
      "execution_count": 12,
      "metadata": {
        "jupyter": {
          "source_hidden": false,
          "outputs_hidden": false
        },
        "nteract": {
          "transient": {
            "deleting": false
          }
        },
        "gather": {
          "logged": 1631694046522
        }
      }
    },
    {
      "cell_type": "markdown",
      "source": [
        "Similarly, for the test dataset"
      ],
      "metadata": {
        "nteract": {
          "transient": {
            "deleting": false
          }
        }
      }
    },
    {
      "cell_type": "code",
      "source": [
        "test_rds = RemoteDataset(path='test_dataset.pt', data_type=\"torch_tensor\")\n",
        "test_rdl = RemoteDataLoader(remote_dataset=test_rds, batch_size=32)\n",
        "test_rdl_ptr = test_rdl.send(client)\n",
        "ic(test_rds, test_rdl, test_rdl_ptr)\n",
        "# call create_dataset to create the real Dataset object on remote side\n",
        "test_rdl_ptr.load_dataset()\n",
        "# call create_dataloader to create the real DataLoader object on remote side\n",
        "test_rdl_ptr.create_dataloader()"
      ],
      "outputs": [
        {
          "output_type": "stream",
          "name": "stderr",
          "text": "ic| test_rds: <class 'syft.core.remote_dataloader.remote_dataloader.RemoteDataset'>: torch_tensor\n    test_rdl: <syft.core.remote_dataloader.remote_dataloader.RemoteDataLoader object at 0x7f01c667de20>\n    test_rdl_ptr: <syft.proxy.syft.core.remote_dataloader.RemoteDataLoaderPointer object at 0x7f014a19ebe0>\n"
        },
        {
          "output_type": "execute_result",
          "execution_count": 14,
          "data": {
            "text/plain": "<syft.proxy.syft.lib.python._SyNonePointer at 0x7f0204303190>"
          },
          "metadata": {}
        }
      ],
      "execution_count": 14,
      "metadata": {
        "jupyter": {
          "source_hidden": false,
          "outputs_hidden": false
        },
        "nteract": {
          "transient": {
            "deleting": false
          }
        },
        "gather": {
          "logged": 1631694067851
        }
      }
    },
    {
      "cell_type": "code",
      "source": [
        "for i, b in enumerate(test_rdl_ptr):\n",
        "    if i<2:\n",
        "        X, y = b[0], b[1]\n",
        "        ic(X, y)\n",
        "        ic(X.get_copy(), y.get_copy())"
      ],
      "outputs": [
        {
          "output_type": "stream",
          "name": "stderr",
          "text": "ic| X: <syft.proxy.syft.lib.python.AnyPointer object at 0x7f0149e67790>\n    y: <syft.proxy.syft.lib.python.AnyPointer object at 0x7f02042ea850>\nic| X.get_copy(): tensor([[[0.4378, 0.4380, 0.4382,  ..., 0.3650, 0.3653, 0.3656]],\n                  \n                          [[0.3724, 0.3577, 0.3532,  ..., 0.4559, 0.4563, 0.4621]],\n                  \n                          [[0.3691, 0.3687, 0.3683,  ..., 0.4174, 0.4165, 0.4158]],\n                  \n                          ...,\n                  \n                          [[0.4871, 0.4874, 0.4877,  ..., 0.4661, 0.4672, 0.4679]],\n                  \n                          [[0.4054, 0.4028, 0.3990,  ..., 0.4981, 0.5023, 0.5059]],\n                  \n                          [[0.4811, 0.4434, 0.4642,  ..., 0.8065, 0.8028, 0.7990]]])\n    y.get_copy(): tensor([1, 3, 0, 0, 3, 2, 3, 1, 1, 1, 1, 4, 1, 1, 1, 2, 1, 0, 4, 1, 0, 4, 4, 1,\n                          4, 2, 0, 2, 4, 1, 3, 4])\nic| X: <syft.proxy.syft.lib.python.AnyPointer object at 0x7f02042f1910>\n    y: <syft.proxy.syft.lib.python.AnyPointer object at 0x7f014a0b4b20>\nic| X.get_copy(): tensor([[[0.6082, 0.6080, 0.6077,  ..., 0.6892, 0.6895, 0.6897]],\n                  \n                          [[0.3046, 0.3047, 0.3048,  ..., 0.3734, 0.3746, 0.3755]],\n                  \n                          [[0.3587, 0.3584, 0.3581,  ..., 0.4264, 0.4269, 0.4272]],\n                  \n                          ...,\n                  \n                          [[0.4198, 0.4198, 0.4197,  ..., 0.3744, 0.3746, 0.3749]],\n                  \n                          [[0.5958, 0.5953, 0.5948,  ..., 0.6727, 0.6731, 0.6734]],\n                  \n                          [[0.3507, 0.3506, 0.3506,  ..., 0.4903, 0.4891, 0.4880]]])\n    y.get_copy(): tensor([1, 2, 0, 1, 0, 3, 0, 3, 4, 0, 2, 2, 2, 1, 4, 1, 3, 2, 0, 1, 4, 1, 0, 4,\n                          4, 2, 4, 0, 4, 2, 1, 2])\n"
        }
      ],
      "execution_count": 15,
      "metadata": {
        "jupyter": {
          "source_hidden": false,
          "outputs_hidden": false
        },
        "nteract": {
          "transient": {
            "deleting": false
          }
        },
        "gather": {
          "logged": 1631694149384
        }
      }
    },
    {
      "cell_type": "markdown",
      "source": [
        "## Server: define the spit neural network used to train on the ECG dataset"
      ],
      "metadata": {}
    },
    {
      "cell_type": "markdown",
      "source": [
        "Client's side contains conv layers"
      ],
      "metadata": {
        "nteract": {
          "transient": {
            "deleting": false
          }
        }
      }
    },
    {
      "cell_type": "code",
      "source": [
        "class EcgClient(sy.Module):\n",
        "    # used by the data owners\n",
        "    def __init__(self, torch_ref):\n",
        "        super(EcgClient, self).__init__(torch_ref=torch_ref)\n",
        "        self.conv1 = self.torch_ref.nn.Conv1d(1, 16, 7, padding=3)  # 128 x 16\n",
        "        self.relu1 = self.torch_ref.nn.LeakyReLU()\n",
        "        self.pool1 = self.torch_ref.nn.MaxPool1d(2)  # 64 x 16\n",
        "        self.conv2 = self.torch_ref.nn.Conv1d(16, 16, 5, padding=2)  # 64 x 16\n",
        "        self.relu2 = self.torch_ref.nn.LeakyReLU()\n",
        "        self.pool2 = self.torch_ref.nn.MaxPool1d(2)  # 32 x 16\n",
        "    \n",
        "    def forward(self, x):\n",
        "        x = self.conv1(x)\n",
        "        x = self.relu1(x)\n",
        "        x = self.pool1(x)\n",
        "        x = self.conv2(x)\n",
        "        x = self.relu2(x)\n",
        "        x = self.pool2(x)\n",
        "        x = x.view(-1, 32 * 16)\n",
        "        return x"
      ],
      "outputs": [],
      "execution_count": 16,
      "metadata": {
        "gather": {
          "logged": 1631694167599
        }
      }
    },
    {
      "cell_type": "markdown",
      "source": [
        "Server's side contains fully connected layers"
      ],
      "metadata": {
        "nteract": {
          "transient": {
            "deleting": false
          }
        }
      }
    },
    {
      "cell_type": "code",
      "source": [
        "class EcgServer(sy.Module):\n",
        "    def __init__(self, torch_ref):\n",
        "        super(EcgServer, self).__init__(torch_ref=torch_ref)\n",
        "        self.linear3 = nn.Linear(32 * 16, 128)\n",
        "        self.relu3 = nn.LeakyReLU() \n",
        "        self.linear4 = nn.Linear(128, 5)\n",
        "        self.softmax4 = nn.Softmax(dim=1)\n",
        "        \n",
        "    def forward(self, x):\n",
        "        x = self.linear3(x)\n",
        "        x = self.relu3(x)\n",
        "        x = self.linear4(x)\n",
        "        x = self.softmax4(x)\n",
        "        return x"
      ],
      "outputs": [],
      "execution_count": 17,
      "metadata": {
        "gather": {
          "logged": 1631694169775
        }
      }
    },
    {
      "cell_type": "markdown",
      "source": [
        "## Server: training process"
      ],
      "metadata": {
        "nteract": {
          "transient": {
            "deleting": false
          }
        }
      }
    },
    {
      "cell_type": "code",
      "source": [
        "ecg_client = EcgClient(torch_ref=torch)\n",
        "checkpoint = torch.load(\"init_weight.pth\")\n",
        "ecg_client.conv1.weight.data = checkpoint[\"conv1.weight\"]\n",
        "ecg_client.conv1.bias.data = checkpoint[\"conv1.bias\"]\n",
        "ecg_client.conv2.weight.data = checkpoint[\"conv2.weight\"]\n",
        "ecg_client.conv2.bias.data = checkpoint[\"conv2.bias\"]\n",
        "\n",
        "ecg_server = EcgServer(torch_ref=torch)\n",
        "checkpoint = torch.load(\"init_weight.pth\")\n",
        "ecg_server.linear3.weight.data = checkpoint[\"linear3.weight\"]\n",
        "ecg_server.linear3.bias.data = checkpoint[\"linear3.bias\"]\n",
        "ecg_server.linear4.weight.data = checkpoint[\"linear4.weight\"]\n",
        "ecg_server.linear4.bias.data = checkpoint[\"linear4.bias\"]\n",
        "\n",
        "# Send the client's model to the client\n",
        "ecg_client_ptr = ecg_client.send(client)"
      ],
      "outputs": [],
      "execution_count": 18,
      "metadata": {
        "jupyter": {
          "source_hidden": false,
          "outputs_hidden": false
        },
        "nteract": {
          "transient": {
            "deleting": false
          }
        },
        "gather": {
          "logged": 1631694171981
        }
      }
    },
    {
      "cell_type": "code",
      "source": [
        "total_batch = 414  # 32*414=13248. We have 13245 data samples\n",
        "\n",
        "epoch = 400\n",
        "criterion = nn.CrossEntropyLoss()\n",
        "lr = 0.001\n",
        "\n",
        "optim_client = remote_torch.optim.Adam(params=ecg_client_ptr.parameters(), lr=lr)\n",
        "optim_server = torch.optim.Adam(params=ecg_server.parameters(), lr=lr)"
      ],
      "outputs": [],
      "execution_count": 19,
      "metadata": {
        "jupyter": {
          "source_hidden": false,
          "outputs_hidden": false
        },
        "nteract": {
          "transient": {
            "deleting": false
          }
        },
        "gather": {
          "logged": 1631694173243
        }
      }
    },
    {
      "cell_type": "markdown",
      "source": [
        "Training (with CPU)"
      ],
      "metadata": {
        "nteract": {
          "transient": {
            "deleting": false
          }
        }
      }
    },
    {
      "cell_type": "code",
      "source": [
        "from tqdm import tqdm\n",
        "\n",
        "train_losses = list()\n",
        "train_accs = list()\n",
        "test_losses = list()\n",
        "test_accs = list()\n",
        "best_test_acc = 0  # best test accuracy\n",
        "for e in range(10):\n",
        "    print(f\"Epoch {e+1} - train \", end='')\n",
        "    \n",
        "    train_loss = 0.0\n",
        "    correct, total = 0, 0\n",
        "    for i,b in enumerate(train_rdl_ptr):\n",
        "        x, y = b[0], b[1]\n",
        "        ic(x, y)\n",
        "        # inputs_ptr = to_cuda_client(client_bool_cuda, inputs_ptr)\n",
        "        # initialize all gradients to zero\n",
        "        optim_server.zero_grad()\n",
        "        optim_client.zero_grad()\n",
        "        # compute and get the activation signals from the first half of the network\n",
        "        activs_ptr = ecg_client_ptr(inputs_ptr)\n",
        "        # the server still gets access to plain activation signals\n",
        "        activs = activs_ptr.clone().get(request_block=True)\n",
        "        # print(activs)\n",
        "        # the server continues the forward pass on the activation maps\n",
        "        y_hat = ecg_server(activs)\n",
        "        # the server asks to access ground truths in plain text, then put on GPU\n",
        "        y_gt = gt_ptr.get_copy()\n",
        "        # calculates cross-entropy loss\n",
        "        loss = criterion(y_hat, y_gt)\n",
        "        train_loss += loss.item()\n",
        "        correct += torch.sum(y_hat.argmax(dim=1) == y_gt).item()\n",
        "        # backward propagation (calculating gradients of the loss w.r.t the weights)\n",
        "        loss.backward()\n",
        "        # send the gradients to the client\n",
        "        client_grad_ptr = activs.grad.clone().send(client)\n",
        "        # update the gradients of the client's model\n",
        "        activs_ptr.backward(client_grad_ptr)\n",
        "        # update the weights based on the gradients\n",
        "        optim_client.step()\n",
        "        optim_server.step()\n",
        "        total += len(y_gt)\n",
        "\n",
        "    train_losses.append(train_loss / total_batch)\n",
        "    train_accs.append(correct / total)\n",
        "\n",
        "    print(f'loss: {train_losses[-1]: .4f}, accuracy: {train_accs[-1]*100: 2f}')"
      ],
      "outputs": [],
      "execution_count": null,
      "metadata": {
        "jupyter": {
          "source_hidden": false,
          "outputs_hidden": false
        },
        "nteract": {
          "transient": {
            "deleting": false
          }
        },
        "gather": {
          "logged": 1631557746815
        }
      }
    }
  ],
  "metadata": {
    "kernelspec": {
      "name": "syftenv",
      "language": "python",
      "display_name": "syft"
    },
    "kernel_info": {
      "name": "syftenv"
    },
    "nteract": {
      "version": "nteract-front-end@1.0.0"
    },
    "microsoft": {
      "host": {
        "AzureML": {
          "notebookHasBeenCompleted": true
        }
      }
    },
    "language_info": {
      "name": "python",
      "version": "3.9.6",
      "mimetype": "text/x-python",
      "codemirror_mode": {
        "name": "ipython",
        "version": 3
      },
      "pygments_lexer": "ipython3",
      "nbconvert_exporter": "python",
      "file_extension": ".py"
    },
    "interpreter": {
      "hash": "870a257bdc5888c6c86cab99e489c6f2724cdfe1684d5990b9d7489b2d46bf07"
    }
  },
  "nbformat": 4,
  "nbformat_minor": 2
}