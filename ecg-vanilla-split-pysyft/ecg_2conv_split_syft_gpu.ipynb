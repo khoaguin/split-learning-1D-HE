{
  "cells": [
    {
      "cell_type": "code",
      "source": [
        "from pathlib import Path\n",
        "import h5py\n",
        "import numpy as np\n",
        "import matplotlib.pyplot as plt\n",
        "from icecream import ic\n",
        "\n",
        "import torch\n",
        "import torch.nn as nn\n",
        "from torch.utils.data import Dataset, DataLoader\n",
        "from torch.optim import Adam, SGD\n",
        "\n",
        "import syft as sy\n",
        "from syft.core.node.vm.vm import VirtualMachine\n",
        "from syft.core.node.vm.client import VirtualMachineClient\n",
        "from syft.ast.module import Module\n",
        "\n",
        "print(torch.__version__)\n",
        "print(sy.__version__)\n"
      ],
      "outputs": [],
      "execution_count": null,
      "metadata": {
        "gather": {
          "logged": 1631542934629
        }
      }
    },
    {
      "cell_type": "markdown",
      "source": [
        "## Files and Directories"
      ],
      "metadata": {}
    },
    {
      "cell_type": "code",
      "source": [
        "# paths to files and directories\n",
        "project_path = Path.cwd().parent\n",
        "print(f'project_path: {project_path}')\n",
        "data_dir = 'mitdb'\n",
        "train_name = 'train_ecg.hdf5'\n",
        "test_name = 'test_ecg.hdf5'\n",
        "all_name = 'all_ecg.hdf5'\n",
        "model_dir = 'model'\n",
        "model_name = 'conv2'\n",
        "model_ext = '.pth'\n",
        "csv_dir = 'csv'\n",
        "csv_ext = '.csv'\n",
        "csv_name = 'conv2'\n",
        "csv_accs_name = 'accs_conv2'"
      ],
      "outputs": [],
      "execution_count": null,
      "metadata": {
        "jupyter": {
          "source_hidden": false,
          "outputs_hidden": false
        },
        "nteract": {
          "transient": {
            "deleting": false
          }
        },
        "gather": {
          "logged": 1631542935534
        }
      }
    },
    {
      "cell_type": "markdown",
      "source": [
        "## Construct the client and server"
      ],
      "metadata": {}
    },
    {
      "cell_type": "code",
      "source": [
        "server: VirtualMachine = sy.VirtualMachine(name=\"server\")\n",
        "client: VirtualMachineClient = server.get_root_client()"
      ],
      "outputs": [],
      "execution_count": null,
      "metadata": {
        "jupyter": {
          "source_hidden": false,
          "outputs_hidden": false
        },
        "nteract": {
          "transient": {
            "deleting": false
          }
        },
        "gather": {
          "logged": 1631542939194
        }
      }
    },
    {
      "cell_type": "code",
      "source": [
        "remote_torch: Module = client.torch\n",
        "remote_torch"
      ],
      "outputs": [],
      "execution_count": null,
      "metadata": {
        "gather": {
          "logged": 1631542939662
        }
      }
    },
    {
      "cell_type": "markdown",
      "source": [
        "## Client: loading and exploring the dataset"
      ],
      "metadata": {}
    },
    {
      "cell_type": "code",
      "source": [
        "class ECG(Dataset):\n",
        "    # The class used to load the ECG dataset\n",
        "    def __init__(self, mode='train'):\n",
        "        if mode == 'train':\n",
        "            with h5py.File(project_path/data_dir/train_name, 'r') as hdf:\n",
        "                self.x = hdf['x_train'][:]\n",
        "                self.y = hdf['y_train'][:]\n",
        "        elif mode == 'test':\n",
        "            with h5py.File(project_path/data_dir/test_name, 'r') as hdf:\n",
        "                self.x = hdf['x_test'][:]\n",
        "                self.y = hdf['y_test'][:]\n",
        "        else:\n",
        "            raise ValueError('Argument of mode should be train or test')\n",
        "    \n",
        "    def __len__(self):\n",
        "        return len(self.x)\n",
        "    \n",
        "    def __getitem__(self, idx):\n",
        "        return torch.tensor(self.x[idx], dtype=torch.float), torch.tensor(self.y[idx])"
      ],
      "outputs": [],
      "execution_count": null,
      "metadata": {
        "jupyter": {
          "source_hidden": false,
          "outputs_hidden": false
        },
        "nteract": {
          "transient": {
            "deleting": false
          }
        },
        "gather": {
          "logged": 1631542943191
        }
      }
    },
    {
      "cell_type": "code",
      "source": [
        "train_dataset = ECG(mode='train')\n",
        "test_dataset = ECG(mode='test')"
      ],
      "outputs": [],
      "execution_count": null,
      "metadata": {
        "gather": {
          "logged": 1631542946318
        }
      }
    },
    {
      "cell_type": "code",
      "source": [
        "train_loader = DataLoader(train_dataset, batch_size=len(train_dataset))\n",
        "test_loader = DataLoader(test_dataset, batch_size=len(test_dataset))\n",
        "x_train, y_train = next(iter(train_loader))\n",
        "x_test, y_test = next(iter(test_loader))\n",
        "print(f'x_train: {type(x_train)}, {x_train.size()}')\n",
        "print(f'y_train: {type(y_train)}, {y_train.size()}')\n",
        "print(f'x_test: {type(x_test)}, {x_test.size()}')\n",
        "print(f'y_test: {type(y_test)}, {y_test.size()}')"
      ],
      "outputs": [],
      "execution_count": null,
      "metadata": {
        "gather": {
          "logged": 1631542946615
        }
      }
    },
    {
      "cell_type": "code",
      "source": [
        "x0 = x_train[0, :, :]\n",
        "print(f'x_0: {x0.shape}')\n",
        "x0_unroll = x0.view(-1)\n",
        "print(f'unrolling: {x0_unroll.shape}')\n",
        "indx = np.arange(0, 128)\n",
        "\n",
        "# plt.figure(figsize=(3,3))\n",
        "plt.style.use('dark_background')\n",
        "plt.plot(indx, x0_unroll)\n",
        "plt.show()"
      ],
      "outputs": [],
      "execution_count": null,
      "metadata": {
        "gather": {
          "logged": 1631542949390
        }
      }
    },
    {
      "cell_type": "markdown",
      "source": [
        "## Server: point to the dataset using `remote_torch`"
      ],
      "metadata": {}
    },
    {
      "cell_type": "code",
      "source": [
        "x_train_ptr = remote_torch.Tensor(x_train)\n",
        "y_train_ptr = remote_torch.LongTensor(y_train)\n",
        "x_test_ptr = remote_torch.Tensor(x_test)\n",
        "y_test_ptr = remote_torch.LongTensor(y_test)"
      ],
      "outputs": [],
      "execution_count": null,
      "metadata": {
        "gather": {
          "logged": 1631542952287
        }
      }
    },
    {
      "cell_type": "code",
      "source": [
        "x_train_ptr"
      ],
      "outputs": [],
      "execution_count": null,
      "metadata": {
        "jupyter": {
          "source_hidden": false,
          "outputs_hidden": false
        },
        "nteract": {
          "transient": {
            "deleting": false
          }
        },
        "gather": {
          "logged": 1631542955357
        }
      }
    },
    {
      "cell_type": "code",
      "source": [
        "batch_size = 32  # used for training\n",
        "xdl_ptr = remote_torch.utils.data.DataLoader(x_train_ptr, batch_size=batch_size)\n",
        "ydl_ptr = remote_torch.utils.data.DataLoader(y_train_ptr, batch_size=batch_size)\n",
        "xtdl_ptr = remote_torch.utils.data.DataLoader(x_test_ptr, batch_size=batch_size)\n",
        "ytdl_ptr = remote_torch.utils.data.DataLoader(y_test_ptr, batch_size=batch_size)"
      ],
      "outputs": [],
      "execution_count": null,
      "metadata": {
        "gather": {
          "logged": 1631542956778
        }
      }
    },
    {
      "cell_type": "code",
      "source": [
        "xdl_ptr"
      ],
      "outputs": [],
      "execution_count": null,
      "metadata": {
        "gather": {
          "logged": 1631542958551
        }
      }
    },
    {
      "cell_type": "markdown",
      "source": [
        "## Server: define the spit neural network used to train on the ECG dataset"
      ],
      "metadata": {}
    },
    {
      "cell_type": "markdown",
      "source": [
        "Client's side contains conv layers"
      ],
      "metadata": {
        "nteract": {
          "transient": {
            "deleting": false
          }
        }
      }
    },
    {
      "cell_type": "code",
      "source": [
        "class EcgClient(sy.Module):\n",
        "    # used by the data owners\n",
        "    def __init__(self, torch_ref):\n",
        "        super(EcgClient, self).__init__(torch_ref=torch_ref)\n",
        "        self.conv1 = self.torch_ref.nn.Conv1d(1, 16, 7, padding=3)  # 128 x 16\n",
        "        self.relu1 = self.torch_ref.nn.LeakyReLU()\n",
        "        self.pool1 = self.torch_ref.nn.MaxPool1d(2)  # 64 x 16\n",
        "        self.conv2 = self.torch_ref.nn.Conv1d(16, 16, 5, padding=2)  # 64 x 16\n",
        "        self.relu2 = self.torch_ref.nn.LeakyReLU()\n",
        "        self.pool2 = self.torch_ref.nn.MaxPool1d(2)  # 32 x 16\n",
        "    \n",
        "    def forward(self, x):\n",
        "        x = self.conv1(x)\n",
        "        x = self.relu1(x)\n",
        "        x = self.pool1(x)\n",
        "        x = self.conv2(x)\n",
        "        x = self.relu2(x)\n",
        "        x = self.pool2(x)\n",
        "        x = x.view(-1, 32 * 16)\n",
        "        return x"
      ],
      "outputs": [],
      "execution_count": null,
      "metadata": {
        "gather": {
          "logged": 1631542962218
        }
      }
    },
    {
      "cell_type": "markdown",
      "source": [
        "Server's side contains fully connected layers"
      ],
      "metadata": {
        "nteract": {
          "transient": {
            "deleting": false
          }
        }
      }
    },
    {
      "cell_type": "code",
      "source": [
        "class EcgServer(sy.Module):\n",
        "    def __init__(self, torch_ref):\n",
        "        super(EcgServer, self).__init__(torch_ref=torch_ref)\n",
        "        self.linear3 = nn.Linear(32 * 16, 128)\n",
        "        self.relu3 = nn.LeakyReLU() \n",
        "        self.linear4 = nn.Linear(128, 5)\n",
        "        self.softmax4 = nn.Softmax(dim=1)\n",
        "        \n",
        "    def forward(self, x):\n",
        "        x = self.linear3(x)\n",
        "        x = self.relu3(x)\n",
        "        x = self.linear4(x)\n",
        "        x = self.softmax4(x)\n",
        "        return x"
      ],
      "outputs": [],
      "execution_count": null,
      "metadata": {
        "gather": {
          "logged": 1631542963426
        }
      }
    },
    {
      "cell_type": "markdown",
      "source": [
        "## Server: training process"
      ],
      "metadata": {
        "nteract": {
          "transient": {
            "deleting": false
          }
        }
      }
    },
    {
      "cell_type": "code",
      "source": [
        "ecg_client = EcgClient(torch_ref=torch)\n",
        "checkpoint = torch.load(\"init_weight.pth\")\n",
        "ecg_client.conv1.weight.data = checkpoint[\"conv1.weight\"]\n",
        "ecg_client.conv1.bias.data = checkpoint[\"conv1.bias\"]\n",
        "ecg_client.conv2.weight.data = checkpoint[\"conv2.weight\"]\n",
        "ecg_client.conv2.bias.data = checkpoint[\"conv2.bias\"]\n",
        "\n",
        "ecg_server = EcgServer(torch_ref=torch)\n",
        "checkpoint = torch.load(\"init_weight.pth\")\n",
        "ecg_server.linear3.weight.data = checkpoint[\"linear3.weight\"]\n",
        "ecg_server.linear3.bias.data = checkpoint[\"linear3.bias\"]\n",
        "ecg_server.linear4.weight.data = checkpoint[\"linear4.weight\"]\n",
        "ecg_server.linear4.bias.data = checkpoint[\"linear4.bias\"]\n",
        "\n",
        "# Send the client's model to the client\n",
        "ecg_client_ptr = ecg_client.send(client)"
      ],
      "outputs": [],
      "execution_count": null,
      "metadata": {
        "jupyter": {
          "source_hidden": false,
          "outputs_hidden": false
        },
        "nteract": {
          "transient": {
            "deleting": false
          }
        },
        "gather": {
          "logged": 1631542969023
        }
      }
    },
    {
      "cell_type": "code",
      "source": [
        "batch_size = 32\n",
        "total_batch = 414  # 32*414=13248. We have 13245 data samples\n",
        "\n",
        "epoch = 400\n",
        "criterion = nn.CrossEntropyLoss()\n",
        "lr = 0.001\n",
        "\n",
        "optim_client = remote_torch.optim.Adam(params=ecg_client_ptr.parameters(), lr=lr)\n",
        "optim_server = torch.optim.Adam(params=ecg_server.parameters(), lr=lr)"
      ],
      "outputs": [],
      "execution_count": null,
      "metadata": {
        "jupyter": {
          "source_hidden": false,
          "outputs_hidden": false
        },
        "nteract": {
          "transient": {
            "deleting": false
          }
        },
        "gather": {
          "logged": 1631542970406
        }
      }
    },
    {
      "cell_type": "markdown",
      "source": [
        "### Training (with CUDA)"
      ],
      "metadata": {
        "nteract": {
          "transient": {
            "deleting": false
          }
        }
      }
    },
    {
      "cell_type": "markdown",
      "source": [
        "Put the models to cuda"
      ],
      "metadata": {
        "nteract": {
          "transient": {
            "deleting": false
          }
        }
      }
    },
    {
      "cell_type": "code",
      "source": [
        "# server side\n",
        "server_cuda_bool = torch.cuda.is_available()\n",
        "print(f'server device has CUDA? {server_cuda_bool}')\n",
        "server_device = torch.device('cuda:0' if torch.cuda.is_available() else 'cpu')\n",
        "print(f\"server's device: {torch.cuda.get_device_name(0)}\")\n",
        "if server_cuda_bool:\n",
        "    ecg_server.cuda(server_device)\n",
        "\n",
        "# client side\n",
        "client_cuda_ptr = remote_torch.cuda.is_available()\n",
        "client_bool_cuda = client_cuda_ptr.get_copy()\n",
        "print(f'client device has CUDA? {client_bool_cuda}')\n",
        "client_device_ptr = remote_torch.device(\"cuda:0\" if client_bool_cuda else \"cpu\")\n",
        "print(f'client device: {client_device_ptr.type.get_copy()}')\n",
        "# if we have CUDA lets send our model to the GPU\n",
        "if client_bool_cuda:\n",
        "    ecg_client_ptr.cuda(client_device_ptr)\n",
        "else:\n",
        "    ecg_client_ptr.cpu()"
      ],
      "outputs": [],
      "execution_count": null,
      "metadata": {
        "jupyter": {
          "source_hidden": false,
          "outputs_hidden": false
        },
        "nteract": {
          "transient": {
            "deleting": false
          }
        }
      }
    },
    {
      "cell_type": "markdown",
      "source": [
        "Functions needed to transfer tensors from cuda to cpu and vice versa"
      ],
      "metadata": {
        "nteract": {
          "transient": {
            "deleting": false
          }
        }
      }
    },
    {
      "cell_type": "code",
      "source": [
        "def ptr_to_cuda(cuda_bool: bool, tensor_ptr):\n",
        "    if cuda_bool:\n",
        "        return tensor_ptr.cuda()\n",
        "\n",
        "def ptr_to_cpu(tensor_ptr):\n",
        "    return tensor_ptr.cpu()"
      ],
      "outputs": [],
      "execution_count": null,
      "metadata": {
        "jupyter": {
          "source_hidden": false,
          "outputs_hidden": false
        },
        "nteract": {
          "transient": {
            "deleting": false
          }
        }
      }
    },
    {
      "cell_type": "code",
      "source": [
        "from tqdm import tqdm\n",
        "\n",
        "train_losses = list()\n",
        "train_accs = list()\n",
        "test_losses = list()\n",
        "test_accs = list()\n",
        "best_test_acc = 0  # best test accuracy\n",
        "for e in range(10):\n",
        "    print(f\"Epoch {e+1} - train \", end='')\n",
        "    \n",
        "    train_loss = 0.0\n",
        "    correct, total = 0, 0\n",
        "    for i in tqdm(range(20)):\n",
        "        # get the next batch's data\n",
        "        inputs_ptr = next(iter(xdl_ptr))\n",
        "        gt_ptr = next(iter(ydl_ptr))\n",
        "        inputs_ptr = ptr_to_cuda(client_bool_cuda, inputs_ptr)\n",
        "        # initialize all gradients to zero\n",
        "        optim_server.zero_grad()\n",
        "        optim_client.zero_grad()\n",
        "        # compute and get the activation signals from the first half of the network\n",
        "        activs_ptr = ecg_client_ptr(inputs_ptr)\n",
        "        # ic(activs_ptr.device.get())\n",
        "        # the server still gets access to plain activation signals\n",
        "        # activs_cpu_ptr = to_cpu(activs_ptr)  # convert to cpu before sending back to the server\n",
        "        activs = activs_ptr.clone().get(request_block=True)\n",
        "    #     # the server continues the forward pass on the activation maps\n",
        "        activs_server = activs.cuda()\n",
        "        y_hat = ecg_server(activs_server)\n",
        "    #     # the server asks to access ground truths in plain text, then put on GPU\n",
        "        y_gt = gt_ptr.get_copy().to(server_device)\n",
        "    #     # calculates cross-entropy loss\n",
        "        loss = criterion(y_hat, y_gt)\n",
        "        train_loss += loss.item()\n",
        "        correct += torch.sum(y_hat.argmax(dim=1) == y_gt).item()\n",
        "    #     # backward propagation (calculating gradients of the loss w.r.t the weights)\n",
        "        loss.backward()\n",
        "    #     # send the gradients to the client\n",
        "        client_grad_ptr = activs.grad.clone().send(client)\n",
        "    #     # update the gradients of the client's model\n",
        "        activs_ptr.backward(client_grad_ptr.cuda())\n",
        "    #     # update the weights based on the gradients\n",
        "        optim_client.step()\n",
        "        optim_server.step()\n",
        "        total += len(y_gt)\n",
        "\n",
        "    train_losses.append(train_loss / total_batch)\n",
        "    train_accs.append(correct / total)\n",
        "\n",
        "    print(f'loss: {train_losses[-1]: .4f}, accuracy: {train_accs[-1]*100: 2f}')"
      ],
      "outputs": [
        {
          "output_type": "stream",
          "name": "stdout",
          "text": "Epoch 1 - train "
        },
        {
          "output_type": "stream",
          "name": "stderr",
          "text": "\r  0%|          | 0/20 [00:00<?, ?it/s]\r  0%|          | 0/20 [00:00<?, ?it/s]\n"
        },
        {
          "output_type": "error",
          "ename": "TypeError",
          "evalue": "can't convert cuda:0 device type tensor to numpy. Use Tensor.cpu() to copy the tensor to host memory first.",
          "traceback": [
            "\u001b[0;31m---------------------------------------------------------------------------\u001b[0m",
            "\u001b[0;31mTypeError\u001b[0m                                 Traceback (most recent call last)",
            "\u001b[0;32m<ipython-input-42-ee8ffe8f3cc5>\u001b[0m in \u001b[0;36m<module>\u001b[0;34m\u001b[0m\n\u001b[1;32m     24\u001b[0m         \u001b[0;31m# the server still gets access to plain activation signals\u001b[0m\u001b[0;34m\u001b[0m\u001b[0;34m\u001b[0m\u001b[0;34m\u001b[0m\u001b[0m\n\u001b[1;32m     25\u001b[0m         \u001b[0;31m# activs_cpu_ptr = to_cpu(activs_ptr)  # convert to cpu before sending back to the server\u001b[0m\u001b[0;34m\u001b[0m\u001b[0;34m\u001b[0m\u001b[0;34m\u001b[0m\u001b[0m\n\u001b[0;32m---> 26\u001b[0;31m         \u001b[0mactivs\u001b[0m \u001b[0;34m=\u001b[0m \u001b[0mactivs_ptr\u001b[0m\u001b[0;34m.\u001b[0m\u001b[0mclone\u001b[0m\u001b[0;34m(\u001b[0m\u001b[0;34m)\u001b[0m\u001b[0;34m.\u001b[0m\u001b[0mget\u001b[0m\u001b[0;34m(\u001b[0m\u001b[0mrequest_block\u001b[0m\u001b[0;34m=\u001b[0m\u001b[0;32mTrue\u001b[0m\u001b[0;34m)\u001b[0m\u001b[0;34m\u001b[0m\u001b[0;34m\u001b[0m\u001b[0m\n\u001b[0m\u001b[1;32m     27\u001b[0m     \u001b[0;31m#     # the server continues the forward pass on the activation maps\u001b[0m\u001b[0;34m\u001b[0m\u001b[0;34m\u001b[0m\u001b[0;34m\u001b[0m\u001b[0m\n\u001b[1;32m     28\u001b[0m         \u001b[0mactivs_server\u001b[0m \u001b[0;34m=\u001b[0m \u001b[0mactivs\u001b[0m\u001b[0;34m.\u001b[0m\u001b[0mcuda\u001b[0m\u001b[0;34m(\u001b[0m\u001b[0;34m)\u001b[0m\u001b[0;34m\u001b[0m\u001b[0;34m\u001b[0m\u001b[0m\n",
            "\u001b[0;32m/anaconda/envs/SyftEnv2/lib/python3.9/site-packages/syft/core/pointer/pointer.py\u001b[0m in \u001b[0;36mget\u001b[0;34m(self, request_block, timeout_secs, reason, delete_obj, verbose)\u001b[0m\n\u001b[1;32m    279\u001b[0m                 \u001b[0;32mand\u001b[0m \u001b[0mresponse_status\u001b[0m \u001b[0;34m==\u001b[0m \u001b[0mRequestStatus\u001b[0m\u001b[0;34m.\u001b[0m\u001b[0mAccepted\u001b[0m\u001b[0;34m\u001b[0m\u001b[0;34m\u001b[0m\u001b[0m\n\u001b[1;32m    280\u001b[0m             ):\n\u001b[0;32m--> 281\u001b[0;31m                 \u001b[0mresult\u001b[0m \u001b[0;34m=\u001b[0m \u001b[0mself\u001b[0m\u001b[0;34m.\u001b[0m\u001b[0m_get\u001b[0m\u001b[0;34m(\u001b[0m\u001b[0mdelete_obj\u001b[0m\u001b[0;34m=\u001b[0m\u001b[0mdelete_obj\u001b[0m\u001b[0;34m,\u001b[0m \u001b[0mverbose\u001b[0m\u001b[0;34m=\u001b[0m\u001b[0mverbose\u001b[0m\u001b[0;34m)\u001b[0m\u001b[0;34m\u001b[0m\u001b[0;34m\u001b[0m\u001b[0m\n\u001b[0m\u001b[1;32m    282\u001b[0m             \u001b[0;32melse\u001b[0m\u001b[0;34m:\u001b[0m\u001b[0;34m\u001b[0m\u001b[0;34m\u001b[0m\u001b[0m\n\u001b[1;32m    283\u001b[0m                 \u001b[0;32mreturn\u001b[0m \u001b[0;32mNone\u001b[0m\u001b[0;34m\u001b[0m\u001b[0;34m\u001b[0m\u001b[0m\n",
            "\u001b[0;32m/anaconda/envs/SyftEnv2/lib/python3.9/site-packages/syft/core/pointer/pointer.py\u001b[0m in \u001b[0;36m_get\u001b[0;34m(self, delete_obj, verbose)\u001b[0m\n\u001b[1;32m    177\u001b[0m         )\n\u001b[1;32m    178\u001b[0m \u001b[0;34m\u001b[0m\u001b[0m\n\u001b[0;32m--> 179\u001b[0;31m         \u001b[0mobj\u001b[0m \u001b[0;34m=\u001b[0m \u001b[0mself\u001b[0m\u001b[0;34m.\u001b[0m\u001b[0mclient\u001b[0m\u001b[0;34m.\u001b[0m\u001b[0msend_immediate_msg_with_reply\u001b[0m\u001b[0;34m(\u001b[0m\u001b[0mmsg\u001b[0m\u001b[0;34m=\u001b[0m\u001b[0mobj_msg\u001b[0m\u001b[0;34m)\u001b[0m\u001b[0;34m.\u001b[0m\u001b[0mdata\u001b[0m\u001b[0;34m\u001b[0m\u001b[0;34m\u001b[0m\u001b[0m\n\u001b[0m\u001b[1;32m    180\u001b[0m         \u001b[0;32mif\u001b[0m \u001b[0mself\u001b[0m\u001b[0;34m.\u001b[0m\u001b[0mis_enum\u001b[0m\u001b[0;34m:\u001b[0m\u001b[0;34m\u001b[0m\u001b[0;34m\u001b[0m\u001b[0m\n\u001b[1;32m    181\u001b[0m             \u001b[0menum_class\u001b[0m \u001b[0;34m=\u001b[0m \u001b[0mself\u001b[0m\u001b[0;34m.\u001b[0m\u001b[0mclient\u001b[0m\u001b[0;34m.\u001b[0m\u001b[0mlib_ast\u001b[0m\u001b[0;34m.\u001b[0m\u001b[0mquery\u001b[0m\u001b[0;34m(\u001b[0m\u001b[0mself\u001b[0m\u001b[0;34m.\u001b[0m\u001b[0mpath_and_name\u001b[0m\u001b[0;34m)\u001b[0m\u001b[0;34m.\u001b[0m\u001b[0mobject_ref\u001b[0m\u001b[0;34m\u001b[0m\u001b[0;34m\u001b[0m\u001b[0m\n",
            "\u001b[0;32m/anaconda/envs/SyftEnv2/lib/python3.9/site-packages/syft/core/node/common/client.py\u001b[0m in \u001b[0;36msend_immediate_msg_with_reply\u001b[0;34m(self, msg, route_index)\u001b[0m\n\u001b[1;32m    226\u001b[0m             \u001b[0mmsg\u001b[0m \u001b[0;34m=\u001b[0m \u001b[0mmsg\u001b[0m\u001b[0;34m.\u001b[0m\u001b[0msign\u001b[0m\u001b[0;34m(\u001b[0m\u001b[0msigning_key\u001b[0m\u001b[0;34m=\u001b[0m\u001b[0mself\u001b[0m\u001b[0;34m.\u001b[0m\u001b[0msigning_key\u001b[0m\u001b[0;34m)\u001b[0m\u001b[0;34m\u001b[0m\u001b[0;34m\u001b[0m\u001b[0m\n\u001b[1;32m    227\u001b[0m \u001b[0;34m\u001b[0m\u001b[0m\n\u001b[0;32m--> 228\u001b[0;31m         \u001b[0mresponse\u001b[0m \u001b[0;34m=\u001b[0m \u001b[0mself\u001b[0m\u001b[0;34m.\u001b[0m\u001b[0mroutes\u001b[0m\u001b[0;34m[\u001b[0m\u001b[0mroute_index\u001b[0m\u001b[0;34m]\u001b[0m\u001b[0;34m.\u001b[0m\u001b[0msend_immediate_msg_with_reply\u001b[0m\u001b[0;34m(\u001b[0m\u001b[0mmsg\u001b[0m\u001b[0;34m=\u001b[0m\u001b[0mmsg\u001b[0m\u001b[0;34m)\u001b[0m\u001b[0;34m\u001b[0m\u001b[0;34m\u001b[0m\u001b[0m\n\u001b[0m\u001b[1;32m    229\u001b[0m         \u001b[0;32mif\u001b[0m \u001b[0mresponse\u001b[0m\u001b[0;34m.\u001b[0m\u001b[0mis_valid\u001b[0m\u001b[0;34m:\u001b[0m\u001b[0;34m\u001b[0m\u001b[0;34m\u001b[0m\u001b[0m\n\u001b[1;32m    230\u001b[0m             \u001b[0;31m# check if we have an ExceptionMessage to trigger a local exception\u001b[0m\u001b[0;34m\u001b[0m\u001b[0;34m\u001b[0m\u001b[0;34m\u001b[0m\u001b[0m\n",
            "\u001b[0;32m/anaconda/envs/SyftEnv2/lib/python3.9/site-packages/syft/core/io/route.py\u001b[0m in \u001b[0;36msend_immediate_msg_with_reply\u001b[0;34m(self, msg)\u001b[0m\n\u001b[1;32m    175\u001b[0m         \u001b[0mself\u001b[0m\u001b[0;34m,\u001b[0m \u001b[0mmsg\u001b[0m\u001b[0;34m:\u001b[0m \u001b[0mSignedImmediateSyftMessageWithReply\u001b[0m\u001b[0;34m\u001b[0m\u001b[0;34m\u001b[0m\u001b[0m\n\u001b[1;32m    176\u001b[0m     ) -> SignedImmediateSyftMessageWithoutReply:\n\u001b[0;32m--> 177\u001b[0;31m         \u001b[0;32mreturn\u001b[0m \u001b[0mself\u001b[0m\u001b[0;34m.\u001b[0m\u001b[0mconnection\u001b[0m\u001b[0;34m.\u001b[0m\u001b[0msend_immediate_msg_with_reply\u001b[0m\u001b[0;34m(\u001b[0m\u001b[0mmsg\u001b[0m\u001b[0;34m=\u001b[0m\u001b[0mmsg\u001b[0m\u001b[0;34m)\u001b[0m\u001b[0;34m\u001b[0m\u001b[0;34m\u001b[0m\u001b[0m\n\u001b[0m\u001b[1;32m    178\u001b[0m \u001b[0;34m\u001b[0m\u001b[0m\n\u001b[1;32m    179\u001b[0m     \u001b[0;32mdef\u001b[0m \u001b[0m_object2proto\u001b[0m\u001b[0;34m(\u001b[0m\u001b[0mself\u001b[0m\u001b[0;34m)\u001b[0m \u001b[0;34m->\u001b[0m \u001b[0mSoloRoute_PB\u001b[0m\u001b[0;34m:\u001b[0m\u001b[0;34m\u001b[0m\u001b[0;34m\u001b[0m\u001b[0m\n",
            "\u001b[0;32m/anaconda/envs/SyftEnv2/lib/python3.9/site-packages/syft/core/io/virtual.py\u001b[0m in \u001b[0;36msend_immediate_msg_with_reply\u001b[0;34m(self, msg)\u001b[0m\n\u001b[1;32m     73\u001b[0m         \u001b[0mself\u001b[0m\u001b[0;34m,\u001b[0m \u001b[0mmsg\u001b[0m\u001b[0;34m:\u001b[0m \u001b[0mSignedImmediateSyftMessageWithReply\u001b[0m\u001b[0;34m\u001b[0m\u001b[0;34m\u001b[0m\u001b[0m\n\u001b[1;32m     74\u001b[0m     ) -> SignedImmediateSyftMessageWithoutReply:\n\u001b[0;32m---> 75\u001b[0;31m         \u001b[0;32mreturn\u001b[0m \u001b[0mself\u001b[0m\u001b[0;34m.\u001b[0m\u001b[0mserver\u001b[0m\u001b[0;34m.\u001b[0m\u001b[0mrecv_immediate_msg_with_reply\u001b[0m\u001b[0;34m(\u001b[0m\u001b[0mmsg\u001b[0m\u001b[0;34m=\u001b[0m\u001b[0mmsg\u001b[0m\u001b[0;34m)\u001b[0m\u001b[0;34m\u001b[0m\u001b[0;34m\u001b[0m\u001b[0m\n\u001b[0m\u001b[1;32m     76\u001b[0m \u001b[0;34m\u001b[0m\u001b[0m\n\u001b[1;32m     77\u001b[0m     def send_eventual_msg_without_reply(\n",
            "\u001b[0;32m/anaconda/envs/SyftEnv2/lib/python3.9/site-packages/syft/core/io/virtual.py\u001b[0m in \u001b[0;36mrecv_immediate_msg_with_reply\u001b[0;34m(self, msg)\u001b[0m\n\u001b[1;32m     33\u001b[0m         \u001b[0mself\u001b[0m\u001b[0;34m,\u001b[0m \u001b[0mmsg\u001b[0m\u001b[0;34m:\u001b[0m \u001b[0mSignedImmediateSyftMessageWithReply\u001b[0m\u001b[0;34m\u001b[0m\u001b[0;34m\u001b[0m\u001b[0m\n\u001b[1;32m     34\u001b[0m     ) -> SignedImmediateSyftMessageWithoutReply:\n\u001b[0;32m---> 35\u001b[0;31m         \u001b[0;32mreturn\u001b[0m \u001b[0mself\u001b[0m\u001b[0;34m.\u001b[0m\u001b[0mnode\u001b[0m\u001b[0;34m.\u001b[0m\u001b[0mrecv_immediate_msg_with_reply\u001b[0m\u001b[0;34m(\u001b[0m\u001b[0mmsg\u001b[0m\u001b[0;34m=\u001b[0m\u001b[0mmsg\u001b[0m\u001b[0;34m)\u001b[0m\u001b[0;34m\u001b[0m\u001b[0;34m\u001b[0m\u001b[0m\n\u001b[0m\u001b[1;32m     36\u001b[0m \u001b[0;34m\u001b[0m\u001b[0m\n\u001b[1;32m     37\u001b[0m     def recv_immediate_msg_without_reply(\n",
            "\u001b[0;32m/anaconda/envs/SyftEnv2/lib/python3.9/site-packages/syft/core/node/common/node.py\u001b[0m in \u001b[0;36mrecv_immediate_msg_with_reply\u001b[0;34m(self, msg)\u001b[0m\n\u001b[1;32m    382\u001b[0m         \u001b[0;31m# maybe I shouldn't have created process_message because it screws up\u001b[0m\u001b[0;34m\u001b[0m\u001b[0;34m\u001b[0m\u001b[0;34m\u001b[0m\u001b[0m\n\u001b[1;32m    383\u001b[0m         \u001b[0;31m# all the type inference.\u001b[0m\u001b[0;34m\u001b[0m\u001b[0;34m\u001b[0m\u001b[0;34m\u001b[0m\u001b[0m\n\u001b[0;32m--> 384\u001b[0;31m         \u001b[0mres_msg\u001b[0m \u001b[0;34m=\u001b[0m \u001b[0mresponse\u001b[0m\u001b[0;34m.\u001b[0m\u001b[0msign\u001b[0m\u001b[0;34m(\u001b[0m\u001b[0msigning_key\u001b[0m\u001b[0;34m=\u001b[0m\u001b[0mself\u001b[0m\u001b[0;34m.\u001b[0m\u001b[0msigning_key\u001b[0m\u001b[0;34m)\u001b[0m  \u001b[0;31m# type: ignore\u001b[0m\u001b[0;34m\u001b[0m\u001b[0;34m\u001b[0m\u001b[0m\n\u001b[0m\u001b[1;32m    385\u001b[0m         output = (\n\u001b[1;32m    386\u001b[0m             \u001b[0;34mf\"> {self.pprint} Signing {res_msg.pprint} with \"\u001b[0m\u001b[0;34m\u001b[0m\u001b[0;34m\u001b[0m\u001b[0m\n",
            "\u001b[0;32m/anaconda/envs/SyftEnv2/lib/python3.9/site-packages/syft/core/common/message.py\u001b[0m in \u001b[0;36msign\u001b[0;34m(self, signing_key)\u001b[0m\n\u001b[1;32m     89\u001b[0m         \"\"\"\n\u001b[1;32m     90\u001b[0m         \u001b[0mdebug\u001b[0m\u001b[0;34m(\u001b[0m\u001b[0;34mf\"> Signing with {self.address.key_emoji(key=signing_key.verify_key)}\"\u001b[0m\u001b[0;34m)\u001b[0m\u001b[0;34m\u001b[0m\u001b[0;34m\u001b[0m\u001b[0m\n\u001b[0;32m---> 91\u001b[0;31m         \u001b[0msigned_message\u001b[0m \u001b[0;34m=\u001b[0m \u001b[0msigning_key\u001b[0m\u001b[0;34m.\u001b[0m\u001b[0msign\u001b[0m\u001b[0;34m(\u001b[0m\u001b[0mserialize\u001b[0m\u001b[0;34m(\u001b[0m\u001b[0mself\u001b[0m\u001b[0;34m,\u001b[0m \u001b[0mto_bytes\u001b[0m\u001b[0;34m=\u001b[0m\u001b[0;32mTrue\u001b[0m\u001b[0;34m)\u001b[0m\u001b[0;34m)\u001b[0m\u001b[0;34m\u001b[0m\u001b[0;34m\u001b[0m\u001b[0m\n\u001b[0m\u001b[1;32m     92\u001b[0m \u001b[0;34m\u001b[0m\u001b[0m\n\u001b[1;32m     93\u001b[0m         \u001b[0;31m# signed_type will be the final subclass callee's closest parent signed_type\u001b[0m\u001b[0;34m\u001b[0m\u001b[0;34m\u001b[0m\u001b[0;34m\u001b[0m\u001b[0m\n",
            "\u001b[0;32m/anaconda/envs/SyftEnv2/lib/python3.9/site-packages/syft/core/common/serde/serialize.py\u001b[0m in \u001b[0;36m_serialize\u001b[0;34m(obj, to_proto, to_bytes)\u001b[0m\n\u001b[1;32m     63\u001b[0m         \u001b[0;31m# indent=None means no white space or \\n in the serialized version\u001b[0m\u001b[0;34m\u001b[0m\u001b[0;34m\u001b[0m\u001b[0;34m\u001b[0m\u001b[0m\n\u001b[1;32m     64\u001b[0m         \u001b[0;31m# this is compatible with json.dumps(x, indent=None)\u001b[0m\u001b[0;34m\u001b[0m\u001b[0;34m\u001b[0m\u001b[0;34m\u001b[0m\u001b[0m\n\u001b[0;32m---> 65\u001b[0;31m         \u001b[0mserialized_data\u001b[0m \u001b[0;34m=\u001b[0m \u001b[0mis_serializable\u001b[0m\u001b[0;34m.\u001b[0m\u001b[0m_object2proto\u001b[0m\u001b[0;34m(\u001b[0m\u001b[0;34m)\u001b[0m\u001b[0;34m.\u001b[0m\u001b[0mSerializeToString\u001b[0m\u001b[0;34m(\u001b[0m\u001b[0;34m)\u001b[0m\u001b[0;34m\u001b[0m\u001b[0;34m\u001b[0m\u001b[0m\n\u001b[0m\u001b[1;32m     66\u001b[0m         blob: Message = DataMessage(\n\u001b[1;32m     67\u001b[0m             \u001b[0mobj_type\u001b[0m\u001b[0;34m=\u001b[0m\u001b[0mget_fully_qualified_name\u001b[0m\u001b[0;34m(\u001b[0m\u001b[0mobj\u001b[0m\u001b[0;34m=\u001b[0m\u001b[0mis_serializable\u001b[0m\u001b[0;34m)\u001b[0m\u001b[0;34m,\u001b[0m\u001b[0;34m\u001b[0m\u001b[0;34m\u001b[0m\u001b[0m\n",
            "\u001b[0;32m/anaconda/envs/SyftEnv2/lib/python3.9/site-packages/syft/core/node/common/action/get_object_action.py\u001b[0m in \u001b[0;36m_object2proto\u001b[0;34m(self)\u001b[0m\n\u001b[1;32m     62\u001b[0m             \u001b[0mobject\u001b[0m\u001b[0;34m.\u001b[0m\u001b[0;34m\u001b[0m\u001b[0;34m\u001b[0m\u001b[0m\n\u001b[1;32m     63\u001b[0m         \"\"\"\n\u001b[0;32m---> 64\u001b[0;31m         \u001b[0mser\u001b[0m \u001b[0;34m=\u001b[0m \u001b[0mserialize\u001b[0m\u001b[0;34m(\u001b[0m\u001b[0mself\u001b[0m\u001b[0;34m.\u001b[0m\u001b[0mobj\u001b[0m\u001b[0;34m)\u001b[0m\u001b[0;34m\u001b[0m\u001b[0;34m\u001b[0m\u001b[0m\n\u001b[0m\u001b[1;32m     65\u001b[0m \u001b[0;34m\u001b[0m\u001b[0m\n\u001b[1;32m     66\u001b[0m         return GetObjectResponseMessage_PB(\n",
            "\u001b[0;32m/anaconda/envs/SyftEnv2/lib/python3.9/site-packages/syft/core/common/serde/serialize.py\u001b[0m in \u001b[0;36m_serialize\u001b[0;34m(obj, to_proto, to_bytes)\u001b[0m\n\u001b[1;32m     70\u001b[0m         \u001b[0;32mreturn\u001b[0m \u001b[0mvalidate_type\u001b[0m\u001b[0;34m(\u001b[0m\u001b[0mblob\u001b[0m\u001b[0;34m.\u001b[0m\u001b[0mSerializeToString\u001b[0m\u001b[0;34m(\u001b[0m\u001b[0;34m)\u001b[0m\u001b[0;34m,\u001b[0m \u001b[0mbytes\u001b[0m\u001b[0;34m)\u001b[0m\u001b[0;34m\u001b[0m\u001b[0;34m\u001b[0m\u001b[0m\n\u001b[1;32m     71\u001b[0m     \u001b[0;32melif\u001b[0m \u001b[0mto_proto\u001b[0m\u001b[0;34m:\u001b[0m\u001b[0;34m\u001b[0m\u001b[0;34m\u001b[0m\u001b[0m\n\u001b[0;32m---> 72\u001b[0;31m         \u001b[0;32mreturn\u001b[0m \u001b[0mvalidate_type\u001b[0m\u001b[0;34m(\u001b[0m\u001b[0mis_serializable\u001b[0m\u001b[0;34m.\u001b[0m\u001b[0m_object2proto\u001b[0m\u001b[0;34m(\u001b[0m\u001b[0;34m)\u001b[0m\u001b[0;34m,\u001b[0m \u001b[0mMessage\u001b[0m\u001b[0;34m)\u001b[0m\u001b[0;34m\u001b[0m\u001b[0;34m\u001b[0m\u001b[0m\n\u001b[0m\u001b[1;32m     73\u001b[0m     \u001b[0;32melse\u001b[0m\u001b[0;34m:\u001b[0m\u001b[0;34m\u001b[0m\u001b[0;34m\u001b[0m\u001b[0m\n\u001b[1;32m     74\u001b[0m         traceback_and_raise(\n",
            "\u001b[0;32m/anaconda/envs/SyftEnv2/lib/python3.9/site-packages/syft/core/store/storeable_object.py\u001b[0m in \u001b[0;36m_object2proto\u001b[0;34m(self)\u001b[0m\n\u001b[1;32m    131\u001b[0m \u001b[0;34m\u001b[0m\u001b[0m\n\u001b[1;32m    132\u001b[0m         \u001b[0;31m# Step 3: Serialize data to protobuf and pack into proto\u001b[0m\u001b[0;34m\u001b[0m\u001b[0;34m\u001b[0m\u001b[0;34m\u001b[0m\u001b[0m\n\u001b[0;32m--> 133\u001b[0;31m         \u001b[0mdata\u001b[0m \u001b[0;34m=\u001b[0m \u001b[0mself\u001b[0m\u001b[0;34m.\u001b[0m\u001b[0m_data\u001b[0m\u001b[0;34m.\u001b[0m\u001b[0m_object2proto\u001b[0m\u001b[0;34m(\u001b[0m\u001b[0;34m)\u001b[0m\u001b[0;34m\u001b[0m\u001b[0;34m\u001b[0m\u001b[0m\n\u001b[0m\u001b[1;32m    134\u001b[0m \u001b[0;34m\u001b[0m\u001b[0m\n\u001b[1;32m    135\u001b[0m         \u001b[0mproto\u001b[0m\u001b[0;34m.\u001b[0m\u001b[0mdata\u001b[0m\u001b[0;34m.\u001b[0m\u001b[0mPack\u001b[0m\u001b[0;34m(\u001b[0m\u001b[0mdata\u001b[0m\u001b[0;34m)\u001b[0m\u001b[0;34m\u001b[0m\u001b[0;34m\u001b[0m\u001b[0m\n",
            "\u001b[0;32m/anaconda/envs/SyftEnv2/lib/python3.9/site-packages/syft/generate_wrapper.py\u001b[0m in \u001b[0;36m_object2proto\u001b[0;34m(self)\u001b[0m\n\u001b[1;32m     32\u001b[0m \u001b[0;34m\u001b[0m\u001b[0m\n\u001b[1;32m     33\u001b[0m         \u001b[0;32mdef\u001b[0m \u001b[0m_object2proto\u001b[0m\u001b[0;34m(\u001b[0m\u001b[0mself\u001b[0m\u001b[0;34m)\u001b[0m \u001b[0;34m->\u001b[0m \u001b[0mAny\u001b[0m\u001b[0;34m:\u001b[0m\u001b[0;34m\u001b[0m\u001b[0;34m\u001b[0m\u001b[0m\n\u001b[0;32m---> 34\u001b[0;31m             \u001b[0;32mreturn\u001b[0m \u001b[0mtype_object2proto\u001b[0m\u001b[0;34m(\u001b[0m\u001b[0mself\u001b[0m\u001b[0;34m.\u001b[0m\u001b[0mobj\u001b[0m\u001b[0;34m)\u001b[0m\u001b[0;34m\u001b[0m\u001b[0;34m\u001b[0m\u001b[0m\n\u001b[0m\u001b[1;32m     35\u001b[0m \u001b[0;34m\u001b[0m\u001b[0m\n\u001b[1;32m     36\u001b[0m         \u001b[0;34m@\u001b[0m\u001b[0mstaticmethod\u001b[0m\u001b[0;34m\u001b[0m\u001b[0;34m\u001b[0m\u001b[0m\n",
            "\u001b[0;32m/anaconda/envs/SyftEnv2/lib/python3.9/site-packages/syft/lib/torch/uppercase_tensor.py\u001b[0m in \u001b[0;36mobject2proto\u001b[0;34m(obj)\u001b[0m\n\u001b[1;32m     17\u001b[0m \u001b[0;32mdef\u001b[0m \u001b[0mobject2proto\u001b[0m\u001b[0;34m(\u001b[0m\u001b[0mobj\u001b[0m\u001b[0;34m:\u001b[0m \u001b[0mobject\u001b[0m\u001b[0;34m)\u001b[0m \u001b[0;34m->\u001b[0m \u001b[0mTensor_PB\u001b[0m\u001b[0;34m:\u001b[0m\u001b[0;34m\u001b[0m\u001b[0;34m\u001b[0m\u001b[0m\n\u001b[1;32m     18\u001b[0m     \u001b[0mproto\u001b[0m \u001b[0;34m=\u001b[0m \u001b[0mTensor_PB\u001b[0m\u001b[0;34m(\u001b[0m\u001b[0;34m)\u001b[0m\u001b[0;34m\u001b[0m\u001b[0;34m\u001b[0m\u001b[0m\n\u001b[0;32m---> 19\u001b[0;31m     \u001b[0mproto\u001b[0m\u001b[0;34m.\u001b[0m\u001b[0mtensor\u001b[0m \u001b[0;34m=\u001b[0m \u001b[0mtensor_serializer\u001b[0m\u001b[0;34m(\u001b[0m\u001b[0mobj\u001b[0m\u001b[0;34m)\u001b[0m\u001b[0;34m\u001b[0m\u001b[0;34m\u001b[0m\u001b[0m\n\u001b[0m\u001b[1;32m     20\u001b[0m \u001b[0;34m\u001b[0m\u001b[0m\n\u001b[1;32m     21\u001b[0m     \u001b[0mproto\u001b[0m\u001b[0;34m.\u001b[0m\u001b[0mrequires_grad\u001b[0m \u001b[0;34m=\u001b[0m \u001b[0mgetattr\u001b[0m\u001b[0;34m(\u001b[0m\u001b[0mobj\u001b[0m\u001b[0;34m,\u001b[0m \u001b[0;34m\"requires_grad\"\u001b[0m\u001b[0;34m,\u001b[0m \u001b[0;32mFalse\u001b[0m\u001b[0;34m)\u001b[0m\u001b[0;34m\u001b[0m\u001b[0;34m\u001b[0m\u001b[0m\n",
            "\u001b[0;32m/anaconda/envs/SyftEnv2/lib/python3.9/site-packages/syft/lib/torch/tensor_util.py\u001b[0m in \u001b[0;36mtensor_serializer\u001b[0;34m(tensor)\u001b[0m\n\u001b[1;32m     70\u001b[0m \u001b[0;34m\u001b[0m\u001b[0m\n\u001b[1;32m     71\u001b[0m     \u001b[0;32mif\u001b[0m \u001b[0mflags\u001b[0m\u001b[0;34m.\u001b[0m\u001b[0mAPACHE_ARROW_TENSOR_SERDE\u001b[0m\u001b[0;34m:\u001b[0m\u001b[0;34m\u001b[0m\u001b[0;34m\u001b[0m\u001b[0m\n\u001b[0;32m---> 72\u001b[0;31m         \u001b[0mprotobuf_tensor\u001b[0m\u001b[0;34m.\u001b[0m\u001b[0marrow_data\u001b[0m \u001b[0;34m=\u001b[0m \u001b[0marrow_data_encoding\u001b[0m\u001b[0;34m(\u001b[0m\u001b[0mtensor\u001b[0m\u001b[0;34m)\u001b[0m\u001b[0;34m\u001b[0m\u001b[0;34m\u001b[0m\u001b[0m\n\u001b[0m\u001b[1;32m     73\u001b[0m     \u001b[0;32melse\u001b[0m\u001b[0;34m:\u001b[0m\u001b[0;34m\u001b[0m\u001b[0;34m\u001b[0m\u001b[0m\n\u001b[1;32m     74\u001b[0m         \u001b[0mprotobuf_tensor\u001b[0m\u001b[0;34m.\u001b[0m\u001b[0mproto_data\u001b[0m \u001b[0;34m=\u001b[0m \u001b[0mprotobuf_data_encoding\u001b[0m\u001b[0;34m(\u001b[0m\u001b[0mtensor\u001b[0m\u001b[0;34m)\u001b[0m\u001b[0;34m\u001b[0m\u001b[0;34m\u001b[0m\u001b[0m\n",
            "\u001b[0;32m/anaconda/envs/SyftEnv2/lib/python3.9/site-packages/syft/lib/torch/tensor_util.py\u001b[0m in \u001b[0;36marrow_data_encoding\u001b[0;34m(tensor)\u001b[0m\n\u001b[1;32m     51\u001b[0m         \u001b[0mnumpy_tensor\u001b[0m \u001b[0;34m=\u001b[0m \u001b[0mtensor\u001b[0m\u001b[0;34m.\u001b[0m\u001b[0mdetach\u001b[0m\u001b[0;34m(\u001b[0m\u001b[0;34m)\u001b[0m\u001b[0;34m.\u001b[0m\u001b[0mint_repr\u001b[0m\u001b[0;34m(\u001b[0m\u001b[0;34m)\u001b[0m\u001b[0;34m.\u001b[0m\u001b[0mnumpy\u001b[0m\u001b[0;34m(\u001b[0m\u001b[0;34m)\u001b[0m\u001b[0;34m\u001b[0m\u001b[0;34m\u001b[0m\u001b[0m\n\u001b[1;32m     52\u001b[0m     \u001b[0;32melse\u001b[0m\u001b[0;34m:\u001b[0m\u001b[0;34m\u001b[0m\u001b[0;34m\u001b[0m\u001b[0m\n\u001b[0;32m---> 53\u001b[0;31m         \u001b[0mnumpy_tensor\u001b[0m \u001b[0;34m=\u001b[0m \u001b[0mtensor\u001b[0m\u001b[0;34m.\u001b[0m\u001b[0mdetach\u001b[0m\u001b[0;34m(\u001b[0m\u001b[0;34m)\u001b[0m\u001b[0;34m.\u001b[0m\u001b[0mnumpy\u001b[0m\u001b[0;34m(\u001b[0m\u001b[0;34m)\u001b[0m\u001b[0;34m\u001b[0m\u001b[0;34m\u001b[0m\u001b[0m\n\u001b[0m\u001b[1;32m     54\u001b[0m \u001b[0;34m\u001b[0m\u001b[0m\n\u001b[1;32m     55\u001b[0m     \u001b[0mapache_arrow\u001b[0m \u001b[0;34m=\u001b[0m \u001b[0mpa\u001b[0m\u001b[0;34m.\u001b[0m\u001b[0mTensor\u001b[0m\u001b[0;34m.\u001b[0m\u001b[0mfrom_numpy\u001b[0m\u001b[0;34m(\u001b[0m\u001b[0mobj\u001b[0m\u001b[0;34m=\u001b[0m\u001b[0mnumpy_tensor\u001b[0m\u001b[0;34m)\u001b[0m\u001b[0;34m\u001b[0m\u001b[0;34m\u001b[0m\u001b[0m\n",
            "\u001b[0;31mTypeError\u001b[0m: can't convert cuda:0 device type tensor to numpy. Use Tensor.cpu() to copy the tensor to host memory first."
          ]
        }
      ],
      "execution_count": 42,
      "metadata": {
        "jupyter": {
          "source_hidden": false,
          "outputs_hidden": false
        },
        "nteract": {
          "transient": {
            "deleting": false
          }
        },
        "gather": {
          "logged": 1631535789532
        }
      }
    },
    {
      "cell_type": "code",
      "source": [],
      "outputs": [],
      "execution_count": null,
      "metadata": {
        "jupyter": {
          "source_hidden": false,
          "outputs_hidden": false
        },
        "nteract": {
          "transient": {
            "deleting": false
          }
        }
      }
    }
  ],
  "metadata": {
    "kernelspec": {
      "name": "syftenv2",
      "language": "python",
      "display_name": "SyftEnv2"
    },
    "kernel_info": {
      "name": "syftenv2"
    },
    "nteract": {
      "version": "nteract-front-end@1.0.0"
    },
    "microsoft": {
      "host": {
        "AzureML": {
          "notebookHasBeenCompleted": true
        }
      }
    },
    "language_info": {
      "name": "python",
      "version": "3.9.6",
      "mimetype": "text/x-python",
      "codemirror_mode": {
        "name": "ipython",
        "version": 3
      },
      "pygments_lexer": "ipython3",
      "nbconvert_exporter": "python",
      "file_extension": ".py"
    },
    "interpreter": {
      "hash": "870a257bdc5888c6c86cab99e489c6f2724cdfe1684d5990b9d7489b2d46bf07"
    }
  },
  "nbformat": 4,
  "nbformat_minor": 2
}