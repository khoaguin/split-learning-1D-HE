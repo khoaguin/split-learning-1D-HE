{
 "cells": [
  {
   "cell_type": "markdown",
   "metadata": {},
   "source": [
    "# Train the 1D CNN Model on the PTB-XL Dataset"
   ]
  },
  {
   "cell_type": "markdown",
   "metadata": {},
   "source": [
    "## Import modules"
   ]
  },
  {
   "cell_type": "code",
   "execution_count": 20,
   "metadata": {},
   "outputs": [],
   "source": [
    "import h5py\n",
    "\n",
    "from pathlib import Path\n",
    "\n",
    "import torch\n",
    "from torch.utils.data import DataLoader, Dataset\n",
    "import torch.nn as nn\n",
    "from torch.optim import Adam\n"
   ]
  },
  {
   "cell_type": "code",
   "execution_count": 21,
   "metadata": {},
   "outputs": [
    {
     "data": {
      "text/plain": [
       "PosixPath('/home/dk/Desktop/projects/split-learning-1D-HE')"
      ]
     },
     "execution_count": 21,
     "metadata": {},
     "output_type": "execute_result"
    }
   ],
   "source": [
    "project_path = Path.cwd().parent\n",
    "project_path"
   ]
  },
  {
   "cell_type": "markdown",
   "metadata": {},
   "source": [
    "## Load the Dataset"
   ]
  },
  {
   "cell_type": "code",
   "execution_count": 22,
   "metadata": {},
   "outputs": [],
   "source": [
    "class PTBXL(Dataset):\n",
    "    \"\"\"\n",
    "    The class used by the client to \n",
    "    load the PTBXL dataset\n",
    "\n",
    "    Args:\n",
    "        Dataset ([type]): [description]\n",
    "    \"\"\"\n",
    "    def __init__(self, train=True):\n",
    "        if train:\n",
    "            with h5py.File(project_path/'data/train_ptbxl.hdf5', 'r') as hdf:\n",
    "                self.x = hdf['X_train'][:]\n",
    "                self.y = hdf['y_train'][:]\n",
    "        else:\n",
    "            with h5py.File(project_path/'data/test_ptbxl.hdf5', 'r') as hdf:\n",
    "                self.x = hdf['X_test'][:]\n",
    "                self.y = hdf['y_test'][:]\n",
    "    \n",
    "    def __len__(self):\n",
    "        return len(self.x)\n",
    "    \n",
    "    def __getitem__(self, idx):\n",
    "        return torch.tensor(self.x[idx], dtype=torch.float), torch.tensor(self.y[idx])"
   ]
  },
  {
   "cell_type": "code",
   "execution_count": 23,
   "metadata": {},
   "outputs": [],
   "source": [
    "train_ds = PTBXL(train=True)\n",
    "test_ds = PTBXL(train=False)\n",
    "train_loader = DataLoader(train_ds, batch_size=4)\n",
    "test_loader = DataLoader(test_ds, batch_size=4)"
   ]
  },
  {
   "cell_type": "markdown",
   "metadata": {},
   "source": [
    "Test if we loaded the data correctly"
   ]
  },
  {
   "cell_type": "code",
   "execution_count": 24,
   "metadata": {},
   "outputs": [
    {
     "name": "stdout",
     "output_type": "stream",
     "text": [
      "torch.Size([4, 12, 1000])\n",
      "tensor([0, 0, 0, 0])\n"
     ]
    }
   ],
   "source": [
    "x, y = next(iter(train_loader))\n",
    "print(x.shape)\n",
    "print(y)"
   ]
  },
  {
   "cell_type": "markdown",
   "metadata": {},
   "source": [
    "## Model"
   ]
  },
  {
   "cell_type": "code",
   "execution_count": 25,
   "metadata": {},
   "outputs": [],
   "source": [
    "class ECGConv1D(nn.Module):\n",
    "    def __init__(self):\n",
    "        super(ECGConv1D, self).__init__()\n",
    "        self.conv1 = nn.Conv1d(in_channels=12,\n",
    "                               out_channels=16,\n",
    "                               kernel_size=7,\n",
    "                               padding=3,\n",
    "                               stride=1)  # 16 x 1000\n",
    "        self.relu1 = nn.LeakyReLU()\n",
    "        self.pool1 = nn.MaxPool1d(2)  # 16 x 500\n",
    "        self.conv2 = nn.Conv1d(in_channels=16,\n",
    "                               out_channels=8,\n",
    "                               kernel_size=5,\n",
    "                               padding=2)  # 8 x 500\n",
    "        self.relu2 = nn.LeakyReLU()\n",
    "        self.pool2 = nn.MaxPool1d(2)  # 8 x 250 = 2000\n",
    "\n",
    "        self.linear = nn.Linear(8*250, 5)\n",
    "        self.softmax = nn.Softmax(dim=1)  # 0 is the batch dimension\n",
    "\n",
    "    def forward(self, x):\n",
    "        x = self.conv1(x)\n",
    "        x = self.relu1(x)\n",
    "        x = self.pool1(x)\n",
    "        x = self.conv2(x)\n",
    "        x = self.relu2(x)\n",
    "        x = self.pool2(x)\n",
    "        x = x.view(-1, 250*8)\n",
    "        x = self.linear(x)\n",
    "        x = self.softmax(x)\n",
    "        \n",
    "        return x\n",
    "\n",
    "model = ECGConv1D()"
   ]
  },
  {
   "cell_type": "markdown",
   "metadata": {},
   "source": [
    "## Training Loop"
   ]
  },
  {
   "cell_type": "code",
   "execution_count": 26,
   "metadata": {},
   "outputs": [],
   "source": [
    "def train(model: nn.Module, \n",
    "          lr: float, \n",
    "          epoch: int, \n",
    "          device: torch.device):\n",
    "    model = model.to(device)\n",
    "    criterion = nn.CrossEntropyLoss()\n",
    "    optimizer = Adam(model.parameters(), lr)\n",
    "    \n",
    "    train_losses = list()\n",
    "    train_accs = list()\n",
    "    test_losses = list()\n",
    "    test_accs = list()\n",
    "    best_test_acc = 0\n",
    "\n",
    "    for e in range(epoch):\n",
    "        print(f'Epoch {e+1}')\n",
    "\n",
    "        # train\n",
    "        train_loss = 0.0\n",
    "        correct, total = 0, 0\n",
    "        \n",
    "        for i, batch in enumerate(train_loader):\n",
    "            # forward pass\n",
    "            optimizer.zero_grad()\n",
    "            x, y = batch\n",
    "            x, y = x.to(device), y.to(device)\n",
    "            y_hat = model(x)\n",
    "            loss = criterion(y_hat, y)\n",
    "            # backward pass\n",
    "            loss.backward()\n",
    "            optimizer.step()\n",
    "\n",
    "            train_loss += loss.item()\n",
    "            correct += torch.sum(y_hat.argmax(dim=1) == y).item()\n",
    "            total += len(y)           \n",
    "\n",
    "        train_losses.append(train_loss / len(train_loader))\n",
    "        train_accs.append(correct / total)\n",
    "        print(f\"  train_loss: {train_losses[-1]:.4f}, \"\n",
    "              f\"train_acc: {train_accs[-1]*100:.2f}%\")\n",
    "        \n",
    "        # test\n",
    "        with torch.no_grad():\n",
    "            test_loss = 0.0\n",
    "            correct, total = 0, 0\n",
    "            for batch in test_loader:\n",
    "                x, y = batch\n",
    "                x, y = x.to(device), y.to(device)\n",
    "                y_hat = model(x)\n",
    "                loss = criterion(y_hat, y)\n",
    "            \n",
    "                test_loss += loss.item()\n",
    "                correct += torch.sum(y_hat.argmax(dim=1) == y).item()\n",
    "                total += len(y)\n",
    "            \n",
    "            test_losses.append(test_loss / len(test_loader))\n",
    "            test_accs.append(correct / total)\n",
    "\n",
    "        print(f\"  test_loss: {test_losses[-1]:.4f}, \"\n",
    "              f\"test_acc: {test_accs[-1]*100:.2f}%\")\n"
   ]
  },
  {
   "cell_type": "markdown",
   "metadata": {},
   "source": [
    "## Train the model"
   ]
  },
  {
   "cell_type": "code",
   "execution_count": 27,
   "metadata": {},
   "outputs": [
    {
     "name": "stdout",
     "output_type": "stream",
     "text": [
      "device: NVIDIA GeForce RTX 2060\n"
     ]
    }
   ],
   "source": [
    "device = torch.device('cuda:0' if torch.cuda.is_available() else 'cpu')\n",
    "if torch.cuda.is_available():\n",
    "    print(f'device: {torch.cuda.get_device_name(0)}')"
   ]
  },
  {
   "cell_type": "code",
   "execution_count": 28,
   "metadata": {},
   "outputs": [
    {
     "name": "stdout",
     "output_type": "stream",
     "text": [
      "Epoch 1\n",
      "  train_loss: 1.4387,   train_acc: 46.55%\n",
      "  test_loss: 1.3060,   test_acc: 59.55%\n",
      "Epoch 2\n",
      "  train_loss: 1.2521,   train_acc: 65.09%\n",
      "  test_loss: 1.2485,   test_acc: 65.28%\n",
      "Epoch 3\n",
      "  train_loss: 1.2209,   train_acc: 68.06%\n",
      "  test_loss: 1.2653,   test_acc: 63.52%\n",
      "Epoch 4\n",
      "  train_loss: 1.2094,   train_acc: 69.29%\n",
      "  test_loss: 1.2429,   test_acc: 65.70%\n",
      "Epoch 5\n",
      "  train_loss: 1.2032,   train_acc: 70.01%\n",
      "  test_loss: 1.2634,   test_acc: 63.66%\n",
      "Epoch 6\n",
      "  train_loss: 1.1990,   train_acc: 70.39%\n",
      "  test_loss: 1.2476,   test_acc: 65.23%\n",
      "Epoch 7\n",
      "  train_loss: 1.1923,   train_acc: 71.04%\n",
      "  test_loss: 1.2493,   test_acc: 65.37%\n",
      "Epoch 8\n",
      "  train_loss: 1.1885,   train_acc: 71.45%\n",
      "  test_loss: 1.2550,   test_acc: 64.49%\n",
      "Epoch 9\n",
      "  train_loss: 1.1822,   train_acc: 72.13%\n",
      "  test_loss: 1.2306,   test_acc: 67.08%\n",
      "Epoch 10\n",
      "  train_loss: 1.1850,   train_acc: 71.84%\n",
      "  test_loss: 1.2264,   test_acc: 67.68%\n"
     ]
    }
   ],
   "source": [
    "train(model, 0.001, 10, device)"
   ]
  },
  {
   "cell_type": "code",
   "execution_count": null,
   "metadata": {},
   "outputs": [],
   "source": []
  }
 ],
 "metadata": {
  "interpreter": {
   "hash": "e85e1ad9491ad1c682eddae450c0709b489a0cca29d103fde5874c05d9a030a5"
  },
  "kernelspec": {
   "display_name": "Python 3.8.12 ('privSecAI')",
   "language": "python",
   "name": "python3"
  },
  "language_info": {
   "codemirror_mode": {
    "name": "ipython",
    "version": 3
   },
   "file_extension": ".py",
   "mimetype": "text/x-python",
   "name": "python",
   "nbconvert_exporter": "python",
   "pygments_lexer": "ipython3",
   "version": "3.8.12"
  },
  "orig_nbformat": 4
 },
 "nbformat": 4,
 "nbformat_minor": 2
}
