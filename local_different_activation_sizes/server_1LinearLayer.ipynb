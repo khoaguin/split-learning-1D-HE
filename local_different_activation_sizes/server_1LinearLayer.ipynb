{
 "cells": [
  {
   "cell_type": "code",
   "execution_count": 14,
   "metadata": {},
   "outputs": [
    {
     "name": "stdout",
     "output_type": "stream",
     "text": [
      "torch version: 1.8.1+cu102\n",
      "tenseal version: 0.3.5\n",
      "project_path: /home/dk/Desktop/split-learning-1D-HE\n"
     ]
    }
   ],
   "source": [
    "import time\n",
    "from pathlib import Path\n",
    "import pandas as pd\n",
    "import matplotlib.pyplot as plt\n",
    "# plt.style.use('dark_background')\n",
    "\n",
    "import h5py\n",
    "import numpy as np\n",
    "import tenseal as ts\n",
    "import torch\n",
    "import torch.nn as nn\n",
    "import torch.nn.functional as F\n",
    "from icecream import ic\n",
    "ic.configureOutput(includeContext=True)\n",
    "from torch.optim import Adam, SGD\n",
    "from torch.utils.data import DataLoader, Dataset\n",
    "\n",
    "print(f'torch version: {torch.__version__}')\n",
    "print(f'tenseal version: {ts.__version__}')\n",
    "\n",
    "project_path = Path.cwd().parent\n",
    "print(f'project_path: {project_path}')"
   ]
  },
  {
   "cell_type": "markdown",
   "metadata": {},
   "source": [
    "## Dataset"
   ]
  },
  {
   "cell_type": "code",
   "execution_count": 15,
   "metadata": {},
   "outputs": [],
   "source": [
    "class ECG(Dataset):\n",
    "    \"\"\"The class used by the client to load the dataset\n",
    "\n",
    "    Args:\n",
    "        Dataset ([type]): [description]\n",
    "    \"\"\"\n",
    "    def __init__(self, train=True):\n",
    "        if train:\n",
    "            with h5py.File(project_path/'data/train_ecg.hdf5', 'r') as hdf:\n",
    "                self.x = hdf['x_train'][:]\n",
    "                self.y = hdf['y_train'][:]\n",
    "        else:\n",
    "            with h5py.File(project_path/'data/test_ecg.hdf5', 'r') as hdf:\n",
    "                self.x = hdf['x_test'][:]\n",
    "                self.y = hdf['y_test'][:]\n",
    "    \n",
    "    def __len__(self):\n",
    "        return len(self.x)\n",
    "    \n",
    "    def __getitem__(self, idx):\n",
    "        return torch.tensor(self.x[idx], dtype=torch.float), torch.tensor(self.y[idx])"
   ]
  },
  {
   "cell_type": "code",
   "execution_count": 16,
   "metadata": {},
   "outputs": [],
   "source": [
    "batch_size = 16\n",
    "train_dataset = ECG(train=True)\n",
    "test_dataset = ECG(train=False)\n",
    "train_loader = DataLoader(train_dataset, batch_size=batch_size)\n",
    "test_loader = DataLoader(test_dataset, batch_size=batch_size)"
   ]
  },
  {
   "cell_type": "code",
   "execution_count": 17,
   "metadata": {},
   "outputs": [
    {
     "name": "stdout",
     "output_type": "stream",
     "text": [
      "torch.Size([16, 1, 128])\n",
      "torch.Size([16])\n",
      "828\n"
     ]
    }
   ],
   "source": [
    "x_train, y_train = next(iter(train_loader))\n",
    "print(x_train.size())\n",
    "print(y_train.size())\n",
    "total_batch = len(train_loader)\n",
    "print(total_batch)"
   ]
  },
  {
   "cell_type": "markdown",
   "metadata": {},
   "source": [
    "## Training loop"
   ]
  },
  {
   "cell_type": "code",
   "execution_count": 18,
   "metadata": {},
   "outputs": [
    {
     "name": "stdout",
     "output_type": "stream",
     "text": [
      "device: NVIDIA GeForce GTX 1070 Ti\n"
     ]
    }
   ],
   "source": [
    "epoch = 10\n",
    "lr = 0.001\n",
    "device = torch.device('cuda:0' if torch.cuda.is_available() else 'cpu')\n",
    "if torch.cuda.is_available():\n",
    "    print(f'device: {torch.cuda.get_device_name(0)}')\n",
    "\n",
    "seed = 0\n",
    "np.random.seed(seed)\n",
    "torch.manual_seed(seed)\n",
    "torch.cuda.manual_seed(seed)\n",
    "torch.cuda.manual_seed_all(seed) # if you are using multi-GPU.\n",
    "torch.backends.cudnn.benchmark = False\n",
    "torch.backends.cudnn.deterministic = True\n",
    "\n",
    "def train(model, save_weight_path: str):\n",
    "    criterion = nn.CrossEntropyLoss()\n",
    "    optimizer = Adam(model.parameters(), lr=lr)\n",
    "\n",
    "    train_losses = list()\n",
    "    train_accs = list()\n",
    "    train_times = list()\n",
    "\n",
    "    test_losses = list()\n",
    "    test_accs = list()\n",
    "    test_times = list()\n",
    "\n",
    "    best_test_acc = 0  # best test accuracy \n",
    "\n",
    "    for e in range(epoch):\n",
    "        train_start = time.time()\n",
    "        print(\"Epoch {} - \".format(e+1), end='')\n",
    "\n",
    "        # train\n",
    "        train_loss = 0.0\n",
    "        correct, total = 0, 0\n",
    "        for i, batch in enumerate(train_loader):\n",
    "            x, label = batch  # get feature and label from a batch\n",
    "            x, label = x.to(device), label.to(device)  # send to device\n",
    "            optimizer.zero_grad()  # init all grads to zero\n",
    "            output = model(x)  # forward propagation\n",
    "            loss = criterion(output, label)  # calculate loss\n",
    "            loss.backward()  # backward propagation\n",
    "            optimizer.step()  # weight update\n",
    "\n",
    "            train_loss += loss.item()\n",
    "            correct += torch.sum(output.argmax(dim=1) == label).item()\n",
    "            total += len(label)\n",
    "\n",
    "        train_losses.append(train_loss / len(train_loader))\n",
    "        train_accs.append(correct / total)\n",
    "        train_end = time.time()\n",
    "        train_times.append(train_end-train_start)\n",
    "        print(\"loss: {:.4f}, acc: {:.2f}%\".format(train_losses[-1], train_accs[-1]*100), end=' / ')\n",
    "    \n",
    "        # test\n",
    "        test_start = time.time()\n",
    "        with torch.no_grad():\n",
    "            test_loss = 0.0\n",
    "            correct, total = 0, 0\n",
    "            for _, batch in enumerate(test_loader):\n",
    "                x, label = batch\n",
    "                x, label = x.to(device), label.to(device)\n",
    "                output = model(x)\n",
    "                loss = criterion(output, label)\n",
    "                \n",
    "                test_loss += loss.item()\n",
    "                correct += torch.sum(output.argmax(dim=1) == label).item()\n",
    "                total += len(label)\n",
    "            test_losses.append(test_loss / len(test_loader))\n",
    "            test_acc = correct / total\n",
    "            test_accs.append(test_acc)\n",
    "        test_end = time.time()\n",
    "        test_times.append(test_end-test_start)\n",
    "        print(\"test_loss: {:.4f}, test_acc: {:.2f}%\".format(test_losses[-1], test_accs[-1]*100))\n",
    "        if test_accs[-1] > best_test_acc:\n",
    "            best_test_acc = test_acc\n",
    "            torch.save(ecgnet.state_dict(), save_weight_path)  # save trained weights\n",
    "            print(f\"found new best test accuracy: {test_acc*100:.2f}%, save model\")\n",
    "\n",
    "    return train_losses, train_accs, train_times, test_losses, test_accs, test_times"
   ]
  },
  {
   "cell_type": "markdown",
   "metadata": {},
   "source": [
    "## Models"
   ]
  },
  {
   "cell_type": "markdown",
   "metadata": {},
   "source": [
    "### Model 1: 512 (activation maps length)"
   ]
  },
  {
   "cell_type": "code",
   "execution_count": 19,
   "metadata": {},
   "outputs": [
    {
     "name": "stdout",
     "output_type": "stream",
     "text": [
      "Epoch 1 - loss: 1.3313, acc: 58.86% / test_loss: 1.2179, test_acc: 70.62%\n",
      "found new best test accuracy: 70.62%, save model\n",
      "Epoch 2 - loss: 1.1869, acc: 73.36% / test_loss: 1.1478, test_acc: 76.69%\n",
      "found new best test accuracy: 76.69%, save model\n",
      "Epoch 3 - loss: 1.1487, acc: 76.43% / test_loss: 1.1213, test_acc: 78.88%\n",
      "found new best test accuracy: 78.88%, save model\n",
      "Epoch 4 - loss: 1.1166, acc: 79.49% / test_loss: 1.0987, test_acc: 80.87%\n",
      "found new best test accuracy: 80.87%, save model\n",
      "Epoch 5 - loss: 1.1052, acc: 80.33% / test_loss: 1.0936, test_acc: 81.33%\n",
      "found new best test accuracy: 81.33%, save model\n",
      "Epoch 6 - loss: 1.0996, acc: 80.75% / test_loss: 1.0910, test_acc: 81.51%\n",
      "found new best test accuracy: 81.51%, save model\n",
      "Epoch 7 - loss: 1.0961, acc: 80.94% / test_loss: 1.0883, test_acc: 81.65%\n",
      "found new best test accuracy: 81.65%, save model\n",
      "Epoch 8 - loss: 1.0731, acc: 83.55% / test_loss: 1.0472, test_acc: 86.01%\n",
      "found new best test accuracy: 86.01%, save model\n",
      "Epoch 9 - loss: 1.0535, acc: 85.45% / test_loss: 1.0403, test_acc: 86.60%\n",
      "found new best test accuracy: 86.60%, save model\n",
      "Epoch 10 - loss: 1.0480, acc: 85.93% / test_loss: 1.0369, test_acc: 86.89%\n",
      "found new best test accuracy: 86.89%, save model\n"
     ]
    }
   ],
   "source": [
    "class ECGConv1D512(nn.Module):\n",
    "    def __init__(self):\n",
    "        super(ECGConv1D512, self).__init__()\n",
    "        self.conv1 = nn.Conv1d(1, 16, 7, padding=3)  # 128 x 16\n",
    "        self.relu1 = nn.LeakyReLU()\n",
    "        self.pool1 = nn.MaxPool1d(2)  # 64 x 16\n",
    "        self.conv2 = nn.Conv1d(16, 16, 5, padding=2)  # 64 x 16\n",
    "        self.relu2 = nn.LeakyReLU()\n",
    "        self.pool2 = nn.MaxPool1d(2)  # 32 x 16 = 512\n",
    "\n",
    "        self.linear = nn.Linear(32 * 16, 5)\n",
    "        self.softmax = nn.Softmax(dim=1)\n",
    "    \n",
    "    def forward(self, x):\n",
    "        x = self.conv1(x)\n",
    "        x = self.relu1(x)\n",
    "        x = self.pool1(x)\n",
    "        x = self.conv2(x)\n",
    "        x = self.relu2(x)\n",
    "        x = self.pool2(x)\n",
    "        x = x.view(-1, 32 * 16)\n",
    "        x = self.linear(x)\n",
    "        x = self.softmax(x)\n",
    "        return x    \n",
    "\n",
    "ecgnet = ECGConv1D512()\n",
    "ecgnet = ecgnet.to(device)\n",
    "train_losses, train_accs, train_times, \\\n",
    "    test_losses, test_accs, test_times = train(ecgnet, 'weights/trained_weight_512_1_bz1.pth')    "
   ]
  },
  {
   "cell_type": "markdown",
   "metadata": {},
   "source": [
    "### Model 2: 128"
   ]
  },
  {
   "cell_type": "code",
   "execution_count": 12,
   "metadata": {},
   "outputs": [
    {
     "name": "stdout",
     "output_type": "stream",
     "text": [
      "Epoch 1 - loss: 1.3177, acc: 60.60% / test_loss: 1.1814, test_acc: 74.59%\n",
      "found new best test accuracy: 74.59%, save model\n",
      "Epoch 2 - loss: 1.1689, acc: 74.51% / test_loss: 1.1482, test_acc: 76.35%\n",
      "found new best test accuracy: 76.35%, save model\n",
      "Epoch 3 - loss: 1.1500, acc: 75.91% / test_loss: 1.1298, test_acc: 77.67%\n",
      "found new best test accuracy: 77.67%, save model\n",
      "Epoch 4 - loss: 1.1302, acc: 77.60% / test_loss: 1.1152, test_acc: 78.99%\n",
      "found new best test accuracy: 78.99%, save model\n",
      "Epoch 5 - loss: 1.1185, acc: 78.72% / test_loss: 1.1052, test_acc: 80.00%\n",
      "found new best test accuracy: 80.00%, save model\n",
      "Epoch 6 - loss: 1.1127, acc: 79.28% / test_loss: 1.1015, test_acc: 80.23%\n",
      "found new best test accuracy: 80.23%, save model\n",
      "Epoch 7 - loss: 1.1053, acc: 80.08% / test_loss: 1.0932, test_acc: 81.11%\n",
      "found new best test accuracy: 81.11%, save model\n",
      "Epoch 8 - loss: 1.1009, acc: 80.39% / test_loss: 1.0888, test_acc: 81.43%\n",
      "found new best test accuracy: 81.43%, save model\n",
      "Epoch 9 - loss: 1.0968, acc: 80.84% / test_loss: 1.0860, test_acc: 81.76%\n",
      "found new best test accuracy: 81.76%, save model\n",
      "Epoch 10 - loss: 1.0952, acc: 80.87% / test_loss: 1.0835, test_acc: 81.99%\n",
      "found new best test accuracy: 81.99%, save model\n"
     ]
    }
   ],
   "source": [
    "class ECGConv1D128(nn.Module):\n",
    "    def __init__(self):\n",
    "        super(ECGConv1D128, self).__init__()\n",
    "        self.conv1 = nn.Conv1d(in_channels=1, \n",
    "                               out_channels=16, \n",
    "                               kernel_size=7, \n",
    "                               padding=3,\n",
    "                               stride=1)  # 128 x 16\n",
    "        self.relu1 = nn.LeakyReLU()\n",
    "        self.pool1 = nn.MaxPool1d(2)  # 64 x 16\n",
    "        self.conv2 = nn.Conv1d(in_channels=16, \n",
    "                               out_channels=4, \n",
    "                               kernel_size=5, \n",
    "                               padding=2,\n",
    "                               stride=1)  # 64 x 4\n",
    "        self.relu2 = nn.LeakyReLU()\n",
    "        self.pool2 = nn.MaxPool1d(2)  # 32 x 4 = 128\n",
    "        \n",
    "        self.linear = nn.Linear(128, 5)\n",
    "        self.softmax = nn.Softmax(dim=1)\n",
    "    \n",
    "    def forward(self, x):\n",
    "        x = self.conv1(x)\n",
    "        x = self.relu1(x)\n",
    "        x = self.pool1(x)\n",
    "        x = self.conv2(x)\n",
    "        x = self.relu2(x)\n",
    "        x = self.pool2(x)\n",
    "        x = x.view(-1, 128)\n",
    "        x = self.linear(x)\n",
    "        x = self.softmax(x)\n",
    "        return x\n",
    "\n",
    "ecgnet = ECGConv1D128()\n",
    "train_losses, train_accs, train_times, \\\n",
    "    test_losses, test_accs, test_times = train(ecgnet.to(device), \n",
    "                        'weights/trained_weight_128_1.pth')"
   ]
  },
  {
   "cell_type": "markdown",
   "metadata": {},
   "source": [
    "## Model 3: 64"
   ]
  },
  {
   "cell_type": "code",
   "execution_count": 13,
   "metadata": {},
   "outputs": [
    {
     "name": "stdout",
     "output_type": "stream",
     "text": [
      "Epoch 1 - loss: 1.3498, acc: 57.58% / test_loss: 1.2441, test_acc: 67.63%\n",
      "found new best test accuracy: 67.63%, save model\n",
      "Epoch 2 - loss: 1.2282, acc: 68.46% / test_loss: 1.1948, test_acc: 71.20%\n",
      "found new best test accuracy: 71.20%, save model\n",
      "Epoch 3 - loss: 1.1818, acc: 73.70% / test_loss: 1.1568, test_acc: 75.57%\n",
      "found new best test accuracy: 75.57%, save model\n",
      "Epoch 4 - loss: 1.1608, acc: 75.22% / test_loss: 1.1531, test_acc: 75.82%\n",
      "found new best test accuracy: 75.82%, save model\n",
      "Epoch 5 - loss: 1.1497, acc: 76.01% / test_loss: 1.1481, test_acc: 76.03%\n",
      "found new best test accuracy: 76.03%, save model\n",
      "Epoch 6 - loss: 1.1406, acc: 76.76% / test_loss: 1.1328, test_acc: 77.30%\n",
      "found new best test accuracy: 77.30%, save model\n",
      "Epoch 7 - loss: 1.1367, acc: 76.96% / test_loss: 1.1275, test_acc: 77.83%\n",
      "found new best test accuracy: 77.83%, save model\n",
      "Epoch 8 - loss: 1.1328, acc: 77.33% / test_loss: 1.1249, test_acc: 78.11%\n",
      "found new best test accuracy: 78.11%, save model\n",
      "Epoch 9 - loss: 1.1297, acc: 77.55% / test_loss: 1.1203, test_acc: 78.49%\n",
      "found new best test accuracy: 78.49%, save model\n",
      "Epoch 10 - loss: 1.1256, acc: 77.94% / test_loss: 1.1191, test_acc: 78.57%\n",
      "found new best test accuracy: 78.57%, save model\n"
     ]
    }
   ],
   "source": [
    "class ECGConv1D64(nn.Module):\n",
    "    def __init__(self):\n",
    "        super(ECGConv1D64, self).__init__()\n",
    "        self.conv1 = nn.Conv1d(in_channels=1, \n",
    "                               out_channels=16, \n",
    "                               kernel_size=7, \n",
    "                               padding=3,\n",
    "                               stride=1)  # 128 x 16\n",
    "        self.relu1 = nn.LeakyReLU()\n",
    "        self.pool1 = nn.MaxPool1d(2)  # 64 x 16\n",
    "        self.conv2 = nn.Conv1d(in_channels=16, \n",
    "                               out_channels=4, \n",
    "                               kernel_size=5, \n",
    "                               padding=2,\n",
    "                               stride=1)  # 64 x 4\n",
    "        self.relu2 = nn.LeakyReLU()\n",
    "        self.pool2 = nn.MaxPool1d(2)  # 32 x 4 = 128\n",
    "        \n",
    "        self.linear = nn.Linear(128, 5)\n",
    "        self.softmax = nn.Softmax(dim=1)\n",
    "    \n",
    "    def forward(self, x):\n",
    "        x = self.conv1(x)\n",
    "        x = self.relu1(x)\n",
    "        x = self.pool1(x)\n",
    "        x = self.conv2(x)\n",
    "        x = self.relu2(x)\n",
    "        x = self.pool2(x)\n",
    "        x = x.view(-1, 128)\n",
    "        x = self.linear(x)\n",
    "        x = self.softmax(x)\n",
    "        return x\n",
    "\n",
    "ecgnet = ECGConv1D64()\n",
    "train_losses, train_accs, train_times, \\\n",
    "    test_losses, test_accs, test_times = train(ecgnet.to(device), \n",
    "                            'weights/trained_weight_64_1.pth')"
   ]
  }
 ],
 "metadata": {
  "interpreter": {
   "hash": "4fb056718432581df00ec0ea1d8474ad391dc3f52021963853b762465b19daea"
  },
  "kernelspec": {
   "display_name": "Python 3.9.7 64-bit ('privsecai': conda)",
   "language": "python",
   "name": "python3"
  },
  "language_info": {
   "codemirror_mode": {
    "name": "ipython",
    "version": 3
   },
   "file_extension": ".py",
   "mimetype": "text/x-python",
   "name": "python",
   "nbconvert_exporter": "python",
   "pygments_lexer": "ipython3",
   "version": "3.9.7"
  },
  "orig_nbformat": 4
 },
 "nbformat": 4,
 "nbformat_minor": 2
}
