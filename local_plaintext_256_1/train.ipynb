{
 "cells": [
  {
   "cell_type": "markdown",
   "metadata": {},
   "source": [
    "# Training Locally on Plaintext Data"
   ]
  },
  {
   "cell_type": "code",
   "execution_count": 1,
   "metadata": {},
   "outputs": [
    {
     "name": "stdout",
     "output_type": "stream",
     "text": [
      "torch version: 1.8.1+cu102\n",
      "tenseal version: 0.3.5\n",
      "project_path: /home/dk/Desktop/split-learning-1D-HE\n"
     ]
    }
   ],
   "source": [
    "import time\n",
    "from pathlib import Path\n",
    "import pandas as pd\n",
    "import matplotlib.pyplot as plt\n",
    "# plt.style.use('dark_background')\n",
    "\n",
    "import h5py\n",
    "import numpy as np\n",
    "import tenseal as ts\n",
    "import torch\n",
    "import torch.nn as nn\n",
    "import torch.nn.functional as F\n",
    "from icecream import ic\n",
    "ic.configureOutput(includeContext=True)\n",
    "from torch.optim import Adam, SGD\n",
    "from torch.utils.data import DataLoader, Dataset\n",
    "\n",
    "print(f'torch version: {torch.__version__}')\n",
    "print(f'tenseal version: {ts.__version__}')\n",
    "\n",
    "project_path = Path.cwd().parent\n",
    "print(f'project_path: {project_path}')"
   ]
  },
  {
   "cell_type": "markdown",
   "metadata": {},
   "source": [
    "## Dataset"
   ]
  },
  {
   "cell_type": "code",
   "execution_count": 2,
   "metadata": {},
   "outputs": [],
   "source": [
    "class ECG(Dataset):\n",
    "    \"\"\"The class used by the client to load the dataset\n",
    "\n",
    "    Args:\n",
    "        Dataset ([type]): [description]\n",
    "    \"\"\"\n",
    "    def __init__(self, train=True):\n",
    "        if train:\n",
    "            with h5py.File(project_path/'data/train_ecg.hdf5', 'r') as hdf:\n",
    "                self.x = hdf['x_train'][:]\n",
    "                self.y = hdf['y_train'][:]\n",
    "        else:\n",
    "            with h5py.File(project_path/'data/test_ecg.hdf5', 'r') as hdf:\n",
    "                self.x = hdf['x_test'][:]\n",
    "                self.y = hdf['y_test'][:]\n",
    "    \n",
    "    def __len__(self):\n",
    "        return len(self.x)\n",
    "    \n",
    "    def __getitem__(self, idx):\n",
    "        return torch.tensor(self.x[idx], dtype=torch.float), torch.tensor(self.y[idx])"
   ]
  },
  {
   "cell_type": "code",
   "execution_count": 3,
   "metadata": {},
   "outputs": [],
   "source": [
    "batch_size = 4\n",
    "train_dataset = ECG(train=True)\n",
    "test_dataset = ECG(train=False)\n",
    "train_loader = DataLoader(train_dataset, batch_size=batch_size)\n",
    "test_loader = DataLoader(test_dataset, batch_size=batch_size)"
   ]
  },
  {
   "cell_type": "code",
   "execution_count": 4,
   "metadata": {},
   "outputs": [
    {
     "name": "stdout",
     "output_type": "stream",
     "text": [
      "torch.Size([4, 1, 128])\n",
      "torch.Size([4])\n",
      "3312\n"
     ]
    }
   ],
   "source": [
    "x_train, y_train = next(iter(train_loader))\n",
    "print(x_train.size())\n",
    "print(y_train.size())\n",
    "total_batch = len(train_loader)\n",
    "print(total_batch)"
   ]
  },
  {
   "cell_type": "markdown",
   "metadata": {},
   "source": [
    "## Training loop"
   ]
  },
  {
   "cell_type": "code",
   "execution_count": 5,
   "metadata": {},
   "outputs": [
    {
     "name": "stdout",
     "output_type": "stream",
     "text": [
      "device: NVIDIA GeForce GTX 1070 Ti\n"
     ]
    }
   ],
   "source": [
    "epoch = 10\n",
    "lr = 0.001\n",
    "device = torch.device('cuda:0' if torch.cuda.is_available() else 'cpu')\n",
    "if torch.cuda.is_available():\n",
    "    print(f'device: {torch.cuda.get_device_name(0)}')"
   ]
  },
  {
   "cell_type": "code",
   "execution_count": 6,
   "metadata": {},
   "outputs": [],
   "source": [
    "seed = 0\n",
    "np.random.seed(seed)\n",
    "torch.manual_seed(seed)\n",
    "torch.cuda.manual_seed(seed)\n",
    "torch.cuda.manual_seed_all(seed) # if you are using multi-GPU.\n",
    "torch.backends.cudnn.benchmark = False\n",
    "torch.backends.cudnn.deterministic = True"
   ]
  },
  {
   "cell_type": "code",
   "execution_count": 7,
   "metadata": {},
   "outputs": [],
   "source": [
    "def train(model):\n",
    "    criterion = nn.CrossEntropyLoss()\n",
    "    optimizer = Adam(model.parameters(), lr=lr)\n",
    "\n",
    "    train_losses = list()\n",
    "    train_accs = list()\n",
    "    train_times = list()\n",
    "\n",
    "    test_losses = list()\n",
    "    test_accs = list()\n",
    "    test_times = list()\n",
    "\n",
    "    best_test_acc = 0  # best test accuracy \n",
    "\n",
    "    for e in range(epoch):\n",
    "        train_start = time.time()\n",
    "        print(\"Epoch {} - \".format(e+1), end='')\n",
    "\n",
    "        # train\n",
    "        train_loss = 0.0\n",
    "        correct, total = 0, 0\n",
    "        for i, batch in enumerate(train_loader):\n",
    "            x, label = batch  # get feature and label from a batch\n",
    "            x, label = x.to(device), label.to(device)  # send to device\n",
    "            optimizer.zero_grad()  # init all grads to zero\n",
    "            output = model(x)  # forward propagation\n",
    "            loss = criterion(output, label)  # calculate loss\n",
    "            loss.backward()  # backward propagation\n",
    "            optimizer.step()  # weight update\n",
    "\n",
    "            train_loss += loss.item()\n",
    "            correct += torch.sum(output.argmax(dim=1) == label).item()\n",
    "            total += len(label)\n",
    "\n",
    "        train_losses.append(train_loss / len(train_loader))\n",
    "        train_accs.append(correct / total)\n",
    "        train_end = time.time()\n",
    "        train_times.append(train_end-train_start)\n",
    "        print(\"loss: {:.4f}, acc: {:.2f}%\".format(train_losses[-1], train_accs[-1]*100), end=' / ')\n",
    "    \n",
    "        # test\n",
    "        test_start = time.time()\n",
    "        with torch.no_grad():\n",
    "            test_loss = 0.0\n",
    "            correct, total = 0, 0\n",
    "            for _, batch in enumerate(test_loader):\n",
    "                x, label = batch\n",
    "                x, label = x.to(device), label.to(device)\n",
    "                output = model(x)\n",
    "                loss = criterion(output, label)\n",
    "                \n",
    "                test_loss += loss.item()\n",
    "                correct += torch.sum(output.argmax(dim=1) == label).item()\n",
    "                total += len(label)\n",
    "            test_losses.append(test_loss / len(test_loader))\n",
    "            test_accs.append(correct / total)\n",
    "        test_end = time.time()\n",
    "        test_times.append(test_end-test_start)\n",
    "        print(\"test_loss: {:.4f}, test_acc: {:.2f}%\".format(test_losses[-1], test_accs[-1]*100))\n",
    "\n",
    "    return train_losses, train_accs, train_times, test_losses, test_accs, test_times"
   ]
  },
  {
   "cell_type": "markdown",
   "metadata": {},
   "source": [
    "## Model"
   ]
  },
  {
   "cell_type": "code",
   "execution_count": 8,
   "metadata": {},
   "outputs": [],
   "source": [
    "class ECGConv1D(nn.Module):\n",
    "    def __init__(self):\n",
    "        super(ECGConv1D, self).__init__()\n",
    "        self.conv1 = nn.Conv1d(in_channels=1, \n",
    "                               out_channels=16, \n",
    "                               kernel_size=7, \n",
    "                               padding=3,\n",
    "                               stride=1)  # 128 x 16\n",
    "        self.relu1 = nn.LeakyReLU()\n",
    "        self.pool1 = nn.MaxPool1d(2)  # 64 x 16\n",
    "        self.conv2 = nn.Conv1d(in_channels=16, \n",
    "                               out_channels=8, \n",
    "                               kernel_size=5, \n",
    "                               padding=2)  # 64 x 8\n",
    "        self.relu2 = nn.LeakyReLU()\n",
    "        self.pool2 = nn.MaxPool1d(2)  # 32 x 8 = 256\n",
    "        \n",
    "        self.linear = nn.Linear(256, 5)\n",
    "        self.softmax = nn.Softmax(dim=1)\n",
    "    \n",
    "    def forward(self, x):\n",
    "        x = self.conv1(x)\n",
    "        x = self.relu1(x)\n",
    "        x = self.pool1(x)\n",
    "        x = self.conv2(x)\n",
    "        x = self.relu2(x)\n",
    "        x = self.pool2(x)\n",
    "        x = x.view(-1, 256)\n",
    "        x = self.linear(x)\n",
    "        x = self.softmax(x)\n",
    "        return x"
   ]
  },
  {
   "cell_type": "code",
   "execution_count": 10,
   "metadata": {},
   "outputs": [
    {
     "name": "stdout",
     "output_type": "stream",
     "text": [
      "Epoch 1 - loss: 1.2800, acc: 63.86% / test_loss: 1.1750, test_acc: 75.02%\n",
      "Epoch 2 - loss: 1.1591, acc: 75.33% / test_loss: 1.1305, test_acc: 78.04%\n",
      "Epoch 3 - loss: 1.1167, acc: 79.18% / test_loss: 1.0763, test_acc: 83.23%\n",
      "Epoch 4 - loss: 1.0686, acc: 84.21% / test_loss: 1.0504, test_acc: 85.90%\n",
      "Epoch 5 - loss: 1.0549, acc: 85.35% / test_loss: 1.0379, test_acc: 86.95%\n",
      "Epoch 6 - loss: 1.0502, acc: 85.61% / test_loss: 1.0347, test_acc: 87.19%\n",
      "Epoch 7 - loss: 1.0457, acc: 86.08% / test_loss: 1.0306, test_acc: 87.51%\n",
      "Epoch 8 - loss: 1.0444, acc: 86.20% / test_loss: 1.0287, test_acc: 87.66%\n",
      "Epoch 9 - loss: 1.0415, acc: 86.36% / test_loss: 1.0270, test_acc: 87.90%\n",
      "Epoch 10 - loss: 1.0377, acc: 86.70% / test_loss: 1.0243, test_acc: 88.06%\n"
     ]
    }
   ],
   "source": [
    "ecgnet = ECGConv1D()\n",
    "ecgnet.load_state_dict(torch.load(project_path/'weights/init_weight_256.pth'))\n",
    "train_losses, train_accs, train_times, \\\n",
    "        test_losses, test_accs, test_times = train(ecgnet.to(device))\n",
    "# torch.save(ecgnet.state_dict(), 'weights/trained_weight_256.pth')  # save trained weights    "
   ]
  },
  {
   "cell_type": "code",
   "execution_count": 10,
   "metadata": {},
   "outputs": [
    {
     "name": "stdout",
     "output_type": "stream",
     "text": [
      "best test accuracy: 88.50 at epoch 13\n",
      "avg training time for one epoch: 4.75s\n",
      "avg testing time for one epoch: 1.59s\n"
     ]
    }
   ],
   "source": [
    "print(f'best test accuracy: {max(test_accs)*100:.2f} at epoch {np.array(test_accs).argmax() + 1}')\n",
    "print(f'avg training time for one epoch: {np.mean(train_times):.2f}s') \n",
    "print(f'avg testing time for one epoch: {np.mean(test_times):.2f}s')"
   ]
  },
  {
   "cell_type": "markdown",
   "metadata": {},
   "source": [
    "## Visualizing results"
   ]
  },
  {
   "cell_type": "code",
   "execution_count": 11,
   "metadata": {},
   "outputs": [],
   "source": [
    "df = pd.DataFrame({  # save model training process into csv file\n",
    "    'loss': train_losses,\n",
    "    'test_loss': test_losses,\n",
    "    'acc': train_accs,\n",
    "    'test_acc': test_accs\n",
    "})\n",
    "df.to_csv(project_path/'outputs/loss_and_acc_local_plaintext.csv')"
   ]
  },
  {
   "cell_type": "code",
   "execution_count": 12,
   "metadata": {},
   "outputs": [
    {
     "data": {
      "text/plain": [
       "<matplotlib.legend.Legend at 0x7f6f8226bf40>"
      ]
     },
     "execution_count": 12,
     "metadata": {},
     "output_type": "execute_result"
    },
    {
     "data": {
      "image/png": "[encoded data removed]",
      "text/plain": [
       "<Figure size 1500x400 with 2 Axes>"
      ]
     },
     "metadata": {},
     "output_type": "display_data"
    }
   ],
   "source": [
    "plt.style.use('default')\n",
    "test_accs = df['test_acc']\n",
    "train_accs = df['acc']\n",
    "test_losses = df['test_loss']\n",
    "train_losses = df['loss']\n",
    "\n",
    "fig, ax = plt.subplots(1, 2, figsize=(15, 4))\n",
    "\n",
    "ax[0].plot(train_losses)\n",
    "# ax[0].plot(test_losses)\n",
    "ax[0].set_xticks([0, 2, 4, 6, 8, 10])\n",
    "ax[0].set_xlabel('Epoch', size=16)\n",
    "ax[0].set_ylabel('Training Loss', size=16)\n",
    "ax[0].set_ylim(0.9, 1.1)\n",
    "ax[0].set_yticks([0.9, 1.0, 1.1, 1.2, 1.3])\n",
    "ax[0].grid(alpha=0.5)\n",
    "ax[0].tick_params(labelsize=16)\n",
    "ax[0].legend(['Train', 'Test'], loc='upper right', fontsize=16)\n",
    "\n",
    "ax[1].set_ylim(0.7, 1.0)\n",
    "ax[1].set_yticks([0.6, 0.7, 0.8, 0.9, 1.0])\n",
    "ax[1].plot(train_accs)\n",
    "# ax[1].plot(test_accs)\n",
    "yt = ax[1].get_yticks()\n",
    "ax[1].set_yticklabels(['{:,.0%}'.format(x) for x in yt])\n",
    "ax[1].set_xticks([0, 2, 4, 6, 8, 10])\n",
    "ax[1].set_xlabel('Epoch', size=16)\n",
    "ax[1].set_ylabel('Training Accuracy', size=16, labelpad=-5)\n",
    "ax[1].grid(alpha=0.5)\n",
    "ax[1].tick_params(labelsize=16)\n",
    "ax[1].legend(['Train', 'Test'], loc='upper right', fontsize=16)\n",
    "\n",
    "# fig.savefig('loss_acc_conv2_seed.pdf', bbox_inches='tight')\n",
    "\n"
   ]
  },
  {
   "cell_type": "code",
   "execution_count": null,
   "metadata": {},
   "outputs": [],
   "source": []
  }
 ],
 "metadata": {
  "interpreter": {
   "hash": "4fb056718432581df00ec0ea1d8474ad391dc3f52021963853b762465b19daea"
  },
  "kernelspec": {
   "display_name": "Python 3.9.7 64-bit ('privsecai': conda)",
   "name": "python3"
  },
  "language_info": {
   "codemirror_mode": {
    "name": "ipython",
    "version": 3
   },
   "file_extension": ".py",
   "mimetype": "text/x-python",
   "name": "python",
   "nbconvert_exporter": "python",
   "pygments_lexer": "ipython3",
   "version": "3.9.7"
  },
  "orig_nbformat": 4
 },
 "nbformat": 4,
 "nbformat_minor": 2
}
